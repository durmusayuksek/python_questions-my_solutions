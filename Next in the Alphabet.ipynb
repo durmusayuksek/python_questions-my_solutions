{
 "cells": [
  {
   "cell_type": "markdown",
   "metadata": {},
   "source": [
    "```\n",
    "Create a function which returns the next letters alphabetically in a given string. If the last letter is a \"Z\", change the rest of the letters accordingly.\n",
    "\n",
    "Examples\n",
    "next_letters(\"A\") ➞ \"B\"\n",
    "\n",
    "next_letters(\"ABC\") ➞ \"ABD\"\n",
    "\n",
    "next_letters(\"Z\") ➞ \"AA\"\n",
    "\n",
    "next_letters(\"CAZ\") ➞ \"CBA\"\n",
    "\n",
    "next_letters(\"\") ➞ \"A\"\n",
    "Notes\n",
    "Tests will all be in CAPITALS.\n",
    "Empty inputs should return a capital \"A\" (as if it were in letter position 0!).\n",
    "Think about the letter \"Z\" like the number 9 and how it carries over to increment the next letter/digit over.\n",
    "```"
   ]
  },
  {
   "cell_type": "code",
   "execution_count": 5,
   "metadata": {},
   "outputs": [
    {
     "data": {
      "text/plain": [
       "'ZAAA'"
      ]
     },
     "execution_count": 5,
     "metadata": {},
     "output_type": "execute_result"
    }
   ],
   "source": [
    "def next_alphabet(text):    \n",
    "    harfler = 'ABCDEFGHIJKLMNOPQRSTUVWXYZ'\n",
    "    elde, son, a, result, dictt = False, True, 0, '', {}\n",
    "    for i in harfler[:-1]:\n",
    "        dictt[i] = harfler[a + 1]\n",
    "        a += 1\n",
    "    dictt['Z'] = 'AA'\n",
    "    if text == 'Z': return 'AA'\n",
    "    elif text == '': return 'A'\n",
    "    else:\n",
    "        for i in text[::-1]:\n",
    "            if son:\n",
    "                if i == 'Z':\n",
    "                    result += dictt[i][0]\n",
    "                    elde = True\n",
    "                    son = False\n",
    "                else:\n",
    "                    result += dictt[i]\n",
    "                    son = False\n",
    "            else:\n",
    "                if elde:\n",
    "                    if i == 'Z':result += dictt[i][0]\n",
    "                    else:\n",
    "                        result += dictt[i]\n",
    "                        elde = False\n",
    "                else:result += i\n",
    "    if elde:result += 'A'\n",
    "    return result[::-1]\n",
    "\n",
    "next_alphabet(\"YZZZ\")"
   ]
  },
  {
   "cell_type": "code",
   "execution_count": null,
   "metadata": {},
   "outputs": [],
   "source": []
  }
 ],
 "metadata": {
  "kernelspec": {
   "display_name": "Python 3 (ipykernel)",
   "language": "python",
   "name": "python3"
  },
  "language_info": {
   "codemirror_mode": {
    "name": "ipython",
    "version": 3
   },
   "file_extension": ".py",
   "mimetype": "text/x-python",
   "name": "python",
   "nbconvert_exporter": "python",
   "pygments_lexer": "ipython3",
   "version": "3.8.5"
  }
 },
 "nbformat": 4,
 "nbformat_minor": 4
}
