{
 "cells": [
  {
   "cell_type": "markdown",
   "metadata": {},
   "source": [
    "```\n",
    "Return the most profit from stock quotes.\n",
    "Stock quotes are stored in an array in order of date. The stock profit is the difference in prices in buying and selling stock. Each day, you can either buy one unit of stock, sell any number of stock units you have already bought, or do nothing. Therefore, the most profit is the maximum difference of all pairs in a sequence of stock prices.\n",
    "\n",
    "Example:\n",
    "\n",
    " [ 1, 2, 3, 4, 5, 6 ]        => 15  (buy at 1,2,3,4,5 and then sell all at 6)\n",
    " [ 6, 5, 4, 3, 2, 1 ]        => 0   (nothing to buy for profit)\n",
    " [ 1, 6, 5, 10, 8, 7 ]       => 18  (buy at 1,6,5 and sell all at 10)\n",
    " [ 1, 2, 10, 3, 2, 7, 3, 2 ] => 26  (buy at 1,2 and sell them at 10. Then buy at 3,2 and sell them at 7)\n",
    "```"
   ]
  },
  {
   "cell_type": "code",
   "execution_count": 23,
   "metadata": {},
   "outputs": [
    {
     "data": {
      "text/plain": [
       "26"
      ]
     },
     "execution_count": 23,
     "metadata": {},
     "output_type": "execute_result"
    }
   ],
   "source": [
    "def stocks(lst):\n",
    "    \n",
    "    count, res = 0, []\n",
    "    a = lst.index(max(lst))\n",
    "\n",
    "    for i in range(len(lst)):\n",
    "        if i < a:\n",
    "            res.append(lst[i])\n",
    "            count -= lst[i]\n",
    "        elif i == a:\n",
    "            count += (len(res) * lst[i])\n",
    "            res = []\n",
    "            if i != len(lst) - 1:\n",
    "                a = lst.index(max(lst[a+1:]))\n",
    "    return count\n",
    "\n",
    "stocks([1, 2, 10, 3, 2, 7, 3, 2])"
   ]
  },
  {
   "cell_type": "code",
   "execution_count": null,
   "metadata": {},
   "outputs": [],
   "source": []
  }
 ],
 "metadata": {
  "kernelspec": {
   "display_name": "Python 3 (ipykernel)",
   "language": "python",
   "name": "python3"
  },
  "language_info": {
   "codemirror_mode": {
    "name": "ipython",
    "version": 3
   },
   "file_extension": ".py",
   "mimetype": "text/x-python",
   "name": "python",
   "nbconvert_exporter": "python",
   "pygments_lexer": "ipython3",
   "version": "3.8.5"
  }
 },
 "nbformat": 4,
 "nbformat_minor": 4
}
