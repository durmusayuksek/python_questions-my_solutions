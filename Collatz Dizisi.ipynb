{
 "cells": [
  {
   "cell_type": "markdown",
   "metadata": {},
   "source": [
    "Collatz dizisi uzunluğunu bulunuz.Collatz dizisinde bir sonraki sayıyı bulma kuralı şöyledir:\n",
    "ni çift sayıysa: ni+1=ni/2\n",
    "ni tek sayıysa: ni+1=3ni+1\n",
    "ni=1ise dur.\n",
    "Söz gelişi, 13 ile başlayan bir dizi aşağıdaki gibi olur.\n",
    "13, 40, 20, 10, 5, 16, 8, 4, 2, 1"
   ]
  },
  {
   "cell_type": "code",
   "execution_count": 25,
   "metadata": {},
   "outputs": [
    {
     "data": {
      "text/plain": [
       "[10, 5, 16, 8, 4, 2, 1]"
      ]
     },
     "execution_count": 25,
     "metadata": {},
     "output_type": "execute_result"
    }
   ],
   "source": [
    "def collatz(num):\n",
    "    liste = [num]\n",
    "    while True:\n",
    "        if num % 2:\n",
    "            num = 3 * num + 1\n",
    "        else:\n",
    "            num = num // 2\n",
    "        liste.append(num)\n",
    "        if num == 1:\n",
    "            break\n",
    "    return liste\n",
    "\n",
    "collatz(10)"
   ]
  },
  {
   "cell_type": "code",
   "execution_count": null,
   "metadata": {},
   "outputs": [],
   "source": []
  }
 ],
 "metadata": {
  "kernelspec": {
   "display_name": "Python 3 (ipykernel)",
   "language": "python",
   "name": "python3"
  },
  "language_info": {
   "codemirror_mode": {
    "name": "ipython",
    "version": 3
   },
   "file_extension": ".py",
   "mimetype": "text/x-python",
   "name": "python",
   "nbconvert_exporter": "python",
   "pygments_lexer": "ipython3",
   "version": "3.8.5"
  }
 },
 "nbformat": 4,
 "nbformat_minor": 4
}
