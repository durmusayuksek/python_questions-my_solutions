{
 "cells": [
  {
   "cell_type": "markdown",
   "metadata": {},
   "source": [
    "```\n",
    "Given an N by N matrix, rotate it by 90 degrees clockwise. For example, given the following matrix:\n",
    "[[1, 2, 3],\n",
    "[4, 5, 6],\n",
    "[7, 8, 9]]\n",
    "You should return:\n",
    "[[7, 4, 1],\n",
    "[8, 5, 2],\n",
    "[9, 6, 3]]\n",
    "```"
   ]
  },
  {
   "cell_type": "code",
   "execution_count": 48,
   "metadata": {},
   "outputs": [
    {
     "name": "stdout",
     "output_type": "stream",
     "text": [
      "[[7, 4, 1], [8, 5, 2], [9, 6, 3]]\n"
     ]
    }
   ],
   "source": [
    "liste = [[1, 2, 3],\n",
    "[4, 5, 6],\n",
    "[7, 8, 9]]\n",
    "dimension = len(liste[0])\n",
    "liste_2 = [[i for i in range(dimension)] for i in range(dimension)]\n",
    "for i in range(dimension):\n",
    "    k = dimension - 1\n",
    "    for j in range(dimension):\n",
    "        liste_2[i][j] = liste[k][i]\n",
    "        k -= 1\n",
    "print(liste_2)    "
   ]
  },
  {
   "cell_type": "code",
   "execution_count": 47,
   "metadata": {},
   "outputs": [
    {
     "name": "stdout",
     "output_type": "stream",
     "text": [
      "[[13, 7, 4, 1], [14, 8, 5, 2], [15, 9, 6, 3], [16, 12, 11, 10]]\n"
     ]
    }
   ],
   "source": [
    "liste = [[1, 2, 3, 10],\n",
    "[4, 5, 6, 11],\n",
    "[7, 8, 9, 12], \n",
    "[13, 14, 15, 16]]\n",
    "dimension = len(liste[0])\n",
    "liste_2 = [[i for i in range(dimension)] for i in range(dimension)]\n",
    "for i in range(dimension):\n",
    "    k = dimension - 1\n",
    "    for j in range(dimension):\n",
    "        liste_2[i][j] = liste[k][i]\n",
    "        k -= 1\n",
    "print(liste_2)"
   ]
  },
  {
   "cell_type": "code",
   "execution_count": 49,
   "metadata": {},
   "outputs": [
    {
     "name": "stdout",
     "output_type": "stream",
     "text": [
      "[[7, 4, 1], [8, 5, 2], [9, 6, 3]]\n"
     ]
    }
   ],
   "source": [
    "a=[[1,2,3],[4,5,6],[7,8,9]]\n",
    "for i in range(len(a)):\n",
    "    for j in range(i,len(a)):\n",
    "        a[i][j], a[j][i] = a[j][i], a[i][j]\n",
    "for i in a:\n",
    "    i.reverse()\n",
    "print(a)"
   ]
  },
  {
   "cell_type": "code",
   "execution_count": null,
   "metadata": {},
   "outputs": [],
   "source": []
  }
 ],
 "metadata": {
  "kernelspec": {
   "display_name": "Python 3 (ipykernel)",
   "language": "python",
   "name": "python3"
  },
  "language_info": {
   "codemirror_mode": {
    "name": "ipython",
    "version": 3
   },
   "file_extension": ".py",
   "mimetype": "text/x-python",
   "name": "python",
   "nbconvert_exporter": "python",
   "pygments_lexer": "ipython3",
   "version": "3.8.5"
  }
 },
 "nbformat": 4,
 "nbformat_minor": 4
}
