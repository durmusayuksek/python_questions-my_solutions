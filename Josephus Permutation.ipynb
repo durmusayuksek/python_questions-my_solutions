{
 "cells": [
  {
   "cell_type": "markdown",
   "metadata": {},
   "source": [
    "```\n",
    "A group of n prisoners stand in a circle awaiting execution. Starting from an arbitrary position(0), the executioner kills every kth person until one person remains standing, who is then granted freedom (see examples).\n",
    "\n",
    "Create a function that takes 2 arguments — the number of people to be executed n, and the step size k, and returns the original position (index) of the person who survives.\n",
    "\n",
    "Examples\n",
    "who_goes_free(9, 2) ➞ 2\n",
    "\n",
    "# Prisoners = [0, 1, 2, 3, 4, 5, 6, 7, 8]\n",
    "# Executed people replaced by - (a dash) for illustration purposes.\n",
    "# 1st round of execution = [0, -, 2, -, 4, -, 6, -, 8]  -> [0, 2, 4, 6, 8]\n",
    "# 2nd round = [-, 2, -, 6, -] -> [2, 6]  # 0 is killed in this round because it's beside 8 who was skipped over.\n",
    "# 3rd round = [2, -]\n",
    "\n",
    "who_goes_free(9, 3) ➞ 0\n",
    "\n",
    "# [0, 1, 2, 3, 4, 5, 6, 7, 8]\n",
    "# [0, 1, -, 3, 4, -, 6, 7, -] -> [0, 1, 3, 4, 6, 7]\n",
    "# [0, 1, -, 4, 6, -] -> [0, 1, 4, 6]\n",
    "# [0, 1, -, 6] -> [0, 1, 6]\n",
    "# [0, -, 6] -> [0, 6]\n",
    "# [0, -] -> [0]\n",
    "```"
   ]
  },
  {
   "cell_type": "code",
   "execution_count": 7,
   "metadata": {},
   "outputs": [
    {
     "name": "stdout",
     "output_type": "stream",
     "text": [
      "[0]\n"
     ]
    }
   ],
   "source": [
    "def who_goes_free(n, k):\n",
    "    kalan = 0\n",
    "    prisoners = [i for i in range(n)]\n",
    "    while len(prisoners) > 1:\n",
    "        count = kalan\n",
    "        deleted = []\n",
    "        for i in prisoners:\n",
    "            if count % k == k - 1:\n",
    "                deleted.append(prisoners.index(i))\n",
    "            count += 1\n",
    "        if deleted != []:\n",
    "            kalan = (len(prisoners) - 1) - deleted[-1]\n",
    "        else:\n",
    "            kalan = count\n",
    "        for i in deleted[::-1]:\n",
    "            prisoners.pop(i)\n",
    "    print(prisoners)\n",
    "    \n",
    "who_goes_free(2, 2)\n",
    "# 12, 3 >> 9\n",
    "# 12, 2 >> 8\n",
    "# 12 ,5 >> 0\n",
    "# 12, 6 >> 2"
   ]
  },
  {
   "cell_type": "code",
   "execution_count": 8,
   "metadata": {},
   "outputs": [
    {
     "data": {
      "text/plain": [
       "0"
      ]
     },
     "execution_count": 8,
     "metadata": {},
     "output_type": "execute_result"
    }
   ],
   "source": [
    "def who_goes_free(n, k):\n",
    "    soldier_list = list(range(n))\n",
    "    i = 0\n",
    "    while len(soldier_list) > 1:\n",
    "        i = (i+(k-1)) % len(soldier_list)\n",
    "        soldier_list.pop(i)\n",
    "    return soldier_list[0]\n",
    "\n",
    "who_goes_free(2,2)"
   ]
  },
  {
   "cell_type": "code",
   "execution_count": 9,
   "metadata": {},
   "outputs": [
    {
     "data": {
      "text/plain": [
       "0"
      ]
     },
     "execution_count": 9,
     "metadata": {},
     "output_type": "execute_result"
    }
   ],
   "source": [
    "def who_goes_free(n, k):\n",
    "    pos = 0\n",
    "    for i in range(1, n + 1):\n",
    "        pos += k\n",
    "        pos %= i\n",
    "    return pos\n",
    "\n",
    "who_goes_free(2, 2)"
   ]
  },
  {
   "cell_type": "code",
   "execution_count": null,
   "metadata": {},
   "outputs": [],
   "source": []
  }
 ],
 "metadata": {
  "kernelspec": {
   "display_name": "Python 3 (ipykernel)",
   "language": "python",
   "name": "python3"
  },
  "language_info": {
   "codemirror_mode": {
    "name": "ipython",
    "version": 3
   },
   "file_extension": ".py",
   "mimetype": "text/x-python",
   "name": "python",
   "nbconvert_exporter": "python",
   "pygments_lexer": "ipython3",
   "version": "3.8.5"
  }
 },
 "nbformat": 4,
 "nbformat_minor": 4
}
