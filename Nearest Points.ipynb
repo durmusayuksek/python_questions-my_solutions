{
 "cells": [
  {
   "cell_type": "markdown",
   "metadata": {},
   "source": [
    "```\n",
    "This problem was asked by LinkedIn.\n",
    "Given a list of points, a central point, and an integer k, find the nearest k points from the central point.\n",
    "For example, given the list of points [(0, 0), (5, 4), (3, 1)], the central point (1, 2), and k = 2, return[(0, 0), (3, 1)].\n",
    "```"
   ]
  },
  {
   "cell_type": "code",
   "execution_count": 15,
   "metadata": {},
   "outputs": [
    {
     "data": {
      "text/plain": [
       "[(0, 0), (3, 1)]"
      ]
     },
     "execution_count": 15,
     "metadata": {},
     "output_type": "execute_result"
    }
   ],
   "source": [
    "def nearest_points(lst, c, k):\n",
    "    \n",
    "    res = []\n",
    "    for i in lst:\n",
    "        y = (((i[0] - c[0]) ** 2) + ((i[1] - c[1]) ** 2)) ** 0.5\n",
    "        res.append([y, i])\n",
    "    \n",
    "    return [v for k,v in sorted(res)[:k]]\n",
    "\n",
    "nearest_points([(0, 0), (5, 4), (3, 1)], (1, 2), 2)"
   ]
  },
  {
   "cell_type": "code",
   "execution_count": null,
   "metadata": {},
   "outputs": [],
   "source": []
  }
 ],
 "metadata": {
  "kernelspec": {
   "display_name": "Python 3 (ipykernel)",
   "language": "python",
   "name": "python3"
  },
  "language_info": {
   "codemirror_mode": {
    "name": "ipython",
    "version": 3
   },
   "file_extension": ".py",
   "mimetype": "text/x-python",
   "name": "python",
   "nbconvert_exporter": "python",
   "pygments_lexer": "ipython3",
   "version": "3.8.5"
  }
 },
 "nbformat": 4,
 "nbformat_minor": 4
}
