{
 "cells": [
  {
   "cell_type": "markdown",
   "metadata": {},
   "source": [
    "```\n",
    "You are given a string N.\n",
    "Your task is to verify that N is a floating point number.\n",
    "\n",
    "In this task, a valid float number must satisfy all of the following requirements:\n",
    "\n",
    "Number can start with +, - or . symbol.\n",
    "For example:\n",
    "✔ +4.50\n",
    "✔ -1.0\n",
    "✔ .5\n",
    "✔ -.7\n",
    "✔ +.4\n",
    "✖ -+4.5\n",
    "\n",
    "Number must contain at least  decimal value.\n",
    "For example:\n",
    "✖ 12.\n",
    "✔ 12.0  \n",
    "\n",
    "Number must have exactly one . symbol.\n",
    "Number must not give any exceptions when converted using float(N)\n",
    "```"
   ]
  },
  {
   "cell_type": "code",
   "execution_count": 46,
   "metadata": {},
   "outputs": [
    {
     "name": "stdout",
     "output_type": "stream",
     "text": [
      "False\n",
      "True\n",
      "True\n",
      "True\n",
      "False\n"
     ]
    }
   ],
   "source": [
    "import re\n",
    "\n",
    "def detect_floating(res):\n",
    "\n",
    "    resas = []\n",
    "    for i in res:\n",
    "        resa = 'False'\n",
    "        y = re.findall('(^[\\+-][0-9]+\\.[0-9]+$)|(^[\\+-]\\.[0-9]+$)|(^[0-9]+\\.[0-9]+$)', i)\n",
    "        if y != []:\n",
    "            for j in y[0]:\n",
    "                if j == i:\n",
    "                    resa = 'True'\n",
    "                    break\n",
    "        resas.append(resa)\n",
    "    for i in resas:\n",
    "        print(i)\n",
    "        \n",
    "detect_floating(['4.0O0', '-1.00', '+4.54', '+.54758', '0.14a'])"
   ]
  },
  {
   "cell_type": "code",
   "execution_count": null,
   "metadata": {},
   "outputs": [],
   "source": []
  }
 ],
 "metadata": {
  "kernelspec": {
   "display_name": "Python 3 (ipykernel)",
   "language": "python",
   "name": "python3"
  },
  "language_info": {
   "codemirror_mode": {
    "name": "ipython",
    "version": 3
   },
   "file_extension": ".py",
   "mimetype": "text/x-python",
   "name": "python",
   "nbconvert_exporter": "python",
   "pygments_lexer": "ipython3",
   "version": "3.8.5"
  }
 },
 "nbformat": 4,
 "nbformat_minor": 4
}
