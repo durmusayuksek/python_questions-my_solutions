{
 "cells": [
  {
   "cell_type": "markdown",
   "metadata": {},
   "source": [
    "Soru: Bir markete gittiniz. Markette her ürünün bir kod numarası var.\n",
    "1 : Domates 2 : Soğan 3 : Biber 4 : Yumurta 5 : Elma 6 : Armut ... vs. şeklinde.\n",
    "Kullanıcıya almak istediği ürünü sorunuz ve çıkış için \"q\" opsiyonunu sununuz. Kullanıcıya kod numarası ile ürün seçimi yaptırınız. Kullanıcı ürün seçimi yapınca \" .... domates sepete eklendi\" gibi bir dönüt veriniz. Kullanıcı ürün almaya devam ettikçe ürünleri bir listede toplayınız, almaktan vazgeçtiği durumda teşekkür edeip, aldığı toplam ürünleri çıktı veren bir kod yazınız.\n",
    "Beklenen Çıktı:\n",
    "Teşekkür Ederiz...\n",
    "Sepetinizde Bulunan Ürünler: elma, armut, yumurta ... vs."
   ]
  },
  {
   "cell_type": "code",
   "execution_count": 2,
   "metadata": {},
   "outputs": [
    {
     "name": "stdout",
     "output_type": "stream",
     "text": [
      "\n",
      "Hosgeldiniz!\n",
      "Domates icin 1'i, Sogan icin 2'yi, Biber icin 3'u, Yumurta icin 4'u, Elma icin 5'i, Armut icin 6'yi seciniz.\n",
      "************************************************************************************************************\n",
      "Secmek istediginiz urunun numarasini giriniz ya da cikmak icin 'q' tusuna basiniz. > 1\n",
      "Domates sepetinize eklendi.\n",
      "Secmek istediginiz urunun numarasini giriniz ya da cikmak icin 'q' tusuna basiniz. > 2\n",
      "Sogan sepetinize eklendi.\n",
      "Secmek istediginiz urunun numarasini giriniz ya da cikmak icin 'q' tusuna basiniz. > 5\n",
      "Elma sepetinize eklendi.\n",
      "Secmek istediginiz urunun numarasini giriniz ya da cikmak icin 'q' tusuna basiniz. > 9\n",
      "Yanlis bir tusa bastiniz. Lutfen tekrar secim yapin.\n",
      "Secmek istediginiz urunun numarasini giriniz ya da cikmak icin 'q' tusuna basiniz. > 3\n",
      "Biber sepetinize eklendi.\n",
      "Secmek istediginiz urunun numarasini giriniz ya da cikmak icin 'q' tusuna basiniz. > 2\n",
      "Sogan sepetinizde bulunmaktadir.\n",
      "Secmek istediginiz urunun numarasini giriniz ya da cikmak icin 'q' tusuna basiniz. > q\n",
      "\n",
      "************************************************************************************************************\n",
      "Bizi tercih ettiginiz icin tesekkurler.\n",
      "Satin aldiginiz urunler: Domates--Sogan--Elma--Biber--"
     ]
    }
   ],
   "source": [
    "dictt = {1 : 'Domates', 2 : 'Sogan', 3 : 'Biber', 4 : 'Yumurta', 5 : 'Elma', 6 : 'Armut'}\n",
    "liste = []\n",
    "print('''\n",
    "Hosgeldiniz!\n",
    "Domates icin 1'i, Sogan icin 2'yi, Biber icin 3'u, Yumurta icin 4'u, Elma icin 5'i, Armut icin 6'yi seciniz.\n",
    "************************************************************************************************************''')\n",
    "while True:\n",
    "    secim = input(\"Secmek istediginiz urunun numarasini giriniz ya da cikmak icin 'q' tusuna basiniz. > \")\n",
    "    try:\n",
    "        if secim.lower() == 'q':\n",
    "            break\n",
    "        int(secim)\n",
    "        if dictt[int(secim)] not in liste:\n",
    "            liste.append(dictt[int(secim)])\n",
    "            print(f'{dictt[int(secim)]} sepetinize eklendi.')\n",
    "        else:\n",
    "            print(f'{dictt[int(secim)]} sepetinizde bulunmaktadir.')\n",
    "    except:\n",
    "        print(f'Yanlis bir tusa bastiniz. Lutfen tekrar secim yapin.')\n",
    "print('''\n",
    "************************************************************************************************************\n",
    "Bizi tercih ettiginiz icin tesekkurler.''')\n",
    "print('Satin aldiginiz urunler: ', end = '')\n",
    "for i in liste:\n",
    "    print(i, end = ' ')"
   ]
  },
  {
   "cell_type": "code",
   "execution_count": 4,
   "metadata": {},
   "outputs": [
    {
     "name": "stdout",
     "output_type": "stream",
     "text": [
      "\n",
      "Hosgeldiniz!\n",
      "Domates icin 1'i, Sogan icin 2'yi, Biber icin 3'u, Yumurta icin 4'u, Elma icin 5'i, Armut icin 6'yi seciniz.\n",
      "************************************************************************************************************\n",
      "Secmek istediginiz urunun numarasini giriniz ya da cikmak icin 'q' tusuna basiniz. > 1\n",
      "Domates sepetinize eklendi.\n",
      "Secmek istediginiz urunun numarasini giriniz ya da cikmak icin 'q' tusuna basiniz. > 8\n",
      "Yanlis bir tusa bastiniz. Lutfen tekrar secim yapin.\n",
      "Secmek istediginiz urunun numarasini giriniz ya da cikmak icin 'q' tusuna basiniz. > 8\n",
      "Yanlis bir tusa bastiniz. Lutfen tekrar secim yapin.\n",
      "Secmek istediginiz urunun numarasini giriniz ya da cikmak icin 'q' tusuna basiniz. > 6\n",
      "Armut sepetinize eklendi.\n",
      "Secmek istediginiz urunun numarasini giriniz ya da cikmak icin 'q' tusuna basiniz. > 4\n",
      "Yumurta sepetinize eklendi.\n",
      "Secmek istediginiz urunun numarasini giriniz ya da cikmak icin 'q' tusuna basiniz. > 6\n",
      "Armut sepetinizde bulunmaktadir.\n",
      "Secmek istediginiz urunun numarasini giriniz ya da cikmak icin 'q' tusuna basiniz. > 3\n",
      "Biber sepetinize eklendi.\n",
      "Secmek istediginiz urunun numarasini giriniz ya da cikmak icin 'q' tusuna basiniz. > q\n",
      "\n",
      "************************************************************************************************************\n",
      "Bizi tercih ettiginiz icin tesekkurler.\n",
      "Satin aldiginiz urunler: Domates Armut Yumurta Biber "
     ]
    }
   ],
   "source": [
    "dictt = {1 : 'Domates', 2 : 'Sogan', 3 : 'Biber', 4 : 'Yumurta', 5 : 'Elma', 6 : 'Armut'}\n",
    "liste = []\n",
    "print('''\n",
    "Hosgeldiniz!\n",
    "Domates icin 1'i, Sogan icin 2'yi, Biber icin 3'u, Yumurta icin 4'u, Elma icin 5'i, Armut icin 6'yi seciniz.\n",
    "************************************************************************************************************''')\n",
    "while True:\n",
    "    secim = input(\"Secmek istediginiz urunun numarasini giriniz ya da cikmak icin 'q' tusuna basiniz. > \")\n",
    "    if secim.lower() == 'q':\n",
    "        break\n",
    "    elif secim in ['1', '2', '3', '4', '5', '6']:\n",
    "        if dictt[int(secim)] not in liste:\n",
    "            liste.append(dictt[int(secim)])\n",
    "            print(f'{dictt[int(secim)]} sepetinize eklendi.')\n",
    "        else:\n",
    "            print(f'{dictt[int(secim)]} sepetinizde bulunmaktadir.')\n",
    "    else:\n",
    "        print(f'Yanlis bir tusa bastiniz. Lutfen tekrar secim yapin.')\n",
    "print('''\n",
    "************************************************************************************************************\n",
    "Bizi tercih ettiginiz icin tesekkurler.''')\n",
    "print('Satin aldiginiz urunler: ', end = '')\n",
    "for i in liste:\n",
    "    print(i, end = ' ')"
   ]
  },
  {
   "cell_type": "code",
   "execution_count": null,
   "metadata": {},
   "outputs": [],
   "source": []
  }
 ],
 "metadata": {
  "kernelspec": {
   "display_name": "Python 3",
   "language": "python",
   "name": "python3"
  },
  "language_info": {
   "codemirror_mode": {
    "name": "ipython",
    "version": 3
   },
   "file_extension": ".py",
   "mimetype": "text/x-python",
   "name": "python",
   "nbconvert_exporter": "python",
   "pygments_lexer": "ipython3",
   "version": "3.8.5"
  }
 },
 "nbformat": 4,
 "nbformat_minor": 4
}
