{
 "cells": [
  {
   "cell_type": "markdown",
   "metadata": {},
   "source": [
    "Pascal üçgeninin ilk n satırını yazdıran bir Python fonksiyonu yazın. \n",
    "Not : Pascal üçgeni, ilk olarak Blaise Pascal tarafından hayal edilen aritmetik ve geometrik bir şekildir."
   ]
  },
  {
   "cell_type": "code",
   "execution_count": 2,
   "metadata": {},
   "outputs": [
    {
     "name": "stdout",
     "output_type": "stream",
     "text": [
      "Kac satir? > 7\n",
      "        [1]\n",
      "       [1, 1]\n",
      "      [1, 2, 1]\n",
      "     [1, 3, 3, 1]\n",
      "    [1, 4, 6, 4, 1]\n",
      "   [1, 5, 10, 10, 5, 1]\n",
      "  [1, 6, 15, 20, 15, 6, 1]\n"
     ]
    }
   ],
   "source": [
    "kac = 7\n",
    "baslangic = [1]\n",
    "result = [[1, 1]]\n",
    "say, s, b = 0, 0, 1\n",
    "while say <= kac - 3:\n",
    "    n= 0\n",
    "    yeni = []\n",
    "    for i in range(b):\n",
    "        asama = result[s][n] + result[s][n+1]\n",
    "        yeni.append(asama)\n",
    "        n += 1\n",
    "    yeni.append(1)\n",
    "    yeni.insert(0, 1)\n",
    "    result.append(yeni)\n",
    "    say += 1\n",
    "    b += 1\n",
    "    s += 1\n",
    "result.insert(0, baslangic)\n",
    "for i in result:\n",
    "    print(' '*kac, i)\n",
    "    kac -= 1"
   ]
  },
  {
   "cell_type": "code",
   "execution_count": 5,
   "metadata": {},
   "outputs": [
    {
     "name": "stdout",
     "output_type": "stream",
     "text": [
      "        [1]\n",
      "       [1, 1]\n",
      "      [1, 2, 1]\n",
      "     [1, 3, 3, 1]\n",
      "    [1, 4, 6, 4, 1]\n",
      "   [1, 5, 10, 10, 5, 1]\n",
      "  [1, 6, 15, 20, 15, 6, 1]\n",
      " [1, 7, 21, 35, 35, 21, 7, 1]\n"
     ]
    }
   ],
   "source": [
    "def pascal(n):\n",
    "    for i in range(1, n+1):\n",
    "        ls = [1]\n",
    "        a = 0\n",
    "        if i>2:\n",
    "            while a<i:\n",
    "                ls.append(ls1[a]+ls1[a+1])\n",
    "                if a+1 == len(ls1)-1:\n",
    "                    break\n",
    "                a+=1\n",
    "        if i>1:\n",
    "            ls.append(1)\n",
    "        ls1 = ls\n",
    "        print((n-i)*' ', ls1)\n",
    "\n",
    "pascal(7)"
   ]
  },
  {
   "cell_type": "code",
   "execution_count": null,
   "metadata": {},
   "outputs": [],
   "source": []
  }
 ],
 "metadata": {
  "kernelspec": {
   "display_name": "Python 3 (ipykernel)",
   "language": "python",
   "name": "python3"
  },
  "language_info": {
   "codemirror_mode": {
    "name": "ipython",
    "version": 3
   },
   "file_extension": ".py",
   "mimetype": "text/x-python",
   "name": "python",
   "nbconvert_exporter": "python",
   "pygments_lexer": "ipython3",
   "version": "3.8.5"
  }
 },
 "nbformat": 4,
 "nbformat_minor": 4
}
