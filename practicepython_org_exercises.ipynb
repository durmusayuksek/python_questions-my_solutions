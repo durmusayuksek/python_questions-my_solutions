{
 "cells": [
  {
   "cell_type": "markdown",
   "metadata": {},
   "source": [
    "# Exercise 1"
   ]
  },
  {
   "cell_type": "code",
   "execution_count": 3,
   "metadata": {},
   "outputs": [
    {
     "name": "stdout",
     "output_type": "stream",
     "text": [
      "Please enter your name > Eric\n",
      "Please enter your age > 20\n",
      "Hi Eric, you will be 100 years old in 2101.\n"
     ]
    }
   ],
   "source": [
    "name = input('Please enter your name > ')\n",
    "age = int(input('Please enter your age > '))\n",
    "year = 2021\n",
    "print(f'Hi {name}, you will be 100 years old in {year + (100 - age)}.')"
   ]
  },
  {
   "cell_type": "code",
   "execution_count": 4,
   "metadata": {},
   "outputs": [
    {
     "name": "stdout",
     "output_type": "stream",
     "text": [
      "How many times do you want to see this message? > 8\n",
      "Hi Eric, you will be 100 years old in 2101.\n",
      "Hi Eric, you will be 100 years old in 2101.\n",
      "Hi Eric, you will be 100 years old in 2101.\n",
      "Hi Eric, you will be 100 years old in 2101.\n",
      "Hi Eric, you will be 100 years old in 2101.\n",
      "Hi Eric, you will be 100 years old in 2101.\n",
      "Hi Eric, you will be 100 years old in 2101.\n",
      "Hi Eric, you will be 100 years old in 2101.\n"
     ]
    }
   ],
   "source": [
    "times = int(input('How many times do you want to see this message? > '))\n",
    "for i in range(times):\n",
    "    print(f'Hi {name}, you will be 100 years old in {year + (100 - age)}.')"
   ]
  },
  {
   "cell_type": "markdown",
   "metadata": {},
   "source": [
    "# Exercise 2"
   ]
  },
  {
   "cell_type": "code",
   "execution_count": 6,
   "metadata": {},
   "outputs": [
    {
     "name": "stdout",
     "output_type": "stream",
     "text": [
      "Please enter a number > 8\n",
      "This is an even number.\n",
      "This number is even and is also a multiple of 4.\n"
     ]
    }
   ],
   "source": [
    "number2 = int(input('Please enter a number > '))\n",
    "if number2 % 2 == 1:\n",
    "    print('This is an odd number.')\n",
    "else:\n",
    "    print('This is an even number.')\n",
    "if number2 % 4 == 0:\n",
    "    print('This number is also a multiple of 4.')"
   ]
  },
  {
   "cell_type": "code",
   "execution_count": 9,
   "metadata": {},
   "outputs": [
    {
     "name": "stdout",
     "output_type": "stream",
     "text": [
      "Enter a number > 45\n",
      "Enter another number > 5\n",
      "45 is a multiple of 5.\n"
     ]
    }
   ],
   "source": [
    "num = int(input('Enter a number > '))\n",
    "check = int(input('Enter another number > '))\n",
    "if num % check == 0:\n",
    "    print(f'{num} is a multiple of {check}.')"
   ]
  },
  {
   "cell_type": "markdown",
   "metadata": {},
   "source": [
    "# Exercise 3"
   ]
  },
  {
   "cell_type": "code",
   "execution_count": 8,
   "metadata": {},
   "outputs": [
    {
     "name": "stdout",
     "output_type": "stream",
     "text": [
      "1\n",
      "1\n",
      "2\n",
      "3\n"
     ]
    }
   ],
   "source": [
    "a = [1, 1, 2, 3, 5, 8, 13, 21, 34, 55, 89]\n",
    "for i in a:\n",
    "    if i < 5:\n",
    "        print(i)"
   ]
  },
  {
   "cell_type": "code",
   "execution_count": 10,
   "metadata": {},
   "outputs": [
    {
     "name": "stdout",
     "output_type": "stream",
     "text": [
      "[1, 1, 2, 3]\n"
     ]
    }
   ],
   "source": [
    "a = [1, 1, 2, 3, 5, 8, 13, 21, 34, 55, 89]\n",
    "empty_list = []\n",
    "for i in a:\n",
    "    if i < 5:\n",
    "        empty_list.append(i)\n",
    "print(empty_list) "
   ]
  },
  {
   "cell_type": "code",
   "execution_count": 11,
   "metadata": {},
   "outputs": [
    {
     "name": "stdout",
     "output_type": "stream",
     "text": [
      "[1, 1, 2, 3]\n"
     ]
    }
   ],
   "source": [
    "a = [1, 1, 2, 3, 5, 8, 13, 21, 34, 55, 89]\n",
    "empty_list2 = [i for i in a if i < 5]\n",
    "print(empty_list2)"
   ]
  },
  {
   "cell_type": "code",
   "execution_count": 12,
   "metadata": {},
   "outputs": [
    {
     "name": "stdout",
     "output_type": "stream",
     "text": [
      "Enter a number > 14\n",
      "[1, 1, 2, 3, 5, 8, 13]\n"
     ]
    }
   ],
   "source": [
    "new_number = int(input('Enter a number > '))\n",
    "empty_list3 = [i for i in a if i < new_number]\n",
    "print(empty_list3)"
   ]
  },
  {
   "cell_type": "markdown",
   "metadata": {},
   "source": [
    "# Exercise 4"
   ]
  },
  {
   "cell_type": "code",
   "execution_count": 18,
   "metadata": {},
   "outputs": [
    {
     "name": "stdout",
     "output_type": "stream",
     "text": [
      "Please enter a number > 111\n",
      "[1, 3, 37, 111]\n"
     ]
    }
   ],
   "source": [
    "number3 = int(input('Please enter a number > '))\n",
    "num_listt = []\n",
    "dividers = list(range(1, number3 + 1))\n",
    "for i in dividers:\n",
    "    if number3 % i == 0:\n",
    "        num_listt.append(i)\n",
    "print(num_listt)"
   ]
  },
  {
   "cell_type": "markdown",
   "metadata": {},
   "source": [
    "# Exercise 5"
   ]
  },
  {
   "cell_type": "code",
   "execution_count": 45,
   "metadata": {},
   "outputs": [
    {
     "name": "stdout",
     "output_type": "stream",
     "text": [
      "[1, 2, 3, 5, 8, 13]\n"
     ]
    }
   ],
   "source": [
    "ab = [1, 1, 2, 3, 5, 8, 13, 21, 34, 55, 89]\n",
    "bc = [1, 2, 3, 4, 5, 6, 7, 8, 9, 10, 11, 12, 13]\n",
    "common = []\n",
    "for i in ab:\n",
    "    if i in bc:\n",
    "        if i not in common:\n",
    "            common.append(i)\n",
    "print(common)"
   ]
  },
  {
   "cell_type": "code",
   "execution_count": 21,
   "metadata": {},
   "outputs": [],
   "source": [
    "import random"
   ]
  },
  {
   "cell_type": "code",
   "execution_count": 25,
   "metadata": {},
   "outputs": [
    {
     "name": "stdout",
     "output_type": "stream",
     "text": [
      "0.5361595014240789\n"
     ]
    }
   ],
   "source": [
    "number4 = random.random()\n",
    "print(number4)\n",
    "\n",
    "# random.random() 0-1 arasinda rastgele bir sayi cikartir."
   ]
  },
  {
   "cell_type": "code",
   "execution_count": 54,
   "metadata": {},
   "outputs": [
    {
     "name": "stdout",
     "output_type": "stream",
     "text": [
      "[31, 11, 98, 5, 42, 29, 4, 44, 85, 49, 33, 34, 44, 61, 94, 55, 52, 49, 88, 22]\n",
      "[58, 48, 73, 64, 68, 3, 59, 33, 71, 83, 1, 38, 85, 23, 25, 24, 34, 61, 1, 9]\n",
      "[33, 34, 61, 85]\n"
     ]
    }
   ],
   "source": [
    "abc = [random.randint(1,100) for i in range(20)]\n",
    "bcd = [random.randint(1,100) for i in range(20)]\n",
    "common2 = []\n",
    "for i in abc:\n",
    "    if i in bcd:\n",
    "        if i not in common2:\n",
    "            common2.append(i)\n",
    "common2.sort()\n",
    "print(abc, bcd, common2, sep = '\\n')"
   ]
  },
  {
   "cell_type": "code",
   "execution_count": 56,
   "metadata": {},
   "outputs": [
    {
     "name": "stdout",
     "output_type": "stream",
     "text": [
      "[19, 20, 30, 59]\n"
     ]
    }
   ],
   "source": [
    "abc = [random.randint(1,100) for i in range(20)]\n",
    "bcd = [random.randint(1,100) for i in range(20)]\n",
    "common3 = [i for i in abc if i in bcd if i not in common3]\n",
    "common3.sort()\n",
    "print(common3)"
   ]
  },
  {
   "cell_type": "markdown",
   "metadata": {},
   "source": [
    "# Exercise 6"
   ]
  },
  {
   "cell_type": "code",
   "execution_count": 70,
   "metadata": {},
   "outputs": [
    {
     "name": "stdout",
     "output_type": "stream",
     "text": [
      "Please enter a text > amannamm\n",
      "Not a palindrome\n"
     ]
    }
   ],
   "source": [
    "string1 = input('Please enter a text > ')\n",
    "uzunluk = len(string1)\n",
    "sonuc = True\n",
    "for i in range(uzunluk):\n",
    "    if string1[i] != string1[((i+1)*-1)]:\n",
    "        sonuc = False\n",
    "if sonuc == False:\n",
    "    print('Not a palindrome')\n",
    "else:\n",
    "    print('Palindrome')"
   ]
  },
  {
   "cell_type": "code",
   "execution_count": 73,
   "metadata": {},
   "outputs": [
    {
     "name": "stdout",
     "output_type": "stream",
     "text": [
      "Please enter a text > ahmettemha\n",
      "Palindrome\n"
     ]
    }
   ],
   "source": [
    "string1 = input('Please enter a text > ')\n",
    "if string1[:] == string1[::-1]:\n",
    "    print('Palindrome')\n",
    "else: \n",
    "    print('Not a palindrome')"
   ]
  },
  {
   "cell_type": "markdown",
   "metadata": {},
   "source": [
    "# Exercise 7"
   ]
  },
  {
   "cell_type": "code",
   "execution_count": 80,
   "metadata": {},
   "outputs": [
    {
     "name": "stdout",
     "output_type": "stream",
     "text": [
      "[4, 16, 36, 64, 100]\n"
     ]
    }
   ],
   "source": [
    "listee = [1, 4, 9, 16, 25, 36, 49, 64, 81, 100]\n",
    "print([x for x in listee if x % 2 == 0])"
   ]
  },
  {
   "cell_type": "markdown",
   "metadata": {},
   "source": [
    "# Exercise 8"
   ]
  },
  {
   "cell_type": "code",
   "execution_count": 1,
   "metadata": {},
   "outputs": [
    {
     "name": "stdout",
     "output_type": "stream",
     "text": [
      "Player 1, Rock(R)-Paper(P)-Scissors(S) > p\n",
      "Player 2, Rock(R)-Paper(P)-Scissors(S) > s\n",
      "Congratulations Player2, you win.\n",
      "Do you want to play again? (Y or N) > n\n"
     ]
    }
   ],
   "source": [
    "repeat = True\n",
    "while repeat:    \n",
    "    player1 = input('Player 1, Rock(R)-Paper(P)-Scissors(S) > ').upper()\n",
    "    player2 = input('Player 2, Rock(R)-Paper(P)-Scissors(S) > ').upper()\n",
    "    if player1 == 'R':\n",
    "        if player2 == 'R':\n",
    "            print('Nobody wins. >')\n",
    "        elif player2 == 'P':\n",
    "            print('Congratulations Player2, you win.')\n",
    "        else:\n",
    "            print('Congratulations Player1, you win.')\n",
    "    elif player1 == 'P':\n",
    "        if player2 == 'P':\n",
    "            print('Nobody wins. >')\n",
    "        elif player2 == 'S':\n",
    "            print('Congratulations Player2, you win.')\n",
    "        else:\n",
    "            print('Congratulations Player1, you win.')\n",
    "    else:\n",
    "        if player2 == 'S':\n",
    "            print('Nobody wins. >')\n",
    "        elif player2 == 'R':\n",
    "            print('Congratulations Player2, you win.')\n",
    "        else:\n",
    "            print('Congratulations Player1, you win.')\n",
    "    repeat_q = input('Do you want to play again? (Y or N) > ').upper()\n",
    "    if repeat_q != 'Y':\n",
    "        repeat = False"
   ]
  },
  {
   "cell_type": "code",
   "execution_count": 2,
   "metadata": {},
   "outputs": [
    {
     "name": "stdout",
     "output_type": "stream",
     "text": [
      "R\n",
      "R\n",
      "Nobody wins. >\n",
      "Do you want to play again? (Y or N) > n\n"
     ]
    }
   ],
   "source": [
    "import random\n",
    "repeat = True\n",
    "while repeat:\n",
    "    number1 = random.randint(0, 2)\n",
    "    number2 = random.randint(0, 2)\n",
    "    player1 = ['R', 'P', 'S']\n",
    "    player2 = ['R', 'P', 'S']\n",
    "    print(player1[number1])\n",
    "    print(player2[number2])\n",
    "    if player1[number1] == 'R':\n",
    "        if player2[number2] == 'R':\n",
    "            print('Nobody wins. >')\n",
    "        elif player2[number2] == 'P':\n",
    "            print('Congratulations Player2, you win.')\n",
    "        else:\n",
    "            print('Congratulations Player1, you win.')\n",
    "    elif player1[number1] == 'P':\n",
    "        if player2[number2] == 'P':\n",
    "            print('Nobody wins. >')\n",
    "        elif player2[number2] == 'S':\n",
    "            print('Congratulations Player2, you win.')\n",
    "        else:\n",
    "            print('Congratulations Player1, you win.')\n",
    "    else:\n",
    "        if player2[number2] == 'S':\n",
    "            print('Nobody wins. >')\n",
    "        elif player2[number2] == 'R':\n",
    "            print('Congratulations Player2, you win.')\n",
    "        else:\n",
    "            print('Congratulations Player1, you win.')\n",
    "    repeat_q = input('Do you want to play again? (Y or N) > ').upper()\n",
    "    if repeat_q != 'Y':\n",
    "        repeat = False"
   ]
  },
  {
   "cell_type": "markdown",
   "metadata": {},
   "source": [
    "# Exercise 9"
   ]
  },
  {
   "cell_type": "code",
   "execution_count": 44,
   "metadata": {},
   "outputs": [
    {
     "name": "stdout",
     "output_type": "stream",
     "text": [
      "Guess a number from 1 to 9 > 7\n",
      "You guessed low. Your guess is 7 and the random number is 8.\n",
      "Do you want to exit (Y or N)? > n\n",
      "Guess a number from 1 to 9 > 4\n",
      "You guessed low. Your guess is 4 and the random number is 9.\n",
      "Do you want to exit (Y or N)? > y\n",
      "You guessed 2 times.\n"
     ]
    }
   ],
   "source": [
    "import random\n",
    "tekrar = True\n",
    "number_guesses = 0\n",
    "while tekrar:\n",
    "    rand_num = random.randint(1, 9)\n",
    "    tahmin = int(input('Guess a number from 1 to 9 > '))\n",
    "    if tahmin == rand_num:\n",
    "        print(f'You guessed right. The random number is {rand_num}.')\n",
    "    elif tahmin < rand_num:\n",
    "        print(f'You guessed low. Your guess is {tahmin} and the random number is {rand_num}.')\n",
    "    else:\n",
    "        print(f'You guessed high. Your guess is {tahmin} and the random number is {rand_num}.')\n",
    "    number_guesses += 1 \n",
    "    tekrar_istegi = input('Do you want to exit (Y or N)? > ').upper()\n",
    "    if tekrar_istegi == 'Y':\n",
    "        tekrar = False\n",
    "print(f'You guessed {number_guesses} times.')"
   ]
  },
  {
   "cell_type": "markdown",
   "metadata": {},
   "source": [
    "# Exercise 10"
   ]
  },
  {
   "cell_type": "code",
   "execution_count": 15,
   "metadata": {},
   "outputs": [
    {
     "name": "stdout",
     "output_type": "stream",
     "text": [
      "[8, 12, 14, 47, 48, 48, 61, 70, 74, 76, 77, 93, 93, 94, 99]\n",
      "[12, 18, 18, 22, 23, 42, 44, 45, 55, 56, 60, 60, 63, 70, 73, 80, 80, 81, 83, 96]\n",
      "[12, 70]\n"
     ]
    }
   ],
   "source": [
    "import random\n",
    "common4 = []\n",
    "abc = [random.randint(1,100) for i in range(15)]\n",
    "bcd = [random.randint(1,100) for i in range(20)]\n",
    "common4 = [i for i in abc if i in bcd if i not in common4]\n",
    "print(sorted(abc), sorted(bcd), sep = '\\n')\n",
    "common4.sort()\n",
    "print(common4)"
   ]
  },
  {
   "cell_type": "markdown",
   "metadata": {},
   "source": [
    "# Exercise 11"
   ]
  },
  {
   "cell_type": "code",
   "execution_count": 5,
   "metadata": {},
   "outputs": [
    {
     "name": "stdout",
     "output_type": "stream",
     "text": [
      "Please enter a number > 29\n",
      "[1, 29]\n",
      "This is a prime number.\n"
     ]
    }
   ],
   "source": [
    "def prime_number(number):\n",
    "    p_list = list(range(1, number + 1))\n",
    "    x_list = []\n",
    "    for i in p_list:\n",
    "        if number % i == 0:\n",
    "            x_list.append(i)\n",
    "    print(x_list)\n",
    "    if x_list == [1, number]:\n",
    "        return 'This is a prime number.'\n",
    "    else:\n",
    "        return 'Not a prime number.'\n",
    "    \n",
    "    \n",
    "number2 = int(input('Please enter a number > '))\n",
    "sonuc = prime_number(number2)\n",
    "print(sonuc)"
   ]
  },
  {
   "cell_type": "markdown",
   "metadata": {},
   "source": [
    "# Exercise 12"
   ]
  },
  {
   "cell_type": "code",
   "execution_count": 17,
   "metadata": {},
   "outputs": [
    {
     "name": "stdout",
     "output_type": "stream",
     "text": [
      "[32, 92, 99, 40, 60, 82, 91, 30, 60, 94, 28, 36, 26, 79, 20, 37, 18, 12, 16, 38]\n",
      "[32, 38]\n"
     ]
    }
   ],
   "source": [
    "import random\n",
    "\n",
    "def random_liste():\n",
    "    yeni_liste = [random.randint(1, 100) for i in range(20)]\n",
    "    yepyeni = [yeni_liste[0], yeni_liste[-1]]\n",
    "    print(yeni_liste)\n",
    "    print(yepyeni)\n",
    "    \n",
    "\n",
    "random_liste()"
   ]
  },
  {
   "cell_type": "markdown",
   "metadata": {},
   "source": [
    "# Exercise 13"
   ]
  },
  {
   "cell_type": "code",
   "execution_count": 31,
   "metadata": {},
   "outputs": [
    {
     "name": "stdout",
     "output_type": "stream",
     "text": [
      "How many numbers do you want the sequence to have? > 8\n",
      "[1, 1, 2, 3, 5, 8, 13, 21]\n"
     ]
    }
   ],
   "source": [
    "def fibonacci():    \n",
    "    liste = [1]\n",
    "    number = int(input('How many numbers do you want the sequence to have? > '))\n",
    "    for i in range(1, number):\n",
    "        if len(liste) > 1:\n",
    "            liste.append(liste[-1] + liste[-2]) \n",
    "        else:\n",
    "            liste.append(liste[-1])\n",
    "    print(liste)\n",
    "\n",
    "    \n",
    "fibonacci()"
   ]
  },
  {
   "cell_type": "markdown",
   "metadata": {},
   "source": [
    "# Exercise 14"
   ]
  },
  {
   "cell_type": "code",
   "execution_count": 47,
   "metadata": {},
   "outputs": [
    {
     "name": "stdout",
     "output_type": "stream",
     "text": [
      "[1, 1, 2, 4, 7, 8, 10, 11, 14, 16, 18, 20, 21, 23, 25, 25, 26, 26, 29, 30]\n",
      "[1, 2, 4, 7, 8, 10, 11, 14, 16, 18, 20, 21, 23, 25, 26, 29, 30]\n"
     ]
    }
   ],
   "source": [
    "def redundant():\n",
    "    import random\n",
    "    new_list = [random.randint(1,30) for i in range(20)]\n",
    "    new_list.sort()\n",
    "    print(new_list)\n",
    "    for i in new_list:\n",
    "        if new_list.count(i) > 1:\n",
    "            new_list.remove(i)\n",
    "    print(new_list)\n",
    "    \n",
    "    \n",
    "redundant()"
   ]
  },
  {
   "cell_type": "markdown",
   "metadata": {},
   "source": [
    "# Exercise 15"
   ]
  },
  {
   "cell_type": "code",
   "execution_count": 51,
   "metadata": {},
   "outputs": [
    {
     "name": "stdout",
     "output_type": "stream",
     "text": [
      "Enter a text that you want to be reversed > My name is Michele\n",
      "My name is Michele\n",
      "Michele is name My "
     ]
    }
   ],
   "source": [
    "text = input('Enter a text that you want to be reversed > ')\n",
    "print(text)\n",
    "text_list = text.split()\n",
    "text_list = text_list[::-1]\n",
    "for i in text_list:\n",
    "    print(i, end = \" \")"
   ]
  },
  {
   "cell_type": "markdown",
   "metadata": {},
   "source": [
    "# Exercise 16"
   ]
  },
  {
   "cell_type": "code",
   "execution_count": 9,
   "metadata": {},
   "outputs": [
    {
     "name": "stdout",
     "output_type": "stream",
     "text": [
      "Weak(W) or Strong(S) Password? > w\n",
      "2279R\n",
      "Do you want to get another password, Yes (Y) or No (N)? > y\n",
      "Weak(W) or Strong(S) Password? > s\n",
      "S|pN'glkd8Lq}Y,y[j;R\n",
      "Do you want to get another password, Yes (Y) or No (N)? > n\n"
     ]
    }
   ],
   "source": [
    "import random\n",
    "cont = True\n",
    "while cont:\n",
    "    def weak_password():\n",
    "        for i in range(5):\n",
    "            rand_num = random.randint(48, 57)\n",
    "            rand_cap = random.randint(65, 90)\n",
    "            rand_low = random.randint(97, 122)\n",
    "            liste = [rand_num, rand_cap, rand_low]\n",
    "            randomm = random.randint (0, 2)\n",
    "            convert = chr(liste[randomm])\n",
    "            print(convert, end = '')\n",
    "        print()\n",
    "\n",
    "\n",
    "    def strong_password():\n",
    "        for i in range(20):\n",
    "            randomness = random.randint(33, 126)\n",
    "            convert = chr(randomness)\n",
    "            print(convert, end = '') \n",
    "        print()\n",
    "\n",
    "\n",
    "    character = input('Weak(W) or Strong(S) Password? > ')   \n",
    "    if character.upper() == 'W':\n",
    "        weak_password()\n",
    "    elif character.upper() == 'S':\n",
    "        strong_password()\n",
    "    else:\n",
    "        print('Please enter W or S.')\n",
    "    devam = input('Do you want to get another password, Yes (Y) or No (N)? > ')\n",
    "    if devam.upper() != 'Y':\n",
    "        cont = False"
   ]
  },
  {
   "cell_type": "markdown",
   "metadata": {},
   "source": [
    "# Exercise 17"
   ]
  },
  {
   "cell_type": "markdown",
   "metadata": {},
   "source": [
    "# Exercise 18"
   ]
  },
  {
   "cell_type": "code",
   "execution_count": 1,
   "metadata": {},
   "outputs": [
    {
     "name": "stdout",
     "output_type": "stream",
     "text": [
      "\u001b[95mWelcome to the Game!!!\u001b[0;0m\n",
      "***********************************\n",
      "\u001b[95m3536 Normally this should not print. I put it to end the game whenever desired\u001b[0;0m\n",
      "Enter a number > 3000\n",
      "Your guess is:           3000\n",
      "The generated number is: 3536\n",
      "\u001b[95mCow = 1, Bull = 1\u001b[0;0m\n",
      "***********************************\n",
      "\n",
      "\u001b[95m3536 Normally this should not print. I put it to end the game whenever desired\u001b[0;0m\n",
      "Enter a number > 4000\n",
      "Your guess is:           4000\n",
      "The generated number is: 3536\n",
      "\u001b[95mCow = 0, Bull = 0\u001b[0;0m\n",
      "***********************************\n",
      "\n",
      "\u001b[95m3536 Normally this should not print. I put it to end the game whenever desired\u001b[0;0m\n",
      "Enter a number > 3333\n",
      "Your guess is:           3333\n",
      "The generated number is: 3536\n",
      "\u001b[95mCow = 2, Bull = 6\u001b[0;0m\n",
      "***********************************\n",
      "\n",
      "\u001b[95m3536 Normally this should not print. I put it to end the game whenever desired\u001b[0;0m\n",
      "Enter a number > 3536\n",
      "Your guess is:           3536\n",
      "The generated number is: 3536\n",
      "\u001b[95mCow = 4, Bull = 2\u001b[0;0m\n",
      "***********************************\n",
      "\n",
      "\u001b[95mGame Over!!!\u001b[0;0m\n",
      "\u001b[95mYour guesses are: 3000, 4000, 3333, 3536, \u001b[0;0m\n"
     ]
    }
   ],
   "source": [
    "import random\n",
    "start = '\\033[95m'\n",
    "end = \"\\033[0;0m\"\n",
    "print(start + 'Welcome to the Game!!!' + end)\n",
    "print('***********************************')\n",
    "listt = []\n",
    "fin = ''\n",
    "finish = True\n",
    "rand_number = str(random.randint(1000, 9999))\n",
    "while finish:\n",
    "    cow = 0\n",
    "    bull = 0\n",
    "    print(start + rand_number + ' Normally this should not print. I put it to end the game whenever desired.' + end)\n",
    "    guess = input('Enter a number > ')\n",
    "    control_1 = 0\n",
    "    for i in range(4):\n",
    "        control_2 = 0\n",
    "        for x in range(4):\n",
    "            if guess[control_1] == rand_number[control_2]:\n",
    "                if control_1 == control_2:\n",
    "                    cow += 1\n",
    "                else:\n",
    "                    bull += 1\n",
    "            control_2 += 1\n",
    "        control_1 += 1\n",
    "    print(f'Your guess is:           {int(guess)}')\n",
    "    listt.append(guess)\n",
    "    print(f'The generated number is: {int(rand_number)}')\n",
    "    print(start + f'Cow = {cow}, Bull = {bull}' + end)\n",
    "    print('***********************************')\n",
    "    print()\n",
    "    if cow == 4:\n",
    "        finish = False\n",
    "print(start + 'Game Over!!!' + end)\n",
    "for i in listt:\n",
    "    fin += i + ', '\n",
    "print(start + 'Your guesses are: ' + fin + end)"
   ]
  },
  {
   "cell_type": "markdown",
   "metadata": {},
   "source": [
    "# Exercise 19"
   ]
  },
  {
   "cell_type": "markdown",
   "metadata": {},
   "source": [
    "# Exercise 20"
   ]
  },
  {
   "cell_type": "code",
   "execution_count": 8,
   "metadata": {},
   "outputs": [
    {
     "name": "stdout",
     "output_type": "stream",
     "text": [
      "Enter a number from 1 to 100 > 65\n",
      "[7, 8, 12, 25, 25, 30, 31, 34, 36, 41, 49, 50, 53, 59, 61, 71, 73, 73, 81, 82, 83, 89, 98, 99, 100]\n",
      "65 is a new number.\n"
     ]
    }
   ],
   "source": [
    "import random\n",
    "new_list = [random.randint(1, 100) for i in range(25)]\n",
    "new_list.sort()\n",
    "new_number = int(input('Enter a number from 1 to 100 > '))\n",
    "print(new_list)\n",
    "if new_number in new_list:\n",
    "    print(f'{new_number} is already in this list.')\n",
    "else:\n",
    "    print(f'{new_number} is a new number.')"
   ]
  },
  {
   "cell_type": "markdown",
   "metadata": {},
   "source": [
    "# Exercise 21"
   ]
  },
  {
   "cell_type": "markdown",
   "metadata": {},
   "source": [
    "# Exercise 22"
   ]
  },
  {
   "cell_type": "markdown",
   "metadata": {},
   "source": [
    "# Exercise 23"
   ]
  },
  {
   "cell_type": "markdown",
   "metadata": {},
   "source": [
    "# Exercise 24"
   ]
  },
  {
   "cell_type": "code",
   "execution_count": 2,
   "metadata": {},
   "outputs": [
    {
     "name": "stdout",
     "output_type": "stream",
     "text": [
      "Welcome to the Game!!!\n",
      "What size of game board do you want me to draw? (e.g., 3X3) > 5x6\n",
      " --- --- --- --- --- ---\n",
      "|   |   |   |   |   |   |   \n",
      " --- --- --- --- --- ---\n",
      "|   |   |   |   |   |   |   \n",
      " --- --- --- --- --- ---\n",
      "|   |   |   |   |   |   |   \n",
      " --- --- --- --- --- ---\n",
      "|   |   |   |   |   |   |   \n",
      " --- --- --- --- --- ---\n",
      "|   |   |   |   |   |   |   \n",
      " --- --- --- --- --- ---\n"
     ]
    }
   ],
   "source": [
    "print('Welcome to the Game!!!')\n",
    "size = input('What size of game board do you want me to draw? (e.g., 3X3) > ')\n",
    "index = size.upper().find('X')\n",
    "row = int(size[:index])\n",
    "column = int(size[index + 1 :])\n",
    "row_print = \" ---\"\n",
    "column_print = \"|   \"\n",
    "for i in range(row):\n",
    "    print(row_print * column)\n",
    "    print(column_print * (column + 1))\n",
    "print(row_print * column)"
   ]
  },
  {
   "cell_type": "markdown",
   "metadata": {},
   "source": [
    "# Exercise 25"
   ]
  },
  {
   "cell_type": "code",
   "execution_count": 37,
   "metadata": {},
   "outputs": [
    {
     "name": "stdout",
     "output_type": "stream",
     "text": [
      "My guess is 13.\n",
      "What do you say about my guess?\n",
      "1 : Too high\n",
      "2 : High\n",
      "3 : Very close but still high\n",
      "4 : You found it\n",
      "5 : Too low\n",
      "6 : Low\n",
      "7 : Very close but still low4\n",
      "I did it.\n"
     ]
    }
   ],
   "source": [
    "import random\n",
    "rand_number = random.randint(1, 100)\n",
    "print(f'My guess is {rand_number}.')\n",
    "finish = True\n",
    "while finish:\n",
    "    your_answer = input(\n",
    "'''What do you say about my guess?\n",
    "1 : Too high\n",
    "2 : High\n",
    "3 : Very close but still high\n",
    "4 : You found it\n",
    "5 : Too low\n",
    "6 : Low\n",
    "7 : Very close but still low''')\n",
    "    if your_answer == \"1\":\n",
    "        rand_number -= 10\n",
    "        print(f'My guess is {rand_number}.')\n",
    "    elif your_answer == \"2\":\n",
    "        rand_number -= 5\n",
    "        print(f'My guess is {rand_number}.')\n",
    "    elif your_answer == \"3\":\n",
    "        rand_number -= 1\n",
    "        print(f'My guess is {rand_number}.')\n",
    "    elif your_answer == '4':\n",
    "        print('I did it.')\n",
    "        finish = False\n",
    "    elif your_answer == '5' :\n",
    "        rand_number += 10\n",
    "        print(f'My guess is {rand_number}.')\n",
    "    elif your_answer == '6':\n",
    "        rand_number += 5\n",
    "        print(f'My guess is {rand_number}.')\n",
    "    elif your_answer == '7':\n",
    "        rand_number += 1\n",
    "        print(f'My guess is {rand_number}.')"
   ]
  },
  {
   "cell_type": "markdown",
   "metadata": {},
   "source": [
    "# Exercise 26"
   ]
  },
  {
   "cell_type": "code",
   "execution_count": 20,
   "metadata": {},
   "outputs": [
    {
     "name": "stdout",
     "output_type": "stream",
     "text": [
      "[2, 0, 0]\n",
      "[1, 0, 1]\n",
      "[1, 0, 0]\n",
      "Yaay\n"
     ]
    }
   ],
   "source": [
    "import random\n",
    "list1 = [random.randint(0, 2) for i in range(3)]\n",
    "list2 = [random.randint(0, 2) for i in range(3)]\n",
    "list3 = [random.randint(0, 2) for i in range(3)]\n",
    "lists = [list1, list2, list3]\n",
    "for i in lists:\n",
    "    print(i)\n",
    "if lists[0][0] == lists[1][1] == lists[2][2] or lists[0][2] == lists[1][1] == lists[2][0] or \\\n",
    "lists[0][0] == lists[1][0] == lists[2][0] or lists[0][1] == lists[1][1] == lists[2][1] or \\\n",
    "lists[0][2] == lists[1][2] == lists[2][2] or lists[0][0] == lists[0][1] == lists[0][2] or \\\n",
    "lists[1][0] == lists[1][1] == lists[1][2] or lists[2][0] == lists[2][1] == lists[2][2]:\n",
    "    print('Yaay')"
   ]
  },
  {
   "cell_type": "code",
   "execution_count": 6,
   "metadata": {},
   "outputs": [
    {
     "name": "stdout",
     "output_type": "stream",
     "text": [
      "[0, 0, 2]\n",
      "[1, 0, 0]\n",
      "[0, 0, 0]\n",
      "[[0, 0, 2], [1, 0, 0], [0, 0, 0]]\n"
     ]
    }
   ],
   "source": [
    "import random\n",
    "lists = []\n",
    "for i in range(3):\n",
    "    listt = [random.randint(0, 2) for i in range(3)]\n",
    "    lists.append(listt)\n",
    "for i in lists:\n",
    "    print(i)\n",
    "print(lists)"
   ]
  },
  {
   "cell_type": "code",
   "execution_count": null,
   "metadata": {},
   "outputs": [],
   "source": [
    "for x in lists:\n",
    "    if x[0] == x[1] == x[2]:\n",
    "        print('Yaay, the winner is {}'.format(x[0]))\n",
    "for a in lists:\n",
    "    for b in a:\n",
    "        "
   ]
  }
 ],
 "metadata": {
  "kernelspec": {
   "display_name": "Python 3",
   "language": "python",
   "name": "python3"
  },
  "language_info": {
   "codemirror_mode": {
    "name": "ipython",
    "version": 3
   },
   "file_extension": ".py",
   "mimetype": "text/x-python",
   "name": "python",
   "nbconvert_exporter": "python",
   "pygments_lexer": "ipython3",
   "version": "3.8.5"
  }
 },
 "nbformat": 4,
 "nbformat_minor": 4
}
