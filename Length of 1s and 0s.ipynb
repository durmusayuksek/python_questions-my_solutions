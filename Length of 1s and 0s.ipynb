{
 "cells": [
  {
   "cell_type": "markdown",
   "metadata": {},
   "source": [
    "Write a function that returns True if every consecutive sequence of ones is followed by a consecutive sequence of zeroes of the same length.\n",
    "\n",
    "same_length(\"110011100010\") ➞ True\n",
    "\n",
    "same_length(\"101010110\") ➞ False\n",
    "\n",
    "same_length(\"111100001100\") ➞ True\n",
    "\n",
    "same_length(\"111\") ➞ False"
   ]
  },
  {
   "cell_type": "code",
   "execution_count": 5,
   "metadata": {},
   "outputs": [
    {
     "data": {
      "text/plain": [
       "True"
      ]
     },
     "execution_count": 5,
     "metadata": {},
     "output_type": "execute_result"
    }
   ],
   "source": [
    "def same_length(text):\n",
    "    liste = []\n",
    "    devam = True\n",
    "    sonuc = False\n",
    "    for i in text:\n",
    "        if i == '1':\n",
    "            if devam:\n",
    "                liste.append(i)\n",
    "                sonuc = False\n",
    "            else:\n",
    "                break\n",
    "        elif i == '0':\n",
    "            if '1' in liste:\n",
    "                liste.pop()\n",
    "                if liste != []:\n",
    "                    devam = False\n",
    "                    sonuc = False\n",
    "                else:\n",
    "                    devam = True\n",
    "                    sonuc = True\n",
    "            else:\n",
    "                break\n",
    "    return sonuc\n",
    "same_length(\"110011110000110010\")"
   ]
  },
  {
   "cell_type": "code",
   "execution_count": null,
   "metadata": {},
   "outputs": [],
   "source": []
  }
 ],
 "metadata": {
  "kernelspec": {
   "display_name": "Python 3 (ipykernel)",
   "language": "python",
   "name": "python3"
  },
  "language_info": {
   "codemirror_mode": {
    "name": "ipython",
    "version": 3
   },
   "file_extension": ".py",
   "mimetype": "text/x-python",
   "name": "python",
   "nbconvert_exporter": "python",
   "pygments_lexer": "ipython3",
   "version": "3.8.5"
  }
 },
 "nbformat": 4,
 "nbformat_minor": 4
}
