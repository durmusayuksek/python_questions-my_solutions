{
 "cells": [
  {
   "cell_type": "code",
   "execution_count": 2,
   "metadata": {},
   "outputs": [
    {
     "name": "stdout",
     "output_type": "stream",
     "text": [
      "Enter a number or press 'q' to exit > 55\n",
      "Enter a number or press 'q' to exit > 23\n",
      "Enter a number or press 'q' to exit > 132\n",
      "Enter a number or press 'q' to exit > 45\n",
      "Enter a number or press 'q' to exit > 3\n",
      "Enter a number or press 'q' to exit > 0\n",
      "Enter a number or press 'q' to exit > -1\n",
      "Enter a number or press 'q' to exit > -132\n",
      "Enter a number or press 'q' to exit > q\n"
     ]
    },
    {
     "data": {
      "text/plain": [
       "132"
      ]
     },
     "execution_count": 2,
     "metadata": {},
     "output_type": "execute_result"
    }
   ],
   "source": [
    "liste = []\n",
    "while True:\n",
    "    num = input(\"Enter a number or press 'q' to exit > \")\n",
    "    if num.lower() == 'q':\n",
    "        break\n",
    "    else:\n",
    "        liste.append(int(num))\n",
    "    \n",
    "def maximum():    \n",
    "    biggest = liste[0]        \n",
    "    for i in liste:\n",
    "        if i > biggest:\n",
    "            biggest = i\n",
    "    return biggest\n",
    "     \n",
    "maximum()"
   ]
  },
  {
   "cell_type": "code",
   "execution_count": null,
   "metadata": {},
   "outputs": [],
   "source": []
  }
 ],
 "metadata": {
  "kernelspec": {
   "display_name": "Python 3 (ipykernel)",
   "language": "python",
   "name": "python3"
  },
  "language_info": {
   "codemirror_mode": {
    "name": "ipython",
    "version": 3
   },
   "file_extension": ".py",
   "mimetype": "text/x-python",
   "name": "python",
   "nbconvert_exporter": "python",
   "pygments_lexer": "ipython3",
   "version": "3.8.5"
  }
 },
 "nbformat": 4,
 "nbformat_minor": 4
}
