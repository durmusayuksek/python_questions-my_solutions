{
 "cells": [
  {
   "cell_type": "markdown",
   "metadata": {},
   "source": [
    "```\n",
    "A Fibonacci string is a precedence of the Fibonacci series. It works with any two characters of the English alphabet (as opposed to the numbers 0 and 1 in the Fibonacci series) as the initial items and concatenates them together as it progresses similarly to that of the Fibonacci series.\n",
    "\n",
    "Examples\n",
    "fib_str(3, [\"j\", \"h\"]) ➞ \"j, h, hj\"\n",
    "\n",
    "fib_str(5, [\"e\", \"a\"]) ➞ \"e, a, ae, aea, aeaae\"\n",
    "\n",
    "fib_str(6, [\"n\", \"k\"]) ➞ \"n, k, kn, knk, knkkn, knkknknk\"\n",
    "Notes\n",
    "All values for n will be at least 2.\n",
    "It is expected from the challenge-takers to come up with a solution using the concept of recursion or the so-called recursive approach.\n",
    "```"
   ]
  },
  {
   "cell_type": "code",
   "execution_count": 13,
   "metadata": {},
   "outputs": [
    {
     "data": {
      "text/plain": [
       "['n', 'k', 'kn', 'knk', 'knkkn', 'knkknknk']"
      ]
     },
     "execution_count": 13,
     "metadata": {},
     "output_type": "execute_result"
    }
   ],
   "source": [
    "def rec_feb(n, liste, new = []):\n",
    "    new = []\n",
    "    new.append(liste[-1] + liste[-2])\n",
    "    liste.extend(new)\n",
    "    if len(liste) == n:\n",
    "        return liste\n",
    "    else:\n",
    "        return rec_feb(n, liste)\n",
    "    \n",
    "rec_feb(6, [\"n\", \"k\"])"
   ]
  },
  {
   "cell_type": "code",
   "execution_count": null,
   "metadata": {},
   "outputs": [],
   "source": []
  }
 ],
 "metadata": {
  "kernelspec": {
   "display_name": "Python 3 (ipykernel)",
   "language": "python",
   "name": "python3"
  },
  "language_info": {
   "codemirror_mode": {
    "name": "ipython",
    "version": 3
   },
   "file_extension": ".py",
   "mimetype": "text/x-python",
   "name": "python",
   "nbconvert_exporter": "python",
   "pygments_lexer": "ipython3",
   "version": "3.8.5"
  }
 },
 "nbformat": 4,
 "nbformat_minor": 4
}
