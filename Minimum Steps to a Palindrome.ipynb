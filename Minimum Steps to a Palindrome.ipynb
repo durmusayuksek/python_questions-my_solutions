{
 "cells": [
  {
   "cell_type": "markdown",
   "metadata": {},
   "source": [
    "Given an incomplete palindrome as a string, return the minimum letters needed to be added on to the end to make the string a palindrome."
   ]
  },
  {
   "cell_type": "code",
   "execution_count": 11,
   "metadata": {},
   "outputs": [
    {
     "name": "stdout",
     "output_type": "stream",
     "text": [
      "Enter a text > roto\n",
      "\n",
      "We need minimum 1 letters to be added to the end of roto,\n",
      "These 1 letter is/are r.\n",
      "Thus, our palindrom is rotor.\n"
     ]
    }
   ],
   "source": [
    "text = input('Enter a text > ')\n",
    "text2 = text\n",
    "rev = text[::-1]\n",
    "sayac = 0\n",
    "for i in range(len(text2)):\n",
    "    text = text[1:]\n",
    "    rev = rev[:-1]\n",
    "    sayac += 1\n",
    "    if text == rev:\n",
    "        break\n",
    "which = text2[:sayac]\n",
    "which_reverse = which[::-1]\n",
    "print(f'''\n",
    "We need minimum {sayac} letters to be added to the end of {text2},\n",
    "These {sayac} letter is/are {which_reverse}.\n",
    "Thus, our palindrom is {text2 + which_reverse}.''')"
   ]
  },
  {
   "cell_type": "code",
   "execution_count": null,
   "metadata": {},
   "outputs": [],
   "source": []
  }
 ],
 "metadata": {
  "kernelspec": {
   "display_name": "Python 3 (ipykernel)",
   "language": "python",
   "name": "python3"
  },
  "language_info": {
   "codemirror_mode": {
    "name": "ipython",
    "version": 3
   },
   "file_extension": ".py",
   "mimetype": "text/x-python",
   "name": "python",
   "nbconvert_exporter": "python",
   "pygments_lexer": "ipython3",
   "version": "3.8.5"
  }
 },
 "nbformat": 4,
 "nbformat_minor": 4
}
