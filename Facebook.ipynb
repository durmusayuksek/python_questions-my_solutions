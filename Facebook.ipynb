{
 "cells": [
  {
   "cell_type": "markdown",
   "metadata": {},
   "source": [
    "```\n",
    "Muhtemelen Facebook ve diğer sayfalardan \"beğenme\" sistemini biliyorsunuzdur. İnsanlar blog gönderilerini, resimleri veya diğer öğeleri \"beğenebilir\". Böyle bir öğenin yanında görüntülenmesi gereken metni oluşturmak istiyoruz.\n",
    "likesBir öğeyi beğenen kişilerin adlarını içeren bir diziyi alan işlevi uygulayın . Örneklerde gösterildiği gibi ekran metnini döndürmelidir:\n",
    "likes([]) # must be \"no one likes this\"\n",
    "likes([\"Peter\"]) # must be \"Peter likes this\"\n",
    "likes([\"Jacob\", \"Alex\"]) # must be \"Jacob and Alex like this\"\n",
    "likes([\"Max\", \"John\", \"Mark\"]) # must be \"Max, John and Mark like this\"\n",
    "likes([\"Alex\", \"Jacob\", \"Mark\", \"Max\"]) # must be \"Alex, Jacob and 2 others\n",
    "```"
   ]
  },
  {
   "cell_type": "code",
   "execution_count": 33,
   "metadata": {},
   "outputs": [
    {
     "data": {
      "text/plain": [
       "'Alex, Jacob and 2 others like this.'"
      ]
     },
     "execution_count": 33,
     "metadata": {},
     "output_type": "execute_result"
    }
   ],
   "source": [
    "def likes(liste):\n",
    "    if liste != []:\n",
    "        if len(liste) == 1:\n",
    "            sonuc = liste[0] + ' likes this.'\n",
    "        elif len(liste) == 2:\n",
    "            sonuc = liste[0] + ' and ' + liste[1] + ' like this.'\n",
    "        elif len(liste) == 3:\n",
    "            sonuc = liste[0] + ', ' + liste[1] + ' and ' + liste[2] + ' like this.'\n",
    "        elif len(liste) > 3:\n",
    "            ek = len(liste) - 2\n",
    "            sonuc = liste[0] + ', ' + liste[1]+ ' and ' + str(ek) + ' others like this.'\n",
    "    else:\n",
    "        sonuc = 'no one likes this'\n",
    "    return sonuc\n",
    "\n",
    "likes([\"Alex\", \"Jacob\", \"Mark\", \"Max\"])            "
   ]
  },
  {
   "cell_type": "code",
   "execution_count": null,
   "metadata": {},
   "outputs": [],
   "source": []
  }
 ],
 "metadata": {
  "kernelspec": {
   "display_name": "Python 3 (ipykernel)",
   "language": "python",
   "name": "python3"
  },
  "language_info": {
   "codemirror_mode": {
    "name": "ipython",
    "version": 3
   },
   "file_extension": ".py",
   "mimetype": "text/x-python",
   "name": "python",
   "nbconvert_exporter": "python",
   "pygments_lexer": "ipython3",
   "version": "3.8.5"
  }
 },
 "nbformat": 4,
 "nbformat_minor": 4
}
