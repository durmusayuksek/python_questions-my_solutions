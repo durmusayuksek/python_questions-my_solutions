{
 "cells": [
  {
   "cell_type": "markdown",
   "metadata": {},
   "source": [
    "```\n",
    "Create a function that takes a list of positive integers and returns a string as:\n",
    "\n",
    "p1, sum of all ij of the list for which p1 is a prime factor.\n",
    "p2, sum of all ij of the list for which p2 is a prime factor, ... .\n",
    "pn, sum of all ij of the list for which pn is a prime factor.\n",
    "\n",
    "Examples\n",
    "\n",
    "sum_prime([12, 15]) ➞ \"(2 12)(3 27)(5 15)\"\n",
    "# 2 is a prime factor of 12 results (2 12).\n",
    "# 3 is a prime factor of 12 and 15, add 15 + 12, results (3 27).\n",
    "# 5 is a prime factor of 15 results (5 15).\n",
    "# 7, 11 and 13 are prime numbers but not a factor of any of the number\n",
    "# in the given list.\n",
    "\n",
    "sum_prime([7, 13, 18, 23, 24]) ➞ \"(2 42)(3 42)(7 7)(13 13)(23 23)\"\n",
    "\n",
    "sum_prime([3, 5, 7, 9, 11, 13]) ➞ \"(3 12)(5 5)(7 7)(11 11)(13 13)\"\n",
    "```"
   ]
  },
  {
   "cell_type": "code",
   "execution_count": 21,
   "metadata": {},
   "outputs": [
    {
     "data": {
      "text/plain": [
       "'(3 12)(5 5)(7 7)(11 11)(13 13)'"
      ]
     },
     "execution_count": 21,
     "metadata": {},
     "output_type": "execute_result"
    }
   ],
   "source": [
    "from collections import defaultdict\n",
    "\n",
    "def prime(x):\n",
    "    res = True\n",
    "    if x <= 1:\n",
    "        return False\n",
    "    for i in range(2, x):\n",
    "        if x % i == 0:\n",
    "            res = False\n",
    "            break\n",
    "    return res\n",
    "\n",
    "def prime_factors_with_sum(lst):\n",
    "    dictt = defaultdict(list)\n",
    "    resa = ''\n",
    "\n",
    "    for i in lst:\n",
    "        for j in range(2, i+1):\n",
    "            if prime(j):\n",
    "                if i % j == 0:\n",
    "                    dictt[j].append(i)\n",
    "\n",
    "    for i in sorted(dictt.items()):\n",
    "        resa += '(' + str(i[0]) + ' ' + str(sum(i[1])) + ')'\n",
    "    return resa\n",
    "\n",
    "prime_factors_with_sum([3, 5, 7, 9, 11, 13])"
   ]
  },
  {
   "cell_type": "code",
   "execution_count": null,
   "metadata": {},
   "outputs": [],
   "source": []
  }
 ],
 "metadata": {
  "kernelspec": {
   "display_name": "Python 3 (ipykernel)",
   "language": "python",
   "name": "python3"
  },
  "language_info": {
   "codemirror_mode": {
    "name": "ipython",
    "version": 3
   },
   "file_extension": ".py",
   "mimetype": "text/x-python",
   "name": "python",
   "nbconvert_exporter": "python",
   "pygments_lexer": "ipython3",
   "version": "3.8.5"
  }
 },
 "nbformat": 4,
 "nbformat_minor": 4
}
