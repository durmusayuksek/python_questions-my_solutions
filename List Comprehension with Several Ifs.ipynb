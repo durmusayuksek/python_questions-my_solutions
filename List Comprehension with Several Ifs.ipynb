{
 "cells": [
  {
   "cell_type": "markdown",
   "metadata": {},
   "source": [
    "```\n",
    "Create a list of strings based on a list of numbers\n",
    "The rules:\n",
    "If the number is a multiple of five and odd, the string should be 'five odd'\n",
    "If the number is a multiple of five and even, the string should be 'five even'\n",
    "If the number is odd, the string is 'odd'\n",
    "If the number is even, the string is 'even'\n",
    "we can solve this guestion using loop easly it is okey. But can we solve it using list comprehension ? given list =numbers = [1, 3, 4, 6, 81, 80, 100, 95] expected output = ['odd', 'odd', 'even', 'even', 'odd', 'five even', 'five even', 'five odd']\n",
    "```"
   ]
  },
  {
   "cell_type": "code",
   "execution_count": 22,
   "metadata": {},
   "outputs": [
    {
     "name": "stdout",
     "output_type": "stream",
     "text": [
      "['odd', 'odd', 'even', 'even', 'odd', 'five even', 'five even', 'five odd']\n"
     ]
    }
   ],
   "source": [
    "number_list = [1, 3, 4, 6, 81, 80, 100, 95]\n",
    "a = ['five even' if i % 5 == 0 and i % 2 == 0 else 'five odd' if i % 5 == 0 and i % 2 != 0 else 'odd' if i % 2 != 0 else 'even' for i in number_list]\n",
    "print(a)"
   ]
  },
  {
   "cell_type": "code",
   "execution_count": null,
   "metadata": {},
   "outputs": [],
   "source": []
  }
 ],
 "metadata": {
  "kernelspec": {
   "display_name": "Python 3 (ipykernel)",
   "language": "python",
   "name": "python3"
  },
  "language_info": {
   "codemirror_mode": {
    "name": "ipython",
    "version": 3
   },
   "file_extension": ".py",
   "mimetype": "text/x-python",
   "name": "python",
   "nbconvert_exporter": "python",
   "pygments_lexer": "ipython3",
   "version": "3.8.5"
  }
 },
 "nbformat": 4,
 "nbformat_minor": 4
}
