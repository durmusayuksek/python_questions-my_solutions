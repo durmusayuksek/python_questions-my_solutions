{
 "cells": [
  {
   "cell_type": "markdown",
   "metadata": {},
   "source": [
    "```\n",
    "Create a function that will build a staircase using the underscore _ and hash # symbols. A positive value denotes the staircase's upward direction and downwards for a negative value.\n",
    "\n",
    "Examples\n",
    "staircase(3) ➞ \"__#\\n_##\\n###\"\n",
    "__#\n",
    "_##\n",
    "###\n",
    "\n",
    "staircase(7) ➞ \"______#\\n_____##\\n____###\\n___####\\n__#####\\n_######\\n#######\"\n",
    "______#\n",
    "_____##\n",
    "____###\n",
    "___####\n",
    "__#####\n",
    "_######\n",
    "#######\n",
    "\n",
    "staircase(2) ➞ \"_#\\n##\"\n",
    "_#\n",
    "##\n",
    "\n",
    "staircase(-8) ➞ \"########\\n_#######\\n__######\\n___#####\\n____####\\n_____###\\n______##\\n_______#\"\n",
    "########\n",
    "_#######\n",
    "__######\n",
    "___#####\n",
    "____####\n",
    "_____###\n",
    "______##\n",
    "_______#\n",
    "```"
   ]
  },
  {
   "cell_type": "code",
   "execution_count": 27,
   "metadata": {},
   "outputs": [
    {
     "name": "stdout",
     "output_type": "stream",
     "text": [
      "_______#\n",
      "______##\n",
      "_____###\n",
      "____####\n",
      "___#####\n",
      "__######\n",
      "_#######\n",
      "########\n"
     ]
    }
   ],
   "source": [
    "def staircase(n, m = [1]):\n",
    "    if n == 0:\n",
    "        return ''\n",
    "    m += [1]\n",
    "    if n < 0:\n",
    "        return (len(m) - 2) * '_' + abs(n) * '#' + '\\n' + staircase(n + 1, m).rstrip('\\n')\n",
    "    else:\n",
    "        return (n-1) * '_' + (len(m) - 1) * '#' + '\\n' + staircase(n - 1, m).rstrip('\\n')\n",
    "\n",
    "print(staircase(8))"
   ]
  },
  {
   "cell_type": "code",
   "execution_count": null,
   "metadata": {},
   "outputs": [],
   "source": []
  }
 ],
 "metadata": {
  "kernelspec": {
   "display_name": "Python 3 (ipykernel)",
   "language": "python",
   "name": "python3"
  },
  "language_info": {
   "codemirror_mode": {
    "name": "ipython",
    "version": 3
   },
   "file_extension": ".py",
   "mimetype": "text/x-python",
   "name": "python",
   "nbconvert_exporter": "python",
   "pygments_lexer": "ipython3",
   "version": "3.8.5"
  }
 },
 "nbformat": 4,
 "nbformat_minor": 4
}
