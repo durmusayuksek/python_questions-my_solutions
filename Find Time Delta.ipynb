{
 "cells": [
  {
   "cell_type": "markdown",
   "metadata": {},
   "source": [
    "```\n",
    "When users post an update on social media,such as a URL, image, status update etc., other users in their network are able to view this new post on their news feed. Users can also see exactly when the post was published, i.e, how many hours, minutes or seconds ago.\n",
    "\n",
    "Since sometimes posts are published and viewed in different time zones, this can be confusing. You are given two timestamps of one such post that a user can see on his newsfeed in the following format:\n",
    "\n",
    "Day dd Mon yyyy hh:mm:ss +xxxx\n",
    "\n",
    "Here +xxxx represents the time zone. Your task is to print the absolute difference (in seconds) between them.\n",
    "\n",
    "Output Format\n",
    "\n",
    "Print the absolute difference  in seconds.\n",
    "\n",
    "Sample Input\n",
    "\n",
    "Sun 10 May 2015 13:54:36 -0700\n",
    "Sun 10 May 2015 13:54:36 -0000\n",
    "Sat 02 May 2015 19:54:36 +0530\n",
    "Fri 01 May 2015 13:54:36 -0000\n",
    "\n",
    "Sample Output\n",
    "\n",
    "25200\n",
    "88200\n",
    "```"
   ]
  },
  {
   "cell_type": "code",
   "execution_count": 8,
   "metadata": {},
   "outputs": [
    {
     "name": "stdout",
     "output_type": "stream",
     "text": [
      "25200\n",
      "88200\n"
     ]
    }
   ],
   "source": [
    "from datetime import datetime\n",
    "from datetime import timedelta\n",
    "\n",
    "def find_time_delta(res):\n",
    "    net = []\n",
    "    x = int(res[0].strip()) * 2\n",
    "    res.pop(0)\n",
    "    res = [i.strip() for i in res]\n",
    "\n",
    "    for i in range(0,x,2):\n",
    "        date_time_str_1 = res[i][4:-6]\n",
    "        date_time_str_2 = res[i+1][4:-6]\n",
    "\n",
    "        date_time_obj_1 = datetime.strptime(date_time_str_1, '%d %b %Y %H:%M:%S')\n",
    "        date_time_obj_2 = datetime.strptime(date_time_str_2, '%d %b %Y %H:%M:%S')\n",
    "\n",
    "        top = date_time_obj_2 - date_time_obj_1\n",
    "        resa = abs(top.total_seconds())\n",
    "        zone1 = res[i][-5:]\n",
    "        zone2 = res[i+1][-5:]\n",
    "        nett = []\n",
    "        for i in [zone1, zone2]:\n",
    "            if i.startswith('-'):\n",
    "                neg = True\n",
    "            else:\n",
    "                neg = False\n",
    "            a = (int(i[1:3]) * 3600) + (int(i[3:]) * 60)\n",
    "            if neg:\n",
    "                a = -a\n",
    "            nett.append(a)\n",
    "\n",
    "        if date_time_obj_1 > date_time_obj_2:\n",
    "            k = -nett[0]\n",
    "            t = nett[1]\n",
    "        elif date_time_obj_1 < date_time_obj_2:\n",
    "            k = nett[0]\n",
    "            t = -nett[1]\n",
    "        else:\n",
    "            k = nett[0]\n",
    "            t = nett[1]\n",
    "\n",
    "        resa = int(resa) + k + t\n",
    "        net.append(resa)\n",
    "    for i in net:\n",
    "        print(abs(i))\n",
    "    \n",
    "find_time_delta(['2', 'Sun 10 May 2015 13:54:36 -0700', 'Sun 10 May 2015 13:54:36 -0000', \n",
    "            'Sat 02 May 2015 19:54:36 +0530', 'Fri 01 May 2015 13:54:36 -0000'])"
   ]
  },
  {
   "cell_type": "code",
   "execution_count": null,
   "metadata": {},
   "outputs": [],
   "source": []
  }
 ],
 "metadata": {
  "kernelspec": {
   "display_name": "Python 3 (ipykernel)",
   "language": "python",
   "name": "python3"
  },
  "language_info": {
   "codemirror_mode": {
    "name": "ipython",
    "version": 3
   },
   "file_extension": ".py",
   "mimetype": "text/x-python",
   "name": "python",
   "nbconvert_exporter": "python",
   "pygments_lexer": "ipython3",
   "version": "3.8.5"
  }
 },
 "nbformat": 4,
 "nbformat_minor": 4
}
