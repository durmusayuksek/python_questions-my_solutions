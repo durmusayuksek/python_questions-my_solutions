{
 "cells": [
  {
   "cell_type": "markdown",
   "metadata": {},
   "source": [
    "```\n",
    "This problem was asked by Yelp.\n",
    "Given a mapping of digits to letters (as in a phone number), and a digit string,return all possible letters the number could represent. You can assume each valid number in the mapping is a single digit.\n",
    "For example if {“2”: [“a”, “b”, “c”], 3: [“d”, “e”, “f”], …} then “23” should return [“ad”, “ae”, “af”, “bd”, “be”, “bf”, “cd”, “ce”, “cf\"].\n",
    "```                                                                                   "
   ]
  },
  {
   "cell_type": "code",
   "execution_count": 14,
   "metadata": {},
   "outputs": [
    {
     "data": {
      "text/plain": [
       "['mga',\n",
       " 'mgb',\n",
       " 'mgc',\n",
       " 'mha',\n",
       " 'mhb',\n",
       " 'mhc',\n",
       " 'mia',\n",
       " 'mib',\n",
       " 'mic',\n",
       " 'nga',\n",
       " 'ngb',\n",
       " 'ngc',\n",
       " 'nha',\n",
       " 'nhb',\n",
       " 'nhc',\n",
       " 'nia',\n",
       " 'nib',\n",
       " 'nic',\n",
       " 'oga',\n",
       " 'ogb',\n",
       " 'ogc',\n",
       " 'oha',\n",
       " 'ohb',\n",
       " 'ohc',\n",
       " 'oia',\n",
       " 'oib',\n",
       " 'oic']"
      ]
     },
     "execution_count": 14,
     "metadata": {},
     "output_type": "execute_result"
    }
   ],
   "source": [
    "def phone_letter(number):\n",
    "    dictt = {2: 'abc', 3: 'def', 4: 'ghi', 5: 'jkl', 6: 'mno', 7: 'pqrs', 8: 'tuv', 9: 'wxyz'}\n",
    "\n",
    "    str_num = str(number)\n",
    "    a = 0\n",
    "    b = 1\n",
    "    first = dictt[int(str_num[a])]\n",
    "    second = dictt[int(str_num[b])]\n",
    "\n",
    "    while True:\n",
    "        res = []\n",
    "        for i in first:\n",
    "            for j in second:\n",
    "                res.append(i+j)\n",
    "        if b == len(str_num) - 1:\n",
    "            break\n",
    "        else:\n",
    "            b += 1\n",
    "            first = res\n",
    "            second = dictt[int(str_num[b])]\n",
    "    return res\n",
    "\n",
    "phone_letter(642)"
   ]
  },
  {
   "cell_type": "code",
   "execution_count": null,
   "metadata": {},
   "outputs": [],
   "source": []
  }
 ],
 "metadata": {
  "kernelspec": {
   "display_name": "Python 3 (ipykernel)",
   "language": "python",
   "name": "python3"
  },
  "language_info": {
   "codemirror_mode": {
    "name": "ipython",
    "version": 3
   },
   "file_extension": ".py",
   "mimetype": "text/x-python",
   "name": "python",
   "nbconvert_exporter": "python",
   "pygments_lexer": "ipython3",
   "version": "3.8.5"
  }
 },
 "nbformat": 4,
 "nbformat_minor": 4
}
