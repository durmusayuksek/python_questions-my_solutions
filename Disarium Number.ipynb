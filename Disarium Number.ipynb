{
 "cells": [
  {
   "cell_type": "markdown",
   "metadata": {},
   "source": [
    "A number is said to be Disarium if the sum of its digits raised to their respective positions is the number itself.\n",
    "\n",
    "Create a function that determines whether a number is a Disarium or not."
   ]
  },
  {
   "cell_type": "code",
   "execution_count": 17,
   "metadata": {},
   "outputs": [
    {
     "name": "stdout",
     "output_type": "stream",
     "text": [
      "Enter a number > 333\n",
      "39\n",
      "333 is not a Disarium number.\n"
     ]
    }
   ],
   "source": [
    "number = input('Enter a number > ')\n",
    "total = 0\n",
    "sayac = 1\n",
    "for i in number:\n",
    "    total = (int(i) ** sayac) + total\n",
    "    sayac += 1\n",
    "print(total)\n",
    "if total == int(number):\n",
    "    print('{} is a Disarium number.'.format(number))\n",
    "else:\n",
    "    print('{} is not a Disarium number.'.format(number))"
   ]
  },
  {
   "cell_type": "code",
   "execution_count": null,
   "metadata": {},
   "outputs": [],
   "source": []
  }
 ],
 "metadata": {
  "kernelspec": {
   "display_name": "Python 3",
   "language": "python",
   "name": "python3"
  },
  "language_info": {
   "codemirror_mode": {
    "name": "ipython",
    "version": 3
   },
   "file_extension": ".py",
   "mimetype": "text/x-python",
   "name": "python",
   "nbconvert_exporter": "python",
   "pygments_lexer": "ipython3",
   "version": "3.8.5"
  }
 },
 "nbformat": 4,
 "nbformat_minor": 4
}
