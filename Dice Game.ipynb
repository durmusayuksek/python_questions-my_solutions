{
 "cells": [
  {
   "cell_type": "markdown",
   "metadata": {},
   "source": [
    "```\n",
    "Greed is a dice game played with five six-sided dice. Your mission, should you choose to accept it, is to score a throw according to these rules. You will always be given an array with five six-sided dice values.\n",
    "\n",
    " Three 1's => 1000 points\n",
    " Three 6's =>  600 points\n",
    " Three 5's =>  500 points\n",
    " Three 4's =>  400 points\n",
    " Three 3's =>  300 points\n",
    " Three 2's =>  200 points\n",
    " One   1   =>  100 points\n",
    " One   5   =>   50 point\n",
    " \n",
    "A single die can only be counted once in each roll. For example, a given \"5\" can only count as part of a triplet (contributing to the 500 points) or as a single 50 points, but not both in the same roll.\n",
    "\n",
    "Example scoring\n",
    "\n",
    " Throw       Score\n",
    " ---------   ------------------\n",
    " 5 1 3 4 1   250:  50 (for the 5) + 2 * 100 (for the 1s)\n",
    " 1 1 1 3 1   1100: 1000 (for three 1s) + 100 (for the other 1)\n",
    " 2 4 4 5 4   450:  400 (for three 4s) + 50 (for the 5)\n",
    " \n",
    "In some languages, it is possible to mutate the input to the function. This is something that you should never do. If you mutate the input, you will not be able to pass all the tests.\n",
    " ```"
   ]
  },
  {
   "cell_type": "code",
   "execution_count": 38,
   "metadata": {},
   "outputs": [
    {
     "name": "stdout",
     "output_type": "stream",
     "text": [
      "Please enter your dice score > 1\n",
      "Please enter your dice score > 1\n",
      "Please enter your dice score > 1\n",
      "Please enter your dice score > 1\n",
      "Please enter your dice score > 5\n"
     ]
    },
    {
     "data": {
      "text/plain": [
       "1150"
      ]
     },
     "execution_count": 38,
     "metadata": {},
     "output_type": "execute_result"
    }
   ],
   "source": [
    "lst = [int(input('Please enter your dice score > ')) for i in range(5)]\n",
    "\n",
    "def dice_game(lst):\n",
    "    \n",
    "    dictt = {}\n",
    "    summ = 0\n",
    "\n",
    "    for i in range(1, 7):\n",
    "        a = lst.count(i)\n",
    "        dictt[i] = a\n",
    "    while True:     \n",
    "        for k, v in dictt.items():\n",
    "            if v >= 3:\n",
    "                if k == 1:\n",
    "                    t = 1000\n",
    "                elif k == 6:\n",
    "                    t = 600\n",
    "                elif k == 5:\n",
    "                    t = 500\n",
    "                elif k == 4:\n",
    "                    t = 400\n",
    "                elif k == 3:\n",
    "                    t = 300\n",
    "                elif k == 2:\n",
    "                    t = 200\n",
    "                summ += t\n",
    "                dictt[k] = v - 3\n",
    "                break\n",
    "            elif v >= 1:\n",
    "                if k == 1:\n",
    "                    t = 100\n",
    "                elif k == 5:\n",
    "                    t = 50\n",
    "                else:\n",
    "                    t = 0\n",
    "                summ += t\n",
    "                dictt[k] = v - 1\n",
    "                break\n",
    "\n",
    "        cond = [0 if v == 0 else v for k, v in dictt.items()]\n",
    "        if cond == [0 for i in range(6)]:\n",
    "            break\n",
    "\n",
    "    return summ\n",
    "\n",
    "dice_game(lst)"
   ]
  },
  {
   "cell_type": "code",
   "execution_count": null,
   "metadata": {},
   "outputs": [],
   "source": []
  }
 ],
 "metadata": {
  "kernelspec": {
   "display_name": "Python 3 (ipykernel)",
   "language": "python",
   "name": "python3"
  },
  "language_info": {
   "codemirror_mode": {
    "name": "ipython",
    "version": 3
   },
   "file_extension": ".py",
   "mimetype": "text/x-python",
   "name": "python",
   "nbconvert_exporter": "python",
   "pygments_lexer": "ipython3",
   "version": "3.8.5"
  }
 },
 "nbformat": 4,
 "nbformat_minor": 4
}
