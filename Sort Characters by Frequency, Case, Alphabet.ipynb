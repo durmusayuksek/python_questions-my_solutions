{
 "cells": [
  {
   "cell_type": "markdown",
   "metadata": {},
   "source": [
    "```\n",
    "The function is given a string. Sort the characters and return a new string. Sorting conditions:\n",
    "\n",
    "Most frequent move in front.\n",
    "For the same frequency upper case characters move in front.\n",
    "For the same frequency and case sort them alphabetically.\n",
    "\n",
    "Examples\n",
    "\n",
    "frequency_sort(\"tree\") ➞ \"eert\"\n",
    "\n",
    "frequency_sort(\"cccaaa\") ➞ \"aaaccc\"\n",
    "\n",
    "frequency_sort(\"Aabb\") ➞ \"bbAa\"\n",
    "```"
   ]
  },
  {
   "cell_type": "code",
   "execution_count": 77,
   "metadata": {},
   "outputs": [
    {
     "data": {
      "text/plain": [
       "'AAAAaaaaBBBbbffd'"
      ]
     },
     "execution_count": 77,
     "metadata": {},
     "output_type": "execute_result"
    }
   ],
   "source": [
    "from operator import itemgetter\n",
    "\n",
    "def sort_characters(text):\n",
    "    dictt, result = {}, ''\n",
    "    for i in text:\n",
    "        dictt[i] = dictt.get(i, 0) + 1\n",
    "    dictt = sorted(dictt.items(), key=lambda x:x[1], reverse=True)\n",
    "\n",
    "    while True:\n",
    "        res = []\n",
    "        x = dictt[0][1]\n",
    "        i = 0\n",
    "        while True:\n",
    "            if dictt[i][1] == x:\n",
    "                res.append(dictt[i])\n",
    "                dictt.pop(i)\n",
    "            else:\n",
    "                i += 1\n",
    "            if len(dictt) == 0 or len(dictt) == i:\n",
    "                break\n",
    "\n",
    "        resa = sorted(res, key=itemgetter(0))\n",
    "        for i in resa:\n",
    "            for j in range(i[1]):\n",
    "                result += i[0]\n",
    "\n",
    "        if len(dictt) == 0:\n",
    "            break\n",
    "    return result\n",
    "\n",
    "sort_characters('AabbBBBAAAaaaffd')"
   ]
  },
  {
   "cell_type": "code",
   "execution_count": null,
   "metadata": {},
   "outputs": [],
   "source": []
  }
 ],
 "metadata": {
  "kernelspec": {
   "display_name": "Python 3 (ipykernel)",
   "language": "python",
   "name": "python3"
  },
  "language_info": {
   "codemirror_mode": {
    "name": "ipython",
    "version": 3
   },
   "file_extension": ".py",
   "mimetype": "text/x-python",
   "name": "python",
   "nbconvert_exporter": "python",
   "pygments_lexer": "ipython3",
   "version": "3.8.5"
  }
 },
 "nbformat": 4,
 "nbformat_minor": 4
}
