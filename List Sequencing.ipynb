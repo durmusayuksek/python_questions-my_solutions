{
 "cells": [
  {
   "cell_type": "markdown",
   "metadata": {},
   "source": [
    "Hello Friends, happy holidays again. Make a solution that takes a list of numbers or strings and returns a list with the items from the original list stored into sublists. Items of the same value should be in the same sublist. Examples\n",
    "[2, 1, 2, 1] ➞ [[2, 2], [1, 1]], [5, 4, 5, 5, 4, 3] ➞ [[5, 5, 5], [4, 4], [3]], [\"b\", \"a\", \"b\", \"a\", \"c\"] ➞ [[\"b\", \"b\"], [\"a\", \"a\"], [\"c\"]]\n",
    "Notes\n",
    "The sublists should be returned in the order of each element's first appearance in the given list."
   ]
  },
  {
   "cell_type": "code",
   "execution_count": 12,
   "metadata": {},
   "outputs": [
    {
     "name": "stdout",
     "output_type": "stream",
     "text": [
      "[[1, 1, 1, 1, 1, 1], ['a', 'a', 'a', 'a'], [2, 2, 2, 2, 2, 2], ['b', 'b', 'b'], ['c', 'c', 'c', 'c']]\n"
     ]
    }
   ],
   "source": [
    "dictt = {}\n",
    "list = [1, 'a', 2, 'b', 1, 'c', 2, 1, 'a', 'c', 2, 1, 2, 2, 1, 'a', 'b', 'a', 'b', 1, 2, 'c', 'c']\n",
    "for i in list:\n",
    "    if i not in dictt:\n",
    "        dictt[i] = [i]\n",
    "    else:\n",
    "        dictt[i].append(i)\n",
    "result = [i for i in dictt.values()]\n",
    "print(result)"
   ]
  },
  {
   "cell_type": "code",
   "execution_count": null,
   "metadata": {},
   "outputs": [],
   "source": []
  }
 ],
 "metadata": {
  "kernelspec": {
   "display_name": "Python 3",
   "language": "python",
   "name": "python3"
  },
  "language_info": {
   "codemirror_mode": {
    "name": "ipython",
    "version": 3
   },
   "file_extension": ".py",
   "mimetype": "text/x-python",
   "name": "python",
   "nbconvert_exporter": "python",
   "pygments_lexer": "ipython3",
   "version": "3.8.5"
  }
 },
 "nbformat": 4,
 "nbformat_minor": 4
}
