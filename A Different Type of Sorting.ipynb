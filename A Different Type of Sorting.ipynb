{
 "cells": [
  {
   "cell_type": "code",
   "execution_count": 45,
   "metadata": {},
   "outputs": [
    {
     "data": {
      "text/plain": [
       "[(9, 1, 4, 0),\n",
       " (7, 8, 3, 1),\n",
       " (3, 7, 5, 2),\n",
       " (6, 6, 6, 3),\n",
       " (7, 6, 2, 3),\n",
       " (1, 0, 4, 5)]"
      ]
     },
     "execution_count": 45,
     "metadata": {},
     "output_type": "execute_result"
    }
   ],
   "source": [
    "def sorting(lst, ind):\n",
    "    count, n, res, resa = 0, 0, [], []\n",
    "    for i in lst:\n",
    "        a = i[ind]\n",
    "        res.append((a, count))\n",
    "        count += 1\n",
    "\n",
    "    while n < len(lst):\n",
    "        resas = []\n",
    "        minn = res[0][0]\n",
    "        for k, v in res:\n",
    "            if k <= minn:\n",
    "                minn = k\n",
    "                ind2 = v\n",
    "        for k, v in res:\n",
    "            if k == minn and v == ind2:\n",
    "                resa.append(lst[ind2])\n",
    "            else:\n",
    "                resas.append((k,v))  \n",
    "        res = resas\n",
    "        n += 1\n",
    "\n",
    "    return resa\n",
    "\n",
    "sorting([(7,8,3,1), (3,7,5,2), (9,1,4,0), (7,6,2,3), (6,6,6,3), (1,0,4,5)], 3)"
   ]
  },
  {
   "cell_type": "code",
   "execution_count": null,
   "metadata": {},
   "outputs": [],
   "source": []
  }
 ],
 "metadata": {
  "kernelspec": {
   "display_name": "Python 3",
   "language": "python",
   "name": "python3"
  },
  "language_info": {
   "codemirror_mode": {
    "name": "ipython",
    "version": 3
   },
   "file_extension": ".py",
   "mimetype": "text/x-python",
   "name": "python",
   "nbconvert_exporter": "python",
   "pygments_lexer": "ipython3",
   "version": "3.7.6"
  }
 },
 "nbformat": 4,
 "nbformat_minor": 4
}
