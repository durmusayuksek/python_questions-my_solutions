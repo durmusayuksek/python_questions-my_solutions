{
 "cells": [
  {
   "cell_type": "markdown",
   "metadata": {
    "id": "DpXjn6Vd9Yw6"
   },
   "source": [
    "1- Write a program to prompt for a score between 0.0 and 1.0. If the score is out of range, print an error. If the score is between 0.0 and 1.0, print a grade using the following table: Score Grade\n",
    "\n",
    "0.9 A\n",
    "\n",
    "0.8 B\n",
    "\n",
    "0.7 C\n",
    "\n",
    "0.6 D\n",
    "\n",
    "0.6 F\n",
    "\n",
    "If the user enters a value out of range, print a suitable error message and exit. For the test, enter a score of 0.85"
   ]
  },
  {
   "cell_type": "code",
   "execution_count": 6,
   "metadata": {},
   "outputs": [
    {
     "name": "stdout",
     "output_type": "stream",
     "text": [
      "Enter a score > 1.1\n",
      "You entered a value that is out of range.\n",
      "Have a nice day!\n"
     ]
    }
   ],
   "source": [
    "score = float(input('Enter a score > '))\n",
    "if score < 0.0 or score > 1.0:\n",
    "    print('You entered a value that is out of range.')\n",
    "else:\n",
    "    if score >= 0.9:\n",
    "        print('A')\n",
    "    elif score >= 0.8:\n",
    "        print('B')\n",
    "    elif score >= 0.7:\n",
    "        print('C')\n",
    "    elif score >= 0.6:\n",
    "        print('D')\n",
    "    else:\n",
    "        print('F')\n",
    "print('Have a nice day!')"
   ]
  },
  {
   "cell_type": "markdown",
   "metadata": {
    "id": "k7W9-BOA9n7O"
   },
   "source": [
    "2- Yazi olarak girilen string ifadenin içindeki harfler tamamen büyük veya tamamen küçük ise True, küçük ve büyük harlerden oluşmuş ise False veren bir fonksiyon yazalım."
   ]
  },
  {
   "cell_type": "code",
   "execution_count": 9,
   "metadata": {},
   "outputs": [
    {
     "data": {
      "text/plain": [
       "False"
      ]
     },
     "execution_count": 9,
     "metadata": {},
     "output_type": "execute_result"
    }
   ],
   "source": [
    "def tamamen(text):\n",
    "    text2 = text.swapcase()\n",
    "    if text2 == text.upper() or text2 == text.lower():\n",
    "        return True\n",
    "    else:\n",
    "        return False\n",
    "tamamen('SLKJDLKjF')"
   ]
  },
  {
   "cell_type": "markdown",
   "metadata": {
    "id": "6PFwqEFO9nxy"
   },
   "source": [
    "3- Sayıyı kalansız bölen sayıları bulan bir fonksiyon yazalım"
   ]
  },
  {
   "cell_type": "code",
   "execution_count": 12,
   "metadata": {},
   "outputs": [
    {
     "data": {
      "text/plain": [
       "[1, 7, 11, 71, 77, 497, 781, 5467]"
      ]
     },
     "execution_count": 12,
     "metadata": {},
     "output_type": "execute_result"
    }
   ],
   "source": [
    "def kalansiz(num):\n",
    "    liste = []\n",
    "    for i in range(1, num + 1):\n",
    "        if num % i == 0:\n",
    "            liste.append(i)\n",
    "    return liste\n",
    "kalansiz(5467)"
   ]
  },
  {
   "cell_type": "markdown",
   "metadata": {
    "id": "rgWFi-lZ9noI"
   },
   "source": [
    "4- Cümlenin içindeki sesli harfleri kaldıran bir fonksiyon yazalım.\n",
    "print(sessiz_yap(\"Hayat beni neden yoruyosun?:)\")) --> hyt bn ndn yrysn?:)"
   ]
  },
  {
   "cell_type": "code",
   "execution_count": 15,
   "metadata": {},
   "outputs": [
    {
     "name": "stdout",
     "output_type": "stream",
     "text": [
      "Hyt bn ndn yrysn?:)\n"
     ]
    }
   ],
   "source": [
    "def sessiz_yap(text):\n",
    "    sesli = ['a', 'e', 'i', 'u', 'o']\n",
    "    for i in text:\n",
    "        if i in sesli:\n",
    "            text = text.replace(i, '', 1)\n",
    "    return text\n",
    "print(sessiz_yap(\"Hayat beni neden yoruyosun?:)\"))"
   ]
  },
  {
   "cell_type": "markdown",
   "metadata": {
    "id": "yxwOQSQe9ne1"
   },
   "source": [
    "5- Tarihi yüzyıla çeviren bir fonksiyon yazalım.\n",
    "print(yüzyıl_yap(1738)) --> 18. yüzyıl"
   ]
  },
  {
   "cell_type": "code",
   "execution_count": 17,
   "metadata": {},
   "outputs": [
    {
     "name": "stdout",
     "output_type": "stream",
     "text": [
      "18. yuzyil\n"
     ]
    }
   ],
   "source": [
    "def yuzyil(num):\n",
    "    yil = num // 100\n",
    "    yil += 1\n",
    "    return f'{yil}. yuzyil'\n",
    "\n",
    "print(yuzyil(1738))"
   ]
  },
  {
   "cell_type": "markdown",
   "metadata": {
    "id": "Y4qLf-_89nL4"
   },
   "source": [
    "6- Yazının içersindeki kelimelerin ilk ve son karakterleri sabit tutup diğer karakterleri yerine - çizgi koyan fonksiyon yazalım.\n",
    "print(dönüstür(\"hello world\")) --> h---o w---d "
   ]
  },
  {
   "cell_type": "code",
   "execution_count": 34,
   "metadata": {},
   "outputs": [
    {
     "name": "stdout",
     "output_type": "stream",
     "text": [
      "h---o w---d\n"
     ]
    }
   ],
   "source": [
    "def donustur(text):\n",
    "    yeni = ''\n",
    "    result = ''\n",
    "    yenii = []\n",
    "    text = text.split()\n",
    "    for i in text:\n",
    "        for j in range(len(i)):\n",
    "            if j == 0 or j == len(i) - 1:\n",
    "                yeni += i[j]\n",
    "                pass\n",
    "            else:\n",
    "                yeni += '-'\n",
    "        yenii.append(yeni)\n",
    "        yeni = ''\n",
    "    for i in yenii:\n",
    "        result += i + ' '\n",
    "    result = result.strip()\n",
    "    return result\n",
    "      \n",
    "print(donustur(\"hello world\"))"
   ]
  },
  {
   "cell_type": "markdown",
   "metadata": {
    "id": "mEPc7d0Z9nAI"
   },
   "source": [
    "7- Her girdi listesinde iki tanesi hariç her rakam en az bir kere tekrarlıyor.iki benzersiz sayıyı döndüren bir fonksiyon yazalım.\n",
    "benzersizi_bul([2,2,3,11,3,6,5]) --> [6, 5]  # 11 te 2 tane 1 var"
   ]
  },
  {
   "cell_type": "code",
   "execution_count": 43,
   "metadata": {},
   "outputs": [
    {
     "data": {
      "text/plain": [
       "[6, 5]"
      ]
     },
     "execution_count": 43,
     "metadata": {},
     "output_type": "execute_result"
    }
   ],
   "source": [
    "def benzersiz(liste):\n",
    "    yeni = []\n",
    "    for i in liste:\n",
    "        k = str(i)\n",
    "        if not liste.count(i) > 1:\n",
    "            yeni.append(i)\n",
    "        if len(k) > 1:\n",
    "            if str(i) == k[::-1]:\n",
    "                yeni.pop()\n",
    "        \n",
    "    return yeni\n",
    "\n",
    "benzersiz([2,2,3,11,3,6,5])"
   ]
  },
  {
   "cell_type": "markdown",
   "metadata": {
    "id": "GMgm2Jhu9mQj"
   },
   "source": [
    "8- Bir stringi(kelime) alan ve birbirini izleyen aynı harfleri çıkaran bir fonksiyon oluşturun.\n",
    "print(cıkar(\"mmmeeerrhhhaaabbbaaa\")) --> merhaba"
   ]
  },
  {
   "cell_type": "code",
   "execution_count": 12,
   "metadata": {},
   "outputs": [
    {
     "name": "stdout",
     "output_type": "stream",
     "text": [
      "m\n",
      "me\n",
      "mer\n"
     ]
    },
    {
     "data": {
      "text/plain": [
       "'merh'"
      ]
     },
     "execution_count": 12,
     "metadata": {},
     "output_type": "execute_result"
    }
   ],
   "source": [
    "def cikar(text):\n",
    "    liste = []\n",
    "    toplam = ''\n",
    "    for i in text:\n",
    "        if liste == []:\n",
    "            liste.append(i)\n",
    "        else:\n",
    "            if i == liste[-1]:\n",
    "                liste.append(i)\n",
    "            else:\n",
    "                liste = set(liste)\n",
    "                toplam += ''.join(liste)\n",
    "                print(toplam)\n",
    "                liste = []\n",
    "                liste.append(i)\n",
    "    toplam += text[-1]\n",
    "    return toplam\n",
    "cikar(\"mmmeeerrhhh\")"
   ]
  },
  {
   "cell_type": "markdown",
   "metadata": {
    "id": "3oD9kK_q9mBH"
   },
   "source": [
    "9- Belirli aralıkta(sınırlar dahil) verilen rakamın kaç kere olduğunu sayan bir fonksiyon yazalım. print(kac_tane(50,55,5)) --> 7"
   ]
  },
  {
   "cell_type": "code",
   "execution_count": 15,
   "metadata": {},
   "outputs": [
    {
     "data": {
      "text/plain": [
       "12"
      ]
     },
     "execution_count": 15,
     "metadata": {},
     "output_type": "execute_result"
    }
   ],
   "source": [
    "def kac_tane(x, y, z):\n",
    "    toplam = 0\n",
    "    for i in range(x, y + 1):\n",
    "        i = str(i)\n",
    "        countt = i.count(str(z))\n",
    "        toplam += countt\n",
    "    return toplam\n",
    "\n",
    "kac_tane(50, 65, 5)"
   ]
  },
  {
   "cell_type": "markdown",
   "metadata": {
    "id": "n1Tuy6szEGR8"
   },
   "source": [
    "10- Yüksekliği verilen yılbaşı ağacını oluşturan bir fonksiyon yazalım. agac(7)\n",
    "\n",
    "\n",
    "```\n",
    "      #      \n",
    "     ###     \n",
    "    #####    \n",
    "   #######   \n",
    "  #########  \n",
    " ########### \n",
    "############# \n",
    "```\n",
    "\n"
   ]
  },
  {
   "cell_type": "code",
   "execution_count": 20,
   "metadata": {},
   "outputs": [
    {
     "name": "stdout",
     "output_type": "stream",
     "text": [
      "         #\n",
      "        ###\n",
      "       #####\n",
      "      #######\n",
      "     #########\n",
      "    ###########\n",
      "   #############\n",
      "  ###############\n",
      " #################\n",
      "###################\n"
     ]
    }
   ],
   "source": [
    "def agac(num):\n",
    "    baslangic = 1\n",
    "    aralik = num - 1\n",
    "    for i in range(num):\n",
    "        print((' '* aralik) + ('#' * baslangic))\n",
    "        baslangic += 2\n",
    "        aralik -= 1\n",
    "        \n",
    "agac(10)"
   ]
  },
  {
   "cell_type": "code",
   "execution_count": null,
   "metadata": {},
   "outputs": [],
   "source": []
  }
 ],
 "metadata": {
  "colab": {
   "name": "group_2.ipynb",
   "provenance": []
  },
  "kernelspec": {
   "display_name": "Python 3 (ipykernel)",
   "language": "python",
   "name": "python3"
  },
  "language_info": {
   "codemirror_mode": {
    "name": "ipython",
    "version": 3
   },
   "file_extension": ".py",
   "mimetype": "text/x-python",
   "name": "python",
   "nbconvert_exporter": "python",
   "pygments_lexer": "ipython3",
   "version": "3.8.5"
  }
 },
 "nbformat": 4,
 "nbformat_minor": 1
}
