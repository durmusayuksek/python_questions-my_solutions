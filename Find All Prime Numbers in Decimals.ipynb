{
 "cells": [
  {
   "cell_type": "markdown",
   "metadata": {},
   "source": [
    "```\n",
    "Create a function that takes an integer argument and returns a list of prime numbers found in the decimal representation of that number (not factors).\n",
    "\n",
    "For example, extract_primes(1717) returns [7, 7, 17, 17, 71].\n",
    "\n",
    "The list should be in acending order. If a prime number appears more than once, every occurance should be listed. If no prime numbers are found, return an empty list.\n",
    "\n",
    "Examples\n",
    "extract_primes(1) ➞ []\n",
    "\n",
    "extract_primes(7) ➞ [7]\n",
    "\n",
    "extract_primes(73) ➞ [3, 7, 73]\n",
    "\n",
    "extract_primes(103) ➞ [3]\n",
    "\n",
    "extract_primes(1313) ➞ [3, 3, 13, 13, 31, 131, 313]\n",
    "Notes\n",
    "All test cases are positive real integers.\n",
    "Some numbers will have leading zeros. For example, the number 103 contains the prime number 3, but also contains 03. These should be treated as the same number, so the result would simply be [3].\n",
    "```"
   ]
  },
  {
   "cell_type": "code",
   "execution_count": 68,
   "metadata": {},
   "outputs": [
    {
     "data": {
      "text/plain": [
       "[3, 3, 13, 13, 31, 131, 313]"
      ]
     },
     "execution_count": 68,
     "metadata": {},
     "output_type": "execute_result"
    }
   ],
   "source": [
    "def prime(n):\n",
    "    asal = [i for i in range(1, n + 1) if n % i == 0]\n",
    "    if asal == [1, n]: return True\n",
    "    else: return False\n",
    "\n",
    "def all_prime(m):\n",
    "    a, b, c, d, res, result = 0, 1, 1, len(str(m)), [], []\n",
    "    while True:\n",
    "        cikar = str(m)[a:b]\n",
    "        res.append(cikar)\n",
    "        a += 1\n",
    "        b += 1\n",
    "        if len(res) == d:\n",
    "            result.extend(res)\n",
    "            res = []\n",
    "            a = 0\n",
    "            c += 1\n",
    "            b = c\n",
    "            d -= 1\n",
    "        if d == 0:\n",
    "            break\n",
    "    result = [i for i in result if not i.startswith('0')]\n",
    "    result = [int(i) for i in result if prime(int(i))]\n",
    "    return sorted(result)\n",
    "\n",
    "all_prime(1313)"
   ]
  },
  {
   "cell_type": "code",
   "execution_count": null,
   "metadata": {},
   "outputs": [],
   "source": []
  }
 ],
 "metadata": {
  "kernelspec": {
   "display_name": "Python 3 (ipykernel)",
   "language": "python",
   "name": "python3"
  },
  "language_info": {
   "codemirror_mode": {
    "name": "ipython",
    "version": 3
   },
   "file_extension": ".py",
   "mimetype": "text/x-python",
   "name": "python",
   "nbconvert_exporter": "python",
   "pygments_lexer": "ipython3",
   "version": "3.8.5"
  }
 },
 "nbformat": 4,
 "nbformat_minor": 4
}
