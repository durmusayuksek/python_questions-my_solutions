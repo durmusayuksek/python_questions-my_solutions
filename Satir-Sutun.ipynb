{
 "cells": [
  {
   "cell_type": "markdown",
   "metadata": {},
   "source": [
    "Girdi olarak m (satır) ve n (sütun) olmak üzere iki rakamı alan ve iki boyutlu bir dizi oluşturan bir Python programı yazınız. Dizinin i. satırı ve j. sütunundaki eleman değeri i*j olmalıdır.\n",
    "Not :\n",
    "i = 0,1.., m-1\n",
    "j = 0,1, n-1.\n",
    "Test Verisi : Satır = 3, Sütun = 4\n",
    "Beklenen Sonuç : [[0, 0, 0, 0], [0, 1, 2, 3], [0, 2, 4, 6]]"
   ]
  },
  {
   "cell_type": "code",
   "execution_count": 3,
   "metadata": {},
   "outputs": [
    {
     "name": "stdout",
     "output_type": "stream",
     "text": [
      "Satir sayisini giriniz > 4\n",
      "Sutun sayisini giriniz > 4\n",
      "[0, 0, 0, 0]\n",
      "[0, 1, 2, 3]\n",
      "[0, 2, 4, 6]\n",
      "[0, 3, 6, 9]\n"
     ]
    }
   ],
   "source": [
    "satir = int(input('Satir sayisini giriniz > '))\n",
    "sutun = int(input('Sutun sayisini giriniz > '))\n",
    "dictt = {}\n",
    "for i in range(satir):\n",
    "    liste = []\n",
    "    for j in range(sutun):\n",
    "        a = i * j\n",
    "        liste.append(a)\n",
    "        dictt[i] = liste\n",
    "sonuc = [x for x in dictt.values()]\n",
    "for i in sonuc:\n",
    "    print(i)"
   ]
  },
  {
   "cell_type": "code",
   "execution_count": null,
   "metadata": {},
   "outputs": [],
   "source": []
  }
 ],
 "metadata": {
  "kernelspec": {
   "display_name": "Python 3",
   "language": "python",
   "name": "python3"
  },
  "language_info": {
   "codemirror_mode": {
    "name": "ipython",
    "version": 3
   },
   "file_extension": ".py",
   "mimetype": "text/x-python",
   "name": "python",
   "nbconvert_exporter": "python",
   "pygments_lexer": "ipython3",
   "version": "3.8.5"
  }
 },
 "nbformat": 4,
 "nbformat_minor": 4
}
