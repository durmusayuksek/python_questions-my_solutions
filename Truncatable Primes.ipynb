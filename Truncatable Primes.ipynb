{
 "cells": [
  {
   "cell_type": "markdown",
   "metadata": {},
   "source": [
    "```\n",
    "A left-truncatable prime is a prime number that contains no 0 digits and, when the first digit is successively removed, the result is always prime.\n",
    "\n",
    "A right-truncatable prime is a prime number that contains no 0 digits and, when the last digit is successively removed, the result is always prime.\n",
    "\n",
    "Create a function that takes an integer as an argument and:\n",
    "\n",
    "If the integer is only a left-truncatable prime, return \"left\".\n",
    "If the integer is only a right-truncatable prime, return \"right\".\n",
    "If the integer is both, return \"both\".\n",
    "Otherwise, return False.\n",
    "Examples\n",
    "truncatable(9137) ➞ \"left\"\n",
    "# Because 9137, 137, 37 and 7 are all prime.\n",
    "\n",
    "truncatable(5939) ➞ \"right\"\n",
    "# Because 5939, 593, 59 and 5 are all prime.\n",
    "\n",
    "truncatable(317) ➞ \"both\"\n",
    "# Because 317, 17 and 7 are all prime and 317, 31 and 3 are all prime.\n",
    "\n",
    "truncatable(5) ➞ \"both\"\n",
    "# The trivial case of single-digit primes is treated as truncatable from both directions.\n",
    "\n",
    "truncatable(139) ➞ False\n",
    "# 1 and 9 are non-prime, so 139 cannot be truncatable from either direction.\n",
    "\n",
    "truncatable(103) ➞ False\n",
    "# Because it contains a 0 digit (even though 103 and 3 are primes).\n",
    "```"
   ]
  },
  {
   "cell_type": "code",
   "execution_count": 14,
   "metadata": {},
   "outputs": [
    {
     "data": {
      "text/plain": [
       "'Left'"
      ]
     },
     "execution_count": 14,
     "metadata": {},
     "output_type": "execute_result"
    }
   ],
   "source": [
    "def prime(n):\n",
    "    bol = [i for i in range(1, n + 1) if n % i == 0]\n",
    "    return True if bol == [1, n] else False\n",
    "\n",
    "def truncatable(num):\n",
    "    if '0' in str(num):\n",
    "        return False\n",
    "    elif num in [2, 3, 5, 7]:\n",
    "        return 'Both'\n",
    "    elif prime(num):\n",
    "        left = True\n",
    "        for i in range(1, len(str(num))):\n",
    "            if not prime(int(str(num)[i:])):\n",
    "                left = False\n",
    "                break\n",
    "        right = True\n",
    "        for i in range(-2, -len(str(num)) - 1, -1):\n",
    "            if not prime(int(str(num)[i::-1][::-1])):\n",
    "                right = False\n",
    "                break\n",
    "        if right and left:\n",
    "            return 'Both'\n",
    "        elif right:\n",
    "            return 'Right'\n",
    "        elif left:\n",
    "            return 'Left'\n",
    "        elif not right and not left:\n",
    "            return False\n",
    "    else:\n",
    "        return False\n",
    "\n",
    "truncatable(9137)"
   ]
  },
  {
   "cell_type": "code",
   "execution_count": null,
   "metadata": {},
   "outputs": [],
   "source": []
  }
 ],
 "metadata": {
  "kernelspec": {
   "display_name": "Python 3 (ipykernel)",
   "language": "python",
   "name": "python3"
  },
  "language_info": {
   "codemirror_mode": {
    "name": "ipython",
    "version": 3
   },
   "file_extension": ".py",
   "mimetype": "text/x-python",
   "name": "python",
   "nbconvert_exporter": "python",
   "pygments_lexer": "ipython3",
   "version": "3.8.5"
  }
 },
 "nbformat": 4,
 "nbformat_minor": 4
}
