{
 "cells": [
  {
   "cell_type": "markdown",
   "metadata": {},
   "source": [
    "Bu işlemler bakiye sorgulama, para yatırma, para çekme ve çıkış işlemlerini yapmasını istiyoruz. 1 tuşuna basınca Bakiye Sorgulama 2 tuşuna basınca Para Yatırma 3 tuşuna basınca Para Çekme ve q tuşuna basınca Çıkış işlemlerini yapmasını istiyoruz. Başlangıç bakiyesi 1000 TL olsun örneğin. birde \"q\" çıkış tuşuna basana kadar sürekli hangi işlemi yapacağımızı sorsun, ayrıca belirttiğimiz sayıdan ve \"q\" dan başka brişey girerse kullanıcı hata versin ve tekrar sorsun işlemin ne olduğunu... Kolay Gelsin..."
   ]
  },
  {
   "cell_type": "code",
   "execution_count": 23,
   "metadata": {},
   "outputs": [
    {
     "name": "stdout",
     "output_type": "stream",
     "text": [
      "\n",
      "    ******************************\n",
      "    Welcome to Clarusway Bank\n",
      "\n",
      "    1. Bakiye Sorgulama\n",
      "    2. Para Yatirma\n",
      "    3. Para Cekme\n",
      "\n",
      "    Cikis icin 'q' tusuna basiniz.\n",
      "    ******************************\n",
      "    \n",
      "Yapmak istediginiz islemin numarasini giriniz > 1\n",
      "\n",
      "\n",
      "\n",
      "\u001b[94mKalan bakiyeniz 1000 TL'dir.\u001b[0;0m\n",
      "\n",
      "    ******************************\n",
      "    Welcome to Clarusway Bank\n",
      "\n",
      "    1. Bakiye Sorgulama\n",
      "    2. Para Yatirma\n",
      "    3. Para Cekme\n",
      "\n",
      "    Cikis icin 'q' tusuna basiniz.\n",
      "    ******************************\n",
      "    \n",
      "Yapmak istediginiz islemin numarasini giriniz > q\n",
      "\n",
      "\n",
      "\n",
      "\u001b[94mClarusway Bank Iyi Gunler Diler.\u001b[0;0m\n"
     ]
    }
   ],
   "source": [
    "dongu = True\n",
    "bakiye = 1000\n",
    "start = '\\033[94m'\n",
    "end = \"\\033[0;0m\"\n",
    "while dongu: \n",
    "    print('''\n",
    "    ******************************\n",
    "    Welcome to Clarusway Bank\n",
    "\n",
    "    1. Bakiye Sorgulama\n",
    "    2. Para Yatirma\n",
    "    3. Para Cekme\n",
    "\n",
    "    Cikis icin 'q' tusuna basiniz.\n",
    "    ******************************\n",
    "    ''')\n",
    "\n",
    "    islem = input('Yapmak istediginiz islemin numarasini giriniz > ')\n",
    "    print()\n",
    "    print()\n",
    "    print()\n",
    "    if islem == '1':\n",
    "        print(start + f\"Kalan bakiyeniz {bakiye} TL'dir.\" + end)\n",
    "    elif islem == '2':\n",
    "        yatis = int(input('Yatirmak istediginiz miktari giriniz > '))\n",
    "        bakiye = bakiye + yatis\n",
    "    elif islem == '3':\n",
    "        cekim = int(input('Cekmek istediginiz miktari giriniz >'))\n",
    "        bakiye = bakiye - cekim\n",
    "    elif islem.lower() == 'q':\n",
    "        print(start + 'Clarusway Bank Iyi Gunler Diler.' + end)\n",
    "        dongu = False\n",
    "    else:\n",
    "        print(start + 'Lutfen girdiginiz islem numarasini kontrol ederek tekrar giris yapiniz.' + end)"
   ]
  },
  {
   "cell_type": "code",
   "execution_count": null,
   "metadata": {},
   "outputs": [],
   "source": []
  }
 ],
 "metadata": {
  "kernelspec": {
   "display_name": "Python 3",
   "language": "python",
   "name": "python3"
  },
  "language_info": {
   "codemirror_mode": {
    "name": "ipython",
    "version": 3
   },
   "file_extension": ".py",
   "mimetype": "text/x-python",
   "name": "python",
   "nbconvert_exporter": "python",
   "pygments_lexer": "ipython3",
   "version": "3.8.5"
  }
 },
 "nbformat": 4,
 "nbformat_minor": 4
}
