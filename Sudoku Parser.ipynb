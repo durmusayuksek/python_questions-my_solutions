{
 "cells": [
  {
   "cell_type": "markdown",
   "metadata": {},
   "source": [
    "```\n",
    "Create a class Sudoku that takes a string as an argument. The string will contain the numbers of a regular 9x9 sudoku board left to right and top to bottom, with zeros filling up the empty cells.\n",
    "\n",
    "Attributes\n",
    "An instance of the class Sudoku will have one attribute:\n",
    "\n",
    "board: a list representing the board, with sublits for each row, with the numbers as integers. Empty cell represented with 0.\n",
    "Methods\n",
    "An instance of the class Sudoku wil have three methods:\n",
    "\n",
    "get_row(n): will return the row in position n.\n",
    "get_col(n): will return the column in position n.\n",
    "get_sqr([n, m]): will return the square in position n if only one argument is given, and the square to which the cell in position (n, m) belongs to if two arguments are given.\n",
    "\n",
    "game = Sudoku(\"417950030000000700060007000050009106800600000000003400900005000000430000200701580\")\n",
    "\n",
    "game.board ➞ [\n",
    "  [4, 1, 7, 9, 5, 0, 0, 3, 0],\n",
    "  [0, 0, 0, 0, 0, 0, 7, 0, 0],\n",
    "  [0, 6, 0, 0, 0, 7, 0, 0, 0],\n",
    "  [0, 5, 0, 0, 0, 9, 1, 0, 6],\n",
    "  [8, 0, 0, 6, 0, 0, 0, 0, 0],\n",
    "  [0, 0, 0, 0, 0, 3, 4, 0, 0],\n",
    "  [9, 0, 0, 0, 0, 5, 0, 0, 0],\n",
    "  [0, 0, 0, 4, 3, 0, 0, 0, 0],\n",
    "  [2, 0, 0, 7, 0, 1, 5, 8, 0]\n",
    "]\n",
    "\n",
    "game.get_row(0) ➞ [4, 1, 7, 9, 5, 0, 0, 3, 0]\n",
    "game.get_col(8) ➞ [0, 0, 0, 6, 0, 0, 0, 0, 0]\n",
    "game.get_sqr(1) ➞ [9, 5, 0, 0, 0, 0, 0, 0, 7]\n",
    "game.get_sqr(1, 8) ➞ [0, 3, 0, 7, 0, 0, 0, 0, 0]\n",
    "game.get_sqr(8, 3) ➞ [0, 0, 5, 4, 3, 0, 7, 0, 1]\n",
    "```"
   ]
  },
  {
   "cell_type": "code",
   "execution_count": 163,
   "metadata": {},
   "outputs": [],
   "source": [
    "class Sudoku:\n",
    "    def __init__(self, board):\n",
    "        self.board = board\n",
    "        liste = []\n",
    "        while len(self.board) > 0:\n",
    "            new = self.board[:9]\n",
    "            ara = [int(i) for i in self.board[:9]]\n",
    "            liste.append(ara)\n",
    "            self.board = self.board.replace(new, '')\n",
    "        self.board = liste\n",
    "        \n",
    "    def get_row(self, n):\n",
    "        return self.board[n]\n",
    "    \n",
    "    def get_col(self, n):\n",
    "        return list(map(lambda *x : [*x], *self.board))[n]\n",
    "    \n",
    "    def get_sqr(self, n, m = None):\n",
    "        a, b, c, d, e = 0, 0, 0, 3, 0\n",
    "        bir, iki, uc, dort = [], [], [], []\n",
    "        while len(iki) < 9:\n",
    "            bir.append(self.board[a][b])\n",
    "            string = str(a) + str(b)\n",
    "            if len(uc) != 9:\n",
    "                uc.append(string)\n",
    "            else:\n",
    "                dort.append(uc)\n",
    "                uc = []\n",
    "                uc.append(string)\n",
    "            b += 1\n",
    "            if b == d:\n",
    "                a += 1\n",
    "                b = c\n",
    "            if len(bir) == 9:\n",
    "                iki.append(bir)\n",
    "                bir = []\n",
    "                a = e\n",
    "                b += 3\n",
    "                c += 3\n",
    "                d += 3\n",
    "                if len(iki) % 3 == 0:\n",
    "                    b, c, d = 0, 0, 3\n",
    "                    e += 3\n",
    "                    a = e\n",
    "        zipp = list(zip(dort, iki))\n",
    "        if m is None:\n",
    "            return iki[n]\n",
    "        else:\n",
    "            for i in zipp:\n",
    "                if str(n) + str(m) in i[0]:\n",
    "                    return i[1]\n",
    "    \n",
    "game = Sudoku(\"417950030000000700060007000050009106800600000000003400900005000000430000200701580\")\n",
    "game_2 = Sudoku(\"555950030000000700060007000050009106800600000000003400900005000000430000200701555\")"
   ]
  },
  {
   "cell_type": "code",
   "execution_count": 152,
   "metadata": {},
   "outputs": [
    {
     "data": {
      "text/plain": [
       "[[4, 1, 7, 9, 5, 0, 0, 3, 0],\n",
       " [0, 0, 0, 0, 0, 0, 7, 0, 0],\n",
       " [0, 6, 0, 0, 0, 7, 0, 0, 0],\n",
       " [0, 5, 0, 0, 0, 9, 1, 0, 6],\n",
       " [8, 0, 0, 6, 0, 0, 0, 0, 0],\n",
       " [0, 0, 0, 0, 0, 3, 4, 0, 0],\n",
       " [9, 0, 0, 0, 0, 5, 0, 0, 0],\n",
       " [0, 0, 0, 4, 3, 0, 0, 0, 0],\n",
       " [2, 0, 0, 7, 0, 1, 5, 8, 0]]"
      ]
     },
     "execution_count": 152,
     "metadata": {},
     "output_type": "execute_result"
    }
   ],
   "source": [
    "game.board"
   ]
  },
  {
   "cell_type": "code",
   "execution_count": 158,
   "metadata": {},
   "outputs": [
    {
     "data": {
      "text/plain": [
       "[4, 1, 7, 9, 5, 0, 0, 3, 0]"
      ]
     },
     "execution_count": 158,
     "metadata": {},
     "output_type": "execute_result"
    }
   ],
   "source": [
    "game.get_row(0)"
   ]
  },
  {
   "cell_type": "code",
   "execution_count": 159,
   "metadata": {},
   "outputs": [
    {
     "data": {
      "text/plain": [
       "[0, 0, 0, 6, 0, 0, 0, 0, 0]"
      ]
     },
     "execution_count": 159,
     "metadata": {},
     "output_type": "execute_result"
    }
   ],
   "source": [
    "game.get_col(8)"
   ]
  },
  {
   "cell_type": "code",
   "execution_count": 160,
   "metadata": {},
   "outputs": [
    {
     "data": {
      "text/plain": [
       "[9, 5, 0, 0, 0, 0, 0, 0, 7]"
      ]
     },
     "execution_count": 160,
     "metadata": {},
     "output_type": "execute_result"
    }
   ],
   "source": [
    "game.get_sqr(1)"
   ]
  },
  {
   "cell_type": "code",
   "execution_count": 161,
   "metadata": {},
   "outputs": [
    {
     "data": {
      "text/plain": [
       "[0, 3, 0, 7, 0, 0, 0, 0, 0]"
      ]
     },
     "execution_count": 161,
     "metadata": {},
     "output_type": "execute_result"
    }
   ],
   "source": [
    "game.get_sqr(1, 8)"
   ]
  },
  {
   "cell_type": "code",
   "execution_count": 162,
   "metadata": {},
   "outputs": [
    {
     "data": {
      "text/plain": [
       "[0, 0, 5, 4, 3, 0, 7, 0, 1]"
      ]
     },
     "execution_count": 162,
     "metadata": {},
     "output_type": "execute_result"
    }
   ],
   "source": [
    "game.get_sqr(8, 3)"
   ]
  },
  {
   "cell_type": "code",
   "execution_count": 164,
   "metadata": {},
   "outputs": [
    {
     "data": {
      "text/plain": [
       "[[5, 5, 5, 9, 5, 0, 0, 3, 0],\n",
       " [0, 0, 0, 0, 0, 0, 7, 0, 0],\n",
       " [0, 6, 0, 0, 0, 7, 0, 0, 0],\n",
       " [0, 5, 0, 0, 0, 9, 1, 0, 6],\n",
       " [8, 0, 0, 6, 0, 0, 0, 0, 0],\n",
       " [0, 0, 0, 0, 0, 3, 4, 0, 0],\n",
       " [9, 0, 0, 0, 0, 5, 0, 0, 0],\n",
       " [0, 0, 0, 4, 3, 0, 0, 0, 0],\n",
       " [2, 0, 0, 7, 0, 1, 5, 5, 5]]"
      ]
     },
     "execution_count": 164,
     "metadata": {},
     "output_type": "execute_result"
    }
   ],
   "source": [
    "game_2.board"
   ]
  },
  {
   "cell_type": "code",
   "execution_count": 165,
   "metadata": {},
   "outputs": [
    {
     "data": {
      "text/plain": [
       "[5, 5, 5, 9, 5, 0, 0, 3, 0]"
      ]
     },
     "execution_count": 165,
     "metadata": {},
     "output_type": "execute_result"
    }
   ],
   "source": [
    "game_2.get_row(0)"
   ]
  },
  {
   "cell_type": "code",
   "execution_count": null,
   "metadata": {},
   "outputs": [],
   "source": []
  }
 ],
 "metadata": {
  "kernelspec": {
   "display_name": "Python 3 (ipykernel)",
   "language": "python",
   "name": "python3"
  },
  "language_info": {
   "codemirror_mode": {
    "name": "ipython",
    "version": 3
   },
   "file_extension": ".py",
   "mimetype": "text/x-python",
   "name": "python",
   "nbconvert_exporter": "python",
   "pygments_lexer": "ipython3",
   "version": "3.8.5"
  }
 },
 "nbformat": 4,
 "nbformat_minor": 4
}
