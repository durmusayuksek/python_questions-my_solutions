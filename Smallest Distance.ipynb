{
 "cells": [
  {
   "cell_type": "markdown",
   "metadata": {},
   "source": [
    "```\n",
    "Find an efficient algorithm to find the smallest distance (measured in number of words) between any two given words in a string.\n",
    "\n",
    "For example, given words \"hello\", and \"world\" and a text content of \"dog cat hello cat dog dog hello cat world\", return 1 because there's only one word \"cat\" in between the two words.\n",
    "```"
   ]
  },
  {
   "cell_type": "code",
   "execution_count": 26,
   "metadata": {},
   "outputs": [
    {
     "data": {
      "text/plain": [
       "1"
      ]
     },
     "execution_count": 26,
     "metadata": {},
     "output_type": "execute_result"
    }
   ],
   "source": [
    "def smallest_distance(w1, w2, text):\n",
    "    res1, res2 = [], []\n",
    "    t = text.split()\n",
    "    z = list(enumerate(t))\n",
    "    for k,v in z:\n",
    "        if v == w1:\n",
    "            res1.append(k)\n",
    "        elif v == w2:\n",
    "            res2.append(k)\n",
    "\n",
    "    dist = len(t) - 2\n",
    "    for i in res1:\n",
    "        for j in res2:\n",
    "            if abs(i - j) <= dist:\n",
    "                dist = abs(i - j) - 1\n",
    "\n",
    "    return dist\n",
    "\n",
    "smallest_distance('hello', 'world', 'dog cat hello cat dog dog hello cat world')"
   ]
  },
  {
   "cell_type": "code",
   "execution_count": null,
   "metadata": {},
   "outputs": [],
   "source": []
  }
 ],
 "metadata": {
  "kernelspec": {
   "display_name": "Python 3 (ipykernel)",
   "language": "python",
   "name": "python3"
  },
  "language_info": {
   "codemirror_mode": {
    "name": "ipython",
    "version": 3
   },
   "file_extension": ".py",
   "mimetype": "text/x-python",
   "name": "python",
   "nbconvert_exporter": "python",
   "pygments_lexer": "ipython3",
   "version": "3.8.5"
  }
 },
 "nbformat": 4,
 "nbformat_minor": 4
}
