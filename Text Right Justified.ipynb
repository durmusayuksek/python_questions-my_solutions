{
 "cells": [
  {
   "cell_type": "markdown",
   "metadata": {},
   "source": [
    "```\n",
    "Your task in this Kata is to emulate text justify right in monospace font. You will be given a single-lined text and the expected justification width. The longest word will never be greater than this width.\n",
    "\n",
    "Here are the rules:\n",
    "\n",
    "Use spaces to fill in the gaps on the left side of the words.\n",
    "Each line should contain as many words as possible.\n",
    "Use '\\n' to separate lines.\n",
    "Gap between words can't differ by more than one space.\n",
    "Lines should end with a word not a space.\n",
    "'\\n' is not included in the length of a line.\n",
    "Last line should not contain '\\n'\n",
    "\n",
    "Example with width=30:\n",
    "\n",
    "        Bacon ipsum dolor amet\n",
    "excepteur ut kevin burgdoggen,\n",
    "   shankle cupim dolor officia\n",
    "       ground round id ullamco\n",
    "   deserunt nisi. Commodo tail\n",
    "    qui salami, brisket boudin \n",
    "tri-tip. Labore flank laboris,\n",
    "  cow enim proident aliqua sed\n",
    "      hamburger consequat. Sed\n",
    "     consequat ut non bresaola\n",
    "   capicola shoulder excepteur\n",
    " veniam, bacon kevin. Pastrami\n",
    "   shank laborum est excepteur\n",
    " non eiusmod bresaola flank in\n",
    "nostrud. Corned beef ex pig do\n",
    "   kevin filet mignon in irure\n",
    " deserunt ipsum qui duis short\n",
    "        loin. Beef ribs dolore\n",
    "  meatball officia rump fugiat\n",
    "  in enim corned beef non est.\n",
    "```"
   ]
  },
  {
   "cell_type": "code",
   "execution_count": 12,
   "metadata": {},
   "outputs": [
    {
     "name": "stdout",
     "output_type": "stream",
     "text": [
      "        Bacon ipsum dolor amet\n",
      "excepteur ut kevin burgdoggen,\n",
      "   shankle cupim dolor officia\n",
      "       ground round id ullamco\n",
      "   deserunt nisi. Commodo tail\n",
      "    qui salami, brisket boudin\n",
      "tri-tip. Labore flank laboris,\n",
      "  cow enim proident aliqua sed\n",
      "      hamburger consequat. Sed\n",
      "     consequat ut non bresaola\n",
      "   capicola shoulder excepteur\n",
      " veniam, bacon kevin. Pastrami\n",
      "   shank laborum est excepteur\n",
      " non eiusmod bresaola flank in\n",
      "nostrud. Corned beef ex pig do\n",
      "   kevin filet mignon in irure\n",
      " deserunt ipsum qui duis short\n",
      "        loin. Beef ribs dolore\n",
      "  meatball officia rump fugiat\n",
      "  in enim corned beef non est.\n"
     ]
    }
   ],
   "source": [
    "def kata(text, n):\n",
    "\n",
    "    i, resa = 0, ''\n",
    "\n",
    "    lst = text.split()\n",
    "\n",
    "    while True:\n",
    "        res = ''\n",
    "        while i < len(lst):\n",
    "            if len(res + lst[i]) <= n:\n",
    "                res += lst[i]\n",
    "                i += 1\n",
    "            else:break\n",
    "\n",
    "            if len(res) < n:\n",
    "                res += ' '\n",
    "        res = res.rstrip()\n",
    "        diff = n - len(res)\n",
    "        resa += diff * ' ' + res + '\\n'\n",
    "\n",
    "        if i == len(lst):break\n",
    "    \n",
    "    resa = resa.rstrip('\\n')\n",
    "    return resa\n",
    "\n",
    "print(kata('''Bacon ipsum dolor amet excepteur ut kevin burgdoggen, \n",
    "shankle cupim dolor officia ground round id ullamco deserunt nisi. \n",
    "Commodo tail qui salami, brisket boudin tri-tip. Labore flank laboris, \n",
    "cow enim proident aliqua sed hamburger consequat. Sed consequat ut non \n",
    "bresaola capicola shoulder excepteur veniam, bacon kevin. Pastrami shank \n",
    "laborum est excepteur non eiusmod bresaola flank in nostrud. Corned beef \n",
    "ex pig do kevin filet mignon in irure deserunt ipsum qui duis short loin. \n",
    "Beef ribs dolore meatball officia rump fugiat in enim corned beef non est.''', 30))"
   ]
  },
  {
   "cell_type": "code",
   "execution_count": null,
   "metadata": {},
   "outputs": [],
   "source": []
  }
 ],
 "metadata": {
  "kernelspec": {
   "display_name": "Python 3 (ipykernel)",
   "language": "python",
   "name": "python3"
  },
  "language_info": {
   "codemirror_mode": {
    "name": "ipython",
    "version": 3
   },
   "file_extension": ".py",
   "mimetype": "text/x-python",
   "name": "python",
   "nbconvert_exporter": "python",
   "pygments_lexer": "ipython3",
   "version": "3.8.5"
  }
 },
 "nbformat": 4,
 "nbformat_minor": 4
}
