{
 "cells": [
  {
   "cell_type": "markdown",
   "metadata": {},
   "source": [
    "Create a function that takes a number num and returns each place value in the number."
   ]
  },
  {
   "cell_type": "code",
   "execution_count": 6,
   "metadata": {},
   "outputs": [
    {
     "name": "stdout",
     "output_type": "stream",
     "text": [
      "Enter a number > -444455\n",
      "[-400000, -40000, -4000, -400, -50, -5]\n"
     ]
    }
   ],
   "source": [
    "num = input('Enter a number > ')\n",
    "negative = False\n",
    "result = []\n",
    "sayac = 0\n",
    "if num.startswith('-'):\n",
    "    num = num.lstrip('-')\n",
    "    negative = True\n",
    "leng = len(num)\n",
    "for i in range(leng):\n",
    "    sayi = num[sayac] + '0' * ((leng - 1) - sayac)\n",
    "    if negative:\n",
    "        sayi = -int(sayi)\n",
    "    result.append(int(sayi))\n",
    "    sayac += 1\n",
    "print(result)"
   ]
  },
  {
   "cell_type": "code",
   "execution_count": null,
   "metadata": {},
   "outputs": [],
   "source": []
  }
 ],
 "metadata": {
  "kernelspec": {
   "display_name": "Python 3 (ipykernel)",
   "language": "python",
   "name": "python3"
  },
  "language_info": {
   "codemirror_mode": {
    "name": "ipython",
    "version": 3
   },
   "file_extension": ".py",
   "mimetype": "text/x-python",
   "name": "python",
   "nbconvert_exporter": "python",
   "pygments_lexer": "ipython3",
   "version": "3.8.5"
  }
 },
 "nbformat": 4,
 "nbformat_minor": 4
}
