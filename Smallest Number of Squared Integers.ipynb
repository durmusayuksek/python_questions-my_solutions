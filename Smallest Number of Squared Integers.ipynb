{
 "cells": [
  {
   "cell_type": "markdown",
   "metadata": {},
   "source": [
    "```\n",
    "This problem was asked by Facebook.\n",
    "Given a positive integer n, find the smallest number of squared integers which sum to n.\n",
    "For example, given n = 13, return 2 since 13 = 32 + 22 = 9 + 4.\n",
    "Given n = 27, return 3 since 27 = 32 + 32 + 32 = 9 + 9 + 9.\n",
    "```"
   ]
  },
  {
   "cell_type": "code",
   "execution_count": 11,
   "metadata": {},
   "outputs": [
    {
     "data": {
      "text/plain": [
       "3"
      ]
     },
     "execution_count": 11,
     "metadata": {},
     "output_type": "execute_result"
    }
   ],
   "source": [
    "def squared_integers(n):\n",
    "    \n",
    "    res, resas = [], []\n",
    "    for i in range(1, n + 1):\n",
    "        if i ** 2 <= n:\n",
    "            res.append(i)\n",
    "\n",
    "    while len(res) > 0:\n",
    "        resa = []\n",
    "        summ = 0\n",
    "        while summ < n:\n",
    "            for i in res[::-1]:\n",
    "                if i ** 2 + summ <= n:\n",
    "                    while True:\n",
    "                        summ += i ** 2\n",
    "                        resa.append(i)\n",
    "                        if summ + i ** 2 > n:\n",
    "                            break                     \n",
    "                if summ == n:\n",
    "                    break\n",
    "        resas.append(resa)\n",
    "        res.pop(-1)\n",
    "\n",
    "    return min([len(i) for i in resas])\n",
    "\n",
    "squared_integers(27)"
   ]
  },
  {
   "cell_type": "code",
   "execution_count": null,
   "metadata": {},
   "outputs": [],
   "source": []
  }
 ],
 "metadata": {
  "kernelspec": {
   "display_name": "Python 3 (ipykernel)",
   "language": "python",
   "name": "python3"
  },
  "language_info": {
   "codemirror_mode": {
    "name": "ipython",
    "version": 3
   },
   "file_extension": ".py",
   "mimetype": "text/x-python",
   "name": "python",
   "nbconvert_exporter": "python",
   "pygments_lexer": "ipython3",
   "version": "3.8.5"
  }
 },
 "nbformat": 4,
 "nbformat_minor": 4
}
