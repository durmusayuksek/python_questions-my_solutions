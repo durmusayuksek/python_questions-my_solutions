{
 "cells": [
  {
   "cell_type": "markdown",
   "metadata": {},
   "source": [
    "```\n",
    "Write your solutions. Print square pattern with alphabet symbols: output :\n",
    "A A A A A A A \n",
    "B B B B B B B \n",
    "C C C C C C C \n",
    "D D D D D D D \n",
    "E E E E E E E \n",
    "F F F F F F F \n",
    "G G G G G G G \n",
    "```"
   ]
  },
  {
   "cell_type": "code",
   "execution_count": 45,
   "metadata": {},
   "outputs": [
    {
     "name": "stdout",
     "output_type": "stream",
     "text": [
      "X X X X X X X X X \n",
      "Y Y Y Y Y Y Y Y Y \n",
      "Z Z Z Z Z Z Z Z Z \n",
      "A A A A A A A A A \n",
      "B B B B B B B B B \n",
      "C C C C C C C C C \n",
      "D D D D D D D D D \n",
      "E E E E E E E E E \n",
      "F F F F F F F F F \n"
     ]
    }
   ],
   "source": [
    "harfler = 'ABCDEFGHIJKLMNOPQRSTUVWXYZ'\n",
    "def harf(baslangic, sayi):\n",
    "    a = harfler.find(baslangic) - 0\n",
    "    for i in range(harfler.find(baslangic), sayi + a):\n",
    "        if i > 25:\n",
    "            i = (i - 25) - 1\n",
    "        print ((harfler[i] + ' ') * sayi)\n",
    "\n",
    "harf('X', 9)"
   ]
  },
  {
   "cell_type": "code",
   "execution_count": null,
   "metadata": {},
   "outputs": [],
   "source": []
  }
 ],
 "metadata": {
  "kernelspec": {
   "display_name": "Python 3 (ipykernel)",
   "language": "python",
   "name": "python3"
  },
  "language_info": {
   "codemirror_mode": {
    "name": "ipython",
    "version": 3
   },
   "file_extension": ".py",
   "mimetype": "text/x-python",
   "name": "python",
   "nbconvert_exporter": "python",
   "pygments_lexer": "ipython3",
   "version": "3.8.5"
  }
 },
 "nbformat": 4,
 "nbformat_minor": 4
}
