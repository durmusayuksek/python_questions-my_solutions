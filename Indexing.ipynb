{
 "cells": [
  {
   "cell_type": "markdown",
   "metadata": {},
   "source": [
    "```\n",
    "Given an list of integers nums and an integer target, return indices of the two numbers such that they add up to target.      \n",
    "nums = [2, 7, 11, 15]                         \n",
    "target = 17       \n",
    "The indices 0 and 3 are returned here as the values in the input list 2 and 15 add up to the target value 17.  \n",
    "output:    (0, 3)\n",
    "```"
   ]
  },
  {
   "cell_type": "code",
   "execution_count": 6,
   "metadata": {},
   "outputs": [
    {
     "data": {
      "text/plain": [
       "[(0, 3), (3, 0), (4, 5), (5, 4)]"
      ]
     },
     "execution_count": 6,
     "metadata": {},
     "output_type": "execute_result"
    }
   ],
   "source": [
    "def indeksleme(target, liste):\n",
    "    yeni = []\n",
    "    for i in liste:\n",
    "        other = target - i\n",
    "        if other in liste:\n",
    "            a = (liste.index(i), liste.index(other))\n",
    "            yeni.append(a)\n",
    "    return yeni\n",
    "\n",
    "indeksleme(17, [2, 7, 11, 15, 8, 9])"
   ]
  },
  {
   "cell_type": "code",
   "execution_count": null,
   "metadata": {},
   "outputs": [],
   "source": []
  }
 ],
 "metadata": {
  "kernelspec": {
   "display_name": "Python 3 (ipykernel)",
   "language": "python",
   "name": "python3"
  },
  "language_info": {
   "codemirror_mode": {
    "name": "ipython",
    "version": 3
   },
   "file_extension": ".py",
   "mimetype": "text/x-python",
   "name": "python",
   "nbconvert_exporter": "python",
   "pygments_lexer": "ipython3",
   "version": "3.8.5"
  }
 },
 "nbformat": 4,
 "nbformat_minor": 4
}
