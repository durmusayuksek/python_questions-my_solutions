{
 "cells": [
  {
   "cell_type": "markdown",
   "metadata": {},
   "source": [
    "```\n",
    "Given a list containing three strings, representing the rows of an O's and X's board from top to bottom, return the row and column position of the winning move for X's. Return False if the game cannot be won.\n",
    "\n",
    "Examples\n",
    "\n",
    "x_and_o(board = [\" | | \", \" |X| \", \"X| | \"]) ➞  [1, 3]\n",
    "\n",
    "# Board becomes:\n",
    "#    |   |\n",
    "#    |X |\n",
    "# X |   |\n",
    "\n",
    "x_and_o(board = [\"X|X|O\", \"O|X| \", \"X|O| \"]) ➞ [3, 3]\n",
    "\n",
    "# Board becomes:\n",
    "# X|X|O\n",
    "# O|X|\n",
    "# X|O|\n",
    "\n",
    "Notes\n",
    "There is no 0 index for the row or column.\n",
    "```"
   ]
  },
  {
   "cell_type": "code",
   "execution_count": 70,
   "metadata": {},
   "outputs": [
    {
     "data": {
      "text/plain": [
       "[1, 1]"
      ]
     },
     "execution_count": 70,
     "metadata": {},
     "output_type": "execute_result"
    }
   ],
   "source": [
    "def winning_move(lst):\n",
    "    \n",
    "    lst = [i.split('|') for i in lst]\n",
    "    arr = list(map(lambda *x : [*x], *lst))\n",
    "\n",
    "    for t in [lst, arr]:\n",
    "        for i in range(len(t)):\n",
    "            if t[i].count('X') == 2 or t[i].count('O') == 2:\n",
    "                for j in range(len(t[i])):\n",
    "                    if t[i][j] == ' ':\n",
    "                        return [i+1, j+1]\n",
    "\n",
    "    res1 = [lst[0][0], lst[1][1], lst[2][2]]\n",
    "    res2 = [lst[2][0], lst[1][1], lst[0][2]]\n",
    "\n",
    "    for t in [res1, res2]:\n",
    "        if t.count('X') == 2 or t.count('O') == 2:\n",
    "            for i in range(len(t)):\n",
    "                if t[i] == ' ':\n",
    "                    if t == res1:\n",
    "                        return [i+1, i+1]\n",
    "                    else:\n",
    "                        return [1, 3] if i == 2 else [2, 2] if i == 1 else [3, 1]\n",
    "\n",
    "winning_move([\" | | \", \" |X| \", \" | |X\"])"
   ]
  },
  {
   "cell_type": "code",
   "execution_count": null,
   "metadata": {},
   "outputs": [],
   "source": []
  }
 ],
 "metadata": {
  "kernelspec": {
   "display_name": "Python 3 (ipykernel)",
   "language": "python",
   "name": "python3"
  },
  "language_info": {
   "codemirror_mode": {
    "name": "ipython",
    "version": 3
   },
   "file_extension": ".py",
   "mimetype": "text/x-python",
   "name": "python",
   "nbconvert_exporter": "python",
   "pygments_lexer": "ipython3",
   "version": "3.8.5"
  }
 },
 "nbformat": 4,
 "nbformat_minor": 4
}
