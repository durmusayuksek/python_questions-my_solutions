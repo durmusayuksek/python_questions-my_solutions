{
 "cells": [
  {
   "cell_type": "markdown",
   "metadata": {},
   "source": [
    "```\n",
    "In Nico Cipher, encoding is done by creating a numeric key and assigning each letter position of the message with the provided key.\n",
    "\n",
    "Create a function that takes two arguments, key and message, and returns the encoded message.\n",
    "\n",
    "There are some variations on the rules of encipherment. One version of the cipher rules are outlined below:\n",
    "\n",
    "message = \"mubashirhassan\"\n",
    "key = \"crazy\"\n",
    "\n",
    "nico_cipher(message, key) ➞ \"bmusarhiahass n\"\n",
    "Step 1: Assign numbers to sorted letters from the key:\n",
    "\n",
    "\"crazy\" = 23154\n",
    "\n",
    "Step 2: Assign numbers to the letters of the given message:\n",
    "\n",
    "2 3 1 5 4\n",
    "---------\n",
    "m u b a s\n",
    "h i r h a\n",
    "s s a n\n",
    "\n",
    "Step 3: Sort columns as per assigned numbers:\n",
    "\n",
    "1 2 3 4 5\n",
    "---------\n",
    "b m u s a\n",
    "r h i a h\n",
    "a s s   n\n",
    "\n",
    "Step 4: Return encoded message Rows-wise:\n",
    "\n",
    "eMessage = \"bmusarhiahass n\"\n",
    "\n",
    "Examples\n",
    "\n",
    "nico_cipher(\"mubashirhassan\", \"crazy\") ➞ \"bmusarhiahass n\"\n",
    "\n",
    "nico_cipher(\"edabitisamazing\", \"matt\") ➞ \"deabtiismaaznig \"\n",
    "\n",
    "nico_cipher(\"iloveher\", \"612345\") ➞ \"lovehir    e\"\n",
    "```"
   ]
  },
  {
   "cell_type": "code",
   "execution_count": 58,
   "metadata": {},
   "outputs": [
    {
     "data": {
      "text/plain": [
       "'lovehir    e'"
      ]
     },
     "execution_count": 58,
     "metadata": {},
     "output_type": "execute_result"
    }
   ],
   "source": [
    "def nico_cipher(message, key):\n",
    "    u1 = len(message)\n",
    "    u2 = len(key)\n",
    "    sirali = list(enumerate(sorted(key)))\n",
    "    if round(u1 / u2) == (u1 // u2) + 1:\n",
    "        bol = round(u1 / u2)\n",
    "    else:\n",
    "        bol = round(u1 / u2) + 1\n",
    "    liste, c, d = [], 0, u2\n",
    "    \n",
    "    for i in range(bol):\n",
    "        e = message[c:d]\n",
    "        while len(e) < u2:\n",
    "            e += ' '\n",
    "        liste.append(e)\n",
    "        c += u2\n",
    "        d += u2\n",
    "\n",
    "    res = list(map(lambda *x : [*x], *liste))\n",
    "    resa = list(zip(key, res))\n",
    "\n",
    "    sonuc = []\n",
    "    for k,v in sirali:\n",
    "        for j,t in resa:\n",
    "            if v == j:\n",
    "                if t not in sonuc:\n",
    "                    sonuc.append(t)\n",
    "                    \n",
    "    result = list(map(lambda *x: [*x], *sonuc))\n",
    "    result = ''.join([''.join(i) for i in result])\n",
    "    return result\n",
    "\n",
    "nico_cipher(\"iloveher\", \"612345\")"
   ]
  },
  {
   "cell_type": "code",
   "execution_count": null,
   "metadata": {},
   "outputs": [],
   "source": [
    "\"lovehir    e\""
   ]
  }
 ],
 "metadata": {
  "kernelspec": {
   "display_name": "Python 3 (ipykernel)",
   "language": "python",
   "name": "python3"
  },
  "language_info": {
   "codemirror_mode": {
    "name": "ipython",
    "version": 3
   },
   "file_extension": ".py",
   "mimetype": "text/x-python",
   "name": "python",
   "nbconvert_exporter": "python",
   "pygments_lexer": "ipython3",
   "version": "3.8.5"
  }
 },
 "nbformat": 4,
 "nbformat_minor": 4
}
