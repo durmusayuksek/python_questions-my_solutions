{
 "cells": [
  {
   "cell_type": "markdown",
   "metadata": {},
   "source": [
    "Given a positive number as a string, multiply the number by 11 and also return it as a string."
   ]
  },
  {
   "cell_type": "code",
   "execution_count": 7,
   "metadata": {},
   "outputs": [
    {
     "name": "stdout",
     "output_type": "stream",
     "text": [
      "104211199012633638785785900953\n"
     ]
    }
   ],
   "source": [
    "def multiply_11(num):    \n",
    "    leng = len(num)\n",
    "    basamak = '0'\n",
    "    sonuc = num[::-1][0]\n",
    "    for i in range(leng - 1):\n",
    "        toplam = int(num[::-1][i]) + int(num[::-1][i + 1])\n",
    "        if toplam <= 9:\n",
    "            if toplam + int(basamak) <= 9:\n",
    "                sonuc = str(toplam + int(basamak)) + sonuc\n",
    "                basamak = '0'\n",
    "            else:\n",
    "                sonuc = str(toplam + int(basamak))[1] + sonuc\n",
    "                basamak = '1'\n",
    "        else:\n",
    "            sonuc = str(int(str(toplam)[1]) + int(basamak)) + sonuc\n",
    "            basamak = '1'\n",
    "    sonuc = str(int(num[0]) + int(basamak)) + sonuc \n",
    "    return sonuc\n",
    "\n",
    "print(multiply_11(\"9473745364784876253253263723\"))"
   ]
  }
 ],
 "metadata": {
  "kernelspec": {
   "display_name": "Python 3 (ipykernel)",
   "language": "python",
   "name": "python3"
  },
  "language_info": {
   "codemirror_mode": {
    "name": "ipython",
    "version": 3
   },
   "file_extension": ".py",
   "mimetype": "text/x-python",
   "name": "python",
   "nbconvert_exporter": "python",
   "pygments_lexer": "ipython3",
   "version": "3.8.5"
  }
 },
 "nbformat": 4,
 "nbformat_minor": 4
}
