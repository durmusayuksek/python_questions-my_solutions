{
 "cells": [
  {
   "cell_type": "markdown",
   "metadata": {},
   "source": [
    "```\n",
    "You are a skilled diamondsmith whose business is getting better by the day. Eventually, you decided that you needed to scale to keep up with demand.\n",
    "\n",
    "Build a diamond-cutting machine (i.e. write a function that takes in a positive integer representing the raw stone's carat).\n",
    "\n",
    "The output would be the finished diamond and tag indicating its quality, arranged in a list of two elements.\n",
    "The first element would be a list of lists representing the diamond.\n",
    "The second element would be a string indicating \"perfect cut\" if all the diamond's edges are pointy or \"good cut\" otherwise.\n",
    "\n",
    "Examples\n",
    "\n",
    "diamond(3) ➞ [\n",
    "  [[0, 1, 0],\n",
    "  [1, 0, 1],\n",
    "  [0, 1, 0]],\n",
    "  \"perfect cut\"\n",
    "]\n",
    "\n",
    "# Perfect edge.\n",
    "diamond(4) ➞ [\n",
    "  [[0, 1, 1, 0],\n",
    "  [1, 0, 0, 1],\n",
    "  [0, 1, 1, 0]],\n",
    "  \"good cut\"\n",
    "]\n",
    "\n",
    "# First and last rows had blunt edges with two 1s each.\n",
    "diamond(11) ➞ [\n",
    "  [[0, 0, 0, 0, 0, 1, 0, 0, 0, 0, 0],\n",
    "  [0, 0, 0, 0, 1, 0, 1, 0, 0, 0, 0],\n",
    "  [0, 0, 0, 1, 0, 0, 0, 1, 0, 0, 0],\n",
    "  [0, 0, 1, 0, 0, 0, 0, 0, 1, 0, 0],\n",
    "  [0, 1, 0, 0, 0, 0, 0, 0, 0, 1, 0],\n",
    "  [1, 0, 0, 0, 0, 0, 0, 0, 0, 0, 1],\n",
    "  [0, 1, 0, 0, 0, 0, 0, 0, 0, 1, 0],\n",
    "  [0, 0, 1, 0, 0, 0, 0, 0, 1, 0, 0],\n",
    "  [0, 0, 0, 1, 0, 0, 0, 1, 0, 0, 0],\n",
    "  [0, 0, 0, 0, 1, 0, 1, 0, 0, 0, 0],\n",
    "  [0, 0, 0, 0, 0, 1, 0, 0, 0, 0, 0]],\n",
    "  \"perfect cut\"\n",
    "]\n",
    "\n",
    "Notes\n",
    "\n",
    "Cut is more important than carat in the diamondsmith's world. Hence, to reduce the number of blunt edges, the machine would reduce the size of the diamond.\n",
    "In the second example of a 4-carat raw stone, the machine produces a finished diamond of only 3 rows so that there would only be 2 blunt edges, instead of 4.\n",
    "In the first and third examples, the machine was able to produce diamonds of n-rows from n-carat stones.\n",
    "```"
   ]
  },
  {
   "cell_type": "code",
   "execution_count": 23,
   "metadata": {},
   "outputs": [
    {
     "data": {
      "text/plain": [
       "([[0, 0, 0, 0, 0, 1, 0, 0, 0, 0, 0],\n",
       "  [0, 0, 0, 0, 1, 0, 1, 0, 0, 0, 0],\n",
       "  [0, 0, 0, 1, 0, 0, 0, 1, 0, 0, 0],\n",
       "  [0, 0, 1, 0, 0, 0, 0, 0, 1, 0, 0],\n",
       "  [0, 1, 0, 0, 0, 0, 0, 0, 0, 1, 0],\n",
       "  [1, 0, 0, 0, 0, 0, 0, 0, 0, 0, 1],\n",
       "  [0, 1, 0, 0, 0, 0, 0, 0, 0, 1, 0],\n",
       "  [0, 0, 1, 0, 0, 0, 0, 0, 1, 0, 0],\n",
       "  [0, 0, 0, 1, 0, 0, 0, 1, 0, 0, 0],\n",
       "  [0, 0, 0, 0, 1, 0, 1, 0, 0, 0, 0],\n",
       "  [0, 0, 0, 0, 0, 1, 0, 0, 0, 0, 0]],\n",
       " 'perfect cut')"
      ]
     },
     "execution_count": 23,
     "metadata": {},
     "output_type": "execute_result"
    }
   ],
   "source": [
    "def diamond_machine(n):\n",
    "    \n",
    "    resa = []\n",
    "    gec = True\n",
    "    if n % 2 == 0:\n",
    "        text = 'good cut'\n",
    "        y1 = (n // 2) - 1\n",
    "        y2 = (n // 2)\n",
    "        k = n - 1\n",
    "    else:\n",
    "        text = 'perfect cut'\n",
    "        y1 = (n // 2)\n",
    "        y2 = (n // 2) \n",
    "        k = n\n",
    "\n",
    "    for i in range(k):\n",
    "        res = []\n",
    "        for j in range(n):\n",
    "            if j == y1 or j == y2:\n",
    "                res.append(1)\n",
    "            else:\n",
    "                res.append(0)\n",
    "        if gec:\n",
    "            y1 -= 1\n",
    "            y2 += 1\n",
    "        else:\n",
    "            y1 += 1\n",
    "            y2 -= 1\n",
    "\n",
    "        if y1 == -1:\n",
    "            gec = False\n",
    "            y1 = 1\n",
    "            y2 = n - 2\n",
    "        resa.append(res)\n",
    "    return resa, text\n",
    "\n",
    "diamond_machine(11)"
   ]
  },
  {
   "cell_type": "code",
   "execution_count": null,
   "metadata": {},
   "outputs": [],
   "source": []
  },
  {
   "cell_type": "code",
   "execution_count": null,
   "metadata": {},
   "outputs": [],
   "source": []
  },
  {
   "cell_type": "code",
   "execution_count": null,
   "metadata": {},
   "outputs": [],
   "source": []
  },
  {
   "cell_type": "code",
   "execution_count": null,
   "metadata": {},
   "outputs": [],
   "source": []
  },
  {
   "cell_type": "code",
   "execution_count": null,
   "metadata": {},
   "outputs": [],
   "source": []
  },
  {
   "cell_type": "code",
   "execution_count": null,
   "metadata": {},
   "outputs": [],
   "source": []
  },
  {
   "cell_type": "code",
   "execution_count": null,
   "metadata": {},
   "outputs": [],
   "source": []
  }
 ],
 "metadata": {
  "kernelspec": {
   "display_name": "Python 3 (ipykernel)",
   "language": "python",
   "name": "python3"
  },
  "language_info": {
   "codemirror_mode": {
    "name": "ipython",
    "version": 3
   },
   "file_extension": ".py",
   "mimetype": "text/x-python",
   "name": "python",
   "nbconvert_exporter": "python",
   "pygments_lexer": "ipython3",
   "version": "3.8.5"
  }
 },
 "nbformat": 4,
 "nbformat_minor": 4
}
