{
 "cells": [
  {
   "cell_type": "markdown",
   "metadata": {},
   "source": [
    "Given a string of words, you need to find the highest scoring word.\n",
    "Each letter of a word scores points according to its position in the alphabet: a = 1, b = 2, c = 3 etc.\n",
    "You need to return the highest scoring word as a string.\n",
    "If two words score the same, return the word that appears earliest in the original string.\n",
    "All letters will be lowercase and all inputs will be valid.\n",
    "Examples:\n",
    "'man i need a taxi up to ubud' ---> 'taxi'\n",
    "'what time are we climbing up the volcano' ----> 'volcano'\n",
    "'take me to semynak' ---> 'semynak'\n",
    "'aa b'  --->  'aa'\n",
    "'b aa'  --->  'b'\n",
    "'bb d'  --- > 'bb'\n",
    "'d bb'  ---> 'd'\n",
    "\"aaa b\"  -->  \"aaa\""
   ]
  },
  {
   "cell_type": "code",
   "execution_count": 44,
   "metadata": {},
   "outputs": [
    {
     "name": "stdout",
     "output_type": "stream",
     "text": [
      "Please enter your text here > aa b\n",
      "aa\n"
     ]
    }
   ],
   "source": [
    "alphabet = [chr(i) for i in range(97, 123)]\n",
    "dictt_1 = {}\n",
    "dictt_2 = {}\n",
    "for i in range(len(alphabet)):\n",
    "    dictt_1[alphabet[i]] = i + 1\n",
    "text = input('Please enter your text here > ')\n",
    "text_list = text.lower().split()\n",
    "for i in text_list:\n",
    "    total = 0\n",
    "    for x in i:\n",
    "        total += dictt_1[x]\n",
    "    dictt_2[i] = total\n",
    "listt = list(dictt_2.values())\n",
    "biggest = max(listt)\n",
    "for x, y in dictt_2.items():\n",
    "    if y == biggest:\n",
    "        print(x)\n",
    "        break"
   ]
  },
  {
   "cell_type": "code",
   "execution_count": null,
   "metadata": {},
   "outputs": [],
   "source": []
  }
 ],
 "metadata": {
  "kernelspec": {
   "display_name": "Python 3",
   "language": "python",
   "name": "python3"
  },
  "language_info": {
   "codemirror_mode": {
    "name": "ipython",
    "version": 3
   },
   "file_extension": ".py",
   "mimetype": "text/x-python",
   "name": "python",
   "nbconvert_exporter": "python",
   "pygments_lexer": "ipython3",
   "version": "3.8.5"
  }
 },
 "nbformat": 4,
 "nbformat_minor": 4
}
