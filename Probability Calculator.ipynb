{
 "cells": [
  {
   "cell_type": "markdown",
   "metadata": {},
   "source": [
    "```\n",
    "Suppose there is a hat containing 5 blue balls, 4 red balls, and 2 green balls. What is the probability that a random draw of 4 balls will contain at least 1 red ball and 2 green balls? While it would be possible to calculate the probability using advanced mathematics, an easier way is to write a program to perform a large number of experiments to estimate an approximate probability.\n",
    "\n",
    "For this project, you will write a program to determine the approximate probability of drawing certain balls randomly from a hat.\n",
    "\n",
    "First, create a Hat class in prob_calculator.py. The class should take a variable number of arguments that specify the number of balls of each color that are in the hat. For example, a class object could be created in any of these ways:\n",
    "\n",
    "hat1 = Hat(yellow=3, blue=2, green=6)\n",
    "hat2 = Hat(red=5, orange=4)\n",
    "hat3 = Hat(red=5, orange=4, black=1, blue=0, pink=2, striped=9)\n",
    "A hat will always be created with at least one ball. The arguments passed into the hat object upon creation should be converted to a contents instance variable. contents should be a list of strings containing one item for each ball in the hat. Each item in the list should be a color name representing a single ball of that color. For example, if your hat is {\"red\": 2, \"blue\": 1}, contents should be [\"red\", \"red\", \"blue\"].\n",
    "\n",
    "The Hat class should have a draw method that accepts an argument indicating the number of balls to draw from the hat. This method should remove balls at random from contents and return those balls as a list of strings. The balls should not go back into the hat during the draw, similar to an urn experiment without replacement. If the number of balls to draw exceeds the available quantity, return all the balls.\n",
    "\n",
    "Next, create an experiment function in prob_calculator.py (not inside the Hat class). This function should accept the following arguments:\n",
    "\n",
    "hat: A hat object containing balls that should be copied inside the function.\n",
    "expected_balls: An object indicating the exact group of balls to attempt to draw from the hat for the experiment. For example, to determine the probability of drawing 2 blue balls and 1 red ball from the hat, set expected_balls to {\"blue\":2, \"red\":1}.\n",
    "num_balls_drawn: The number of balls to draw out of the hat in each experiment.\n",
    "num_experiments: The number of experiments to perform. (The more experiments performed, the more accurate the approximate probability will be.)\n",
    "The experiment function should return a probability.\n",
    "\n",
    "For example, let's say that you want to determine the probability of getting at least 2 red balls and 1 green ball when you draw 5 balls from a hat containing 6 black, 4 red, and 3 green. To do this, we perform N experiments, count how many times M we get at least 2 red balls and 1 green ball, and estimate the probability as M/N. Each experiment consists of starting with a hat containing the specified balls, drawing a number of balls, and checking if we got the balls we were attempting to draw.\n",
    "\n",
    "Here is how you would call the experiment function based on the example above with 2000 experiments:\n",
    "\n",
    "hat = Hat(black=6, red=4, green=3)\n",
    "probability = experiment(hat=hat,\n",
    "                  expected_balls={\"red\":2,\"green\":1},\n",
    "                  num_balls_drawn=5,\n",
    "                  num_experiments=2000)\n",
    "Since this is based on random draws, the probability will be slightly different each time the code is run.\n",
    "```"
   ]
  },
  {
   "cell_type": "code",
   "execution_count": 104,
   "metadata": {},
   "outputs": [],
   "source": [
    "import random\n",
    "import copy\n",
    "\n",
    "class Hat:\n",
    "    def __init__(self, **kwargs):\n",
    "        self.contents = []\n",
    "        for k,v in kwargs.items():\n",
    "            self.contents += [k] * int(v)\n",
    "            \n",
    "    def draw(self, number):\n",
    "        if number >= len(self.contents):\n",
    "            return self.contents\n",
    "        \n",
    "        basket = []\n",
    "        for i in range(number):\n",
    "            choice = random.choice(list(range(len(self.contents))))\n",
    "            a = self.contents.pop(choice)\n",
    "            basket.append(a)\n",
    "        return basket\n",
    "    \n",
    "def experiment(hat, expected_balls, num_balls_drawn, num_experiments):\n",
    "    times = 0\n",
    "    \n",
    "    for i in range(num_experiments):\n",
    "        hat_copy = copy.deepcopy(hat)\n",
    "        ball_choices = hat_copy.draw(num_balls_drawn)\n",
    "        dictt = {}\n",
    "        for i in ball_choices:\n",
    "            dictt[i] = dictt.get(i, 0) + 1\n",
    "            \n",
    "        get_it = True\n",
    "        for k,v in expected_balls.items():\n",
    "            if dictt.get(k, 0) < v:\n",
    "                get_it = False\n",
    "                break\n",
    "        \n",
    "        if get_it:\n",
    "            times += 1\n",
    "            \n",
    "    return times / num_experiments"
   ]
  },
  {
   "cell_type": "code",
   "execution_count": null,
   "metadata": {},
   "outputs": [],
   "source": []
  }
 ],
 "metadata": {
  "kernelspec": {
   "display_name": "Python 3 (ipykernel)",
   "language": "python",
   "name": "python3"
  },
  "language_info": {
   "codemirror_mode": {
    "name": "ipython",
    "version": 3
   },
   "file_extension": ".py",
   "mimetype": "text/x-python",
   "name": "python",
   "nbconvert_exporter": "python",
   "pygments_lexer": "ipython3",
   "version": "3.8.5"
  }
 },
 "nbformat": 4,
 "nbformat_minor": 4
}
