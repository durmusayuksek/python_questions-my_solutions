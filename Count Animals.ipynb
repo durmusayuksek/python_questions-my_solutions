{
 "cells": [
  {
   "cell_type": "markdown",
   "metadata": {},
   "source": [
    "```\n",
    "Mubashir needs your help to find out number of animals hidden in a given string txt.\n",
    "\n",
    "You are provided with an array of animals given below:\n",
    "\n",
    "animals = [\"dog\", \"cat\", \"bat\", \"cock\", \"cow\", \"pig\",\n",
    "\"fox\", \"ant\", \"bird\", \"lion\", \"wolf\", \"deer\", \"bear\",\n",
    "\"frog\", \"hen\", \"mole\", \"duck\", \"goat\"]\n",
    "Rule: Return the maximum number of animal names. See the below example:\n",
    "\n",
    "txt = \"goatcode\"\n",
    "\n",
    "count_animals(txt) ➞ 2\n",
    "# First animal = \"dog\"\n",
    "# Remaining string = \"atcoe\",\n",
    "# Second animal = \"cat\".\n",
    "# count = 2 (correct)\n",
    "\n",
    "# If you got a \"goat\" first time\n",
    "# remaining string = \"code\",\n",
    "# no animal will be found during next time.\n",
    "# count = 1 (wrong)\n",
    "Examples\n",
    "count_animals(\"goatcode\") ➞ 2\n",
    "# \"dog\", \"cat\"\n",
    "\n",
    "count_animals(\"cockdogwdufrbir\") ➞ 4\n",
    "# \"cow\", \"duck\", \"frog\", \"bird\"\n",
    "\n",
    "count_animals(\"dogdogdogdogdog\") ➞ 5\n",
    "```"
   ]
  },
  {
   "cell_type": "code",
   "execution_count": 4,
   "metadata": {},
   "outputs": [
    {
     "name": "stdout",
     "output_type": "stream",
     "text": [
      "['frog', 'cow', 'duck', 'bird'] 4\n"
     ]
    }
   ],
   "source": [
    "import random\n",
    "animals = [\"dog\", \"cat\", \"bat\", \"cock\", \"cow\", \"pig\",\n",
    "\"fox\", \"ant\", \"bird\", \"lion\", \"wolf\", \"deer\", \"bear\",\n",
    "\"frog\", \"hen\", \"mole\", \"duck\", \"goat\"]\n",
    "\n",
    "def factor(n):\n",
    "    if n == 0:\n",
    "        return 1\n",
    "    else: return n * factor(n-1)\n",
    "\n",
    "txt = \"cockdogwdufrbir\"\n",
    "txt_2 = \"cockdogwdufrbir\"\n",
    "devam = []\n",
    "\n",
    "for i in animals:\n",
    "    a = 0\n",
    "    for j in i:\n",
    "        if j in txt:\n",
    "            a += 1\n",
    "    if a == len(i):\n",
    "        devam.append(i)\n",
    "\n",
    "second_list = []\n",
    "count = 0       \n",
    "while count < factor(len(devam)):\n",
    "    count_2 = 0\n",
    "    first_list = []\n",
    "    while count_2 < len(devam):\n",
    "        eleman = random.choice(devam)\n",
    "        if eleman not in first_list:\n",
    "            first_list.append(eleman)\n",
    "            count_2 += 1\n",
    "    if first_list not in second_list:\n",
    "        second_list.append(first_list)\n",
    "        count += 1\n",
    "\n",
    "dictt = {}\n",
    "sayi = 0\n",
    "for i in second_list:\n",
    "    silinen = []\n",
    "    txt_2 = txt\n",
    "    for j in i:\n",
    "        count_3 = 0\n",
    "        for k in j:\n",
    "            if k in txt_2:\n",
    "                txt_2 = txt_2.replace(k, '', 1)\n",
    "                count_3 += 1\n",
    "            else:\n",
    "                break\n",
    "        if count_3 == len(j):\n",
    "            silinen.append(j)\n",
    "    dictt[sayi] = silinen\n",
    "    sayi += 1\n",
    "\n",
    "maximum = len(dictt[0])\n",
    "result = second_list[0]\n",
    "for k, v in dictt.items():\n",
    "    if len(v) > maximum:\n",
    "        maximum = len(v)\n",
    "        result = v\n",
    "print(result, maximum)"
   ]
  }
 ],
 "metadata": {
  "kernelspec": {
   "display_name": "Python 3 (ipykernel)",
   "language": "python",
   "name": "python3"
  },
  "language_info": {
   "codemirror_mode": {
    "name": "ipython",
    "version": 3
   },
   "file_extension": ".py",
   "mimetype": "text/x-python",
   "name": "python",
   "nbconvert_exporter": "python",
   "pygments_lexer": "ipython3",
   "version": "3.8.5"
  }
 },
 "nbformat": 4,
 "nbformat_minor": 4
}
