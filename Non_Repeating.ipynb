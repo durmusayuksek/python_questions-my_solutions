{
 "cells": [
  {
   "cell_type": "markdown",
   "metadata": {},
   "source": [
    "```\n",
    "Bir first_non_repeating_letterdize girdisi alan ve dizenin hiçbir yerinde tekrarlanmayan ilk karakteri döndüren bir işlev yazın .\n",
    "Örneğin, girdi verilirse, t harfi dizede yalnızca bir kez geçtiği ve dizede ilk sırada yer aldığı 'stress'için işlev dönmelidir .'t'\n",
    "Ek bir meydan okuma olarak, büyük ve küçük harfler aynı karakter olarak kabul edilir , ancak işlev ilk harf için doğru durumu döndürmelidir. Örneğin, girdi 'sTreSS'dönmelidir 'T'.\n",
    "Bir dize tüm yinelenen karakterleri içeriyorsa , boş bir dize ( \"\") döndürmelidir veya None\n",
    "```"
   ]
  },
  {
   "cell_type": "code",
   "execution_count": 9,
   "metadata": {},
   "outputs": [
    {
     "data": {
      "text/plain": [
       "'T'"
      ]
     },
     "execution_count": 9,
     "metadata": {},
     "output_type": "execute_result"
    }
   ],
   "source": [
    "def non_repeating(text):\n",
    "    text2 = list(map(lambda x : x.upper(), text))\n",
    "    son = ''\n",
    "    for i in text2:\n",
    "        if text2.count(i) == 1:\n",
    "            son = i\n",
    "            break\n",
    "    if son != '':\n",
    "        result = text[text2.index(son)]\n",
    "    else:\n",
    "        result = son\n",
    "    return result\n",
    "\n",
    "non_repeating('sTreSS')"
   ]
  },
  {
   "cell_type": "code",
   "execution_count": null,
   "metadata": {},
   "outputs": [],
   "source": []
  }
 ],
 "metadata": {
  "kernelspec": {
   "display_name": "Python 3 (ipykernel)",
   "language": "python",
   "name": "python3"
  },
  "language_info": {
   "codemirror_mode": {
    "name": "ipython",
    "version": 3
   },
   "file_extension": ".py",
   "mimetype": "text/x-python",
   "name": "python",
   "nbconvert_exporter": "python",
   "pygments_lexer": "ipython3",
   "version": "3.8.5"
  }
 },
 "nbformat": 4,
 "nbformat_minor": 4
}
