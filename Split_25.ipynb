{
 "cells": [
  {
   "cell_type": "markdown",
   "metadata": {},
   "source": [
    "```\n",
    "About a month ago I stumbled upon an interesting problem — something called the 25 split. In the problem, you had to break up 25 into parts that add to it, and, from those parts, try to create the biggest product.\n",
    "\n",
    "For example, 3 * 22 = 66 or 5 * 5 * 5 * 5 * 5 = 3125. With this first part, return the value of the biggest product possible using natural number parts from a given number, x.\n",
    "\n",
    "Examples\n",
    "split(5) ➞ 6\n",
    "# 3 times 2\n",
    "\n",
    "split(10) ➞ 36\n",
    "# 3 * 3 * 4\n",
    "\n",
    "split(1) ➞ 1\n",
    "```"
   ]
  },
  {
   "cell_type": "code",
   "execution_count": 63,
   "metadata": {},
   "outputs": [
    {
     "name": "stdout",
     "output_type": "stream",
     "text": [
      "{'[1, 1, 1, 1, 1, 1, 1, 1, 1, 1, 1, 1, 1, 1, 1, 1, 1, 1, 1, 1, 1, 1, 1, 1, 1]': 1, '[2, 2, 2, 2, 2, 2, 2, 2, 2, 2, 2, 3]': 6144, '[3, 3, 3, 3, 3, 3, 3, 4]': 8748, '[4, 4, 4, 4, 4, 5]': 5120, '[5, 5, 5, 5, 5]': 3125, '[6, 6, 6, 7]': 1512, '[7, 7, 7, 4]': 1372, '[8, 8, 9]': 576, '[9, 9, 7]': 567, '[10, 10, 5]': 500, '[11, 11, 3]': 363, '[12, 13]': 156, '[13, 12]': 156, '[14, 11]': 154, '[15, 10]': 150, '[16, 9]': 144, '[17, 8]': 136, '[18, 7]': 126, '[19, 6]': 114, '[20, 5]': 100, '[21, 4]': 84, '[22, 3]': 66, '[23, 2]': 46, '[25]': 25}\n",
      "\n"
     ]
    },
    {
     "data": {
      "text/plain": [
       "8748"
      ]
     },
     "execution_count": 63,
     "metadata": {},
     "output_type": "execute_result"
    }
   ],
   "source": [
    "from functools import reduce\n",
    "def split_25(n):\n",
    "    a = 1\n",
    "    dictt = {}\n",
    "    while True:\n",
    "        toplam = 0\n",
    "        res = []\n",
    "        while toplam != n:\n",
    "            toplam += a\n",
    "            if toplam > n:\n",
    "                b = toplam - a\n",
    "                c = n - b\n",
    "                if c == 1:\n",
    "                    c = (n - b) + a\n",
    "                    res.append(c)\n",
    "                    res.pop(0)\n",
    "                else:\n",
    "                    res.append(c)\n",
    "                break\n",
    "            else:\n",
    "                res.append(a)\n",
    "        carpim = reduce(lambda x, y : x * y, res)\n",
    "        dictt[str(res)] = carpim\n",
    "        a += 1\n",
    "        if a == n + 1:\n",
    "            break\n",
    "    maximum = 0\n",
    "    for i in dictt.values():\n",
    "        if i > maximum:\n",
    "            maximum = i\n",
    "    print(dictt)\n",
    "    print()\n",
    "    return maximum\n",
    "\n",
    "split_25(25)"
   ]
  },
  {
   "cell_type": "code",
   "execution_count": null,
   "metadata": {},
   "outputs": [],
   "source": []
  }
 ],
 "metadata": {
  "kernelspec": {
   "display_name": "Python 3 (ipykernel)",
   "language": "python",
   "name": "python3"
  },
  "language_info": {
   "codemirror_mode": {
    "name": "ipython",
    "version": 3
   },
   "file_extension": ".py",
   "mimetype": "text/x-python",
   "name": "python",
   "nbconvert_exporter": "python",
   "pygments_lexer": "ipython3",
   "version": "3.8.5"
  }
 },
 "nbformat": 4,
 "nbformat_minor": 4
}
