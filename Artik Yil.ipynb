{
 "cells": [
  {
   "cell_type": "markdown",
   "metadata": {},
   "source": [
    "Soru: Kullanıcıdan kontrol edilmek üzere bir yıl girmesini isteyiniz. Girilen yılın artık yıl olup olmadığını çıktı veren bir python programı yazınız.\n",
    "Artık yıl, Miladî takvimde (Gregoryen takvim) 365 yerine 366 günü olan yıl. Bu fazladan gün (artık gün), normalde 28 gün olan şubat ayına 29 Şubat'ın eklenmesi ile elde edilir. Dört yılda bir yapılan bu uygulamanın nedeni Dünya'nın Güneş çevresinde dönme süresinin (astronomik yıl), Güneş'in aynı meridyenden iki kez geçişi arasındaki ortalama zamanın (gün) tam katı olmamasıdır. Bir astronomik yıl yaklaşık olarak 365,242 gün olmasına rağmen[1] normal bir takvim yılı 365 gündür. (Wikipedia)"
   ]
  },
  {
   "cell_type": "code",
   "execution_count": 24,
   "metadata": {},
   "outputs": [
    {
     "name": "stdout",
     "output_type": "stream",
     "text": [
      "Please enter the year to see whether it is a leap year or not > 1800\n",
      "1800 is not a leap year.\n"
     ]
    }
   ],
   "source": [
    "yil = int(input('Please enter the year to see whether it is a leap year or not > '))\n",
    "if yil % 400 == 0:\n",
    "    print('{} is a leap year.'.format(yil))\n",
    "elif yil % 100 == 0:\n",
    "    if yil % 400 == 0:\n",
    "        print('{} is a leap year.'.format(yil))\n",
    "    else:\n",
    "        print('{} is not a leap year.'.format(yil))\n",
    "elif yil % 4 == 0:\n",
    "    if yil % 100 != 0:\n",
    "        print('{} is a leap year.'.format(yil))\n",
    "    else:\n",
    "        print('{} is not a leap year.'.format(yil))\n",
    "else:\n",
    "    print('{} is not a leap year.'.format(yil)) "
   ]
  },
  {
   "cell_type": "code",
   "execution_count": null,
   "metadata": {},
   "outputs": [],
   "source": []
  }
 ],
 "metadata": {
  "kernelspec": {
   "display_name": "Python 3",
   "language": "python",
   "name": "python3"
  },
  "language_info": {
   "codemirror_mode": {
    "name": "ipython",
    "version": 3
   },
   "file_extension": ".py",
   "mimetype": "text/x-python",
   "name": "python",
   "nbconvert_exporter": "python",
   "pygments_lexer": "ipython3",
   "version": "3.8.5"
  }
 },
 "nbformat": 4,
 "nbformat_minor": 4
}
