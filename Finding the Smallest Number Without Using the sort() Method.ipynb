{
 "cells": [
  {
   "cell_type": "markdown",
   "metadata": {},
   "source": [
    "Write a Python code to sort the list at below without using .sort() method of list. elements of list = [999, 333, 2, 8982, 12, 45, 77, 99, 11]"
   ]
  },
  {
   "cell_type": "code",
   "execution_count": 2,
   "metadata": {},
   "outputs": [
    {
     "name": "stdout",
     "output_type": "stream",
     "text": [
      "[2, 11, 12, 45, 77, 99, 333, 999, 8982]\n"
     ]
    }
   ],
   "source": [
    "liste = [999, 333, 2, 8982, 12, 45, 77, 99, 11]\n",
    "liste2 = []\n",
    "for i in range(len(liste)):\n",
    "    minimum = min(liste)\n",
    "    liste2.append(minimum)\n",
    "    liste.remove(minimum)\n",
    "print(liste2)"
   ]
  },
  {
   "cell_type": "code",
   "execution_count": null,
   "metadata": {},
   "outputs": [],
   "source": []
  }
 ],
 "metadata": {
  "kernelspec": {
   "display_name": "Python 3",
   "language": "python",
   "name": "python3"
  },
  "language_info": {
   "codemirror_mode": {
    "name": "ipython",
    "version": 3
   },
   "file_extension": ".py",
   "mimetype": "text/x-python",
   "name": "python",
   "nbconvert_exporter": "python",
   "pygments_lexer": "ipython3",
   "version": "3.8.5"
  }
 },
 "nbformat": 4,
 "nbformat_minor": 4
}
