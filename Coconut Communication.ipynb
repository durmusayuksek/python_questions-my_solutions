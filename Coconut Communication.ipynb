{
 "cells": [
  {
   "cell_type": "markdown",
   "metadata": {},
   "source": [
    "```\n",
    "\"coconuts\" has 8 letters.\n",
    "A byte in binary has 8 bits.\n",
    "A byte can represent a character.\n",
    "We can use the word \"coconuts\" to communicate with each other in binary if we use upper case letters as 1s and lower case letters as 0s.\n",
    "\n",
    "Create a function that translates a word in plain text, into Coconut.\n",
    "\n",
    "Worked Example\n",
    "The binary for \"coconuts\" is\n",
    "01100011 01101111 01100011 01101111 01101110 01110101 01110100 01110011\n",
    "c         o        c       o       n        u        t       s\n",
    "\n",
    "Since 0s are lowercase and 1s are uppercase, we can map the binary like this.\n",
    "cOConuTS cOCoNUTS cOConuTS cOCoNUTS cOCoNUTs cOCOnUtS cOCOnUts cOCOnuTS\n",
    "\n",
    "coconut_translator(\"coconuts\") ➞ \"cOConuTS cOCoNUTS cOConuTS cOCoNUTS cOCoNUTs cOCOnUtS cOCOnUts cOCOnuTS\"\n",
    "Examples\n",
    "coconut_translator(\"Hi\") ➞ \"cOcoNuts cOCoNutS\"\n",
    "\n",
    "coconut_translator(\"edabit\") ➞ \"cOConUtS cOConUts cOConutS cOConuTs cOCoNutS cOCOnUts\"\n",
    "\n",
    "coconut_translator(\"123\") ➞ \"coCOnutS coCOnuTs coCOnuTS\"\n",
    "```"
   ]
  },
  {
   "cell_type": "code",
   "execution_count": 28,
   "metadata": {},
   "outputs": [
    {
     "data": {
      "text/plain": [
       "'coCOnutS coCOnuTs coCOnuTS'"
      ]
     },
     "execution_count": 28,
     "metadata": {},
     "output_type": "execute_result"
    }
   ],
   "source": [
    "def coconut(text):    \n",
    "    reference = 'coconuts'\n",
    "    ordinal = [ord(i) for i in text]\n",
    "    res = []\n",
    "    for i in ordinal:\n",
    "        binary = []\n",
    "        while i > 0:\n",
    "            binary.append(i % 2)\n",
    "            i = i // 2\n",
    "        while len(binary) < 8:\n",
    "            binary.insert(len(binary), 0)\n",
    "        res.append(binary[::-1])\n",
    "\n",
    "    sonuc = ''\n",
    "    for i in res:\n",
    "        result = ''\n",
    "        for j in range(len(reference)):\n",
    "            if i[j] == 0:\n",
    "                result += reference[j]\n",
    "            else:\n",
    "                result += reference[j].upper()\n",
    "        sonuc += result + ' '\n",
    "    sonuc = sonuc.rstrip(' ')\n",
    "    return sonuc\n",
    "\n",
    "coconut('123')"
   ]
  },
  {
   "cell_type": "code",
   "execution_count": null,
   "metadata": {},
   "outputs": [],
   "source": []
  }
 ],
 "metadata": {
  "kernelspec": {
   "display_name": "Python 3 (ipykernel)",
   "language": "python",
   "name": "python3"
  },
  "language_info": {
   "codemirror_mode": {
    "name": "ipython",
    "version": 3
   },
   "file_extension": ".py",
   "mimetype": "text/x-python",
   "name": "python",
   "nbconvert_exporter": "python",
   "pygments_lexer": "ipython3",
   "version": "3.8.5"
  }
 },
 "nbformat": 4,
 "nbformat_minor": 4
}
