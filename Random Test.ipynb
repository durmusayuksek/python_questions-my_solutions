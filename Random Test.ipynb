{
 "cells": [
  {
   "cell_type": "code",
   "execution_count": 31,
   "metadata": {},
   "outputs": [
    {
     "name": "stdout",
     "output_type": "stream",
     "text": [
      "3: % 16.6814\n",
      "5: % 16.7212\n",
      "4: % 16.673\n",
      "6: % 16.6047\n",
      "1: % 16.6548\n",
      "2: % 16.6649\n"
     ]
    }
   ],
   "source": [
    "import random\n",
    "\n",
    "res = []\n",
    "dictt = {}\n",
    "n = 1000000\n",
    "zar = [1,2,3,4,5,6]\n",
    "\n",
    "for i in range(n):\n",
    "    a = random.choice(zar)\n",
    "    res.append(a)\n",
    "    \n",
    "for i in res:\n",
    "    dictt[i] = dictt.get(i, 0) + 1\n",
    "\n",
    "for k,v in dictt.items():\n",
    "    print(f'{k}: % {v/n*100}')"
   ]
  },
  {
   "cell_type": "code",
   "execution_count": null,
   "metadata": {},
   "outputs": [],
   "source": []
  }
 ],
 "metadata": {
  "kernelspec": {
   "display_name": "Python 3 (ipykernel)",
   "language": "python",
   "name": "python3"
  },
  "language_info": {
   "codemirror_mode": {
    "name": "ipython",
    "version": 3
   },
   "file_extension": ".py",
   "mimetype": "text/x-python",
   "name": "python",
   "nbconvert_exporter": "python",
   "pygments_lexer": "ipython3",
   "version": "3.8.5"
  }
 },
 "nbformat": 4,
 "nbformat_minor": 4
}
