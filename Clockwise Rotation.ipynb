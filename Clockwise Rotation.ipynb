{
 "cells": [
  {
   "cell_type": "markdown",
   "metadata": {},
   "source": [
    "```\n",
    "Given a string of size n, write functions to perform following operations on string.\n",
    "Left (Or anticlockwise) rotate the given string by d elements (where d <= n).\n",
    "Right (Or clockwise) rotate the given string by d elements (where d <= n). For example given word: \"Hippopotamus\"  result =\n",
    "Left Rotation :  opotamusHipp\n",
    "Right Rotation :  amusHippopot\n",
    "```"
   ]
  },
  {
   "cell_type": "code",
   "execution_count": 14,
   "metadata": {},
   "outputs": [
    {
     "data": {
      "text/plain": [
       "'Left Rotation : potamusHippo; Right Rotation : tamusHippopo'"
      ]
     },
     "execution_count": 14,
     "metadata": {},
     "output_type": "execute_result"
    }
   ],
   "source": [
    "def wise(text, n):\n",
    "    c = 0\n",
    "    res_1, res_2 = '', ''\n",
    "    while c <= n - 1:\n",
    "        res_1 += text[c]\n",
    "        res_2 += text[::-1][c]\n",
    "        c += 1\n",
    "    left = text[n:] + res_1\n",
    "    right = res_2[::-1] + text[:-n]\n",
    "    return f'Left Rotation : {left}; Right Rotation : {right}'\n",
    "\n",
    "wise('Hippopotamus', 5)"
   ]
  },
  {
   "cell_type": "code",
   "execution_count": null,
   "metadata": {},
   "outputs": [],
   "source": []
  }
 ],
 "metadata": {
  "kernelspec": {
   "display_name": "Python 3 (ipykernel)",
   "language": "python",
   "name": "python3"
  },
  "language_info": {
   "codemirror_mode": {
    "name": "ipython",
    "version": 3
   },
   "file_extension": ".py",
   "mimetype": "text/x-python",
   "name": "python",
   "nbconvert_exporter": "python",
   "pygments_lexer": "ipython3",
   "version": "3.8.5"
  }
 },
 "nbformat": 4,
 "nbformat_minor": 4
}
