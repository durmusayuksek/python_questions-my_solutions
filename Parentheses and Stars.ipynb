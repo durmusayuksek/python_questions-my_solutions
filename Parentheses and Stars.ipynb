{
 "cells": [
  {
   "cell_type": "markdown",
   "metadata": {},
   "source": [
    "```\n",
    "This problem was asked by Google.\n",
    "You're given a string consisting solely of (, ), and *. * can represent either a  (, ), or an empty string. Determine whether the parentheses are balanced.\n",
    "For example, (()* and (*) are balanced. )*( is not balanced.\n",
    "```"
   ]
  },
  {
   "cell_type": "code",
   "execution_count": 68,
   "metadata": {},
   "outputs": [
    {
     "data": {
      "text/plain": [
       "'Balanced, ()()()()(())(())'"
      ]
     },
     "execution_count": 68,
     "metadata": {},
     "output_type": "execute_result"
    }
   ],
   "source": [
    "import copy\n",
    "\n",
    "def balance(text):\n",
    "\n",
    "    lst = ['(', ')', '']\n",
    "    ind = 0\n",
    "    res = [text]\n",
    "    result = False\n",
    "\n",
    "    while True:\n",
    "        if text[ind] == '*':\n",
    "            for i in range(3):\n",
    "                resa = []\n",
    "                for j in res:\n",
    "                    j = j[:ind] + lst[i] + j[ind + 1:]\n",
    "                    resa.append(j)\n",
    "                res.extend(resa)\n",
    "        ind += 1\n",
    "        if ind == len(text):\n",
    "            break\n",
    "\n",
    "    resas = copy.deepcopy(res)\n",
    "    for i in range(len(res)):\n",
    "        while '()' in res[i]:\n",
    "            res[i] = res[i].replace('()', '')\n",
    "        if res[i] == '':\n",
    "            result = True\n",
    "            break\n",
    "\n",
    "    if result:\n",
    "        return f'Balanced, {resas[i]}' # Ne sekilde balanced oldugunu gosteriyor\n",
    "    else:\n",
    "        return 'Unbalanced'\n",
    "    \n",
    "balance('()(**)(**(*)(*))')"
   ]
  },
  {
   "cell_type": "code",
   "execution_count": null,
   "metadata": {},
   "outputs": [],
   "source": []
  }
 ],
 "metadata": {
  "kernelspec": {
   "display_name": "Python 3 (ipykernel)",
   "language": "python",
   "name": "python3"
  },
  "language_info": {
   "codemirror_mode": {
    "name": "ipython",
    "version": 3
   },
   "file_extension": ".py",
   "mimetype": "text/x-python",
   "name": "python",
   "nbconvert_exporter": "python",
   "pygments_lexer": "ipython3",
   "version": "3.8.5"
  }
 },
 "nbformat": 4,
 "nbformat_minor": 4
}
