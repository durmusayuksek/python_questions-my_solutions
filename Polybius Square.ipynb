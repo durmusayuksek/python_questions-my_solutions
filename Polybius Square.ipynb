{
 "cells": [
  {
   "cell_type": "markdown",
   "metadata": {},
   "source": [
    "```\n",
    "The Polybius Square cipher is a simple substitution cipher that makes use of a 5x5 square grid. The letters A-Z are written into the grid, with \"I\" and \"J\" typically sharing a slot (as there are 26 letters and only 25 slots).\n",
    "\n",
    "    1\t2\t3\t4\t 5\n",
    "1\tA\tB\tC\tD\t E\n",
    "2\tF\tG\tH\tI/J\t K\n",
    "3\tL\tM\tN\tO\t P\n",
    "4\tQ\tR\tS\tT\t U\n",
    "5\tV\tW\tX\tY\t Z\n",
    "To encipher a message, each letter is merely replaced by its row and column numbers in the grid.\n",
    "\n",
    "Create a function that takes a plaintext or ciphertext message, and returns the corresponding ciphertext or plaintext.\n",
    "\n",
    "Examples\n",
    "polybius(\"Hi\") ➞ \"2324\"\n",
    "\n",
    "polybius(\"2324  4423154215\") ➞ \"hi there\"\n",
    "\n",
    "polybius(\"543445 14343344 522433 21422415331443 52244423 4311311114\") ➞ \"you dont win friends with salad\"\n",
    "Notes\n",
    "As \"I\" and \"J\" share a slot, both are enciphered into 24, but deciphered only into \"I\" (see third and fourth test).\n",
    "```"
   ]
  },
  {
   "cell_type": "code",
   "execution_count": 127,
   "metadata": {},
   "outputs": [
    {
     "data": {
      "text/plain": [
       "'Clarusway is the best'"
      ]
     },
     "execution_count": 127,
     "metadata": {},
     "output_type": "execute_result"
    }
   ],
   "source": [
    "import string\n",
    "harfler = string.ascii_lowercase\n",
    "k, tablo =0, {}\n",
    "for i in range(1, 6):\n",
    "    for j in range(1, 6):\n",
    "        if str(i) + str(j) != '24':\n",
    "            tablo[str(i) + str(j)] = harfler[k]\n",
    "            k += 1\n",
    "        else:\n",
    "            tablo[str(i) + str(j)] = harfler[k:k + 2]\n",
    "            k += 2\n",
    "\n",
    "def rakam(text):\n",
    "    n, result = 0, ''\n",
    "    while n <= len(text) - 2:\n",
    "        if text[n] != ' ':\n",
    "            if text[n: n + 2] == '24':\n",
    "                result += 'i'\n",
    "            else:\n",
    "                result += tablo[text[n: n + 2]]\n",
    "            n += 2\n",
    "        else:\n",
    "            result += ' '\n",
    "            n += 1\n",
    "    result = result.capitalize()\n",
    "    return result\n",
    "\n",
    "def harf(text):\n",
    "    result = ''\n",
    "    for i in text.lower():\n",
    "        for a, b in tablo.items():\n",
    "            if i == b or i in b:\n",
    "                result += a\n",
    "                break\n",
    "            elif i == ' ':\n",
    "                result += ' '\n",
    "                break\n",
    "    return result\n",
    "\n",
    "def polybus_square(text):\n",
    "    if text[0].isalpha(): return harf(text)\n",
    "    elif text[0].isdigit(): return rakam(text)\n",
    "    \n",
    "polybus_square('133111424543521154 2443 442315 12154344')"
   ]
  },
  {
   "cell_type": "code",
   "execution_count": 6,
   "metadata": {},
   "outputs": [
    {
     "data": {
      "text/plain": [
       "'111111 CLARUSWAY IS THE BEST IT SCHOOL 555555'"
      ]
     },
     "execution_count": 6,
     "metadata": {},
     "output_type": "execute_result"
    }
   ],
   "source": [
    "import string\n",
    "harfler = string.ascii_lowercase\n",
    "k, tablo = 0, {}\n",
    "for i in range(1, 6):\n",
    "    for j in range(1, 6):\n",
    "        if str(i) + str(j) != '24':\n",
    "            tablo[str(i) + str(j)] = harfler[k]\n",
    "            k += 1\n",
    "        else:\n",
    "            tablo[str(i) + str(j)] = harfler[k:k + 2]\n",
    "            k += 2\n",
    "\n",
    "def polybus_square(text):\n",
    "    n, result = 0, ''\n",
    "    while n < len(text):\n",
    "        if text[n].isdigit():\n",
    "            if text[n: n + 2] == '24':\n",
    "                result += 'I'\n",
    "            else:\n",
    "                result += tablo[text[n: n + 2]].upper()\n",
    "            n += 2\n",
    "        elif text[n].isalpha():\n",
    "            for a, b in tablo.items():\n",
    "                if text[n].lower() == b or text[n].lower() in b:\n",
    "                    result += a\n",
    "                    n += 1\n",
    "                    break\n",
    "        elif text[n] == ' ':\n",
    "            result += ' '\n",
    "            n += 1\n",
    "    return result\n",
    "\n",
    "polybus_square('aaa 133111424543521154 2443 442315 12154344 2444 431323343431 zzz')"
   ]
  },
  {
   "cell_type": "code",
   "execution_count": null,
   "metadata": {},
   "outputs": [],
   "source": []
  }
 ],
 "metadata": {
  "kernelspec": {
   "display_name": "Python 3 (ipykernel)",
   "language": "python",
   "name": "python3"
  },
  "language_info": {
   "codemirror_mode": {
    "name": "ipython",
    "version": 3
   },
   "file_extension": ".py",
   "mimetype": "text/x-python",
   "name": "python",
   "nbconvert_exporter": "python",
   "pygments_lexer": "ipython3",
   "version": "3.8.5"
  }
 },
 "nbformat": 4,
 "nbformat_minor": 4
}
