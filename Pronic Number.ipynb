{
 "cells": [
  {
   "cell_type": "markdown",
   "metadata": {},
   "source": [
    "A pronic number (or otherwise called as heteromecic) is a number which is a product of two consecutive integers, that is, a number of the form n(n + 1). Create a function that determines whether a number is pronic or not."
   ]
  },
  {
   "cell_type": "code",
   "execution_count": 3,
   "metadata": {},
   "outputs": [
    {
     "name": "stdout",
     "output_type": "stream",
     "text": [
      "Enter a number > 0\n",
      "0 * 1 = 1\n",
      "True\n"
     ]
    }
   ],
   "source": [
    "number = int(input('Enter a number > '))\n",
    "new_list = []\n",
    "result = False\n",
    "if number != 0:\n",
    "    for i in range(1, number + 1):\n",
    "        if not number % i:\n",
    "            new_list.append(i)\n",
    "    for i in range(len(new_list) - 1):\n",
    "        if new_list[i+1] - new_list[i] == 1:\n",
    "            if new_list[i+1] * new_list[i] == number:\n",
    "                result = True\n",
    "                print(new_list[i], '*', new_list[i+1], '=', number)\n",
    "                break\n",
    "else:\n",
    "    result = True\n",
    "    print('0 * 1 = 1')\n",
    "print(result)"
   ]
  },
  {
   "cell_type": "code",
   "execution_count": null,
   "metadata": {},
   "outputs": [],
   "source": []
  }
 ],
 "metadata": {
  "kernelspec": {
   "display_name": "Python 3 (ipykernel)",
   "language": "python",
   "name": "python3"
  },
  "language_info": {
   "codemirror_mode": {
    "name": "ipython",
    "version": 3
   },
   "file_extension": ".py",
   "mimetype": "text/x-python",
   "name": "python",
   "nbconvert_exporter": "python",
   "pygments_lexer": "ipython3",
   "version": "3.8.5"
  }
 },
 "nbformat": 4,
 "nbformat_minor": 4
}
