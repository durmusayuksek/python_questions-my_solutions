{
 "cells": [
  {
   "cell_type": "markdown",
   "metadata": {},
   "source": [
    "Task : Find out the most frequent number and its frequency.\n",
    "\n",
    "Write a program that;\n",
    "\n",
    "Finds out the most frequent number in the given list.\n",
    "Calculates its frequency."
   ]
  },
  {
   "cell_type": "markdown",
   "metadata": {},
   "source": [
    "## Solution 1"
   ]
  },
  {
   "cell_type": "code",
   "execution_count": 1,
   "metadata": {},
   "outputs": [
    {
     "name": "stdout",
     "output_type": "stream",
     "text": [
      "[1, 2, 3, 3, 5, 6, 6, 7, 7, 9, 9, 9, 10, 10, 10, 11, 12, 13, 14, 14, 14, 15, 16, 16, 16, 16, 17, 17, 17, 17]\n",
      "{1: 1, 2: 1, 3: 2, 5: 1, 6: 2, 7: 2, 9: 3, 10: 3, 11: 1, 12: 1, 13: 1, 14: 3, 15: 1, 16: 4, 17: 4}\n",
      "The most frequent numbers are [16, 17] and they were 4 times repeated.\n"
     ]
    }
   ],
   "source": [
    "import random\n",
    "new_list = [random.randint(1, 20) for i in range(30)]\n",
    "new_list.sort()\n",
    "sozluk = {}\n",
    "for i in new_list:\n",
    "    if i not in sozluk:\n",
    "        sozluk[i] = 1\n",
    "    else:\n",
    "        sozluk[i] += 1\n",
    "print(new_list)\n",
    "print(sozluk)\n",
    "tekrar_sayi = None\n",
    "kac_tane = None\n",
    "tekrar_liste = []\n",
    "for x, y in sozluk.items():\n",
    "    if tekrar_sayi == None or y > kac_tane:\n",
    "        tekrar_sayi = x\n",
    "        kac_tane = y\n",
    "for x, y in sozluk.items():\n",
    "    if y == kac_tane and x != tekrar_sayi:\n",
    "        tekrar_liste.append(x)\n",
    "if tekrar_liste == []:\n",
    "    print(f'The most frequent number is {tekrar_sayi} and it was {kac_tane} times repeated.')\n",
    "else:\n",
    "    tekrar_liste.append(tekrar_sayi)\n",
    "    tekrar_liste.sort()\n",
    "    print(f'The most frequent numbers are {tekrar_liste} and they were {kac_tane} times repeated.')"
   ]
  },
  {
   "cell_type": "markdown",
   "metadata": {},
   "source": [
    "## Solution 2"
   ]
  },
  {
   "cell_type": "code",
   "execution_count": 11,
   "metadata": {},
   "outputs": [
    {
     "name": "stdout",
     "output_type": "stream",
     "text": [
      "[2, 3, 5, 5, 6, 7, 7, 7, 8, 9, 9, 9, 10, 10, 10, 11, 11, 12, 13, 14, 14, 15, 15, 16, 17, 17, 17, 17, 18, 18]\n",
      "The most frequent number is 17 and it is 4 times repeated.\n"
     ]
    }
   ],
   "source": [
    "import random\n",
    "new_list = [random.randint(1, 20) for i in range(30)]\n",
    "new_list.sort()\n",
    "print(new_list)\n",
    "a = max(new_list, key = new_list.count)\n",
    "b = new_list.count(max(new_list, key = new_list.count))\n",
    "print(f'The most frequent number is {a} and it is {b} times repeated.')"
   ]
  },
  {
   "cell_type": "code",
   "execution_count": null,
   "metadata": {},
   "outputs": [],
   "source": []
  }
 ],
 "metadata": {
  "kernelspec": {
   "display_name": "Python 3",
   "language": "python",
   "name": "python3"
  },
  "language_info": {
   "codemirror_mode": {
    "name": "ipython",
    "version": 3
   },
   "file_extension": ".py",
   "mimetype": "text/x-python",
   "name": "python",
   "nbconvert_exporter": "python",
   "pygments_lexer": "ipython3",
   "version": "3.8.5"
  }
 },
 "nbformat": 4,
 "nbformat_minor": 4
}
