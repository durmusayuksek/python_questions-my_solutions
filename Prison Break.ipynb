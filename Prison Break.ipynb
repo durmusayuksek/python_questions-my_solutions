{
 "cells": [
  {
   "cell_type": "markdown",
   "metadata": {},
   "source": [
    "```\n",
    "A prison can be represented as a list of cells. Each cell contains exactly one prisoner. A 1 represents an unlocked cell and a 0 represents a locked cell.\n",
    "\n",
    "[1, 1, 0, 0, 0, 1, 0]\n",
    "Starting inside the leftmost cell, you are tasked with seeing how many prisoners you can set free, with a catch. You are the prisoner in the first cell. If the first cell is locked, you cannot free anyone. Each time you free a prisoner, the locked cells become unlocked, and the unlocked cells become locked again.\n",
    "\n",
    "So, if we use the example above:\n",
    "    \n",
    "[1, 1, 0, 0, 0, 1, 0]\n",
    "# You free the prisoner in the 1st cell.\n",
    "\n",
    "[0, 0, 1, 1, 1, 0, 1] \n",
    "# You free the prisoner in the 3rd cell (2nd one locked).\n",
    "\n",
    "[1, 1, 0, 0, 0, 1, 0]\n",
    "# You free the prisoner in the 6th cell (3rd, 4th and 5th locked).\n",
    "\n",
    "[0, 0, 1, 1, 1, 0, 1]\n",
    "# You free the prisoner in the 7th cell - and you are done!\n",
    "Here, we have set free 4 prisoners in total.\n",
    "\n",
    "Create a function that, given this unique prison arrangement, returns the number of freed prisoners.\n",
    "\n",
    "Notes\n",
    "You are the prisoner in the first cell. You must be freed to free anyone else.\n",
    "You must free a prisoner in order for the locks to switch. So in the second example where the input is [1, 1, 1] after you release the first prisoner, the locks change to [0, 0, 0]. Since all cells are locked, you can release no more prisoners.\n",
    "You always start within the leftmost element in the list (the first prison cell). If all the prison cells to your right are zeroes, you cannot free any more prisoners.\n",
    "```"
   ]
  },
  {
   "cell_type": "code",
   "execution_count": 6,
   "metadata": {},
   "outputs": [
    {
     "data": {
      "text/plain": [
       "'You have set free 6 prisoners in total.'"
      ]
     },
     "execution_count": 6,
     "metadata": {},
     "output_type": "execute_result"
    }
   ],
   "source": [
    "def prison_break(liste):\n",
    "    sonuc = 0\n",
    "    sayac = 1\n",
    "    if liste[0] == 0:\n",
    "        pass\n",
    "    else:\n",
    "        for i in range(len(liste) - 1):\n",
    "            if liste[sayac] == 1:\n",
    "                sonuc += 1\n",
    "                new_list = []\n",
    "                for j in liste:\n",
    "                    if j == 0:\n",
    "                        j = 1\n",
    "                        new_list.append(j)\n",
    "                    elif j == 1:\n",
    "                        j = 0\n",
    "                        new_list.append(j)\n",
    "                liste = new_list\n",
    "                sayac += 1\n",
    "            else:\n",
    "                sayac += 1\n",
    "    return f'You have set free {sonuc} prisoners in total.'  \n",
    "\n",
    "prison_break([1, 1, 0, 0, 0, 1, 0, 1, 1, 0])"
   ]
  },
  {
   "cell_type": "code",
   "execution_count": 7,
   "metadata": {},
   "outputs": [
    {
     "data": {
      "text/plain": [
       "6"
      ]
     },
     "execution_count": 7,
     "metadata": {},
     "output_type": "execute_result"
    }
   ],
   "source": [
    "def freed_prisoners(prison):\n",
    "    if prison[0] == 0:\n",
    "        return 0\n",
    "    count = 1\n",
    "    for i in range(1, len(prison)):\n",
    "        if prison[i] != prison[i-1]:\n",
    "            count += 1\n",
    "    return count\n",
    "freed_prisoners([1, 1, 0, 0, 0, 1, 0, 1, 1, 0])"
   ]
  },
  {
   "cell_type": "code",
   "execution_count": null,
   "metadata": {},
   "outputs": [],
   "source": []
  }
 ],
 "metadata": {
  "kernelspec": {
   "display_name": "Python 3 (ipykernel)",
   "language": "python",
   "name": "python3"
  },
  "language_info": {
   "codemirror_mode": {
    "name": "ipython",
    "version": 3
   },
   "file_extension": ".py",
   "mimetype": "text/x-python",
   "name": "python",
   "nbconvert_exporter": "python",
   "pygments_lexer": "ipython3",
   "version": "3.8.5"
  }
 },
 "nbformat": 4,
 "nbformat_minor": 4
}
