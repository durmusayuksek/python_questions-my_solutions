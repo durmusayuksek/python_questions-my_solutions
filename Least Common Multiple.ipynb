{
 "cells": [
  {
   "cell_type": "markdown",
   "metadata": {},
   "source": [
    "```\n",
    "Given a list of integers, create a function that will find the smallest positive integer that is evenly divisible by all the members of the list. In other words, find the least common multiple (LCM).\n",
    "\n",
    "Examples\n",
    "lcm([1, 2, 3, 4, 5, 6, 7, 8, 9]) ➞ 2520\n",
    "\n",
    "lcm([5]) ➞ 5\n",
    "\n",
    "lcm([5, 7, 11]) ➞ 385\n",
    "\n",
    "lcm([5, 7, 11, 35, 55, 77]) ➞ 385\n",
    "```"
   ]
  },
  {
   "cell_type": "code",
   "execution_count": 50,
   "metadata": {},
   "outputs": [
    {
     "data": {
      "text/plain": [
       "2520"
      ]
     },
     "execution_count": 50,
     "metadata": {},
     "output_type": "execute_result"
    }
   ],
   "source": [
    "def least_common(liste):\n",
    "    asal_sayilar = []\n",
    "    carpim = 1\n",
    "    for i in range(2, max(liste) + 1):\n",
    "        asal_sayi = []\n",
    "        for j in range(2, i):\n",
    "            if i % j == 0:\n",
    "                asal_sayi.append(j)\n",
    "        if asal_sayi == []:\n",
    "            asal_sayilar.append(i)\n",
    "    for x in asal_sayilar:\n",
    "        sayac = 0\n",
    "        while sayac != len(liste):\n",
    "            sayac = 0\n",
    "            sonuc = []\n",
    "            for y in liste:\n",
    "                if y % x == 0:\n",
    "                    y = y // x\n",
    "                    sonuc.append(y)\n",
    "                else:\n",
    "                    sonuc.append(y)\n",
    "                    sayac += 1\n",
    "            if sayac < len(liste):\n",
    "                carpim *= x\n",
    "            liste = sonuc\n",
    "    return carpim\n",
    "\n",
    "least_common([1, 2, 3, 4, 5, 6, 7, 8, 9])"
   ]
  },
  {
   "cell_type": "code",
   "execution_count": 13,
   "metadata": {},
   "outputs": [
    {
     "data": {
      "text/plain": [
       "2520"
      ]
     },
     "execution_count": 13,
     "metadata": {},
     "output_type": "execute_result"
    }
   ],
   "source": [
    "def to_infinity():\n",
    "    index = 1\n",
    "    while True:\n",
    "        yield index\n",
    "        index += 1\n",
    "\n",
    "def least_common(liste):\n",
    "    for i in to_infinity():\n",
    "        count = 0\n",
    "        for j in liste:\n",
    "            if i % j == 0:\n",
    "                count += 1\n",
    "        if count == len(liste):\n",
    "            result = i\n",
    "            break\n",
    "    return result\n",
    "\n",
    "least_common([1, 2, 3, 4, 5, 6, 7, 8, 9])"
   ]
  },
  {
   "cell_type": "code",
   "execution_count": null,
   "metadata": {},
   "outputs": [],
   "source": []
  }
 ],
 "metadata": {
  "kernelspec": {
   "display_name": "Python 3 (ipykernel)",
   "language": "python",
   "name": "python3"
  },
  "language_info": {
   "codemirror_mode": {
    "name": "ipython",
    "version": 3
   },
   "file_extension": ".py",
   "mimetype": "text/x-python",
   "name": "python",
   "nbconvert_exporter": "python",
   "pygments_lexer": "ipython3",
   "version": "3.8.5"
  }
 },
 "nbformat": 4,
 "nbformat_minor": 4
}
