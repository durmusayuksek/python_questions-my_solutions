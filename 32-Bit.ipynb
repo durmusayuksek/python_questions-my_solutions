{
 "cells": [
  {
   "cell_type": "markdown",
   "metadata": {},
   "source": [
    "Given a signed 32-bit integer x, return x with its digits reversed. If reversing x causes the value to go outside the signed 32-bit integer range [-2^31, 2^31 - 1], then return 0.\n",
    "Assume the environment does not allow you to store 64-bit integers (signed or unsigned)."
   ]
  },
  {
   "cell_type": "code",
   "execution_count": 73,
   "metadata": {},
   "outputs": [
    {
     "name": "stdout",
     "output_type": "stream",
     "text": [
      "Enter a number > 0\n",
      "Result:  0\n"
     ]
    }
   ],
   "source": [
    "number = input('Enter a number > ')\n",
    "rev_num = number[::-1]\n",
    "binary = False\n",
    "if rev_num[-1] != '-' and rev_num[0] != 0:\n",
    "    for i in range(-31, 31):\n",
    "        if int(rev_num) >= 2 ** i and int(rev_num) <= (2 ** (i + 1)) - 1:\n",
    "            binary = True\n",
    "            if binary:\n",
    "                binary_value_1 = i + 1\n",
    "                reversed_number = int(rev_num)\n",
    "        else:\n",
    "            binary_value_2 = 0\n",
    "elif rev_num[-1] == '-':\n",
    "    for i in range(-31, 31):\n",
    "        rev_num = rev_num.rstrip('-')\n",
    "        if int(rev_num) >= 2 ** i and int(rev_num) <= (2 ** (i + 1)) - 1:\n",
    "            binary = True\n",
    "            if binary:\n",
    "                binary_value_1 = i + 2\n",
    "                reversed_number = int(rev_num) * -1\n",
    "        else:\n",
    "            binary_value_2 = 0\n",
    "elif number == '0':\n",
    "    binary_value_2 = 0\n",
    "elif rev_num[0] == '0':\n",
    "    for i in range(-31, 31):\n",
    "        rev_num = rev_num.lstrip('0')\n",
    "        if int(rev_num) >= (-1 * 2) ** i and int(rev_num) <= (2 ** (i + 1)) - 1:\n",
    "            binary = True\n",
    "            if binary:\n",
    "                binary_value_1 = i + 1\n",
    "                reversed_number = int(rev_num)\n",
    "        else:\n",
    "            binary_value_2 = 0\n",
    "if binary:\n",
    "    print(reversed_number)\n",
    "    print(f'The reversed number has {binary_value_1} bits.')\n",
    "else:\n",
    "    print('Result:', binary_value_2)"
   ]
  }
 ],
 "metadata": {
  "kernelspec": {
   "display_name": "Python 3 (ipykernel)",
   "language": "python",
   "name": "python3"
  },
  "language_info": {
   "codemirror_mode": {
    "name": "ipython",
    "version": 3
   },
   "file_extension": ".py",
   "mimetype": "text/x-python",
   "name": "python",
   "nbconvert_exporter": "python",
   "pygments_lexer": "ipython3",
   "version": "3.8.5"
  }
 },
 "nbformat": 4,
 "nbformat_minor": 4
}
