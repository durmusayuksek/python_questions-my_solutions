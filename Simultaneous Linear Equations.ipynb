{
 "cells": [
  {
   "cell_type": "markdown",
   "metadata": {},
   "source": [
    "```\n",
    "Given two simultaneous linear equations in this form: a*x + b*y = c, d*x + e*y = f, devise a function that returns the values of x and y as (x, y). The numbers a through f are non-zero integers. If there is not a unique solution or if there is no solution at all, return False. Input is given as: [[a, b, c], [d, e, f]]. Solutions, if they exist, will be integers.\n",
    "\n",
    "Examples\n",
    "sle([[3, 4, 19], [2, -1, 9]]) ➞ (5, 1)\n",
    "\n",
    "sle([[3, 2, -2], [2, 5, -5]]) ➞ (0, -1)\n",
    "\n",
    "sle([[4, -3, 18], [8, -6, 36]]) ➞ False\n",
    "\n",
    "sle([[2, 3, 13], [5, -1, 7]]) ➞ (2, 3)\n",
    "```"
   ]
  },
  {
   "cell_type": "code",
   "execution_count": 2,
   "metadata": {},
   "outputs": [
    {
     "name": "stdout",
     "output_type": "stream",
     "text": [
      "(0, -1)\n"
     ]
    }
   ],
   "source": [
    "liste = [[3, 2, -2], [2, 5, -5]]\n",
    "sonuc = False\n",
    "new_list = [liste[0][i] + liste[1][i] for i in range(3)]\n",
    "a = new_list[2] // new_list[0]\n",
    "if a > 0: a += 1\n",
    "if a > 0:\n",
    "    while a >= 0:\n",
    "        b = 0\n",
    "        res = new_list[2] - (a * new_list[0])\n",
    "        if res % new_list[1] == 0:\n",
    "            b = res // new_list[1]\n",
    "            sonuc = True\n",
    "            break\n",
    "        else:\n",
    "            a -= 1\n",
    "else:\n",
    "    while a <= 0:\n",
    "        b = 0\n",
    "        res = new_list[2] - (a * new_list[0])\n",
    "        if res % new_list[1] == 0:\n",
    "            b = res // new_list[1]\n",
    "            sonuc = True\n",
    "            break\n",
    "        else:\n",
    "            a += 1\n",
    "if sonuc:\n",
    "    print(f'({a}, {b})')\n",
    "else:\n",
    "    print('False')"
   ]
  },
  {
   "cell_type": "code",
   "execution_count": null,
   "metadata": {},
   "outputs": [],
   "source": []
  }
 ],
 "metadata": {
  "kernelspec": {
   "display_name": "Python 3 (ipykernel)",
   "language": "python",
   "name": "python3"
  },
  "language_info": {
   "codemirror_mode": {
    "name": "ipython",
    "version": 3
   },
   "file_extension": ".py",
   "mimetype": "text/x-python",
   "name": "python",
   "nbconvert_exporter": "python",
   "pygments_lexer": "ipython3",
   "version": "3.8.5"
  }
 },
 "nbformat": 4,
 "nbformat_minor": 4
}
