{
 "cells": [
  {
   "cell_type": "markdown",
   "metadata": {},
   "source": [
    "```\n",
    "This problem was asked by Google.\n",
    "Given an array of integers, return a new array where each element in the new array is the number of smaller elements to the right of that element in the original input array.\n",
    "For example, given the array [3, 4, 9, 6, 1], return [1, 1, 2, 1, 0], since:\n",
    " * There is 1 smaller element to the right of 3\n",
    " * There is 1 smaller element to the right of 4\n",
    " * There are 2 smaller elements to the right of 9\n",
    " * There is 1 smaller element to the right of 6\n",
    " * There are no smaller elements to the right of 1\n",
    " ```"
   ]
  },
  {
   "cell_type": "code",
   "execution_count": 3,
   "metadata": {},
   "outputs": [
    {
     "data": {
      "text/plain": [
       "[1, 1, 2, 1, 0]"
      ]
     },
     "execution_count": 3,
     "metadata": {},
     "output_type": "execute_result"
    }
   ],
   "source": [
    "def smaller_elements(lst):\n",
    "    res = []\n",
    "    for i in range(len(lst)):\n",
    "        count = 0\n",
    "        for j in lst[i+1:]:\n",
    "            if j < lst[i]:\n",
    "                count += 1\n",
    "        res.append(count)\n",
    "    return res\n",
    "\n",
    "smaller_elements([3, 4, 9, 6, 1])"
   ]
  },
  {
   "cell_type": "code",
   "execution_count": null,
   "metadata": {},
   "outputs": [],
   "source": []
  }
 ],
 "metadata": {
  "kernelspec": {
   "display_name": "Python 3 (ipykernel)",
   "language": "python",
   "name": "python3"
  },
  "language_info": {
   "codemirror_mode": {
    "name": "ipython",
    "version": 3
   },
   "file_extension": ".py",
   "mimetype": "text/x-python",
   "name": "python",
   "nbconvert_exporter": "python",
   "pygments_lexer": "ipython3",
   "version": "3.8.5"
  }
 },
 "nbformat": 4,
 "nbformat_minor": 4
}
