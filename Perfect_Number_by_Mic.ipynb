{
 "cells": [
  {
   "cell_type": "markdown",
   "metadata": {},
   "source": [
    "```\n",
    "This problem was asked by Microsoft.\n",
    "A number is considered perfect if its digits sum up to exactly 10. Given a positive integer n, return the n-th perfect number.\n",
    "For example, given 1, you should return 19. Given 2, you should return 28.\n",
    "```"
   ]
  },
  {
   "cell_type": "code",
   "execution_count": 20,
   "metadata": {},
   "outputs": [
    {
     "data": {
      "text/plain": [
       "28"
      ]
     },
     "execution_count": 20,
     "metadata": {},
     "output_type": "execute_result"
    }
   ],
   "source": [
    "def perfect_number(n):\n",
    "    m = 10\n",
    "    result = []\n",
    "    while True:\n",
    "        summ = sum([int(i) for i in str(m)])\n",
    "        if summ == 10:\n",
    "            result.append(m)\n",
    "            if len(result) == n:\n",
    "                break\n",
    "            else:\n",
    "                m += 1\n",
    "        else:\n",
    "            m += 1\n",
    "    return result[-1]\n",
    "\n",
    "perfect_number(2)"
   ]
  },
  {
   "cell_type": "code",
   "execution_count": null,
   "metadata": {},
   "outputs": [],
   "source": []
  }
 ],
 "metadata": {
  "kernelspec": {
   "display_name": "Python 3 (ipykernel)",
   "language": "python",
   "name": "python3"
  },
  "language_info": {
   "codemirror_mode": {
    "name": "ipython",
    "version": 3
   },
   "file_extension": ".py",
   "mimetype": "text/x-python",
   "name": "python",
   "nbconvert_exporter": "python",
   "pygments_lexer": "ipython3",
   "version": "3.8.5"
  }
 },
 "nbformat": 4,
 "nbformat_minor": 4
}
