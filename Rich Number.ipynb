{
 "cells": [
  {
   "cell_type": "markdown",
   "metadata": {},
   "source": [
    "Eğer bir sayının kendisi hariç tam bölenleri toplamı sayıdan büyükse o sayıya zengin sayı diyoruz. Örneğin 12 nin bölenleri 1,2,3,4,6 nın toplamı 16>12 olduğu için zengin sayıdır. En küçük tek zengin sayı nedir?"
   ]
  },
  {
   "cell_type": "code",
   "execution_count": 2,
   "metadata": {},
   "outputs": [
    {
     "name": "stdout",
     "output_type": "stream",
     "text": [
      "[12, 18, 20, 24, 30, 36, 40, 42, 48, 54, 56, 60, 66, 70, 72, 78, 80, 84, 88, 90, 96, 100, 102, 104, 108, 112, 114, 120, 126, 132, 138, 140, 144, 150, 156, 160, 162, 168, 174, 176, 180, 186, 192, 196, 198, 200, 204, 208, 210, 216, 220, 222, 224, 228, 234, 240, 246, 252, 258, 260, 264, 270, 272, 276, 280, 282, 288, 294, 300, 304, 306, 308, 312, 318, 320, 324, 330, 336, 340, 342, 348, 350, 352, 354, 360, 364, 366, 368, 372, 378, 380, 384, 390, 392, 396, 400, 402, 408, 414, 416, 420, 426, 432, 438, 440, 444, 448, 450, 456, 460, 462, 464, 468, 474, 476, 480, 486, 490, 492, 498, 500, 504, 510, 516, 520, 522, 528, 532, 534, 540, 544, 546, 550, 552, 558, 560, 564, 570, 572, 576, 580, 582, 588, 594, 600, 606, 608, 612, 616, 618, 620, 624, 630, 636, 640, 642, 644, 648, 650, 654, 660, 666, 672, 678, 680, 684, 690, 696, 700, 702, 704, 708, 714, 720, 726, 728, 732, 736, 738, 740, 744, 748, 750, 756, 760, 762, 768, 770, 774, 780, 784, 786, 792, 798, 800, 804, 810, 812, 816, 820, 822, 828, 832, 834, 836, 840, 846, 852, 858, 860, 864, 868, 870, 876, 880, 882, 888, 894, 896, 900, 906, 910, 912, 918, 920, 924, 928, 930, 936, 940, 942, 945]\n",
      "En kucuk tek zengin sayi: 945\n"
     ]
    }
   ],
   "source": [
    "# en kucuk tek zengin sayiyi verir\n",
    "def to_infinity():\n",
    "    index = 1\n",
    "    while True:\n",
    "        yield index\n",
    "        index += 1\n",
    "        \n",
    "liste_2 = []\n",
    "for i in to_infinity(): \n",
    "    liste_1 = []\n",
    "    for j in range(1, i):\n",
    "        if not i % j:\n",
    "            liste_1.append(j)\n",
    "    toplam = sum(liste_1)\n",
    "    if toplam > i:\n",
    "        liste_2.append(i)\n",
    "        if liste_2[-1] % 2:\n",
    "            print(liste_2)\n",
    "            print('En kucuk tek zengin sayi:',liste_2[-1])\n",
    "            break"
   ]
  },
  {
   "cell_type": "code",
   "execution_count": 1,
   "metadata": {},
   "outputs": [
    {
     "name": "stdout",
     "output_type": "stream",
     "text": [
      "10\n",
      "11\n",
      "12\n",
      "13\n",
      "14\n",
      "15\n",
      "16\n",
      "17\n",
      "18\n",
      "19\n",
      "20\n",
      "21\n",
      "22\n",
      "23\n",
      "24\n",
      "25\n",
      "26\n",
      "27\n",
      "28\n",
      "29\n",
      "30\n",
      "31\n",
      "32\n",
      "33\n",
      "34\n",
      "35\n",
      "36\n",
      "37\n",
      "38\n",
      "39\n",
      "40\n",
      "41\n",
      "42\n",
      "43\n",
      "44\n",
      "45\n",
      "46\n",
      "47\n",
      "48\n",
      "49\n",
      "50\n"
     ]
    }
   ],
   "source": [
    "def to_infinity():\n",
    "    index = 10\n",
    "    while True:\n",
    "        yield index\n",
    "        index += 1\n",
    "        \n",
    "for i in to_infinity(): \n",
    "    print(i)\n",
    "    if i == 50:\n",
    "        break"
   ]
  },
  {
   "cell_type": "code",
   "execution_count": 1,
   "metadata": {},
   "outputs": [
    {
     "name": "stdout",
     "output_type": "stream",
     "text": [
      "[945, 1575, 2205, 2835, 3465, 4095, 4725, 5355, 5775, 5985]\n",
      "5985\n"
     ]
    }
   ],
   "source": [
    "# en kucuk ilk 10 tek zengin sayiyi verir\n",
    "def to_infinity():\n",
    "    index = 1\n",
    "    while True:\n",
    "        yield index\n",
    "        index += 1\n",
    "        \n",
    "liste_2 = []\n",
    "liste_3 = []\n",
    "for i in to_infinity(): \n",
    "    liste_1 = []\n",
    "    for j in range(1, i):\n",
    "        if not i % j:\n",
    "            liste_1.append(j)\n",
    "    toplam = sum(liste_1)\n",
    "    if toplam > i:\n",
    "        liste_2.append(i)\n",
    "        if liste_2[-1] % 2:\n",
    "            liste_3.append(liste_2[-1])\n",
    "            if len(liste_3) == 10:\n",
    "                print(liste_3)\n",
    "                print(i)\n",
    "                break"
   ]
  },
  {
   "cell_type": "code",
   "execution_count": null,
   "metadata": {},
   "outputs": [],
   "source": []
  }
 ],
 "metadata": {
  "kernelspec": {
   "display_name": "Python 3 (ipykernel)",
   "language": "python",
   "name": "python3"
  },
  "language_info": {
   "codemirror_mode": {
    "name": "ipython",
    "version": 3
   },
   "file_extension": ".py",
   "mimetype": "text/x-python",
   "name": "python",
   "nbconvert_exporter": "python",
   "pygments_lexer": "ipython3",
   "version": "3.8.5"
  }
 },
 "nbformat": 4,
 "nbformat_minor": 4
}
