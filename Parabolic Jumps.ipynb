{
 "cells": [
  {
   "cell_type": "markdown",
   "metadata": {},
   "source": [
    "<p>When a bug jumps to a height y, its position can be plotted as a quadratic function with x as the time, and y as the vertical distance traveled. For example, for a bug that jumps 9 cm up and is back on the ground after 6 seconds, its trajectory can be plotted as:<p/>\n",
    "<img src='https://edabit-images.s3.amazonaws.com/2pMgjmZ.png'/>\n",
    "<p>Create a function that, given the max height of a vertical jump in cm and the current time in milliseconds, returns the current position of the bug rounded to two decimal places, and its direction (\"up\" or \"down\"). If the bug is already back on the ground, return 0 for the position and None for the direction.\n",
    "\n",
    "Examples\n",
    "\n",
    "bug_jump(9, 1000) ➞ [5, \"up\"]\n",
    "\n",
    "bug_jump(9, 4000) ➞ [8, \"down\"]\n",
    "\n",
    "bug_jump(9, 5500) ➞ [2.75, \"down\"]\n",
    "\n",
    "bug_jump(9, 7000) ➞ [0, None]<p/>"
   ]
  },
  {
   "cell_type": "code",
   "execution_count": 29,
   "metadata": {},
   "outputs": [
    {
     "data": {
      "text/plain": [
       "[5, 'Up']"
      ]
     },
     "execution_count": 29,
     "metadata": {},
     "output_type": "execute_result"
    }
   ],
   "source": [
    "# the formula of a parabola\n",
    "# y = a * (x - h) ** 2 + k\n",
    "\n",
    "def parabolic_jumps(height, floor, seconds):\n",
    "    a = (0 - height) / (0 - (floor/1000)/2) ** 2\n",
    "\n",
    "    y = a * (seconds/1000 - (floor/1000)/2) ** 2 + height\n",
    "\n",
    "    if seconds == floor or seconds > floor:\n",
    "        text = None\n",
    "    elif seconds < floor/2:\n",
    "        text = 'Up'\n",
    "    else:\n",
    "        text = 'Down'\n",
    "\n",
    "    if y < 0:\n",
    "        y = 0\n",
    "    elif y == int(y):\n",
    "        y = int(y)\n",
    "    else:\n",
    "        y = round(y,2)\n",
    "    return [y, text]\n",
    "\n",
    "parabolic_jumps(9, 6000, 1000)"
   ]
  },
  {
   "cell_type": "code",
   "execution_count": null,
   "metadata": {},
   "outputs": [],
   "source": []
  }
 ],
 "metadata": {
  "kernelspec": {
   "display_name": "Python 3 (ipykernel)",
   "language": "python",
   "name": "python3"
  },
  "language_info": {
   "codemirror_mode": {
    "name": "ipython",
    "version": 3
   },
   "file_extension": ".py",
   "mimetype": "text/x-python",
   "name": "python",
   "nbconvert_exporter": "python",
   "pygments_lexer": "ipython3",
   "version": "3.8.5"
  }
 },
 "nbformat": 4,
 "nbformat_minor": 4
}
