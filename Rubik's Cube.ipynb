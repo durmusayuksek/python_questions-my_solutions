{
 "cells": [
  {
   "cell_type": "markdown",
   "metadata": {},
   "source": [
    "Matt wants to make Rubik Cubes. These Rubiks should be in the shape of a full cube, and it shouldn't have any missing parts.\n",
    "And he asks his friend to draw some patterns. When his friend gives him these Rubik's Cube patterns, he realizes that some of them are wrong or missing. Help him identify them!\n",
    "\n",
    "The small cubes that make up the Rubik's Cube will be denoted by \"O\".\n",
    "\n",
    "Return \"Full\" if the Rubik Cube is full and no part is missing.\n",
    "Return \"Non-Full\" if the Rubik Cube is non-full and no part is missing.\n",
    "Return \"Missing {number of missing parts}\" if the Rubik Cube has missing parts.\n",
    "\n",
    "Every cubic (small part of a Rubik's Cube) will be denoted by \"O\". There won't be any other type.\n",
    "Don't forget to return by paying attention to capital letters."
   ]
  },
  {
   "cell_type": "code",
   "execution_count": 13,
   "metadata": {},
   "outputs": [
    {
     "name": "stdout",
     "output_type": "stream",
     "text": [
      "Full\n"
     ]
    }
   ],
   "source": [
    "def rubiks(cube):    \n",
    "    leng_c = len(cube)\n",
    "    full = True\n",
    "    non_full = False\n",
    "    missing = True\n",
    "    full_list = []\n",
    "    toplam = 0\n",
    "    for i in cube:\n",
    "        if len(i) != leng_c:\n",
    "            full = False\n",
    "        full_list.append(len(i))\n",
    "    if len(full_list) == leng_c and len(set(full_list)) > 1:\n",
    "        missing = True   \n",
    "    if full and missing:\n",
    "        return 'Full'\n",
    "    elif not full and missing:\n",
    "        if leng_c == max(full_list):\n",
    "            for i in full_list:\n",
    "                i = leng_c - i\n",
    "                toplam += i\n",
    "            return f'Missing, {toplam}'\n",
    "        else:\n",
    "            if len(set(full_list)) != 1:\n",
    "                for i in full_list:\n",
    "                    i = max(full_list) - i\n",
    "                    toplam += i\n",
    "                return f\"This is a {leng_c}X{max(full_list)} Rubik's cube with {toplam} missing.\"\n",
    "            else:\n",
    "                return 'Non-Full'\n",
    "            \n",
    "print(rubiks(([\"O\", \"O\", \"O\",\"O\"],\n",
    "              [\"O\", \"O\", \"O\",\"O\"],\n",
    "              [\"O\", \"O\", \"O\",\"O\"],\n",
    "              [\"O\", \"O\", \"O\",\"O\"])))"
   ]
  },
  {
   "cell_type": "code",
   "execution_count": null,
   "metadata": {},
   "outputs": [],
   "source": []
  }
 ],
 "metadata": {
  "kernelspec": {
   "display_name": "Python 3 (ipykernel)",
   "language": "python",
   "name": "python3"
  },
  "language_info": {
   "codemirror_mode": {
    "name": "ipython",
    "version": 3
   },
   "file_extension": ".py",
   "mimetype": "text/x-python",
   "name": "python",
   "nbconvert_exporter": "python",
   "pygments_lexer": "ipython3",
   "version": "3.8.5"
  }
 },
 "nbformat": 4,
 "nbformat_minor": 4
}
