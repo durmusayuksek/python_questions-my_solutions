{
 "cells": [
  {
   "cell_type": "markdown",
   "metadata": {},
   "source": [
    "```\n",
    "The modulo operation can also be done by repetitive subtraction or addition. In this challenge, you're going to create a function that mimics such an operation and returns the modulo of the two given numbers by recursively subtracting or adding them.\n",
    "\n",
    "Examples\n",
    "modulo(100, 25) ➞ 0\n",
    "\n",
    "modulo(-51, -4) ➞ -3\n",
    "\n",
    "modulo(3, 9) ➞ 3\n",
    "\n",
    "modulo(-21, 5) ➞ -1\n",
    "# -1 instead of 4 (which is what actually Python \n",
    "# yields with the modulo operator %)\n",
    "\n",
    "modulo(1024, 7) ➞ 2\n",
    "\n",
    "modulo(273, -6) ➞ 3\n",
    "```"
   ]
  },
  {
   "cell_type": "code",
   "execution_count": 4,
   "metadata": {},
   "outputs": [
    {
     "data": {
      "text/plain": [
       "-3"
      ]
     },
     "execution_count": 4,
     "metadata": {},
     "output_type": "execute_result"
    }
   ],
   "source": [
    "def modulo(a, b):\n",
    "    if abs(a) >= abs(b) :\n",
    "        if  (a > 0 and b > 0) or (a < 0 and b < 0) :\n",
    "            return modulo(a - b, b)  \n",
    "        else :\n",
    "            return modulo(a + b, b)    \n",
    "    else :\n",
    "        return a\n",
    "    \n",
    "modulo(-51, -4)    "
   ]
  },
  {
   "cell_type": "code",
   "execution_count": null,
   "metadata": {},
   "outputs": [],
   "source": []
  }
 ],
 "metadata": {
  "kernelspec": {
   "display_name": "Python 3 (ipykernel)",
   "language": "python",
   "name": "python3"
  },
  "language_info": {
   "codemirror_mode": {
    "name": "ipython",
    "version": 3
   },
   "file_extension": ".py",
   "mimetype": "text/x-python",
   "name": "python",
   "nbconvert_exporter": "python",
   "pygments_lexer": "ipython3",
   "version": "3.8.5"
  }
 },
 "nbformat": 4,
 "nbformat_minor": 4
}
