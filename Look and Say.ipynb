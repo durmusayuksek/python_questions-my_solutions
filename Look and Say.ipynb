{
 "cells": [
  {
   "cell_type": "markdown",
   "metadata": {},
   "source": [
    "```\n",
    "Given an integer, return a new integer according to the rules below:\n",
    "Split the number into groups of two digit numbers. If the number has an odd number of digits, return \"invalid\".\n",
    "For each group of two digit numbers, concatenate the last digit to a new string the same number of times as the value of the first digit.\n",
    "\n",
    "Return the result as an integer.\n",
    "look_and_say(3132) ➞ 111222\n",
    "\n",
    "# By reading the number digit by digit, you get three \"1\" and three \"2\".\n",
    "# Therefore, you put three ones and three two's together.\n",
    "# Remember to return an integer.\n",
    "\n",
    "Examples:\n",
    "\n",
    "look_and_say(95) ➞ 555555555\n",
    "\n",
    "look_and_say(1213141516171819) ➞ 23456789\n",
    "\n",
    "look_and_say(120520) ➞ 200\n",
    "\n",
    "look_and_say(231) ➞ \"invalid\"\n",
    "```"
   ]
  },
  {
   "cell_type": "code",
   "execution_count": 21,
   "metadata": {},
   "outputs": [
    {
     "data": {
      "text/plain": [
       "1222"
      ]
     },
     "execution_count": 21,
     "metadata": {},
     "output_type": "execute_result"
    }
   ],
   "source": [
    "def look_and_say(num):\n",
    "    \n",
    "    num = str(num)\n",
    "    res = []\n",
    "    resa = ''\n",
    "\n",
    "    if len(num) % 2 != 0:\n",
    "        return 'Invalid'\n",
    "    else:\n",
    "        for i in range(0,len(num),2):\n",
    "            res.append(num[i:i+2])\n",
    "\n",
    "        for i in res:\n",
    "            for j in range(int(i[0])):\n",
    "                resa += i[1]\n",
    "        resa = int(resa)\n",
    "        return resa\n",
    "    \n",
    "look_and_say(111222)"
   ]
  },
  {
   "cell_type": "code",
   "execution_count": null,
   "metadata": {},
   "outputs": [],
   "source": []
  }
 ],
 "metadata": {
  "kernelspec": {
   "display_name": "Python 3 (ipykernel)",
   "language": "python",
   "name": "python3"
  },
  "language_info": {
   "codemirror_mode": {
    "name": "ipython",
    "version": 3
   },
   "file_extension": ".py",
   "mimetype": "text/x-python",
   "name": "python",
   "nbconvert_exporter": "python",
   "pygments_lexer": "ipython3",
   "version": "3.8.5"
  }
 },
 "nbformat": 4,
 "nbformat_minor": 4
}
