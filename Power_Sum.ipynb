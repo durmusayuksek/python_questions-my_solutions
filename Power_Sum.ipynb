{
 "cells": [
  {
   "cell_type": "markdown",
   "metadata": {},
   "source": [
    "```\n",
    "The number 81 has a special property, a certain power of the sum of its digits is equal to 81 (nine squared). Eighty one (81), is the first number in having this property (not considering numbers of one digit). The next one, is 512. Let's see both cases with the details\n",
    "8 + 1 = 9 and 92 = 81\n",
    "512 = 5 + 1 + 2 = 8 and 83 = 512\n",
    "We need to make a function, power_sumDigTerm(), that receives a number n and may output the n-th term of this sequence of numbers. The cases we presented above means that\n",
    "power_sumDigTerm(1) == 81\n",
    "power_sumDigTerm(2) == 512\n",
    "```"
   ]
  },
  {
   "cell_type": "code",
   "execution_count": 15,
   "metadata": {},
   "outputs": [
    {
     "data": {
      "text/plain": [
       "614656"
      ]
     },
     "execution_count": 15,
     "metadata": {},
     "output_type": "execute_result"
    }
   ],
   "source": [
    "def power_sum(n):\n",
    "    toplam, a, sonuc, devam = 0, 2, False, True\n",
    "    for i in str(n):\n",
    "        toplam += int(i)\n",
    "    if toplam == 1:devam = False \n",
    "    while True:\n",
    "        if devam:\n",
    "            if toplam ** a == n:\n",
    "                sonuc = True\n",
    "                break\n",
    "            elif toplam ** a > n:\n",
    "                break\n",
    "            else:a += 1\n",
    "        else:break\n",
    "    return sonuc\n",
    "    \n",
    "def power_sumDigTerm(x):\n",
    "    a, b = 0, 10\n",
    "    while True:\n",
    "        if power_sum(b):\n",
    "            a += 1\n",
    "        if a == x:break\n",
    "        b += 1\n",
    "    return b\n",
    "    \n",
    "power_sumDigTerm(10)"
   ]
  },
  {
   "cell_type": "code",
   "execution_count": null,
   "metadata": {},
   "outputs": [],
   "source": []
  }
 ],
 "metadata": {
  "kernelspec": {
   "display_name": "Python 3 (ipykernel)",
   "language": "python",
   "name": "python3"
  },
  "language_info": {
   "codemirror_mode": {
    "name": "ipython",
    "version": 3
   },
   "file_extension": ".py",
   "mimetype": "text/x-python",
   "name": "python",
   "nbconvert_exporter": "python",
   "pygments_lexer": "ipython3",
   "version": "3.8.5"
  }
 },
 "nbformat": 4,
 "nbformat_minor": 4
}
