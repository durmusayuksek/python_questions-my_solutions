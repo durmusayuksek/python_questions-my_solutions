{
 "cells": [
  {
   "cell_type": "markdown",
   "metadata": {},
   "source": [
    "```\n",
    "Create a recursive function that tests if a number is the exact upper bound of the factorial of n. If so, return a list that contains the exact factorial bound and n, or otherwise, the string \"Not exact!\".\n",
    "\n",
    "Examples\n",
    "is_exact(6) ➞ [6, 3]\n",
    "\n",
    "is_exact(24) ➞ [24, 4]\n",
    "\n",
    "is_exact(125) ➞ \"Not exact!\"\n",
    "\n",
    "is_exact(720) ➞ [720, 6]\n",
    "\n",
    "is_exact(1024) ➞ \"Not exact!\"\n",
    "\n",
    "is_exact(40320) ➞ [40320, 8]\n",
    "```"
   ]
  },
  {
   "cell_type": "code",
   "execution_count": 1,
   "metadata": {},
   "outputs": [
    {
     "data": {
      "text/plain": [
       "[40320, 8]"
      ]
     },
     "execution_count": 1,
     "metadata": {},
     "output_type": "execute_result"
    }
   ],
   "source": [
    "def is_exact(n, liste = [1]):\n",
    "    facto = 1\n",
    "    if n != liste[0]: \n",
    "        liste += [liste[-1] + liste[0]]\n",
    "        if n % liste[-1] == 0:\n",
    "            n = n // liste[-1]\n",
    "            return is_exact(n, liste)\n",
    "        else:\n",
    "            return 'Not exact!'\n",
    "    else:\n",
    "        for i in liste:\n",
    "            facto *= i\n",
    "        return [facto, len(liste)]\n",
    "\n",
    "is_exact(40320)"
   ]
  },
  {
   "cell_type": "code",
   "execution_count": null,
   "metadata": {},
   "outputs": [],
   "source": []
  }
 ],
 "metadata": {
  "kernelspec": {
   "display_name": "Python 3 (ipykernel)",
   "language": "python",
   "name": "python3"
  },
  "language_info": {
   "codemirror_mode": {
    "name": "ipython",
    "version": 3
   },
   "file_extension": ".py",
   "mimetype": "text/x-python",
   "name": "python",
   "nbconvert_exporter": "python",
   "pygments_lexer": "ipython3",
   "version": "3.8.5"
  }
 },
 "nbformat": 4,
 "nbformat_minor": 4
}
