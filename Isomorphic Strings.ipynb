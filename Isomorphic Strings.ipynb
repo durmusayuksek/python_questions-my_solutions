{
 "cells": [
  {
   "cell_type": "markdown",
   "metadata": {},
   "source": [
    "```\n",
    "Given two strings s and t, create a function to determine if they are isomorphic. Two strings are isomorphic if the characters in s can be replaced to get t. All occurrences of a character must be replaced with another character while preserving the order of characters. No two characters may map to the same character but a character may map to itself.\n",
    "\n",
    "Examples\n",
    "is_isomorphic(\"egg\", \"add\") ➞ True\n",
    "\n",
    "is_isomorphic(\"aba\", \"baa\") ➞ False\n",
    "\n",
    "is_isomorphic(\"paper\", \"title\") ➞ True\n",
    "```"
   ]
  },
  {
   "cell_type": "code",
   "execution_count": 10,
   "metadata": {},
   "outputs": [
    {
     "data": {
      "text/plain": [
       "True"
      ]
     },
     "execution_count": 10,
     "metadata": {},
     "output_type": "execute_result"
    }
   ],
   "source": [
    "def isomorphic_strings(text_1, text_2):\n",
    "    dictt = {}\n",
    "    count = 0\n",
    "    result = True\n",
    "    if len(text_1) == len(text_2):\n",
    "        for i in text_1:\n",
    "            if i not in dictt.keys():\n",
    "                dictt[i] = text_2[count]\n",
    "                count += 1\n",
    "            else:\n",
    "                if dictt[i] == text_2[count]:\n",
    "                    count += 1\n",
    "                    continue\n",
    "                else:\n",
    "                    result = False\n",
    "                    break\n",
    "    else:\n",
    "        result = False\n",
    "    return result\n",
    "\n",
    "isomorphic_strings(\"paper\", \"title\")"
   ]
  },
  {
   "cell_type": "code",
   "execution_count": null,
   "metadata": {},
   "outputs": [],
   "source": []
  }
 ],
 "metadata": {
  "kernelspec": {
   "display_name": "Python 3 (ipykernel)",
   "language": "python",
   "name": "python3"
  },
  "language_info": {
   "codemirror_mode": {
    "name": "ipython",
    "version": 3
   },
   "file_extension": ".py",
   "mimetype": "text/x-python",
   "name": "python",
   "nbconvert_exporter": "python",
   "pygments_lexer": "ipython3",
   "version": "3.8.5"
  }
 },
 "nbformat": 4,
 "nbformat_minor": 4
}
