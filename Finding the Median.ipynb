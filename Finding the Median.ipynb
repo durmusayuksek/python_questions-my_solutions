{
 "cells": [
  {
   "cell_type": "code",
   "execution_count": 5,
   "metadata": {},
   "outputs": [
    {
     "name": "stdout",
     "output_type": "stream",
     "text": [
      "Enter a number or 'q' to quit > 55\n",
      "Enter a number or 'q' to quit > 32\n",
      "Enter a number or 'q' to quit > 765\n",
      "Enter a number or 'q' to quit > 98\n",
      "Enter a number or 'q' to quit > 23\n",
      "Enter a number or 'q' to quit > 6\n",
      "Enter a number or 'q' to quit > 12\n",
      "Enter a number or 'q' to quit > 4\n",
      "Enter a number or 'q' to quit > 1\n",
      "Enter a number or 'q' to quit > 98\n",
      "Enter a number or 'q' to quit > 54\n",
      "Enter a number or 'q' to quit > q\n",
      "Cikis yaptiniz ya da yanlis bir tusa bastiniz.\n",
      "[1, 4, 6, 12, 23, 32, 54, 55, 98, 98, 765]\n",
      "Medyan: 32\n"
     ]
    }
   ],
   "source": [
    "liste = []\n",
    "while True:\n",
    "    try:\n",
    "        giris = input(\"Enter a number or 'q' to quit > \")\n",
    "        int(giris)\n",
    "        liste.append(int(giris))\n",
    "    except:\n",
    "        print('Cikis yaptiniz ya da yanlis bir tusa bastiniz.')\n",
    "        break\n",
    "liste.sort()\n",
    "print(liste)\n",
    "deger = len(liste)\n",
    "if deger % 2 == 0:\n",
    "    nott = deger // 2\n",
    "    medyan = (liste[nott - 1] + liste[nott]) / 2\n",
    "else:\n",
    "    nott = (deger + 1) // 2\n",
    "    medyan = liste[nott - 1]\n",
    "print(f'Medyan: {medyan}')"
   ]
  },
  {
   "cell_type": "code",
   "execution_count": null,
   "metadata": {},
   "outputs": [],
   "source": []
  }
 ],
 "metadata": {
  "kernelspec": {
   "display_name": "Python 3",
   "language": "python",
   "name": "python3"
  },
  "language_info": {
   "codemirror_mode": {
    "name": "ipython",
    "version": 3
   },
   "file_extension": ".py",
   "mimetype": "text/x-python",
   "name": "python",
   "nbconvert_exporter": "python",
   "pygments_lexer": "ipython3",
   "version": "3.8.5"
  }
 },
 "nbformat": 4,
 "nbformat_minor": 4
}
