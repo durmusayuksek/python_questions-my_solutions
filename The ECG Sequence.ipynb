{
 "cells": [
  {
   "cell_type": "markdown",
   "metadata": {},
   "source": [
    "```\n",
    "In the ECG Sequence (that always starts with the numbers 1 and 2), every number that succeeds is the smallest not already present in the sequence and that shares a factor (excluding 1) with its preceding number. Every number in the ECG Sequence (besides 1 and 2) has a different index from its natural index in a normal numeric sequence. See the example below to establish the ECG Sequence Index of number 3.\n",
    "\n",
    "# Find the smallest number that is not in sequence...\n",
    "# This number shares a factor with the preceding?\n",
    "\n",
    "SEQUENCE = [1, 2]\n",
    "\n",
    "3 = no factors shared with 2\n",
    "4 = shares factor 2 with number 2\n",
    "\n",
    "SEQUENCE = [1, 2, 4]\n",
    "\n",
    "3 = no factors shared with 4\n",
    "5 = no factors shared with 4\n",
    "6 = shares factor 2 with number 4\n",
    "\n",
    "SEQUENCE = [1, 2, 4, 6]\n",
    "\n",
    "3 = shares factor 3 with number 6\n",
    "\n",
    "SEQUENCE = [1, 2, 4, 6, 3]\n",
    "\n",
    "Number 3 is at index 4 in the ECG Sequence.\n",
    "Given an integer n implement a function that returns its ECG Sequence Index.\n",
    "\n",
    "Examples\n",
    "ecg_seq_index(3) ➞ 4\n",
    "\n",
    "ecg_seq_index(5) ➞ 9\n",
    "\n",
    "ecg_seq_index(7) ➞ 13\n",
    "Notes\n",
    "ECG is the acronym for the electrocardiogram: if you try to graphically represent the trend of the sequence, a similar scheme appears.\n",
    "Curiosity: every odd prime p in the sequence is preceded by 2p and followed by 3p.\n",
    "```"
   ]
  },
  {
   "cell_type": "code",
   "execution_count": 1,
   "metadata": {},
   "outputs": [
    {
     "data": {
      "text/plain": [
       "'List: [1, 2, 4, 6, 3, 9, 12, 8, 10, 5, 15, 18, 14, 7, 21, 24, 16, 20, 22, 11] || Index: 19'"
      ]
     },
     "execution_count": 1,
     "metadata": {},
     "output_type": "execute_result"
    }
   ],
   "source": [
    "def prime(y):\n",
    "    prime_list = []\n",
    "    for i in range(2, y + 1):\n",
    "        prime_pre_list = [j for j in range(1, i + 1) if i % j == 0]\n",
    "        if prime_pre_list == [1, i]: prime_list.append(i)\n",
    "    return prime_list\n",
    "        \n",
    "def common_prime(x, y):\n",
    "    for i in prime(y):\n",
    "        if x % i == 0 and y % i == 0:\n",
    "            return True\n",
    "            break\n",
    "    else:\n",
    "        return False\n",
    "\n",
    "def ecg_sequence(num):\n",
    "    start = [1, 2]\n",
    "    left = []\n",
    "    left_continue = False\n",
    "    n = 3\n",
    "    while True:\n",
    "        if not left_continue:\n",
    "            if common_prime(start[-1], n):\n",
    "                start.append(n)\n",
    "                left_continue = True\n",
    "            else:\n",
    "                if not n in left:\n",
    "                    left.append(n)\n",
    "            n += 1\n",
    "        else:\n",
    "            a = 0\n",
    "            while a < len(left):\n",
    "                if common_prime(start[-1], left[a]):\n",
    "                    if left[a] not in start:\n",
    "                        start.append(left[a])\n",
    "                        a = 0\n",
    "                    else:\n",
    "                        a += 1\n",
    "                else:\n",
    "                    left_continue = False\n",
    "                    a += 1\n",
    "        if num in start:\n",
    "            break\n",
    "    return f'List: {start} || Index: {start.index(num)}'\n",
    "\n",
    "ecg_sequence(11)"
   ]
  },
  {
   "cell_type": "code",
   "execution_count": null,
   "metadata": {},
   "outputs": [],
   "source": []
  }
 ],
 "metadata": {
  "kernelspec": {
   "display_name": "Python 3 (ipykernel)",
   "language": "python",
   "name": "python3"
  },
  "language_info": {
   "codemirror_mode": {
    "name": "ipython",
    "version": 3
   },
   "file_extension": ".py",
   "mimetype": "text/x-python",
   "name": "python",
   "nbconvert_exporter": "python",
   "pygments_lexer": "ipython3",
   "version": "3.8.5"
  }
 },
 "nbformat": 4,
 "nbformat_minor": 4
}
