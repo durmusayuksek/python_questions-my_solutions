{
 "cells": [
  {
   "cell_type": "markdown",
   "metadata": {},
   "source": [
    "```\n",
    "Tap code is a way to communicate messages via a series of taps (or knocks) for each letter in the message. Letters are arranged in a 5x5 polybius square, with the letter \"K\" being moved to the space with \"C\".\n",
    "\n",
    "   1  2  3  4  5\n",
    "1  A  B C\\K D  E\n",
    "2  F  G  H  I  J\n",
    "3  L  M  N  O  P\n",
    "4  Q  R  S  T  U\n",
    "5  V  W  X  Y  Z\n",
    "Each letter is translated by tapping out the row and column number that the letter appears in, leaving a short pause in-between. If we use \".\" for each tap, and a single space to denote the pause:\n",
    "\n",
    "text = \"break\"\n",
    "\n",
    "\"B\" = (1, 2) = \". ..\"\n",
    "\"R\" = (4, 2) = \".... ..\"\n",
    "\"E\" = (1, 5) = \". .....\"\n",
    "\"A\" = (1, 1) = \". .\"\n",
    "\"K\" = (1, 3) = \". ...\"\n",
    "Another space is added between the groups of taps for each letter to give the final code:\n",
    "\n",
    "\"break\" = \". .. .... .. . ..... . . . ...\"\n",
    "Write a function that returns the tap code if given a word, or returns the translated word (in lower case) if given the tap code. When translating from tap-code, default to the letter \"c\" if the tap-code \". ...\" is found.\n",
    "\n",
    "Examples\n",
    "tap_code(\"break\") ➞ \". .. .... .. . ..... . . . ...\"\n",
    "\n",
    "tap_code(\".... ... ... ..... . ..... ... ... .... ....\") ➞ \"spent\"\n",
    "```"
   ]
  },
  {
   "cell_type": "code",
   "execution_count": 1,
   "metadata": {},
   "outputs": [
    {
     "data": {
      "text/plain": [
       "'spent'"
      ]
     },
     "execution_count": 1,
     "metadata": {},
     "output_type": "execute_result"
    }
   ],
   "source": [
    "import string\n",
    "harfler = string.ascii_uppercase\n",
    "\n",
    "def tap_code(text):\n",
    "    a = 0\n",
    "    dictt, dictt_2 = {}, {}\n",
    "    nokta = False\n",
    "    result = ''\n",
    "\n",
    "    for i in range(1, 6):\n",
    "        for j in range(1, 6):\n",
    "            if i == 1 and j == 3:\n",
    "                dictt[str(i) + str(j)] = harfler[a] + harfler[a + 8]\n",
    "            else:\n",
    "                if a == 10:\n",
    "                    a += 1\n",
    "                dictt[str(i) + str(j)] = harfler[a]\n",
    "            a += 1\n",
    "    for k, v in dictt.items():\n",
    "        dictt_2[v] = k\n",
    "\n",
    "    if '.' in text: nokta = True\n",
    "\n",
    "    if not nokta:\n",
    "        for i in text.upper():\n",
    "            if i != 'C' and i != 'K':\n",
    "                for j in dictt_2[i]:\n",
    "                    res = ''.join(int(j) * '.')\n",
    "                    result += res + ' '\n",
    "            else:\n",
    "                for j in '13':\n",
    "                    res = ''.join(int(j) * '.')\n",
    "                    result += res + ' '\n",
    "        result = result.rstrip()\n",
    "    else:\n",
    "        text_2 = text.split()\n",
    "        b = 0\n",
    "        ikili = ''\n",
    "        for i in text_2:\n",
    "            x = len(i)\n",
    "            ikili += str(x)\n",
    "            b += 1\n",
    "            if b % 2 == 0:\n",
    "                if ikili == '13':\n",
    "                    res = 'C'\n",
    "                else:\n",
    "                    res = dictt[ikili]\n",
    "                ikili = ''\n",
    "                result += res\n",
    "        result = result.lower()\n",
    "    return result\n",
    "\n",
    "tap_code(\".... ... ... ..... . ..... ... ... .... ....\")"
   ]
  },
  {
   "cell_type": "code",
   "execution_count": null,
   "metadata": {},
   "outputs": [],
   "source": []
  }
 ],
 "metadata": {
  "kernelspec": {
   "display_name": "Python 3 (ipykernel)",
   "language": "python",
   "name": "python3"
  },
  "language_info": {
   "codemirror_mode": {
    "name": "ipython",
    "version": 3
   },
   "file_extension": ".py",
   "mimetype": "text/x-python",
   "name": "python",
   "nbconvert_exporter": "python",
   "pygments_lexer": "ipython3",
   "version": "3.8.5"
  }
 },
 "nbformat": 4,
 "nbformat_minor": 4
}
