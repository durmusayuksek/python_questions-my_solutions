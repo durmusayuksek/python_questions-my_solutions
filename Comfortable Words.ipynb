{
 "cells": [
  {
   "cell_type": "markdown",
   "metadata": {},
   "source": [
    "Task : Find out if the given word is \"comfortable words\" in relation to the ten-finger keyboard use.\n",
    "\n",
    "A comfortable word is a word which you can type always alternating the hand you type with \n",
    "(assuming you type using a Q-keyboard and use of the ten-fingers standard).\n",
    "The word will always be a string consisting of only letters from a to z.\n",
    "Write a program which returns True if it's a comfortable word or False otherwise."
   ]
  },
  {
   "cell_type": "code",
   "execution_count": 1,
   "metadata": {},
   "outputs": [
    {
     "name": "stdout",
     "output_type": "stream",
     "text": [
      "Please enter a text > where are you from\n",
      "Your text is a comfortable word.\n"
     ]
    }
   ],
   "source": [
    "left_letter = ['a', 'b', 'c', 'd', 'e', 'f', 'g', 'q', 'r', 's', 't', 'v', 'w', 'x', 'z']\n",
    "right_letter = ['h', 'i', 'j', 'k', 'l', 'm', 'n', 'o', 'p', 'u', 'y']\n",
    "your_text = input('Please enter a text > ')\n",
    "left_bool = False\n",
    "right_bool = False\n",
    "for i in your_text:\n",
    "    if i in left_letter:\n",
    "        left_bool = True\n",
    "    if i in right_letter:\n",
    "        right_bool = True\n",
    "if right_bool == True and left_bool == True:\n",
    "    print('Your text is a comfortable word.')\n",
    "elif right_bool == True and left_bool == False:\n",
    "    print('Your text contains only right-hand letters.')\n",
    "elif right_bool == False and left_bool == True:\n",
    "    print('Your text contains only left-hand letters.')\n",
    "else:\n",
    "    print('Your text does not contain any letters.')"
   ]
  },
  {
   "cell_type": "code",
   "execution_count": null,
   "metadata": {},
   "outputs": [],
   "source": []
  }
 ],
 "metadata": {
  "kernelspec": {
   "display_name": "Python 3",
   "language": "python",
   "name": "python3"
  },
  "language_info": {
   "codemirror_mode": {
    "name": "ipython",
    "version": 3
   },
   "file_extension": ".py",
   "mimetype": "text/x-python",
   "name": "python",
   "nbconvert_exporter": "python",
   "pygments_lexer": "ipython3",
   "version": "3.8.5"
  }
 },
 "nbformat": 4,
 "nbformat_minor": 4
}
