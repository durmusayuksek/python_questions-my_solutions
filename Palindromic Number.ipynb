{
 "cells": [
  {
   "cell_type": "markdown",
   "metadata": {},
   "source": [
    "```\n",
    "A palindromic number reads the same both ways. The largest palindrome made from the product of two 2-digit numbers is 9009 = 91 × 99.\n",
    "Find the largest palindrome made from the product of two 3-digit numbers.\n",
    "```"
   ]
  },
  {
   "cell_type": "code",
   "execution_count": 66,
   "metadata": {},
   "outputs": [
    {
     "data": {
      "text/plain": [
       "(913, 993, 906609)"
      ]
     },
     "execution_count": 66,
     "metadata": {},
     "output_type": "execute_result"
    }
   ],
   "source": [
    "def palindromic(n):\n",
    "    num1 = int(''.join(['9' for i in range(n)]))\n",
    "    num2 = int(''.join(['9' for i in range(n)]))\n",
    "\n",
    "    x = num1 * num2\n",
    "    son = False\n",
    "    for i in range(x, 1, -1):\n",
    "        if str(i) == str(i)[::-1]:\n",
    "            res = i\n",
    "            for j in range(num1, int(str(num1)[:len(str(num1))-1]), -1):\n",
    "                if res % j == 0 and len(str(res // j)) == n:\n",
    "                    a = res // j\n",
    "                    b = j\n",
    "                    son = True\n",
    "                    break\n",
    "        if son:\n",
    "            break\n",
    "\n",
    "    return a, b, a * b\n",
    "\n",
    "palindromic(3)"
   ]
  },
  {
   "cell_type": "code",
   "execution_count": 67,
   "metadata": {},
   "outputs": [
    {
     "name": "stdout",
     "output_type": "stream",
     "text": [
      "Execution time is: 0.08019189500009816\n"
     ]
    }
   ],
   "source": [
    "import timeit\n",
    "\n",
    "statement = '''\n",
    "def palindromic(n):\n",
    "    num1 = int(''.join(['9' for i in range(n)]))\n",
    "    num2 = int(''.join(['9' for i in range(n)]))\n",
    "\n",
    "    x = num1 * num2\n",
    "    son = False\n",
    "    for i in range(x, 1, -1):\n",
    "        if str(i) == str(i)[::-1]:\n",
    "            res = i\n",
    "            for j in range(num1, int(str(num1)[:len(str(num1))-1]), -1):\n",
    "                if res % j == 0 and len(str(res // j)) == n:\n",
    "                    a = res // j\n",
    "                    b = j\n",
    "                    son = True\n",
    "                    break\n",
    "        if son:\n",
    "            break\n",
    "\n",
    "    return a, b, a * b\n",
    "\n",
    "palindromic(3)'''\n",
    "\n",
    "print(f'Execution time is: {timeit.timeit(stmt=statement, number=1)}')"
   ]
  },
  {
   "cell_type": "code",
   "execution_count": null,
   "metadata": {},
   "outputs": [],
   "source": []
  }
 ],
 "metadata": {
  "kernelspec": {
   "display_name": "Python 3 (ipykernel)",
   "language": "python",
   "name": "python3"
  },
  "language_info": {
   "codemirror_mode": {
    "name": "ipython",
    "version": 3
   },
   "file_extension": ".py",
   "mimetype": "text/x-python",
   "name": "python",
   "nbconvert_exporter": "python",
   "pygments_lexer": "ipython3",
   "version": "3.8.5"
  }
 },
 "nbformat": 4,
 "nbformat_minor": 4
}
