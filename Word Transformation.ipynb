{
 "cells": [
  {
   "cell_type": "markdown",
   "id": "29f7cef2",
   "metadata": {},
   "source": [
    "```\n",
    "This problem was asked by Facebook.\n",
    "Given a start word, an end word, and a dictionary of valid words, find the\n",
    "shortest transformation sequence from start to end such that only one letter is\n",
    "changed at each step of the sequence, and each transformed word exists in the\n",
    "dictionary. If there is no possible transformation, return null. Each word in\n",
    "the dictionary have the same length as start and end and is lowercase.\n",
    "For example, given start = “dog”, end = “cat”, and dictionary = {“dot”, “dop”,\n",
    "“dat”, “cat”}, return [“dog”, “dot”, “dat”, “cat”].\n",
    "Given start = “dog”, end = “cat”, and dictionary = {“dot”, “tod”, “dat”, “dar”},\n",
    "return null as there is no possible transformation from dog to cat.\n",
    "```"
   ]
  },
  {
   "cell_type": "code",
   "execution_count": 1,
   "id": "8d48f33a",
   "metadata": {},
   "outputs": [
    {
     "data": {
      "text/plain": [
       "['dog', 'dot', 'dat', 'cat']"
      ]
     },
     "execution_count": 1,
     "metadata": {},
     "output_type": "execute_result"
    }
   ],
   "source": [
    "import random\n",
    "\n",
    "def transformation(start, end, dictionary):\n",
    "\n",
    "    dictt = list(dictionary)\n",
    "    start_cons = start\n",
    "    resa = []\n",
    "    count = 0\n",
    "\n",
    "    def diff(x, y):\n",
    "        res = 0\n",
    "        for i in range(len(x)):\n",
    "            if x[i] == y[i]:\n",
    "                res += 1\n",
    "        return res == len(x) - 1\n",
    "\n",
    "    lst = [start_cons]\n",
    "    while True:\n",
    "        n = random.randint(0, len(dictt)-1)\n",
    "        if diff(start, dictt[n]):\n",
    "            if dictt[n] not in lst:\n",
    "                start = dictt[n]\n",
    "                lst.append(dictt[n])\n",
    "                count = 0\n",
    "        else:\n",
    "            count += 1\n",
    "        if count == 100:\n",
    "            lst = [start_cons]\n",
    "        if len(lst) >= 2 and (lst[0] == start_cons and lst[-1] == end):\n",
    "            resa.append(lst)\n",
    "            break\n",
    "\n",
    "    return resa[0]\n",
    "\n",
    "transformation('dog', 'cat', {'dot', 'dop', 'dat', 'cat'})"
   ]
  },
  {
   "cell_type": "code",
   "execution_count": null,
   "id": "aa00b211",
   "metadata": {},
   "outputs": [],
   "source": []
  }
 ],
 "metadata": {
  "kernelspec": {
   "display_name": "Python 3 (ipykernel)",
   "language": "python",
   "name": "python3"
  },
  "language_info": {
   "codemirror_mode": {
    "name": "ipython",
    "version": 3
   },
   "file_extension": ".py",
   "mimetype": "text/x-python",
   "name": "python",
   "nbconvert_exporter": "python",
   "pygments_lexer": "ipython3",
   "version": "3.9.7"
  }
 },
 "nbformat": 4,
 "nbformat_minor": 5
}
