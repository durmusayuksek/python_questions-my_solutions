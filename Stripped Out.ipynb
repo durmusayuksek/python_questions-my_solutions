{
 "cells": [
  {
   "cell_type": "markdown",
   "metadata": {},
   "source": [
    "```\n",
    "Complete the solution so that it strips all text that follows any of a set of comment markers passed in. Any whitespace at the end of the line should also be stripped out.\n",
    "\n",
    "Example:\n",
    "\n",
    "Given an input string of:\n",
    "apples, pears # and bananas\n",
    "grapes\n",
    "bananas !apples\n",
    "\n",
    "The output expected would be:\n",
    "apples, pears\n",
    "grapes\n",
    "bananas\n",
    "\n",
    "The code would be called like so:\n",
    "result = solution(\"apples, pears # and bananas\\ngrapes\\nbananas !apples\", [\"#\", \"!\"])\n",
    "# result should == \"apples, pears\\ngrapes\\nbananas\"\n",
    "\n",
    "solution(\"apples, pears # and bananas\\ngrapes\\nbananas !apples\", [\"#\", \"!\"]) >>>>>  \"apples, pears\\ngrapes\\nbananas\"\n",
    "solution(\"a #b\\nc\\nd $e f g\", [\"#\", \"$\"])>>>>>> \"a\\nc\\nd\"\n",
    "```"
   ]
  },
  {
   "cell_type": "code",
   "execution_count": 20,
   "metadata": {},
   "outputs": [
    {
     "data": {
      "text/plain": [
       "'apples, pears\\ngrapes\\nbananas'"
      ]
     },
     "execution_count": 20,
     "metadata": {},
     "output_type": "execute_result"
    }
   ],
   "source": [
    "def stripped_out(text, lst):\n",
    "\n",
    "    res = ''\n",
    "    i = 0\n",
    "    while True:\n",
    "        if text[i] in lst:\n",
    "            res = res.strip()\n",
    "            t = text[i+1:].find('\\n')\n",
    "            if t != -1:\n",
    "                text = text[i+t+1:]\n",
    "                i = 0\n",
    "            else:\n",
    "                break\n",
    "        else:\n",
    "            res += text[i]\n",
    "            i += 1\n",
    "        if len(text) == i:\n",
    "            break\n",
    "    return res\n",
    "\n",
    "stripped_out(\"apples, pears # and bananas\\ngrapes\\nbananas !apples\", [\"#\", \"!\"])"
   ]
  },
  {
   "cell_type": "code",
   "execution_count": null,
   "metadata": {},
   "outputs": [],
   "source": []
  }
 ],
 "metadata": {
  "kernelspec": {
   "display_name": "Python 3 (ipykernel)",
   "language": "python",
   "name": "python3"
  },
  "language_info": {
   "codemirror_mode": {
    "name": "ipython",
    "version": 3
   },
   "file_extension": ".py",
   "mimetype": "text/x-python",
   "name": "python",
   "nbconvert_exporter": "python",
   "pygments_lexer": "ipython3",
   "version": "3.8.5"
  }
 },
 "nbformat": 4,
 "nbformat_minor": 4
}
