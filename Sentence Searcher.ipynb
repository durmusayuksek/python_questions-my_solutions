{
 "cells": [
  {
   "cell_type": "markdown",
   "metadata": {},
   "source": [
    "```\n",
    "Create a function that returns the sentence that contains the word at index n. Remember to include the full stop at the end.\n",
    "\n",
    "Worked Example\n",
    "\n",
    "txt = \"I have a dog. I have a log. There is no stopping me now.\"\n",
    "\n",
    "sentence_searcher(txt, 7) ➞ \"I have a log.\"\n",
    "# The word at index 7 is \"log\".\n",
    "# The full sentence that contains the word at index 7 is \"I have a log.\"\n",
    "# Return the sentence.\n",
    "\n",
    "Examples\n",
    "\n",
    "sentence_searcher(txt, 2) ➞ \"I have a dog.\"\n",
    "\n",
    "sentence_searcher(txt, 4) ➞ \"I have a log.\"\n",
    "\n",
    "sentence_searcher(txt, -1) ➞ \"There is no stopping me now.\"\n",
    "# The index at -1 is the last word.\n",
    "# The last word is \"now\".\n",
    "\n",
    "Notes\n",
    "\n",
    "All sentences will end with a full stop.\n",
    "You need to also account for negative indexes.\n",
    "```"
   ]
  },
  {
   "cell_type": "code",
   "execution_count": 92,
   "metadata": {},
   "outputs": [
    {
     "data": {
      "text/plain": [
       "'There is no stopping me now.'"
      ]
     },
     "execution_count": 92,
     "metadata": {},
     "output_type": "execute_result"
    }
   ],
   "source": [
    "def sentence_searcher(txt, index):\n",
    "    \n",
    "    text = txt.split()\n",
    "\n",
    "    if index >= 0:index = index\n",
    "    else:index = len(text) - abs(index)\n",
    "\n",
    "    text_dot = txt.split('.')\n",
    "\n",
    "    word = ''.join([i for i in text[index] if i.isalnum()])\n",
    "\n",
    "    res, ind = [], 0\n",
    "    for i in text_dot:\n",
    "        i = i.split()\n",
    "        new = []\n",
    "        for j in i:\n",
    "            new.append([ind, j])\n",
    "            ind += 1\n",
    "        res.append(new)\n",
    "\n",
    "    for i in text_dot:\n",
    "        if word in i:\n",
    "            ind_2 = 0\n",
    "            for j in res:\n",
    "                if [index, word] in j:\n",
    "                    result = text_dot[ind_2].strip()\n",
    "                    break\n",
    "                else:\n",
    "                    ind_2 += 1\n",
    "\n",
    "    return f'{result}.'\n",
    "\n",
    "sentence_searcher(\"I have a dog. I have a log. There is no stopping me now.\", -1)"
   ]
  },
  {
   "cell_type": "code",
   "execution_count": null,
   "metadata": {},
   "outputs": [],
   "source": []
  }
 ],
 "metadata": {
  "kernelspec": {
   "display_name": "Python 3 (ipykernel)",
   "language": "python",
   "name": "python3"
  },
  "language_info": {
   "codemirror_mode": {
    "name": "ipython",
    "version": 3
   },
   "file_extension": ".py",
   "mimetype": "text/x-python",
   "name": "python",
   "nbconvert_exporter": "python",
   "pygments_lexer": "ipython3",
   "version": "3.8.5"
  }
 },
 "nbformat": 4,
 "nbformat_minor": 4
}
