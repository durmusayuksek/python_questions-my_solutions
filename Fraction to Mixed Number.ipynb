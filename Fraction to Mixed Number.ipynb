{
 "cells": [
  {
   "cell_type": "markdown",
   "metadata": {},
   "source": [
    "```\n",
    "Create a function that takes a string representing a fraction, and return a string representing that input as a mixed number.\n",
    "\n",
    "Mixed numbers are of the form 1 2/3 — note the space between the whole number portion and the fraction portion.\n",
    "\n",
    "Resulting fractions should be fully reduced (see example #2).\n",
    "If a result is a whole number with no fractional remainder, return only the whole number portion (see example #3).\n",
    "\n",
    "If a result is only fractional with no whole number, return only the fractional portion (see example #4).\n",
    "\n",
    "If a result is negative, the whole number should carry the negative sign. If the result would not have a whole number portion, the numerator of the fractional portion should carry the negative sign (see examples #5 - #7).\n",
    "\n",
    "Examples\n",
    "mixed_number(\"5/4\") ➞ \"1 1/4\"\n",
    "\n",
    "mixed_number(\"6/4\") ➞ \"1 1/2\"\n",
    "\n",
    "mixed_number(\"8/4\") ➞ \"2\"\n",
    "\n",
    "mixed_number(\"4/6\") ➞ \"2/3\"\n",
    "\n",
    "mixed_number(\"-1/4\") ➞ \"-1/4\"\n",
    "\n",
    "mixed_number(\"-5/4\") ➞ \"-1 1/4\"\n",
    "\n",
    "mixed_number(\"-8/4\") ➞ \"-2\"\n",
    "```"
   ]
  },
  {
   "cell_type": "code",
   "execution_count": 23,
   "metadata": {},
   "outputs": [
    {
     "name": "stdout",
     "output_type": "stream",
     "text": [
      "-20 1/5\n"
     ]
    }
   ],
   "source": [
    "num = '-101/5'\n",
    "\n",
    "negative = False\n",
    "if num.startswith('-'):\n",
    "    negative = True\n",
    "    num = num.replace('-', '')\n",
    "    \n",
    "num = num.split('/')    \n",
    "k, v = int(num[0]), int(num[1])\n",
    "    \n",
    "if k >= v:\n",
    "    x = k // v\n",
    "    y = k % v\n",
    "    i = 2\n",
    "    while i <= y:\n",
    "        if y % i == 0 and v % i == 0:\n",
    "            y = y // i\n",
    "            v = v // i\n",
    "            i += 1\n",
    "    if y != 0:    \n",
    "        res = str(x) + ' ' + str(y) + '/' + str(v)\n",
    "    else:\n",
    "        res = str(x)\n",
    "else:\n",
    "    i = 2\n",
    "    while i <= k:\n",
    "        if k % i == 0 and v % i == 0:\n",
    "            k = k // i\n",
    "            v = v // i\n",
    "            i += 1\n",
    "    res = str(k) + '/' + str(v)\n",
    "    \n",
    "if negative:\n",
    "    res = '-' + res\n",
    "\n",
    "print(res)"
   ]
  },
  {
   "cell_type": "code",
   "execution_count": null,
   "metadata": {},
   "outputs": [],
   "source": []
  }
 ],
 "metadata": {
  "kernelspec": {
   "display_name": "Python 3 (ipykernel)",
   "language": "python",
   "name": "python3"
  },
  "language_info": {
   "codemirror_mode": {
    "name": "ipython",
    "version": 3
   },
   "file_extension": ".py",
   "mimetype": "text/x-python",
   "name": "python",
   "nbconvert_exporter": "python",
   "pygments_lexer": "ipython3",
   "version": "3.8.5"
  }
 },
 "nbformat": 4,
 "nbformat_minor": 4
}
