{
 "cells": [
  {
   "cell_type": "markdown",
   "metadata": {},
   "source": [
    "```\n",
    "Get the next prime number!\n",
    "You will get a numbern (>= 0) and your task is to find the next prime number.\n",
    "Make sure to optimize your code: there will numbers tested up to about 10^12.\n",
    "\n",
    "Examples\n",
    "5   =>  7\n",
    "12  =>  13\n",
    "```"
   ]
  },
  {
   "cell_type": "code",
   "execution_count": 3,
   "metadata": {},
   "outputs": [
    {
     "data": {
      "text/plain": [
       "113"
      ]
     },
     "execution_count": 3,
     "metadata": {},
     "output_type": "execute_result"
    }
   ],
   "source": [
    "def prime(x):\n",
    "    res = []\n",
    "    for i in range(2, x):\n",
    "        if x % i == 0:\n",
    "            res.append(i)\n",
    "    if res == []:\n",
    "        return True\n",
    "    else:\n",
    "        return False\n",
    "    \n",
    "def next_prime(n):\n",
    "    j = n + 1\n",
    "    while True:\n",
    "        if prime(j):\n",
    "            break\n",
    "        else:\n",
    "            j += 1\n",
    "    return j\n",
    "\n",
    "next_prime(111)"
   ]
  },
  {
   "cell_type": "code",
   "execution_count": null,
   "metadata": {},
   "outputs": [],
   "source": []
  }
 ],
 "metadata": {
  "kernelspec": {
   "display_name": "Python 3 (ipykernel)",
   "language": "python",
   "name": "python3"
  },
  "language_info": {
   "codemirror_mode": {
    "name": "ipython",
    "version": 3
   },
   "file_extension": ".py",
   "mimetype": "text/x-python",
   "name": "python",
   "nbconvert_exporter": "python",
   "pygments_lexer": "ipython3",
   "version": "3.8.5"
  }
 },
 "nbformat": 4,
 "nbformat_minor": 4
}
