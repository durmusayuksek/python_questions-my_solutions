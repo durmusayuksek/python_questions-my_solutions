{
 "cells": [
  {
   "cell_type": "markdown",
   "metadata": {},
   "source": [
    "```\n",
    "Boxing yarismasi oyunu:\n",
    "2 Player sirayla birbirlerine vurmaya basliyor. İlk baslayani kura ile belirliyorlar. Biri yikilana kadar oyun devam ediyor. Her yumrugun diger oyuncuyu yikma ihtimali 10%.\n",
    "\n",
    "Output:\n",
    "\n",
    "Fight!!!\n",
    "Player #2 hits\n",
    "Player #1 hits\n",
    "Player #2 hits\n",
    "...\n",
    "Player #1 hits and knocks out!\n",
    "Game over!!!\n",
    "```"
   ]
  },
  {
   "cell_type": "code",
   "execution_count": 22,
   "metadata": {},
   "outputs": [
    {
     "name": "stdout",
     "output_type": "stream",
     "text": [
      "Player #1 hits\n",
      "Player #2 hits\n",
      "Player #1 hits\n",
      "Player #2 hits\n",
      "Player #1 hits\n",
      "Player #2 hits\n",
      "Player #1 hits\n",
      "Player #2 hits\n",
      "Player #1 hits\n",
      "Player #2 hits\n",
      "Player #1 hits\n",
      "Player #2 hits\n",
      "Player #1 hits\n",
      "Player #2 hits\n",
      "Player #1 hits\n",
      "Player #2 hits\n",
      "Player #1 hits\n",
      "Player #2 hits\n",
      "Player #1 hits and knocks out!\n",
      "Game Over!!!\n"
     ]
    }
   ],
   "source": [
    "import random\n",
    "\n",
    "lst = [1, 1]\n",
    "\n",
    "num = random.choice([0, 1])\n",
    "n = 0\n",
    "while n < 20:\n",
    "    num += 1\n",
    "    if num == 2:\n",
    "        num = 0\n",
    "        x = round(lst[num] - 0.1, 1)\n",
    "        if x != 0:\n",
    "            print(f'Player #{num + 2} hits')\n",
    "        else:\n",
    "            break\n",
    "        lst.pop(num)\n",
    "        lst.append(x)\n",
    "        lst = lst[::-1]\n",
    "    else:\n",
    "        x = round(lst[num] - 0.1, 1)\n",
    "        if x != 0:\n",
    "            print(f'Player #{num} hits')\n",
    "        else:\n",
    "            break\n",
    "        lst.pop(num)\n",
    "        lst.append(x)\n",
    "    n += 1\n",
    "if num == 0:\n",
    "    num = 2\n",
    "else:\n",
    "    num = 1\n",
    "print(f'Player #{num} hits and knocks out!\\nGame Over!!!')"
   ]
  },
  {
   "cell_type": "code",
   "execution_count": null,
   "metadata": {},
   "outputs": [],
   "source": []
  }
 ],
 "metadata": {
  "kernelspec": {
   "display_name": "Python 3 (ipykernel)",
   "language": "python",
   "name": "python3"
  },
  "language_info": {
   "codemirror_mode": {
    "name": "ipython",
    "version": 3
   },
   "file_extension": ".py",
   "mimetype": "text/x-python",
   "name": "python",
   "nbconvert_exporter": "python",
   "pygments_lexer": "ipython3",
   "version": "3.8.5"
  }
 },
 "nbformat": 4,
 "nbformat_minor": 4
}
