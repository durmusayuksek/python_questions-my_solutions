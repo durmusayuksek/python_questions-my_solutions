{
 "cells": [
  {
   "cell_type": "markdown",
   "metadata": {},
   "source": [
    "```\n",
    "Find lcm (least common multiple) with divisors of three or more numbers\n",
    "Examples:\n",
    "\n",
    "lcm([12, 8, 16])  ===>  ([2, 2, 2, 2, 3], 48)\n",
    "lcm([1, 2, 3, 4, 5, 6, 7, 8, 9])  ===>  ([2, 2, 2, 3, 3, 5, 7], 2520)\n",
    "```"
   ]
  },
  {
   "cell_type": "code",
   "execution_count": 5,
   "metadata": {},
   "outputs": [
    {
     "data": {
      "text/plain": [
       "([2, 2, 2, 3, 3, 5, 7], 2520)"
      ]
     },
     "execution_count": 5,
     "metadata": {},
     "output_type": "execute_result"
    }
   ],
   "source": [
    "from functools import reduce\n",
    "def least_common(liste):\n",
    "    a = 2\n",
    "    res = []\n",
    "    while True:\n",
    "        b = False\n",
    "        for i in range(len(liste)):\n",
    "            if liste[i] % a == 0:\n",
    "                b = True\n",
    "                liste[i] = liste[i] // a\n",
    "                liste.insert(i, liste[i])\n",
    "                liste.pop(i + 1)\n",
    "        if b:res.append(a)\n",
    "        else:a += 1\n",
    "        if liste.count(1) == len(liste):break\n",
    "    result = reduce(lambda x, y: x * y, res)\n",
    "    return (res, result)\n",
    "\n",
    "least_common([1, 2, 3, 4, 5, 6, 7, 8, 9])"
   ]
  },
  {
   "cell_type": "code",
   "execution_count": null,
   "metadata": {},
   "outputs": [],
   "source": []
  }
 ],
 "metadata": {
  "kernelspec": {
   "display_name": "Python 3 (ipykernel)",
   "language": "python",
   "name": "python3"
  },
  "language_info": {
   "codemirror_mode": {
    "name": "ipython",
    "version": 3
   },
   "file_extension": ".py",
   "mimetype": "text/x-python",
   "name": "python",
   "nbconvert_exporter": "python",
   "pygments_lexer": "ipython3",
   "version": "3.8.5"
  }
 },
 "nbformat": 4,
 "nbformat_minor": 4
}
