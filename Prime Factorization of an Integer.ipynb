{
 "cells": [
  {
   "cell_type": "markdown",
   "metadata": {},
   "source": [
    "Create a function that returns a list containing the prime factors of whatever integer is passed to it."
   ]
  },
  {
   "cell_type": "code",
   "execution_count": 2,
   "metadata": {},
   "outputs": [
    {
     "name": "stdout",
     "output_type": "stream",
     "text": [
      "Enter an Integer > 10001\n",
      "[73, 137]\n"
     ]
    }
   ],
   "source": [
    "number = int(input('Enter an Integer > '))\n",
    "asal = []\n",
    "result = []\n",
    "sayac = 0\n",
    "for i in range(2, number + 1):\n",
    "    liste = []\n",
    "    for j in range(1, i + 1):\n",
    "        if i % j == 0:\n",
    "            liste.append(j)\n",
    "    if liste == [1, i]:\n",
    "        asal.append(i)\n",
    "while True:\n",
    "    if number % asal[sayac] == 0:\n",
    "        number = number // asal[sayac]\n",
    "        result.append(asal[sayac])\n",
    "    else:\n",
    "        sayac += 1\n",
    "    if number == 1:\n",
    "        break\n",
    "print(result)"
   ]
  },
  {
   "cell_type": "code",
   "execution_count": 6,
   "metadata": {},
   "outputs": [
    {
     "data": {
      "text/plain": [
       "[2, 2, 2]"
      ]
     },
     "execution_count": 6,
     "metadata": {},
     "output_type": "execute_result"
    }
   ],
   "source": [
    "def prime_factors(n):\n",
    "    lst = []\n",
    "    for i in range(2,n):\n",
    "        if n % i == 0:\n",
    "            while n % i == 0:\n",
    "                lst.append(i)\n",
    "                n = n / i\n",
    "    return lst\n",
    "prime_factors(8)"
   ]
  },
  {
   "cell_type": "code",
   "execution_count": null,
   "metadata": {},
   "outputs": [],
   "source": []
  }
 ],
 "metadata": {
  "kernelspec": {
   "display_name": "Python 3 (ipykernel)",
   "language": "python",
   "name": "python3"
  },
  "language_info": {
   "codemirror_mode": {
    "name": "ipython",
    "version": 3
   },
   "file_extension": ".py",
   "mimetype": "text/x-python",
   "name": "python",
   "nbconvert_exporter": "python",
   "pygments_lexer": "ipython3",
   "version": "3.8.5"
  }
 },
 "nbformat": 4,
 "nbformat_minor": 4
}
