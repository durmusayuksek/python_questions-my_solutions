{
 "cells": [
  {
   "cell_type": "markdown",
   "metadata": {},
   "source": [
    "```\n",
    "As stated on the On-Line Encyclopedia of Integer Sequences:\n",
    "\n",
    "The hexagonal lattice is the familiar 2-dimensional lattice in which each point has 6 neighbors.\n",
    "\n",
    "A centered hexagonal number is a centered figurate number that represents a hexagon with a dot in the center and all other dots surrounding the center dot in a hexagonal lattice.\n",
    "\n",
    "At the end of that web page the following illustration is shown:\n",
    "\n",
    "Illustration of initial terms:\n",
    ".\n",
    ".                                 o o o o\n",
    ".                   o o o        o o o o o\n",
    ".         o o      o o o o      o o o o o o\n",
    ".   o    o o o    o o o o o    o o o o o o o\n",
    ".         o o      o o o o      o o o o o o\n",
    ".                   o o o        o o o o o\n",
    ".                                 o o o o\n",
    ".\n",
    ".   1      7          19             37\n",
    ".\n",
    "Write a function that takes an integer n and returns \"Invalid\" if n is not a centered hexagonal number or its illustration as a multiline rectangular string otherwise.\n",
    "\n",
    "Examples\n",
    "hex_lattice(1) ➞ \" o \"\n",
    "# o\n",
    "\n",
    "hex_lattice(7) ➞ \"  o o  \\n o o o \\n  o o  \"\n",
    "#  o o\n",
    "# o o o\n",
    "#  o o\n",
    "\n",
    "hex_lattice(19) ➞ \"   o o o   \\n  o o o o  \\n o o o o o \\n  o o o o  \\n   o o o   \"\n",
    "#   o o o\n",
    "#  o o o o\n",
    "# o o o o o\n",
    "#  o o o o\n",
    "#   o o o\n",
    "\n",
    "hex_lattice(21) ➞ \"Invalid\"\n",
    "```"
   ]
  },
  {
   "cell_type": "code",
   "execution_count": 4,
   "metadata": {},
   "outputs": [
    {
     "name": "stdout",
     "output_type": "stream",
     "text": [
      "   o o o   \n",
      "  o o o o  \n",
      " o o o o o \n",
      "  o o o o  \n",
      "   o o o   \n",
      "\n"
     ]
    }
   ],
   "source": [
    "def hex_lattice(x):\n",
    "    n = 1\n",
    "    while True:\n",
    "        m, t = n, n - 2\n",
    "        order = []\n",
    "        res = ''\n",
    "\n",
    "        for i in range(n*2-1):\n",
    "            if i < n:\n",
    "                order.append(m)\n",
    "                m += 1\n",
    "            else:\n",
    "                order.append(order[t])\n",
    "                t -=1\n",
    "        space = [(max(order) + 1) - i for i in order] \n",
    "\n",
    "        for i in range(len(order)):\n",
    "            res += ' ' * space[i] + (' o'*order[i]).strip() + ' ' * space[i] + '\\n'\n",
    "        \n",
    "        countt = res.count('o')\n",
    "\n",
    "        if countt == x:\n",
    "            result = res\n",
    "            break\n",
    "        elif countt > x:\n",
    "            result = 'Invalid'\n",
    "            break\n",
    "        else:\n",
    "            n += 1   \n",
    "    print(result)\n",
    "    \n",
    "hex_lattice(19)"
   ]
  },
  {
   "cell_type": "code",
   "execution_count": 12,
   "metadata": {},
   "outputs": [
    {
     "name": "stdout",
     "output_type": "stream",
     "text": [
      "          o o o o o o o o o o          \n",
      "         o o o o o o o o o o o         \n",
      "        o o o o o o o o o o o o        \n",
      "       o o o o o o o o o o o o o       \n",
      "      o o o o o o o o o o o o o o      \n",
      "     o o o o o o o o o o o o o o o     \n",
      "    o o o o o o o o o o o o o o o o    \n",
      "   o o o o o o o o o o o o o o o o o   \n",
      "  o o o o o o o o o o o o o o o o o o  \n",
      " o o o o o o o o o o o o o o o o o o o \n",
      "  o o o o o o o o o o o o o o o o o o  \n",
      "   o o o o o o o o o o o o o o o o o   \n",
      "    o o o o o o o o o o o o o o o o    \n",
      "     o o o o o o o o o o o o o o o     \n",
      "      o o o o o o o o o o o o o o      \n",
      "       o o o o o o o o o o o o o       \n",
      "        o o o o o o o o o o o o        \n",
      "         o o o o o o o o o o o         \n",
      "          o o o o o o o o o o          \n",
      "\n"
     ]
    }
   ],
   "source": [
    "def hex_lattice(n):\n",
    "    m, t = n, n - 2\n",
    "    order = []\n",
    "    res = ''\n",
    "\n",
    "    for i in range(n*2-1):\n",
    "        if i < n:\n",
    "            order.append(m)\n",
    "            m += 1\n",
    "        else:\n",
    "            order.append(order[t])\n",
    "            t -=1\n",
    "    space = [(max(order) + 1) - i for i in order] \n",
    "\n",
    "    for i in range(len(order)):\n",
    "        res += ' ' * space[i] + (' o'*order[i]).strip() + ' ' * space[i] + '\\n'\n",
    "    return res \n",
    "    \n",
    "print(hex_lattice(10))"
   ]
  },
  {
   "cell_type": "code",
   "execution_count": null,
   "metadata": {},
   "outputs": [],
   "source": []
  }
 ],
 "metadata": {
  "kernelspec": {
   "display_name": "Python 3 (ipykernel)",
   "language": "python",
   "name": "python3"
  },
  "language_info": {
   "codemirror_mode": {
    "name": "ipython",
    "version": 3
   },
   "file_extension": ".py",
   "mimetype": "text/x-python",
   "name": "python",
   "nbconvert_exporter": "python",
   "pygments_lexer": "ipython3",
   "version": "3.8.5"
  }
 },
 "nbformat": 4,
 "nbformat_minor": 4
}
