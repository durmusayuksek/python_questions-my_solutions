{
 "cells": [
  {
   "cell_type": "code",
   "execution_count": 5,
   "metadata": {},
   "outputs": [
    {
     "name": "stdout",
     "output_type": "stream",
     "text": [
      "Hello, what is your first name? > Jonathan\n",
      "Hello Jonathan! The password is: 12deF4De67.\n"
     ]
    }
   ],
   "source": [
    "password = '12deF4De67'\n",
    "name = 'Jonathan'\n",
    "ask_name = input('Hello, what is your first name? > ')\n",
    "if ask_name == name:\n",
    "    print(f'Hello {name}! The password is: {password}.')\n",
    "else:\n",
    "    print(f'Hello {ask_name}! See you later.')"
   ]
  },
  {
   "cell_type": "code",
   "execution_count": null,
   "metadata": {},
   "outputs": [],
   "source": []
  }
 ],
 "metadata": {
  "kernelspec": {
   "display_name": "Python 3",
   "language": "python",
   "name": "python3"
  },
  "language_info": {
   "codemirror_mode": {
    "name": "ipython",
    "version": 3
   },
   "file_extension": ".py",
   "mimetype": "text/x-python",
   "name": "python",
   "nbconvert_exporter": "python",
   "pygments_lexer": "ipython3",
   "version": "3.8.5"
  }
 },
 "nbformat": 4,
 "nbformat_minor": 4
}
