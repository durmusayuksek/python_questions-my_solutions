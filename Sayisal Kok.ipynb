{
 "cells": [
  {
   "cell_type": "markdown",
   "metadata": {},
   "source": [
    "Sayısal kök , bir sayıdaki tüm rakamların özyinelemeli toplamıdır.\n",
    "Verilen n, rakamlarının toplamını alın n. Bu değerin birden fazla hanesi varsa, tek haneli bir sayı üretilene kadar bu şekilde düşürmeye devam edin. Girdi, negatif olmayan bir tam sayı olacaktır.\n",
    "Örnekler\n",
    "    16  -->  1 + 6 = 7\n",
    "   942  -->  9 + 4 + 2 = 15  -->  1 + 5 = 6\n",
    "132189  -->  1 + 3 + 2 + 1 + 8 + 9 = 24  -->  2 + 4 = 6\n",
    "493193  -->  4 + 9 + 3 + 1 + 9 + 3 = 29  -->  2 + 9 = 11  -->  1 + 1 = 2"
   ]
  },
  {
   "cell_type": "code",
   "execution_count": 14,
   "metadata": {},
   "outputs": [
    {
     "data": {
      "text/plain": [
       "2"
      ]
     },
     "execution_count": 14,
     "metadata": {},
     "output_type": "execute_result"
    }
   ],
   "source": [
    "def sayisal_kok(x):\n",
    "    x = str(x)\n",
    "    uzunluk = len(x)\n",
    "    while uzunluk > 1:\n",
    "        toplam = 0\n",
    "        for i in str(x):\n",
    "            toplam += int(i)\n",
    "            x = toplam\n",
    "        uzunluk = len(str(toplam))\n",
    "    return toplam\n",
    "\n",
    "sayisal_kok(493193)"
   ]
  },
  {
   "cell_type": "code",
   "execution_count": null,
   "metadata": {},
   "outputs": [],
   "source": []
  }
 ],
 "metadata": {
  "kernelspec": {
   "display_name": "Python 3 (ipykernel)",
   "language": "python",
   "name": "python3"
  },
  "language_info": {
   "codemirror_mode": {
    "name": "ipython",
    "version": 3
   },
   "file_extension": ".py",
   "mimetype": "text/x-python",
   "name": "python",
   "nbconvert_exporter": "python",
   "pygments_lexer": "ipython3",
   "version": "3.8.5"
  }
 },
 "nbformat": 4,
 "nbformat_minor": 4
}
