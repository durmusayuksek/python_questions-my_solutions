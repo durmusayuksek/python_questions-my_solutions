{
 "cells": [
  {
   "cell_type": "markdown",
   "metadata": {},
   "source": [
    "```\n",
    "This problem was asked by Amazon.\n",
    "Given a string, determine whether any permutation of it is a palindrome.\n",
    "For example, carrace should return true, since it can be rearranged to form racecar, which is a palindrome. daily should return false, since there’s no rearrangement that can form a palindrome.\n",
    "```"
   ]
  },
  {
   "cell_type": "code",
   "execution_count": 11,
   "metadata": {},
   "outputs": [
    {
     "data": {
      "text/plain": [
       "True"
      ]
     },
     "execution_count": 11,
     "metadata": {},
     "output_type": "execute_result"
    }
   ],
   "source": [
    "from itertools import permutations as per\n",
    "\n",
    "def if_palindrome(text):\n",
    "    \n",
    "    lst = list(per(text))\n",
    "    lst = [''.join(i) for i in lst]\n",
    "    \n",
    "    res = False\n",
    "    for i in lst:\n",
    "        if i == i[::-1]:\n",
    "            res = True\n",
    "            break\n",
    "            \n",
    "    return res\n",
    "\n",
    "if_palindrome('carrace')"
   ]
  },
  {
   "cell_type": "code",
   "execution_count": null,
   "metadata": {},
   "outputs": [],
   "source": []
  }
 ],
 "metadata": {
  "kernelspec": {
   "display_name": "Python 3 (ipykernel)",
   "language": "python",
   "name": "python3"
  },
  "language_info": {
   "codemirror_mode": {
    "name": "ipython",
    "version": 3
   },
   "file_extension": ".py",
   "mimetype": "text/x-python",
   "name": "python",
   "nbconvert_exporter": "python",
   "pygments_lexer": "ipython3",
   "version": "3.8.5"
  }
 },
 "nbformat": 4,
 "nbformat_minor": 4
}
