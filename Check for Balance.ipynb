{
 "cells": [
  {
   "cell_type": "markdown",
   "metadata": {},
   "source": [
    "```\n",
    "Write a function that takes a string of source code and checks whether the braces/parentheses are balanced. Every ( or { must be closed by a } or ) in the opposite order. Return the index at which an imbalance occurs, or -1 if the string is balanced. If any ( or { are never closed, return the string's length.\n",
    "\n",
    "Examples\n",
    "\n",
    "check_balance(\"if (a(4) > 9) { foo(a(2)); }\") ➞ -1\n",
    "# Returns -1 because it's balanced.\n",
    "\n",
    "check_balance(\"for (i=0;i<a(3};i++) { foo{); )\") ➞ 14\n",
    "# Returns 14 because } is out of order.\n",
    "\n",
    "check_balance(\"if (x) {\")  ➞ 8\n",
    "# Returns 8 because { is never closed.\n",
    "```"
   ]
  },
  {
   "cell_type": "code",
   "execution_count": 14,
   "metadata": {},
   "outputs": [
    {
     "data": {
      "text/plain": [
       "14"
      ]
     },
     "execution_count": 14,
     "metadata": {},
     "output_type": "execute_result"
    }
   ],
   "source": [
    "def check_for_balance(text):\n",
    "\n",
    "    count, first, second = 0, 0, 0\n",
    "\n",
    "    for i in text:\n",
    "        if i == '(':\n",
    "            first += 1\n",
    "        elif i == ')':\n",
    "            first -= 1\n",
    "        elif i == '{':\n",
    "            second += 1\n",
    "        elif i == '}':\n",
    "            second -= 1\n",
    "\n",
    "        if first < 0 or second < 0:\n",
    "            loc = count\n",
    "            break\n",
    "        count += 1\n",
    "        if count == len(text):\n",
    "            if first == 0 and second == 0:\n",
    "                loc = -1\n",
    "            else:\n",
    "                loc = len(text)\n",
    "    return loc\n",
    "\n",
    "check_for_balance(\"for (i=0;i<a(3};i++) { foo{); )\")"
   ]
  },
  {
   "cell_type": "code",
   "execution_count": null,
   "metadata": {},
   "outputs": [],
   "source": []
  }
 ],
 "metadata": {
  "kernelspec": {
   "display_name": "Python 3 (ipykernel)",
   "language": "python",
   "name": "python3"
  },
  "language_info": {
   "codemirror_mode": {
    "name": "ipython",
    "version": 3
   },
   "file_extension": ".py",
   "mimetype": "text/x-python",
   "name": "python",
   "nbconvert_exporter": "python",
   "pygments_lexer": "ipython3",
   "version": "3.8.5"
  }
 },
 "nbformat": 4,
 "nbformat_minor": 4
}
