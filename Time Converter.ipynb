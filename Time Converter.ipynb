{
 "cells": [
  {
   "cell_type": "markdown",
   "metadata": {},
   "source": [
    "## Time Converter\n",
    "Get the total number of seconds from the user.\n",
    "Write a program that returns the total seconds in hours, minutes and seconds.\n",
    "For example: 4565436 seconds is 1268 hours, 10 minutes and 36 seconds."
   ]
  },
  {
   "cell_type": "code",
   "execution_count": 4,
   "metadata": {},
   "outputs": [
    {
     "name": "stdout",
     "output_type": "stream",
     "text": [
      "Enter seconds here > 3500\n",
      "3500 seconds is 0 hours, 58 minutes and 20 seconds.\n"
     ]
    }
   ],
   "source": [
    "import math\n",
    "total = int(input('Enter seconds here > '))\n",
    "hours = total / 3600\n",
    "minutes = (hours - math.trunc(hours)) * 60\n",
    "seconds = (minutes - math.trunc(minutes)) * 60\n",
    "print(f'{total} seconds is {math.trunc(hours)} hours, {math.trunc(minutes)} minutes and {math.trunc(seconds)} seconds.')"
   ]
  },
  {
   "cell_type": "code",
   "execution_count": null,
   "metadata": {},
   "outputs": [],
   "source": []
  }
 ],
 "metadata": {
  "kernelspec": {
   "display_name": "Python 3",
   "language": "python",
   "name": "python3"
  },
  "language_info": {
   "codemirror_mode": {
    "name": "ipython",
    "version": 3
   },
   "file_extension": ".py",
   "mimetype": "text/x-python",
   "name": "python",
   "nbconvert_exporter": "python",
   "pygments_lexer": "ipython3",
   "version": "3.8.5"
  }
 },
 "nbformat": 4,
 "nbformat_minor": 4
}
