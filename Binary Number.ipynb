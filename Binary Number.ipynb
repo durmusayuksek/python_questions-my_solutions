{
 "cells": [
  {
   "cell_type": "markdown",
   "metadata": {},
   "source": [
    "Return the binary form of a given number."
   ]
  },
  {
   "cell_type": "code",
   "execution_count": 1,
   "metadata": {},
   "outputs": [
    {
     "data": {
      "text/plain": [
       "'1100100'"
      ]
     },
     "execution_count": 1,
     "metadata": {},
     "output_type": "execute_result"
    }
   ],
   "source": [
    "def binary(decimal):\n",
    "    if decimal != 0:\n",
    "        total, sayi = 0, 0\n",
    "        for i in range(63):\n",
    "            total += 1 * 2 ** i\n",
    "            sayi +=1\n",
    "            if total >= decimal:\n",
    "                break\n",
    "        liste = [sayi -1]\n",
    "        liste2 =[]\n",
    "        toplam = 2 ** (sayi - 1)\n",
    "        for i in range(sayi - 2, -1, -1):\n",
    "            if toplam + 2 ** i == decimal:\n",
    "                liste.append(i)\n",
    "                break\n",
    "            elif toplam + 2 ** i > decimal:\n",
    "                pass\n",
    "            else:\n",
    "                liste.append(i)\n",
    "                toplam += 2 ** i\n",
    "        for i in range(liste[0] + 1):\n",
    "            liste2.append(0)\n",
    "        for i in range(sayi):\n",
    "            if i in liste:\n",
    "                liste2[i] = 1\n",
    "        liste2.reverse()\n",
    "        result = ''\n",
    "        for i in liste2:\n",
    "            result += str(i)\n",
    "        return result\n",
    "    else:\n",
    "        return 0\n",
    "    \n",
    "binary(100)"
   ]
  },
  {
   "cell_type": "code",
   "execution_count": null,
   "metadata": {},
   "outputs": [],
   "source": []
  }
 ],
 "metadata": {
  "kernelspec": {
   "display_name": "Python 3 (ipykernel)",
   "language": "python",
   "name": "python3"
  },
  "language_info": {
   "codemirror_mode": {
    "name": "ipython",
    "version": 3
   },
   "file_extension": ".py",
   "mimetype": "text/x-python",
   "name": "python",
   "nbconvert_exporter": "python",
   "pygments_lexer": "ipython3",
   "version": "3.8.5"
  }
 },
 "nbformat": 4,
 "nbformat_minor": 4
}
