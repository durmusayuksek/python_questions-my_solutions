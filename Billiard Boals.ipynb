{
 "cells": [
  {
   "cell_type": "markdown",
   "metadata": {},
   "source": [
    "```\n",
    "Remember the triangle of balls in billiards? To build a classic triangle (5 levels) you need 15 balls. With 3 balls you can build a 2-level triangle, etc.\n",
    "\n",
    "For more examples,\n",
    "pyramid(1) == 1\n",
    "\n",
    "pyramid(3) == 2\n",
    "\n",
    "pyramid(6) == 3\n",
    "\n",
    "pyramid(10) == 4\n",
    "\n",
    "pyramid(15) == 5\n",
    "\n",
    "Write a function that takes number of balls (≥ 1) and calculates how many levels you can build a triangle.\n",
    "```"
   ]
  },
  {
   "cell_type": "code",
   "execution_count": 25,
   "metadata": {},
   "outputs": [
    {
     "data": {
      "text/plain": [
       "5"
      ]
     },
     "execution_count": 25,
     "metadata": {},
     "output_type": "execute_result"
    }
   ],
   "source": [
    "def billiards(n):\n",
    "    i = 1\n",
    "    summ, level = 0, 0\n",
    "    while True:\n",
    "        summ += i\n",
    "        level += 1\n",
    "        i += 1\n",
    "        if summ == n:\n",
    "            res = level\n",
    "            break\n",
    "        elif summ > n:\n",
    "            res = level - 1\n",
    "            break\n",
    "    return res\n",
    "\n",
    "billiards(15)"
   ]
  },
  {
   "cell_type": "code",
   "execution_count": null,
   "metadata": {},
   "outputs": [],
   "source": []
  }
 ],
 "metadata": {
  "kernelspec": {
   "display_name": "Python 3 (ipykernel)",
   "language": "python",
   "name": "python3"
  },
  "language_info": {
   "codemirror_mode": {
    "name": "ipython",
    "version": 3
   },
   "file_extension": ".py",
   "mimetype": "text/x-python",
   "name": "python",
   "nbconvert_exporter": "python",
   "pygments_lexer": "ipython3",
   "version": "3.8.5"
  }
 },
 "nbformat": 4,
 "nbformat_minor": 4
}
