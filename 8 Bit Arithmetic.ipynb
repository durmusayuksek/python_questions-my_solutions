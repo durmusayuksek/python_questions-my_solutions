{
 "cells": [
  {
   "cell_type": "markdown",
   "metadata": {},
   "source": [
    "```\n",
    "You will be given a simple string expression representing an addition or subtraction in 8-bit 2's complement arithmetic. Write a function that returns the result in base 10 followed by a binary representation. If any of the values are outside the range of 8-bit 2's complement, return \"Overflow\".\n",
    "\n",
    "Examples\n",
    "\n",
    "eight_bit(\"3 + 12\") ➞ (15, \"11 + 1100 = 1111\")\n",
    "\n",
    "eight_bit(\"3 - 12\") ➞ (-9, \"11 - 1100 = 11110111\")\n",
    "\n",
    "eight_bit(\"-18 - 6\") ➞ (-24, \"11101110 - 110 = 11101000\")\n",
    "\n",
    "eight_bit(\"65 + 70\") ➞ \"Overflow\"\n",
    "\n",
    "eight_bit(\"-127 + 127\") ➞ (0, \"10000001 + 1111111 = 0\")\n",
    "\n",
    "Notes\n",
    "\n",
    "Numbers in 8-bit 2's complement notation can range from -128 to 127. The eighth (leftmost) bit signifies a negative number. See Resources for details.\n",
    "```"
   ]
  },
  {
   "cell_type": "code",
   "execution_count": 57,
   "metadata": {},
   "outputs": [
    {
     "data": {
      "text/plain": [
       "(15, '11 + 1100 = 1111')"
      ]
     },
     "execution_count": 57,
     "metadata": {},
     "output_type": "execute_result"
    }
   ],
   "source": [
    "def eight_bit_arithmetic(string):\n",
    "\n",
    "    ind = string.split()\n",
    "    lst = [int(ind[0]), int(ind[2]), eval(string)]\n",
    "    neg = False\n",
    "    resa = []\n",
    "\n",
    "    if lst[2] > 127:\n",
    "        return 'Overflow'\n",
    "    else:\n",
    "        for i in lst:\n",
    "            res = ''\n",
    "            if i < 0:\n",
    "                i = 128 - abs(i)\n",
    "                neg = True\n",
    "            if i == 0:\n",
    "                res += '0'\n",
    "            while i >= 1:\n",
    "                j = i % 2\n",
    "                i = i // 2\n",
    "                res = str(j) + res\n",
    "            if neg:\n",
    "                t = 7 - len(res)\n",
    "                res = '1' + t * '0' + res\n",
    "                neg = False\n",
    "            resa.append(res)\n",
    "\n",
    "        return (lst[2], f'{resa[0]} {ind[1]} {resa[1]} = {resa[2]}')\n",
    "    \n",
    "eight_bit_arithmetic('3 + 12')"
   ]
  },
  {
   "cell_type": "code",
   "execution_count": null,
   "metadata": {},
   "outputs": [],
   "source": []
  }
 ],
 "metadata": {
  "kernelspec": {
   "display_name": "Python 3 (ipykernel)",
   "language": "python",
   "name": "python3"
  },
  "language_info": {
   "codemirror_mode": {
    "name": "ipython",
    "version": 3
   },
   "file_extension": ".py",
   "mimetype": "text/x-python",
   "name": "python",
   "nbconvert_exporter": "python",
   "pygments_lexer": "ipython3",
   "version": "3.8.5"
  }
 },
 "nbformat": 4,
 "nbformat_minor": 4
}
