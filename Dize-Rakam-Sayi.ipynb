{
 "cells": [
  {
   "cell_type": "markdown",
   "metadata": {},
   "source": [
    "Bir dize kabul eden ve rakam ve harf sayısını hesaplayan bir Python programı yazın. \n",
    "Örnek Veri : Python 3.2\n",
    "Beklenen Çıktı :\n",
    "Harfler 6\n",
    "Rakam 2"
   ]
  },
  {
   "cell_type": "code",
   "execution_count": 29,
   "metadata": {},
   "outputs": [
    {
     "name": "stdout",
     "output_type": "stream",
     "text": [
      "Please enter a text > buaray 2 dfk344 d54 ar?\n",
      "There are 12 letter(s) and 6 number(s) in this text.\n"
     ]
    }
   ],
   "source": [
    "buyuk_harf = [chr(i) for i in range(65, 91)]\n",
    "kucuk_harf = [chr(i) for i in range(97, 123)]\n",
    "rakam = [chr(i) for i in range(48, 58)]\n",
    "rakam_s = 0\n",
    "harf_s = 0\n",
    "metin = input('Please enter a text > ')\n",
    "for i in metin:\n",
    "    if i in buyuk_harf:\n",
    "        harf_s += 1\n",
    "    elif i in kucuk_harf:\n",
    "        harf_s += 1\n",
    "    elif i in rakam:\n",
    "        rakam_s += 1\n",
    "print('There are {} letter(s) and {} number(s) in this text.'.format(harf_s, rakam_s))"
   ]
  }
 ],
 "metadata": {
  "kernelspec": {
   "display_name": "Python 3",
   "language": "python",
   "name": "python3"
  },
  "language_info": {
   "codemirror_mode": {
    "name": "ipython",
    "version": 3
   },
   "file_extension": ".py",
   "mimetype": "text/x-python",
   "name": "python",
   "nbconvert_exporter": "python",
   "pygments_lexer": "ipython3",
   "version": "3.8.5"
  }
 },
 "nbformat": 4,
 "nbformat_minor": 4
}
