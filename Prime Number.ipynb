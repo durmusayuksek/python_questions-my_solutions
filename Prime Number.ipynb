{
 "cells": [
  {
   "cell_type": "markdown",
   "metadata": {},
   "source": [
    "Task : Write a program that takes a number from the user and prints the result to check if it is a prime number."
   ]
  },
  {
   "cell_type": "code",
   "execution_count": 8,
   "metadata": {},
   "outputs": [
    {
     "name": "stdout",
     "output_type": "stream",
     "text": [
      "Enter a number > 99\n",
      "99 is not a prime number.\n"
     ]
    }
   ],
   "source": [
    "number = int(input('Enter a number > '))\n",
    "num_list = []\n",
    "for i in range(1, number + 1):\n",
    "    if number % i == 0:\n",
    "        num_list.append(i)\n",
    "if num_list == [1, number]:\n",
    "    print(f'{number} is a prime number.')\n",
    "else:\n",
    "    print(f'{number} is not a prime number.')"
   ]
  },
  {
   "cell_type": "code",
   "execution_count": null,
   "metadata": {},
   "outputs": [],
   "source": []
  }
 ],
 "metadata": {
  "kernelspec": {
   "display_name": "Python 3",
   "language": "python",
   "name": "python3"
  },
  "language_info": {
   "codemirror_mode": {
    "name": "ipython",
    "version": 3
   },
   "file_extension": ".py",
   "mimetype": "text/x-python",
   "name": "python",
   "nbconvert_exporter": "python",
   "pygments_lexer": "ipython3",
   "version": "3.8.5"
  }
 },
 "nbformat": 4,
 "nbformat_minor": 4
}
