{
 "cells": [
  {
   "cell_type": "markdown",
   "metadata": {},
   "source": [
    "Create a function that replaces all the vowels in a string with a specified character."
   ]
  },
  {
   "cell_type": "code",
   "execution_count": 8,
   "metadata": {},
   "outputs": [
    {
     "name": "stdout",
     "output_type": "stream",
     "text": [
      "Enter a text here > alabanda\n",
      "With what you want to replace the vowels > %\n",
      "%l%b%nd%"
     ]
    }
   ],
   "source": [
    "text = input('Enter a text here > ')\n",
    "replacer = input('With what you want to replace the vowels > ')\n",
    "liste = []\n",
    "for i in text:\n",
    "    if i in ['a', 'e' ,'i' ,'u', 'o']:\n",
    "        i = replacer\n",
    "    liste.append(i)\n",
    "for i in liste:\n",
    "    print(i, end = '')"
   ]
  },
  {
   "cell_type": "code",
   "execution_count": 9,
   "metadata": {},
   "outputs": [
    {
     "name": "stdout",
     "output_type": "stream",
     "text": [
      "%l%b%nd%"
     ]
    }
   ],
   "source": [
    "def vowel(text, replacer):    \n",
    "    liste = []\n",
    "    for i in text:\n",
    "        if i in ['a', 'e' ,'i' ,'u', 'o']:\n",
    "            i = replacer\n",
    "        liste.append(i)\n",
    "    for i in liste:\n",
    "        print(i, end = '')\n",
    "    \n",
    "\n",
    "vowel('alabanda', '%')"
   ]
  },
  {
   "cell_type": "code",
   "execution_count": null,
   "metadata": {},
   "outputs": [],
   "source": []
  }
 ],
 "metadata": {
  "kernelspec": {
   "display_name": "Python 3",
   "language": "python",
   "name": "python3"
  },
  "language_info": {
   "codemirror_mode": {
    "name": "ipython",
    "version": 3
   },
   "file_extension": ".py",
   "mimetype": "text/x-python",
   "name": "python",
   "nbconvert_exporter": "python",
   "pygments_lexer": "ipython3",
   "version": "3.8.5"
  }
 },
 "nbformat": 4,
 "nbformat_minor": 4
}
