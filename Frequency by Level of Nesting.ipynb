{
 "cells": [
  {
   "cell_type": "markdown",
   "metadata": {},
   "source": [
    "```\n",
    "Create a function that takes in a nested list and an element and returns the frequency of that element by nested level.\n",
    "\n",
    "Examples\n",
    "freq_count([1, 4, 4, [1, 1, [1, 2, 1, 1]]], 1)\n",
    "➞ [[0, 1], [1, 2], [2, 3]]\n",
    "# The list has one 1 at level 0, 2 1's at level 1, and 3 1's at level 2.\n",
    "\n",
    "freq_count([1, 5, 5, [5, [1, 2, 1, 1], 5, 5], 5, [5]], 5)\n",
    "➞ [[0, 3], [1, 4], [2, 0]]\n",
    "\n",
    "freq_count([1, [2], 1, [[2]], 1, [[[2]]], 1, [[[[2]]]]], 2)\n",
    "➞ [[0, 0], [1, 1], [2, 1], [3, 1], [4, 1]]\n",
    "Notes\n",
    "Start the default nesting (a list with no nesting) at 0.\n",
    "Output the nested levels in order (e.g. 0 first, then 1, then 2, etc).\n",
    "Output 0 for the frequency if that particular level has no instances of that element (see example #2).\n",
    "```"
   ]
  },
  {
   "cell_type": "code",
   "execution_count": 33,
   "metadata": {},
   "outputs": [
    {
     "data": {
      "text/plain": [
       "[[0, 0], [1, 1], [2, 1], [3, 1], [4, 1]]"
      ]
     },
     "execution_count": 33,
     "metadata": {},
     "output_type": "execute_result"
    }
   ],
   "source": [
    "def nesting(liste, n):\n",
    "    kat = -1\n",
    "    dictt = {}\n",
    "    for i in str(liste):\n",
    "        if i == '[':kat += 1\n",
    "        elif i == ']':kat -= 1\n",
    "        if i == str(n):\n",
    "            dictt[kat] = dictt.get(kat, 0) + 1\n",
    "        else:\n",
    "            if kat not in dictt.keys():\n",
    "                dictt[kat] = 0\n",
    "    dictt.popitem()\n",
    "    return [[k, v] for k, v in dictt.items()]\n",
    "\n",
    "nesting([1, [2], 1, [[2]], 1, [[[2]]], 1, [[[[2]]]]], 2)"
   ]
  },
  {
   "cell_type": "code",
   "execution_count": null,
   "metadata": {},
   "outputs": [],
   "source": []
  }
 ],
 "metadata": {
  "kernelspec": {
   "display_name": "Python 3 (ipykernel)",
   "language": "python",
   "name": "python3"
  },
  "language_info": {
   "codemirror_mode": {
    "name": "ipython",
    "version": 3
   },
   "file_extension": ".py",
   "mimetype": "text/x-python",
   "name": "python",
   "nbconvert_exporter": "python",
   "pygments_lexer": "ipython3",
   "version": "3.8.5"
  }
 },
 "nbformat": 4,
 "nbformat_minor": 4
}
