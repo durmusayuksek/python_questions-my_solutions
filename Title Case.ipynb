{
 "cells": [
  {
   "cell_type": "markdown",
   "metadata": {},
   "source": [
    "```\n",
    "A string is considered to be in title case if each word in the string is either (a) capitalised (that is, only the first letter of the word is in upper case) or (b) considered to be an exception and put entirely into lower case unless it is the first word, which is always capitalised.\n",
    "Write a function that will convert a string into title case, given an optional list of exceptions (minor words). The list of minor words will be given as a string with each word separated by a space. Your function should ignore the case of the minor words string -- it should behave in the same way even if the case of the minor word string is changed.\n",
    "###Arguments\n",
    "First argument (required): the original string to be converted.\n",
    "Second argument (optional): space-delimited list of minor words that must always be lowercase except for the first word in the string. The JavaScript/CoffeeScript tests will pass undefined when this argument is unused.\n",
    "###Example\n",
    "title_case('a clash of KINGS', 'a an the of') # should return: 'A Clash of Kings'\n",
    "title_case('THE WIND IN THE WILLOWS', 'The In') # should return: 'The Wind in the Willows'\n",
    "title_case('the quick brown fox') # should return: 'The Quick Brown Fox'\n",
    "def title_case(title, minor_words=''):\n",
    "```"
   ]
  },
  {
   "cell_type": "code",
   "execution_count": 37,
   "metadata": {},
   "outputs": [
    {
     "data": {
      "text/plain": [
       "'A Clash of Kings'"
      ]
     },
     "execution_count": 37,
     "metadata": {},
     "output_type": "execute_result"
    }
   ],
   "source": [
    "def title_case(title, exceptions = ''):\n",
    "    title = title.title().split()\n",
    "    exceptions = exceptions.title().split()\n",
    "    new = ''\n",
    "    for i in title:\n",
    "        if i in exceptions:\n",
    "            i = i.lower() \n",
    "        if new == '':\n",
    "            new += i.capitalize() + ' '\n",
    "        else:\n",
    "            new += i + ' '\n",
    "    new = new.rstrip(' ')\n",
    "    return new\n",
    "\n",
    "title_case('a clash of KINGS', 'a an the of')"
   ]
  },
  {
   "cell_type": "code",
   "execution_count": null,
   "metadata": {},
   "outputs": [],
   "source": []
  }
 ],
 "metadata": {
  "kernelspec": {
   "display_name": "Python 3 (ipykernel)",
   "language": "python",
   "name": "python3"
  },
  "language_info": {
   "codemirror_mode": {
    "name": "ipython",
    "version": 3
   },
   "file_extension": ".py",
   "mimetype": "text/x-python",
   "name": "python",
   "nbconvert_exporter": "python",
   "pygments_lexer": "ipython3",
   "version": "3.8.5"
  }
 },
 "nbformat": 4,
 "nbformat_minor": 4
}
