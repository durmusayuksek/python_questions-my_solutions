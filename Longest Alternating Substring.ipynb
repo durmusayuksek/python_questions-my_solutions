{
 "cells": [
  {
   "cell_type": "markdown",
   "metadata": {},
   "source": [
    "```\n",
    "Given a string of digits, return the longest substring with alternating odd/even or even/odd digits. If two or more substrings have the same length, return the substring that occurs first.\n",
    "\n",
    "Examples\n",
    "longest_substring(\"225424272163254474441338664823\") ➞ \"272163254\"\n",
    "# substrings = 254, 272163254, 474, 41, 38, 23\n",
    "\n",
    "longest_substring(\"594127169973391692147228678476\") ➞ \"16921472\"\n",
    "# substrings = 94127, 169, 16921472, 678, 476\n",
    "\n",
    "longest_substring(\"721449827599186159274227324466\") ➞ \"7214\"\n",
    "# substrings = 7214, 498, 27, 18, 61, 9274, 27, 32\n",
    "# 7214 and 9274 have same length, but 7214 occurs first.\n",
    "```"
   ]
  },
  {
   "cell_type": "code",
   "execution_count": 11,
   "metadata": {},
   "outputs": [
    {
     "name": "stdout",
     "output_type": "stream",
     "text": [
      "['254', '272163254', '474', '41', '38', '23']\n",
      "272163254\n"
     ]
    }
   ],
   "source": [
    "text = \"225424272163254474441338664823\"\n",
    "liste = []\n",
    "if int(text[0]) % 2 == 0:\n",
    "    odd = True\n",
    "else:\n",
    "    odd = False\n",
    "if int(text[-1]) % 2 == 0:\n",
    "    text += '0'\n",
    "else:\n",
    "    text += '1'\n",
    "yeni = text[0]\n",
    "for i in text[1:]:\n",
    "    if odd:\n",
    "        if int(i) % 2 != 0:\n",
    "            yeni += i\n",
    "            odd = False\n",
    "        else:\n",
    "            if len(yeni) > 1:\n",
    "                liste.append(yeni)\n",
    "            yeni = str(i)\n",
    "    else:\n",
    "        if int(i) % 2 == 0:\n",
    "            yeni += i\n",
    "            odd = True\n",
    "        else:\n",
    "            if len(yeni) > 1:\n",
    "                liste.append(yeni)\n",
    "            yeni = str(i)\n",
    "if liste != []:\n",
    "    result = liste[0]\n",
    "    for i in liste:\n",
    "        if len(i) > len(result):\n",
    "            result = i\n",
    "else:\n",
    "    result = liste\n",
    "print(liste)\n",
    "print(result)"
   ]
  },
  {
   "cell_type": "code",
   "execution_count": 12,
   "metadata": {},
   "outputs": [
    {
     "data": {
      "text/plain": [
       "(['254', '272163254', '474', '41', '38', '23'],\n",
       " 'The longest alternating substring is: 272163254')"
      ]
     },
     "execution_count": 12,
     "metadata": {},
     "output_type": "execute_result"
    }
   ],
   "source": [
    "def alternating(text):\n",
    "    liste = []\n",
    "    if int(text[0]) % 2 == 0:\n",
    "        odd = True\n",
    "    else:\n",
    "        odd = False\n",
    "    if int(text[-1]) % 2 == 0:\n",
    "        text += '0'\n",
    "    else:\n",
    "        text += '1'\n",
    "    yeni = text[0]\n",
    "    for i in text[1:]:\n",
    "        if odd:\n",
    "            if int(i) % 2 != 0:\n",
    "                yeni += i\n",
    "                odd = False\n",
    "            else:\n",
    "                if len(yeni) > 1:\n",
    "                    liste.append(yeni)\n",
    "                yeni = str(i)\n",
    "        else:\n",
    "            if int(i) % 2 == 0:\n",
    "                yeni += i\n",
    "                odd = True\n",
    "            else:\n",
    "                if len(yeni) > 1:\n",
    "                    liste.append(yeni)\n",
    "                yeni = str(i)\n",
    "    if liste != []:\n",
    "        result = liste[0]\n",
    "        for i in liste:\n",
    "            if len(i) > len(result):\n",
    "                result = i\n",
    "    else:\n",
    "        result = liste\n",
    "    return liste, f'The longest alternating substring is: {result}'\n",
    "\n",
    "alternating(\"225424272163254474441338664823\")"
   ]
  },
  {
   "cell_type": "code",
   "execution_count": null,
   "metadata": {},
   "outputs": [],
   "source": []
  }
 ],
 "metadata": {
  "kernelspec": {
   "display_name": "Python 3 (ipykernel)",
   "language": "python",
   "name": "python3"
  },
  "language_info": {
   "codemirror_mode": {
    "name": "ipython",
    "version": 3
   },
   "file_extension": ".py",
   "mimetype": "text/x-python",
   "name": "python",
   "nbconvert_exporter": "python",
   "pygments_lexer": "ipython3",
   "version": "3.8.5"
  }
 },
 "nbformat": 4,
 "nbformat_minor": 4
}
