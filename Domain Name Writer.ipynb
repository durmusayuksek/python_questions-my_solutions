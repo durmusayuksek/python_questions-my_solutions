{
 "cells": [
  {
   "cell_type": "markdown",
   "metadata": {},
   "source": [
    "```\n",
    "Write a function that when given a URL as a string, parses out just the domain name and returns it as a string. For example:\n",
    "domain_name(\"http://github.com/carbonfive/raygun\") == \"github\" \n",
    "domain_name(\"http://www.zombie-bites.com\") == \"zombie-bites\"\n",
    "domain_name(\"https://www.cnet.com\") == \"cnet\"\n",
    "```"
   ]
  },
  {
   "cell_type": "code",
   "execution_count": 17,
   "metadata": {},
   "outputs": [
    {
     "data": {
      "text/plain": [
       "'cnet'"
      ]
     },
     "execution_count": 17,
     "metadata": {},
     "output_type": "execute_result"
    }
   ],
   "source": [
    "def domain(domain):    \n",
    "    import re\n",
    "    result = ''.join(re.findall('^http.+/(\\S+)\\.', domain))\n",
    "    if re.search('^www', result):\n",
    "        result = ''.join(re.findall('^www.(\\S+)', result))\n",
    "    return result\n",
    "\n",
    "domain(\"https://www.cnet.com\")"
   ]
  },
  {
   "cell_type": "code",
   "execution_count": null,
   "metadata": {},
   "outputs": [],
   "source": []
  }
 ],
 "metadata": {
  "kernelspec": {
   "display_name": "Python 3 (ipykernel)",
   "language": "python",
   "name": "python3"
  },
  "language_info": {
   "codemirror_mode": {
    "name": "ipython",
    "version": 3
   },
   "file_extension": ".py",
   "mimetype": "text/x-python",
   "name": "python",
   "nbconvert_exporter": "python",
   "pygments_lexer": "ipython3",
   "version": "3.8.5"
  }
 },
 "nbformat": 4,
 "nbformat_minor": 4
}
