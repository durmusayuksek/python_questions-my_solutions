{
 "cells": [
  {
   "cell_type": "markdown",
   "metadata": {},
   "source": [
    "```\n",
    "Write a function that efficiently calculates nPr (number of permutations of r items from a set of size n) and another function that efficiently calculates nCr (number of combinations of r items from a set of size n, regardless of order).\n",
    "\n",
    "The formula for calculating nPr is n!/(n-r)! (\"!\" is the factorial operation).\n",
    "The formula for calculating nCr is n!/(r!(n-r)!).\n",
    "Your functions should work efficiently for cases where n! or r! are very large compared to the result. Simply calculating the factorials and dividing will cause your program to time out. See if you can think of a more efficient method.\n",
    "\n",
    "Examples\n",
    "\n",
    "# Permutations\n",
    "\n",
    "nPr(7, 4) ➞ 840\n",
    "nPr(300, 3) ➞ 26730600\n",
    "\n",
    "# Combinations\n",
    "\n",
    "nCr(7, 4) ➞ 35\n",
    "nCr(300, 3) ➞ 4455100\n",
    "nCr(300, 297) ➞ 4455100\n",
    "Notes\n",
    "n and r will always be positive integers where n >= r.\n",
    "Think about what factors will cancel out when dividing the factorials.\n",
    "```"
   ]
  },
  {
   "cell_type": "code",
   "execution_count": 46,
   "metadata": {},
   "outputs": [
    {
     "data": {
      "text/plain": [
       "26730600"
      ]
     },
     "execution_count": 46,
     "metadata": {},
     "output_type": "execute_result"
    }
   ],
   "source": [
    "def nPr(n, r):\n",
    "    k = set([i for i in range(2, n+1)]).difference(set([i for i in range(2, (n-r)+1)]))\n",
    "    total = 1\n",
    "    for i in k:\n",
    "        total *= i\n",
    "    return total\n",
    "\n",
    "def nCr(n, r):\n",
    "\n",
    "    k = list(set([i for i in range(2, n+1)]).difference(set([i for i in range(2, (n-r)+1)])))\n",
    "    t = [i for i in range(2, r+1)]\n",
    "    for i in k:\n",
    "        for j in t:\n",
    "            if i % j == 0:\n",
    "                z = i // j\n",
    "                k.append(z)\n",
    "                k.remove(i)\n",
    "                t.remove(j)\n",
    "                break\n",
    "    total = 1\n",
    "    for i in k:\n",
    "        total*=i\n",
    "    for i in t:\n",
    "        total//=i\n",
    "    return total\n",
    "\n",
    "nPr(300, 3)"
   ]
  },
  {
   "cell_type": "code",
   "execution_count": null,
   "metadata": {},
   "outputs": [],
   "source": []
  }
 ],
 "metadata": {
  "kernelspec": {
   "display_name": "Python 3 (ipykernel)",
   "language": "python",
   "name": "python3"
  },
  "language_info": {
   "codemirror_mode": {
    "name": "ipython",
    "version": 3
   },
   "file_extension": ".py",
   "mimetype": "text/x-python",
   "name": "python",
   "nbconvert_exporter": "python",
   "pygments_lexer": "ipython3",
   "version": "3.8.5"
  }
 },
 "nbformat": 4,
 "nbformat_minor": 4
}
