{
 "cells": [
  {
   "cell_type": "markdown",
   "metadata": {},
   "source": [
    "Bir dize kabul eden ve büyük harf ve küçük harf sayısını hesaplayan bir Python işlevi yazın. \n",
    "Örnek Dizge : 'The quick Brow Fox'\n",
    "Beklenen Çıktı :\n",
    "Büyük harf karakter sayısı : 3\n",
    "Küçük harf karakter sayısı : 12"
   ]
  },
  {
   "cell_type": "code",
   "execution_count": 8,
   "metadata": {},
   "outputs": [
    {
     "name": "stdout",
     "output_type": "stream",
     "text": [
      "Enter your text here > BAK bak hele sen Nereden ciktin\n",
      "Buyuk harf karakter sayisi : 4\n",
      "Kucuk harf karakter sayisi : 22\n"
     ]
    }
   ],
   "source": [
    "text = input('Enter your text here > ')\n",
    "capital = 0\n",
    "lower = 0\n",
    "a = [chr(i) for i in range(65, 90)]\n",
    "b = [chr(i) for i in range(97, 122)]\n",
    "c = a + b\n",
    "for i in text:\n",
    "    if i in c:\n",
    "        if i.upper() == i:\n",
    "            capital += 1\n",
    "        else:\n",
    "            lower += 1\n",
    "print(f'Buyuk harf karakter sayisi : {capital}')\n",
    "print(f'Kucuk harf karakter sayisi : {lower}')"
   ]
  },
  {
   "cell_type": "code",
   "execution_count": 2,
   "metadata": {},
   "outputs": [
    {
     "name": "stdout",
     "output_type": "stream",
     "text": [
      "bir kelime giriniznasil GIDIYOR\n",
      "Büyük harf sayısı 8\n",
      "Küçük harf sayısı 5\n"
     ]
    }
   ],
   "source": [
    "kelime = input(\"bir kelime giriniz\")\n",
    "küçük = 0\n",
    "büyük = 0\n",
    "for i in kelime:\n",
    "    if i.upper() == i :\n",
    "        büyük += 1\n",
    "    else :\n",
    "        küçük += 1\n",
    "print(\"Büyük harf sayısı {}\".format(büyük))\n",
    "print(\"Küçük harf sayısı {}\".format(küçük))"
   ]
  },
  {
   "cell_type": "code",
   "execution_count": null,
   "metadata": {},
   "outputs": [],
   "source": []
  }
 ],
 "metadata": {
  "kernelspec": {
   "display_name": "Python 3",
   "language": "python",
   "name": "python3"
  },
  "language_info": {
   "codemirror_mode": {
    "name": "ipython",
    "version": 3
   },
   "file_extension": ".py",
   "mimetype": "text/x-python",
   "name": "python",
   "nbconvert_exporter": "python",
   "pygments_lexer": "ipython3",
   "version": "3.8.5"
  }
 },
 "nbformat": 4,
 "nbformat_minor": 4
}
