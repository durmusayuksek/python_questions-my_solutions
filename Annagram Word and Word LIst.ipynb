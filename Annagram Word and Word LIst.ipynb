{
 "cells": [
  {
   "cell_type": "markdown",
   "metadata": {},
   "source": [
    "What is an anagram? Well, two words are anagrams of each other if they both contain the same letters. For example:\n",
    "'abba' & 'baab' == true\n",
    "'abba' & 'bbaa' == true\n",
    "'abba' & 'abbba' == false\n",
    "'abba' & 'abca' == false\n",
    "Take two inputs from the user word and word list and then write code that will find all the anagrams of a word from a list. You should return a list of all the anagrams or an empty list if there are none. For example:\n",
    "input1:'abba'\n",
    "input2: ['aabb', 'abcd', 'bbaa', 'dada']) \n",
    "output: ['aabb', 'bbaa']"
   ]
  },
  {
   "cell_type": "code",
   "execution_count": 4,
   "metadata": {},
   "outputs": [
    {
     "name": "stdout",
     "output_type": "stream",
     "text": [
      "Enter a word > abba\n",
      "Enter a word for the word list or 'q' to quit > aabb\n",
      "Enter a word for the word list or 'q' to quit > abbb\n",
      "Enter a word for the word list or 'q' to quit > q\n",
      "['aabb']\n"
     ]
    }
   ],
   "source": [
    "listt_1 = []\n",
    "inp1 = input('Enter a word > ')\n",
    "while True:\n",
    "    inp2 = input(\"Enter a word for the word list or 'q' to quit > \")\n",
    "    if inp2.lower() == 'q':\n",
    "        break\n",
    "    else:\n",
    "        listt_1.append(inp2)\n",
    "            \n",
    "listt_2 = []\n",
    "sonuc = True\n",
    "for i in listt_1:\n",
    "    if set(i) == set(inp1):\n",
    "        for j in i:\n",
    "            if i.count(j) != inp1.count(j):\n",
    "                sonuc = False\n",
    "        if sonuc:\n",
    "            if i not in listt_2:\n",
    "                listt_2.append(i)\n",
    "print(listt_2)"
   ]
  },
  {
   "cell_type": "code",
   "execution_count": null,
   "metadata": {},
   "outputs": [],
   "source": []
  }
 ],
 "metadata": {
  "kernelspec": {
   "display_name": "Python 3 (ipykernel)",
   "language": "python",
   "name": "python3"
  },
  "language_info": {
   "codemirror_mode": {
    "name": "ipython",
    "version": 3
   },
   "file_extension": ".py",
   "mimetype": "text/x-python",
   "name": "python",
   "nbconvert_exporter": "python",
   "pygments_lexer": "ipython3",
   "version": "3.8.5"
  }
 },
 "nbformat": 4,
 "nbformat_minor": 4
}
