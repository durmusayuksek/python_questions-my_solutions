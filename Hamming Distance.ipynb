{
 "cells": [
  {
   "cell_type": "markdown",
   "metadata": {},
   "source": [
    "```\n",
    "The hamming distance between a pair of numbers is the number of binary bits that differ in their binary notation.\n",
    "\n",
    "Example\n",
    "\n",
    "For a = 25, b= 87, the result should be 4\n",
    "25: 00011001\n",
    "87: 01010111\n",
    "The hamming distance between these two would be 4 ( the 2nd, 5th, 6th, 7th bit ).\n",
    "\n",
    "Input/Output\n",
    "[input] integer a\n",
    "First Number. 1 <= a <= 2^20\n",
    "[input] integer b\n",
    "Second Number. 1 <= b <= 2^20\n",
    "[output] an integer\n",
    "Hamming Distance\n",
    "```"
   ]
  },
  {
   "cell_type": "code",
   "execution_count": 18,
   "metadata": {},
   "outputs": [
    {
     "data": {
      "text/plain": [
       "4"
      ]
     },
     "execution_count": 18,
     "metadata": {},
     "output_type": "execute_result"
    }
   ],
   "source": [
    "def hamming_distance(a, b):\n",
    "    resa = []\n",
    "    c = [a, b]\n",
    "    for i in c:\n",
    "        res = ''\n",
    "        while i > 1:\n",
    "            k = i % 2\n",
    "            i //= 2\n",
    "            res = str(k) + res\n",
    "        res = str(i) + res\n",
    "        d = len(res)\n",
    "        res = '0' * (8 - d) + res\n",
    "        resa.append(res)\n",
    "\n",
    "    count = 0    \n",
    "    for i in range(8):\n",
    "        if resa[0][i] != resa[1][i]:\n",
    "            count += 1\n",
    "    return count\n",
    "\n",
    "hamming_distance(25, 87)"
   ]
  },
  {
   "cell_type": "code",
   "execution_count": null,
   "metadata": {},
   "outputs": [],
   "source": []
  }
 ],
 "metadata": {
  "kernelspec": {
   "display_name": "Python 3 (ipykernel)",
   "language": "python",
   "name": "python3"
  },
  "language_info": {
   "codemirror_mode": {
    "name": "ipython",
    "version": 3
   },
   "file_extension": ".py",
   "mimetype": "text/x-python",
   "name": "python",
   "nbconvert_exporter": "python",
   "pygments_lexer": "ipython3",
   "version": "3.8.5"
  }
 },
 "nbformat": 4,
 "nbformat_minor": 4
}
