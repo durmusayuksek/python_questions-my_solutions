{
 "cells": [
  {
   "cell_type": "markdown",
   "metadata": {},
   "source": [
    "```\n",
    "Create a function that takes a number max_den and returns the total number of fully simplified proper fractions that exist with denominator less than or equal to max_den.\n",
    "\n",
    "You only need to return the number of fractions; NOT the fractions themselves. In the examples below, I list the fractions simply for your reference.\n",
    "\n",
    "Examples\n",
    "sim_prop_frac(10) ➞ 31\n",
    "# 1/2, 1/3, 2/3, 1/4, 3/4, 1/5, 2/5, 3/5, 4/5, 1/6, 5/6, 1/7, 2/7, 3/7, 4/7, 5/7, 6/7, 1/8, 3/8, 5/8, 7/8, 1/9, 2/9, 4/9, 5/9, 7/9, 8/9, 1/10, 3/10, 7/10, 9/10\n",
    "\n",
    "sim_prop_frac(7) ➞ 17\n",
    "# 1/2, 1/3, 2/3, 1/4, 3/4, 1/5, 2/5, 3/5, 4/5, 1/6, 5/6, 1/7, 2/7, 3/7, 4/7, 5/7, 6/7\n",
    "Notes\n",
    "A fully simplified proper fraction is a fraction where both the numerator and denominator share no common factors besides 1 and the fraction is less than 1.\n",
    "```"
   ]
  },
  {
   "cell_type": "code",
   "execution_count": 1,
   "metadata": {},
   "outputs": [
    {
     "name": "stdout",
     "output_type": "stream",
     "text": [
      "[[1, 2], [1, 3], [2, 3], [1, 4], [3, 4], [1, 5], [2, 5], [3, 5], [4, 5]]\n"
     ]
    },
    {
     "data": {
      "text/plain": [
       "9"
      ]
     },
     "execution_count": 1,
     "metadata": {},
     "output_type": "execute_result"
    }
   ],
   "source": [
    "def ortak(n, m):\n",
    "    buyuk = max(n, m)\n",
    "    ortak = [i for i in range(1, buyuk + 1) if n % i == 0 and m % i == 0]\n",
    "    if ortak == [1]:return True\n",
    "    else: return False\n",
    "            \n",
    "def simplified(n):\n",
    "    sayilar = list(range(1, n + 1))\n",
    "    sayilar_temel = list(range(1, n + 1))\n",
    "    a, res = 0, []\n",
    "    while True:\n",
    "        sayilar.pop(a)\n",
    "        for i in sayilar:\n",
    "            if ortak(sayilar_temel[a], i) and (sayilar_temel[a] / i) < 1:\n",
    "                if sayilar_temel[a] / i not in res:\n",
    "                    res.append([sayilar_temel[a], i])\n",
    "        a += 1\n",
    "        sayilar = list(range(1, n + 1))\n",
    "        if a == len(sayilar_temel):break\n",
    "    res = sorted(res, key = lambda x : x[1])\n",
    "    print(res)\n",
    "    return len(res)\n",
    "    \n",
    "simplified(5)           "
   ]
  }
 ],
 "metadata": {
  "kernelspec": {
   "display_name": "Python 3 (ipykernel)",
   "language": "python",
   "name": "python3"
  },
  "language_info": {
   "codemirror_mode": {
    "name": "ipython",
    "version": 3
   },
   "file_extension": ".py",
   "mimetype": "text/x-python",
   "name": "python",
   "nbconvert_exporter": "python",
   "pygments_lexer": "ipython3",
   "version": "3.8.5"
  }
 },
 "nbformat": 4,
 "nbformat_minor": 4
}
