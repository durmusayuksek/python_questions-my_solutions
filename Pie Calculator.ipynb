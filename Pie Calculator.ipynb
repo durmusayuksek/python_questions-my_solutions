{
 "cells": [
  {
   "cell_type": "code",
   "execution_count": 40,
   "metadata": {},
   "outputs": [
    {
     "name": "stdout",
     "output_type": "stream",
     "text": [
      "3.1415926535897927\n"
     ]
    }
   ],
   "source": [
    "n = 0\n",
    "target = 30\n",
    "resa = 0\n",
    "while n - target < 1000:\n",
    "    left = (3 / ((4 ** n) * (2 * n + 1)))\n",
    "    right = 1\n",
    "    if n > 0:\n",
    "        for i in range(1, (2 * n - 1) + 1):\n",
    "            right *= (i + 1) ** ((-1) ** i)\n",
    "\n",
    "    resa += left * right\n",
    "    n += 1\n",
    "    if n - target >= 1000:\n",
    "        print(str(resa)[:target + 2])"
   ]
  },
  {
   "cell_type": "code",
   "execution_count": 39,
   "metadata": {},
   "outputs": [
    {
     "name": "stdout",
     "output_type": "stream",
     "text": [
      "3.141592653589793\n"
     ]
    }
   ],
   "source": [
    "def factorial(k):\n",
    "    if k == 0:\n",
    "        return 1\n",
    "    else:\n",
    "        res = 1\n",
    "        for i in range(1, k + 1):\n",
    "            res *= i\n",
    "        return res\n",
    "\n",
    "left = 1 / (426880 * (10005 ** 0.5))\n",
    "right = 0\n",
    "for k in range(1000):\n",
    "    right += (factorial(6 * k) * (13591409 + 545140134 * k)) / (factorial(3 * k) * (factorial(k) ** 3) * \\\n",
    "                                                                ((-640320) ** (3*k)))\n",
    "    \n",
    "result = (left * right) ** (-1)\n",
    "print(result)"
   ]
  }
 ],
 "metadata": {
  "kernelspec": {
   "display_name": "Python 3 (ipykernel)",
   "language": "python",
   "name": "python3"
  },
  "language_info": {
   "codemirror_mode": {
    "name": "ipython",
    "version": 3
   },
   "file_extension": ".py",
   "mimetype": "text/x-python",
   "name": "python",
   "nbconvert_exporter": "python",
   "pygments_lexer": "ipython3",
   "version": "3.8.5"
  }
 },
 "nbformat": 4,
 "nbformat_minor": 4
}
