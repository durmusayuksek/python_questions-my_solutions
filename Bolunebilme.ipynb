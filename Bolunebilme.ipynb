{
 "cells": [
  {
   "cell_type": "markdown",
   "metadata": {},
   "source": [
    "Aynı zamanda hem 2'ye hem 4'e hem de 5'e bölünebilen sayılara xyz sayısı diyelim. Hem 2'ye hem de 5'e bölünebilen sayılar ise abc sayısı olsun. 100 ile 100.000 arasındaki xyz sayılarından kaç tanesi aynı zamanda abc sayısıdır?"
   ]
  },
  {
   "cell_type": "code",
   "execution_count": 9,
   "metadata": {},
   "outputs": [
    {
     "name": "stdout",
     "output_type": "stream",
     "text": [
      "4995\n",
      "2497\n"
     ]
    }
   ],
   "source": [
    "sayilar = list(range(100, 100000))\n",
    "xyz = []\n",
    "abc = []\n",
    "for i in sayilar:\n",
    "    if i % 2 == 0 and i % 4 == 0 and i % 5 == 0:\n",
    "        xyz.append(i)\n",
    "        count_xyz = len(xyz)\n",
    "for i in xyz:\n",
    "    if i % 4 != 0:\n",
    "        xyz.remove(i)\n",
    "        count_abc = len(xyz)\n",
    "print(count_xyz)\n",
    "print(count_abc)"
   ]
  },
  {
   "cell_type": "code",
   "execution_count": null,
   "metadata": {},
   "outputs": [],
   "source": []
  }
 ],
 "metadata": {
  "kernelspec": {
   "display_name": "Python 3",
   "language": "python",
   "name": "python3"
  },
  "language_info": {
   "codemirror_mode": {
    "name": "ipython",
    "version": 3
   },
   "file_extension": ".py",
   "mimetype": "text/x-python",
   "name": "python",
   "nbconvert_exporter": "python",
   "pygments_lexer": "ipython3",
   "version": "3.8.5"
  }
 },
 "nbformat": 4,
 "nbformat_minor": 4
}
