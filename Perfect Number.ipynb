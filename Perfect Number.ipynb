{
 "cells": [
  {
   "cell_type": "markdown",
   "metadata": {},
   "source": [
    "Bir sayının mükemmel olup olmadığını kontrol etmek için bir Python fonksiyonu yazın.\n",
    "Wikipedia'ya göre : Sayı teorisinde, mükemmel bir sayı, uygun pozitif bölenlerinin toplamına eşit olan pozitif bir tam sayıdır, yani sayının kendisi hariç pozitif bölenlerinin toplamıdır (aynı zamanda bölüntü olarak da bilinir). toplamı). Eşdeğer olarak, mükemmel bir sayı, tüm pozitif bölenlerinin (kendisi dahil) toplamının yarısı olan bir sayıdır.\n",
    "Örnek  : İlk mükemmel sayı 6'dır, çünkü 1, 2 ve 3 uygun pozitif bölenleridir ve 1 + 2 + 3 = 6. Eşdeğer olarak, 6 sayısı tüm pozitif bölenlerinin toplamının yarısına eşittir: ( 1 + 2 + 3 + 6) / 2 = 6. Bir sonraki mükemmel sayı 28 = 1 + 2 + 4 + 7 + 14'tür. Bunu 496 ve 8128 mükemmel sayıları takip eder."
   ]
  },
  {
   "cell_type": "code",
   "execution_count": 5,
   "metadata": {},
   "outputs": [
    {
     "name": "stdout",
     "output_type": "stream",
     "text": [
      "Enter a number > 496\n",
      "496 is a perfect number.\n"
     ]
    }
   ],
   "source": [
    "number = int(input('Enter a number > '))\n",
    "num_list = []\n",
    "for i in range(1, number + 1):\n",
    "    if number % i == 0:\n",
    "        num_list.append(i)\n",
    "total1 = sum(num_list) - num_list[-1]\n",
    "total2 = sum(num_list)\n",
    "if number == total1 and number == total2 / 2:\n",
    "    print('{} is a perfect number.'.format(number))\n",
    "else:\n",
    "    print('{} is not a perfect number'.format(number))"
   ]
  },
  {
   "cell_type": "code",
   "execution_count": 7,
   "metadata": {},
   "outputs": [
    {
     "data": {
      "text/plain": [
       "[6, 28, 496, 8128]"
      ]
     },
     "execution_count": 7,
     "metadata": {},
     "output_type": "execute_result"
    }
   ],
   "source": [
    "def perfect(num):    \n",
    "    new_list = []\n",
    "    for k in range(2, num + 1):\n",
    "        num_list = []\n",
    "        for i in range(1, k):\n",
    "            if k % i == 0:\n",
    "                num_list.append(i)\n",
    "        total = sum(num_list)\n",
    "        if k == total:\n",
    "            new_list.append(k)\n",
    "    return new_list\n",
    "\n",
    "perfect(100000)"
   ]
  },
  {
   "cell_type": "code",
   "execution_count": null,
   "metadata": {},
   "outputs": [],
   "source": []
  }
 ],
 "metadata": {
  "kernelspec": {
   "display_name": "Python 3 (ipykernel)",
   "language": "python",
   "name": "python3"
  },
  "language_info": {
   "codemirror_mode": {
    "name": "ipython",
    "version": 3
   },
   "file_extension": ".py",
   "mimetype": "text/x-python",
   "name": "python",
   "nbconvert_exporter": "python",
   "pygments_lexer": "ipython3",
   "version": "3.8.5"
  }
 },
 "nbformat": 4,
 "nbformat_minor": 4
}
