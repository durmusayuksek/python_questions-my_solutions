{
 "cells": [
  {
   "cell_type": "markdown",
   "id": "2a960984",
   "metadata": {},
   "source": [
    "```\n",
    "This problem was asked by Dropbox.\n",
    "Given a string s and a list of words words, where each word is the same length, find all starting indices of substrings in s that is a concatenation of every word in words exactly once.\n",
    "For example, given s = “dogcatcatcodecatdog” and words = [“cat”, “dog”], return [0, 13], since “dogcat” starts at index 0 and “catdog” starts at index 13.\n",
    "Given s = “barfoobazbitbyte” and words = [“dog”, “cat”], return [] since there are no substrings composed of “dog” and “cat” in s.\n",
    "The order of the indices does not matter.\n",
    "```"
   ]
  },
  {
   "cell_type": "code",
   "execution_count": 44,
   "id": "89853576",
   "metadata": {},
   "outputs": [
    {
     "data": {
      "text/plain": [
       "[0, 13]"
      ]
     },
     "execution_count": 44,
     "metadata": {},
     "output_type": "execute_result"
    }
   ],
   "source": [
    "from itertools import permutations\n",
    "import re\n",
    "\n",
    "def catching_substrings(text, lst):\n",
    "\n",
    "    res = []\n",
    "    perms = [''.join(i) for i in list(permutations(lst))]\n",
    "\n",
    "    for i in perms:\n",
    "        pattern = re.compile(i)\n",
    "        catch = pattern.finditer(text)\n",
    "        for k in catch:\n",
    "            res.append(k.start())\n",
    "\n",
    "    res.sort()\n",
    "    return res\n",
    "\n",
    "catching_substrings('dogcatcatcodecatdog', ['cat', 'dog'])"
   ]
  },
  {
   "cell_type": "code",
   "execution_count": null,
   "id": "236164c3",
   "metadata": {},
   "outputs": [],
   "source": []
  }
 ],
 "metadata": {
  "kernelspec": {
   "display_name": "Python 3 (ipykernel)",
   "language": "python",
   "name": "python3"
  },
  "language_info": {
   "codemirror_mode": {
    "name": "ipython",
    "version": 3
   },
   "file_extension": ".py",
   "mimetype": "text/x-python",
   "name": "python",
   "nbconvert_exporter": "python",
   "pygments_lexer": "ipython3",
   "version": "3.9.7"
  }
 },
 "nbformat": 4,
 "nbformat_minor": 5
}
