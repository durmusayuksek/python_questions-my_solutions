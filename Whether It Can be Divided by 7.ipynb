{
 "cells": [
  {
   "cell_type": "markdown",
   "metadata": {},
   "source": [
    "Numbers = [18,21,14,84,65,35,10,20,28,42,24,91,5,7,54,69]\n",
    "Numbers listesi içindeki sayılardan 7’ e bölünebilenleri küçükten büyüğe doğru olacak şeklide listeleyin. Ayrıca kaç tanesinin 7’ e bölünebildiğini yazdırın."
   ]
  },
  {
   "cell_type": "code",
   "execution_count": 3,
   "metadata": {},
   "outputs": [
    {
     "name": "stdout",
     "output_type": "stream",
     "text": [
      "[7, 14, 21, 28, 35, 42, 84, 91]\n",
      "8 out of 16 numbers in the given list can be divided by 7.\n"
     ]
    }
   ],
   "source": [
    "numbers = [18,21,14,84,65,35,10,20,28,42,24,91,5,7,54,69]\n",
    "new_list = []\n",
    "for i in numbers:\n",
    "    if i % 7 == 0:\n",
    "        new_list.append(i)\n",
    "new_list.sort()\n",
    "print(new_list)\n",
    "print(f'{len(new_list)} out of {len(numbers)} numbers in the given list can be divided by 7.')"
   ]
  },
  {
   "cell_type": "code",
   "execution_count": null,
   "metadata": {},
   "outputs": [],
   "source": []
  }
 ],
 "metadata": {
  "kernelspec": {
   "display_name": "Python 3",
   "language": "python",
   "name": "python3"
  },
  "language_info": {
   "codemirror_mode": {
    "name": "ipython",
    "version": 3
   },
   "file_extension": ".py",
   "mimetype": "text/x-python",
   "name": "python",
   "nbconvert_exporter": "python",
   "pygments_lexer": "ipython3",
   "version": "3.8.5"
  }
 },
 "nbformat": 4,
 "nbformat_minor": 4
}
