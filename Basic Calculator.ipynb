{
 "cells": [
  {
   "cell_type": "markdown",
   "metadata": {},
   "source": [
    "### Basic Calculator\n",
    "Create a function that takes two numbers and a mathematical operator + - / * and will perform a calculation with the given numbers.\n",
    "If the input tries to divide by 0, return: \"Can't divide by 0!\""
   ]
  },
  {
   "cell_type": "code",
   "execution_count": 13,
   "metadata": {},
   "outputs": [
    {
     "name": "stdout",
     "output_type": "stream",
     "text": [
      "Enter the first number > 75\n",
      "Enter the second number > 5\n",
      "Enter the operator > *\n",
      "75.0 * 5.0 = 375.0.\n"
     ]
    }
   ],
   "source": [
    "def calculator():\n",
    "    num1 = float(input('Enter the first number > '))\n",
    "    num2 = float(input('Enter the second number > '))\n",
    "    operator = input('Enter the operator > ')\n",
    "    if operator == '+':\n",
    "        result = num1 + num2\n",
    "    elif operator == '-':\n",
    "        result = num1 - num2\n",
    "    elif operator == '/':\n",
    "        if num2 == 0:\n",
    "            print(\"Can't divide by 0!\")\n",
    "        else:\n",
    "            result = num1 / num2\n",
    "    else:\n",
    "        result = num1 * num2\n",
    "    print(f'{num1} {operator} {num2} = {result}.')\n",
    "    \n",
    "    \n",
    "calculator()"
   ]
  },
  {
   "cell_type": "code",
   "execution_count": null,
   "metadata": {},
   "outputs": [],
   "source": []
  }
 ],
 "metadata": {
  "kernelspec": {
   "display_name": "Python 3",
   "language": "python",
   "name": "python3"
  },
  "language_info": {
   "codemirror_mode": {
    "name": "ipython",
    "version": 3
   },
   "file_extension": ".py",
   "mimetype": "text/x-python",
   "name": "python",
   "nbconvert_exporter": "python",
   "pygments_lexer": "ipython3",
   "version": "3.8.5"
  }
 },
 "nbformat": 4,
 "nbformat_minor": 4
}
