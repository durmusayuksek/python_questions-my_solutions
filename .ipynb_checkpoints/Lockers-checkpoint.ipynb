{
 "cells": [
  {
   "cell_type": "markdown",
   "metadata": {},
   "source": [
    "```\n",
    "There are number of lockers \"n\" and number of students \"n\" in the school. The principal asks the first student to go to every locker and open it. Then he has the second student go to every second locker and close it. The third goes to every third locker and, if it is closed, he opens it, and if it is open, he closes it. The fourth student does this to every fourth locker, and so on. After the process is completed with the \"n\"th student, how many lockers are open?\n",
    "The task is to write a function which gets any number as an input and returns the number of open lockers after last sudent complets his activity. So input of the function is just one number which shows number of lockers and number of students. For example if there are 1000 lockers and 1000 students in school then input is 1000 and function returns number of open lockers after 1000th student completes his action.\n",
    "The given input is always an integer greater than or equal to zero that is why there is no need for validation.\n",
    "```"
   ]
  },
  {
   "cell_type": "code",
   "execution_count": 1,
   "metadata": {},
   "outputs": [
    {
     "name": "stdout",
     "output_type": "stream",
     "text": [
      "1001000010000001000000001000000000010000000000001000000000000001000000000000000010000000000000000001000000000000000000001000000000000000000000010000000000000000000000001000000000000000000000000001000000000000000000000000000010000000000000000000000000000001000000000000000000000000000000001000000000000000000000000000000000010000000000000000000000000000000000001000000000000000000000000000000000000001000000000000000000000000000000000000000010000000000000000000000000000000000000000001000000000000000000000000000000000000000000001000000000000000000000000000000000000000000000010000000000000000000000000000000000000000000000001000000000000000000000000000000000000000000000000001000000000000000000000000000000000000000000000000000010000000000000000000000000000000000000000000000000000001000000000000000000000000000000000000000000000000000000001000000000000000000000000000000000000000000000000000000000010000000000000000000000000000000000000000000000000000000000001000000000000000000000000000000000000000\n"
     ]
    },
    {
     "data": {
      "text/plain": [
       "31"
      ]
     },
     "execution_count": 1,
     "metadata": {},
     "output_type": "execute_result"
    }
   ],
   "source": [
    "def locker(n):\n",
    "    res = ''.join(['1' for i in range(n)])\n",
    "\n",
    "    a = 2\n",
    "    while a <= n:\n",
    "        b = a\n",
    "        for i in range(a-1, len(res), a):\n",
    "            if res[i] == '1':\n",
    "                res = res[:b-1] + '0' + res[b:]\n",
    "            else:\n",
    "                res = res[:b-1] + '1' + res[b:]\n",
    "            b += a\n",
    "        a += 1\n",
    "    resa = sum([int(i) for i in res])\n",
    "    print(res)\n",
    "    return resa\n",
    "\n",
    "locker(1000)"
   ]
  },
  {
   "cell_type": "code",
   "execution_count": null,
   "metadata": {},
   "outputs": [],
   "source": []
  }
 ],
 "metadata": {
  "kernelspec": {
   "display_name": "Python 3 (ipykernel)",
   "language": "python",
   "name": "python3"
  },
  "language_info": {
   "codemirror_mode": {
    "name": "ipython",
    "version": 3
   },
   "file_extension": ".py",
   "mimetype": "text/x-python",
   "name": "python",
   "nbconvert_exporter": "python",
   "pygments_lexer": "ipython3",
   "version": "3.8.5"
  }
 },
 "nbformat": 4,
 "nbformat_minor": 4
}
