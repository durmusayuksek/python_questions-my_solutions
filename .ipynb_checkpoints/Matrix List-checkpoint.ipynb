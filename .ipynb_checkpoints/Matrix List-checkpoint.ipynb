{
 "cells": [
  {
   "cell_type": "markdown",
   "metadata": {},
   "source": [
    "```\n",
    "This problem was asked by Amazon.\n",
    "Given a N by M matrix of numbers, print out the matrix in a clockwise spiral.\n",
    "For example, given the following matrix:\n",
    "[[1,  2,  3,  4,  5],\n",
    " [6,  7,  8,  9,  10],\n",
    " [11, 12, 13, 14, 15],\n",
    " [16, 17, 18, 19, 20]]\n",
    "You should print out the following:\n",
    "1\n",
    "2\n",
    "3\n",
    "4\n",
    "5\n",
    "10\n",
    "15\n",
    "20\n",
    "19\n",
    "18\n",
    "17\n",
    "16\n",
    "11\n",
    "6\n",
    "7\n",
    "8\n",
    "9\n",
    "14\n",
    "13\n",
    "12\n",
    "```"
   ]
  },
  {
   "cell_type": "code",
   "execution_count": 20,
   "metadata": {},
   "outputs": [
    {
     "data": {
      "text/plain": [
       "[0,\n",
       " 1,\n",
       " 2,\n",
       " 3,\n",
       " 7,\n",
       " 11,\n",
       " 15,\n",
       " 19,\n",
       " 23,\n",
       " 27,\n",
       " 31,\n",
       " 35,\n",
       " 34,\n",
       " 33,\n",
       " 32,\n",
       " 28,\n",
       " 24,\n",
       " 20,\n",
       " 16,\n",
       " 12,\n",
       " 8,\n",
       " 4,\n",
       " 5,\n",
       " 6,\n",
       " 10,\n",
       " 14,\n",
       " 18,\n",
       " 22,\n",
       " 26,\n",
       " 30,\n",
       " 29,\n",
       " 25,\n",
       " 21,\n",
       " 17,\n",
       " 13,\n",
       " 9]"
      ]
     },
     "execution_count": 20,
     "metadata": {},
     "output_type": "execute_result"
    }
   ],
   "source": [
    "def matrix_list(array):\n",
    "    ind, liste, liste_2 = [], [], []\n",
    "    a, b = 0, len(array[0]) - 1\n",
    "    c = len(array) - 1\n",
    "    ters = True\n",
    "\n",
    "    array_1 = list(map(lambda *a: [*a], *array))\n",
    "    if len(array) >= len(array[0]):\n",
    "        kademe = len(array) * 2\n",
    "    else:\n",
    "        kademe = len(array[0]) * 2\n",
    "\n",
    "    for i in range(kademe // 2 - 1):\n",
    "        ind.append([a, b, c, a])\n",
    "        a += 1\n",
    "        b -= 1\n",
    "        c -= 1\n",
    "\n",
    "    ind_2 = [j for i in ind for j in i] \n",
    "    for i in range(kademe - 1):\n",
    "        if ters:\n",
    "            if i % 2 == 0:\n",
    "                liste.append(array[ind_2[i]])\n",
    "            else:\n",
    "                liste.append(array_1[ind_2[i]])\n",
    "                ters = False\n",
    "        else:\n",
    "            if i % 2 == 0:\n",
    "                liste.append(array[ind_2[i]][::-1])\n",
    "            else:\n",
    "                liste.append(array_1[ind_2[i]][::-1])\n",
    "                ters = True\n",
    "        for i in liste:\n",
    "            for j in i:\n",
    "                if j not in liste_2:\n",
    "                    liste_2.append(j)\n",
    "        if len(liste_2) == len(array) * len(array[0]):\n",
    "            break\n",
    "    return liste_2\n",
    "    \n",
    "matrix_list([[ 0,  1,  2,  3],\n",
    "       [ 4,  5,  6,  7],\n",
    "       [ 8,  9, 10, 11],\n",
    "       [12, 13, 14, 15],\n",
    "       [16, 17, 18, 19],\n",
    "       [20, 21, 22, 23],\n",
    "       [24, 25, 26, 27],\n",
    "       [28, 29, 30, 31],\n",
    "       [32, 33, 34, 35]])"
   ]
  },
  {
   "cell_type": "code",
   "execution_count": 42,
   "metadata": {},
   "outputs": [
    {
     "name": "stdout",
     "output_type": "stream",
     "text": [
      "[1, 2, 3, 4, 5, 10, 15, 20, 19, 18, 17, 16, 11, 6, 7, 8, 9, 14, 13, 12]\n"
     ]
    }
   ],
   "source": [
    "def snail(list1):\n",
    "    if len(list1) < 1:\n",
    "        return list1\n",
    "    else:\n",
    "        outer = list1[0] + [item[-1] for item in list1[1:-1]] + list1[-1][::-1] + [item[0] for item in list1[-2:0:-1]]\n",
    "        inner = [item[1:-1] for item in list1[1:-1]]\n",
    "    return outer + snail(inner)\n",
    "list2= [[1,  2,  3,  4,  5],\n",
    "        [6,  7,  8,  9,  10],\n",
    "        [11, 12, 13, 14, 15],\n",
    "        [16, 17, 18, 19, 20]]\n",
    "print(snail(list2))"
   ]
  },
  {
   "cell_type": "code",
   "execution_count": null,
   "metadata": {},
   "outputs": [],
   "source": []
  }
 ],
 "metadata": {
  "kernelspec": {
   "display_name": "Python 3 (ipykernel)",
   "language": "python",
   "name": "python3"
  },
  "language_info": {
   "codemirror_mode": {
    "name": "ipython",
    "version": 3
   },
   "file_extension": ".py",
   "mimetype": "text/x-python",
   "name": "python",
   "nbconvert_exporter": "python",
   "pygments_lexer": "ipython3",
   "version": "3.8.5"
  }
 },
 "nbformat": 4,
 "nbformat_minor": 4
}
