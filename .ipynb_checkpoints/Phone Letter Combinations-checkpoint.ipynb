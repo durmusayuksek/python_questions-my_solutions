{
 "cells": [
  {
   "cell_type": "markdown",
   "metadata": {},
   "source": [
    "```\n",
    "Given a string containing digits from 2-9 inclusive, return all possible letter combinations that the number could represent. A mapping of digit to letters (just like on the telephone buttons) is given below. Note that 1 does not map to any letters.\n",
    "\n",
    "Examples\n",
    "letter_combinations(\"23\") ➞ [\"ad\", \"ae\", \"af\", \"bd\", \"be\", \"bf\", \"cd\", \"ce\", \"cf\"]\n",
    "\n",
    "letter_combinations(\"532\") ➞ [\"jda\", \"jdb\", \"jdc\", \"jea\", \"jeb\", \"jec\", \"jfa\", \"jfb\", \"jfc\", \"kda\", \"kdb\", \"kdc\", \"kea\", \"keb\", \"kec\", \"kfa\", \"kfb\", \"kfc\", \"lda\", \"ldb\", \"ldc\", \"lea\", \"leb\", \"lec\", \"lfa\", \"lfb\", \"lfc\"]\n",
    "```"
   ]
  },
  {
   "cell_type": "code",
   "execution_count": 5,
   "metadata": {},
   "outputs": [
    {
     "data": {
      "text/plain": [
       "['mga',\n",
       " 'mgb',\n",
       " 'mgc',\n",
       " 'mha',\n",
       " 'mhb',\n",
       " 'mhc',\n",
       " 'mia',\n",
       " 'mib',\n",
       " 'mic',\n",
       " 'nga',\n",
       " 'ngb',\n",
       " 'ngc',\n",
       " 'nha',\n",
       " 'nhb',\n",
       " 'nhc',\n",
       " 'nia',\n",
       " 'nib',\n",
       " 'nic',\n",
       " 'oga',\n",
       " 'ogb',\n",
       " 'ogc',\n",
       " 'oha',\n",
       " 'ohb',\n",
       " 'ohc',\n",
       " 'oia',\n",
       " 'oib',\n",
       " 'oic']"
      ]
     },
     "execution_count": 5,
     "metadata": {},
     "output_type": "execute_result"
    }
   ],
   "source": [
    "import random, string\n",
    "\n",
    "def phone_letter(num):\n",
    "    \n",
    "    harfler = string.ascii_lowercase\n",
    "    dictt = {2: 'abc', 3: 'def', 4: 'ghi', 5: 'jkl', 6: 'mno', 7: 'pqrs', 8: 'tuv', 9: 'wxyz'}\n",
    "    \n",
    "    times = 1\n",
    "    for i in range(len(str(num))):\n",
    "        times *= len(dictt[int(str(num)[i])])\n",
    "    \n",
    "    a = 0\n",
    "    result_list = []\n",
    "    while a < times:\n",
    "        liste = []\n",
    "        for i in range(len(str(num))):\n",
    "            random_chr = random.choice(dictt[int(str(num)[i])])\n",
    "            liste.append(random_chr)\n",
    "        if liste not in result_list:\n",
    "            result_list.insert(len(result_list), liste)\n",
    "            a += 1\n",
    "    result_list = [''.join(i) for i in result_list]\n",
    "    result_list.sort()\n",
    "    return result_list\n",
    "\n",
    "phone_letter(642)"
   ]
  },
  {
   "cell_type": "code",
   "execution_count": null,
   "metadata": {},
   "outputs": [],
   "source": []
  }
 ],
 "metadata": {
  "kernelspec": {
   "display_name": "Python 3 (ipykernel)",
   "language": "python",
   "name": "python3"
  },
  "language_info": {
   "codemirror_mode": {
    "name": "ipython",
    "version": 3
   },
   "file_extension": ".py",
   "mimetype": "text/x-python",
   "name": "python",
   "nbconvert_exporter": "python",
   "pygments_lexer": "ipython3",
   "version": "3.8.5"
  }
 },
 "nbformat": 4,
 "nbformat_minor": 4
}
