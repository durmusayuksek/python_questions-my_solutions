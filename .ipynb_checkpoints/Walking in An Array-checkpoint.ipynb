{
 "cells": [
  {
   "cell_type": "markdown",
   "metadata": {},
   "source": [
    "```\n",
    "This problem was asked by Slack.\n",
    "You are given an N by M matrix of 0s and 1s. Starting from the top left corner, how many ways are there to reach the bottom right corner?\n",
    "\n",
    "You can only move right and down. 0 represents an empty space while 1 represents a wall you cannot walk through.\n",
    "\n",
    "For example, given the following matrix:\n",
    "[[0, 0, 1],\n",
    " [0, 0, 1],\n",
    " [1, 0, 0]]\n",
    "\n",
    "Return two, as there are only two ways to get to the bottom right:\n",
    " * Right, down, down, right\n",
    " * Down, right, down, right\n",
    "\n",
    "The top left corner and bottom right corner will always be 0.\n",
    "```"
   ]
  },
  {
   "cell_type": "code",
   "execution_count": 26,
   "metadata": {},
   "outputs": [
    {
     "name": "stdout",
     "output_type": "stream",
     "text": [
      "[['right', 'down', 'down', 'down', 'down', 'right', 'right', 'right', 'right', 'down', 'down', 'right', 'right']]\n"
     ]
    },
    {
     "data": {
      "text/plain": [
       "1"
      ]
     },
     "execution_count": 26,
     "metadata": {},
     "output_type": "execute_result"
    }
   ],
   "source": [
    "import random\n",
    "\n",
    "def walking_the_array(lst):\n",
    "    \n",
    "    count1, res, resa = 0, [], []\n",
    "    while True:\n",
    "        i, j, count2 = 0, 0, 0\n",
    "        while True:\n",
    "            if count2 == 100:\n",
    "                res = []\n",
    "                break\n",
    "            ch = random.choice(['right', 'down'])\n",
    "            if ch == 'down':\n",
    "                i += 1\n",
    "            else:\n",
    "                j += 1\n",
    "\n",
    "            if i == len(lst) or j == len(lst[0]):\n",
    "                if ch == 'down':\n",
    "                    i -= 1\n",
    "                else:\n",
    "                    j -= 1\n",
    "                count2 += 1\n",
    "                continue\n",
    "\n",
    "            if lst[i][j] == 0:\n",
    "                res.append(ch)\n",
    "            else:\n",
    "                if ch == 'down':\n",
    "                    i -= 1\n",
    "                else:\n",
    "                    j -= 1\n",
    "                count2 += 1\n",
    "                continue\n",
    "\n",
    "            if i == len(lst)-1 and j == len(lst[0])-1:\n",
    "                if res not in resa:\n",
    "                    resa.append(res)\n",
    "                res = []\n",
    "                break\n",
    "\n",
    "        count1 += 1\n",
    "        if count1 == 100:\n",
    "            break\n",
    "\n",
    "    print(resa)\n",
    "    return len(resa)\n",
    "\n",
    "walking_the_array([[0, 0, 0, 0, 0, 0, 1, 1],\n",
    "                   [1, 0, 1, 1, 0, 1, 0, 1],\n",
    "                   [1, 0, 0, 0, 0, 1, 0, 0],\n",
    "                   [1, 0, 1, 1, 1, 0, 1, 0],\n",
    "                   [0, 0, 0, 0, 0, 0, 1, 0],\n",
    "                   [1, 0, 1, 1, 1, 0, 1, 0],\n",
    "                   [1, 0, 1, 1, 1, 0, 0, 0]])"
   ]
  },
  {
   "cell_type": "code",
   "execution_count": null,
   "metadata": {},
   "outputs": [],
   "source": []
  }
 ],
 "metadata": {
  "kernelspec": {
   "display_name": "Python 3 (ipykernel)",
   "language": "python",
   "name": "python3"
  },
  "language_info": {
   "codemirror_mode": {
    "name": "ipython",
    "version": 3
   },
   "file_extension": ".py",
   "mimetype": "text/x-python",
   "name": "python",
   "nbconvert_exporter": "python",
   "pygments_lexer": "ipython3",
   "version": "3.8.5"
  }
 },
 "nbformat": 4,
 "nbformat_minor": 4
}
