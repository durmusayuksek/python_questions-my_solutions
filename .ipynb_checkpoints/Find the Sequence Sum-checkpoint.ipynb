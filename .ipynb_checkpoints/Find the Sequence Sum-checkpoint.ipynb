{
 "cells": [
  {
   "cell_type": "markdown",
   "metadata": {},
   "source": [
    "```\n",
    "Given three integers, i, j, and k, a sequence sum to be the value of i+(i+1)+(i+2)+(i+3)+...+j+(j-1)+(j-2)+(j-3)+...+k\n",
    "(increment from i until it equals j, then decrement from j until it equals k). Given values i, j, and k, calculate the sequence sum as described.\n",
    "```"
   ]
  },
  {
   "cell_type": "code",
   "execution_count": 1,
   "metadata": {},
   "outputs": [
    {
     "data": {
      "text/plain": [
       "56"
      ]
     },
     "execution_count": 1,
     "metadata": {},
     "output_type": "execute_result"
    }
   ],
   "source": [
    "def sum_loop(i, j, k):\n",
    "    \n",
    "    total = 0\n",
    "\n",
    "    while i < j:\n",
    "        total += i\n",
    "        i += 1\n",
    "\n",
    "    while j >= k:\n",
    "        total += j\n",
    "        j -= 1\n",
    "\n",
    "    return total\n",
    "\n",
    "sum_loop(5,9,6)"
   ]
  },
  {
   "cell_type": "code",
   "execution_count": 4,
   "metadata": {},
   "outputs": [
    {
     "name": "stdout",
     "output_type": "stream",
     "text": [
      "Execution time is: 11.469527231\n"
     ]
    }
   ],
   "source": [
    "import timeit\n",
    "\n",
    "statement = '''\n",
    "def sum_loop(i, j, k):\n",
    "    \n",
    "    total = 0\n",
    "\n",
    "    while i < j:\n",
    "        total += i\n",
    "        i += 1\n",
    "\n",
    "    while j >= k:\n",
    "        total += j\n",
    "        j -= 1\n",
    "\n",
    "    return total\n",
    "sum_loop(-5,-1,-3)\n",
    "'''\n",
    "\n",
    "print(f'Execution time is: {timeit.timeit(stmt=statement, number=10000000)}')"
   ]
  },
  {
   "cell_type": "code",
   "execution_count": 6,
   "metadata": {},
   "outputs": [
    {
     "name": "stdout",
     "output_type": "stream",
     "text": [
      "Execution time is: 6.949126436\n"
     ]
    }
   ],
   "source": [
    "import timeit\n",
    "\n",
    "statement='''\n",
    "def sum_loop(i,j,k):\n",
    "\n",
    "    a = (i * (i + 1)) / 2\n",
    "    b = (j * (j + 1)) / 2\n",
    "    c = (k * (k + 1)) / 2\n",
    "\n",
    "    d = (b - a) + i\n",
    "    e = (b - c) + k\n",
    "    return d+e-j\n",
    "\n",
    "sum_loop(-5,-1,-3)'''\n",
    "\n",
    "print(f'Execution time is: {timeit.timeit(stmt=statement, number=10000000)}')"
   ]
  },
  {
   "cell_type": "code",
   "execution_count": null,
   "metadata": {},
   "outputs": [],
   "source": []
  }
 ],
 "metadata": {
  "kernelspec": {
   "display_name": "Python 3 (ipykernel)",
   "language": "python",
   "name": "python3"
  },
  "language_info": {
   "codemirror_mode": {
    "name": "ipython",
    "version": 3
   },
   "file_extension": ".py",
   "mimetype": "text/x-python",
   "name": "python",
   "nbconvert_exporter": "python",
   "pygments_lexer": "ipython3",
   "version": "3.8.5"
  }
 },
 "nbformat": 4,
 "nbformat_minor": 4
}
