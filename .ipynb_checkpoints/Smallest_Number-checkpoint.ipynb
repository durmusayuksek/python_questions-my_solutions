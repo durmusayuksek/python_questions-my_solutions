{
 "cells": [
  {
   "cell_type": "markdown",
   "metadata": {},
   "source": [
    "```\n",
    "2520 is the smallest number that can be divided by each of the numbers from 1 to 10 without any remainder.\n",
    "What is the smallest positive number that is evenly divisible by all of the numbers from 1 to 20?\n",
    "```"
   ]
  },
  {
   "cell_type": "code",
   "execution_count": 4,
   "metadata": {},
   "outputs": [
    {
     "data": {
      "text/plain": [
       "232792560"
      ]
     },
     "execution_count": 4,
     "metadata": {},
     "output_type": "execute_result"
    }
   ],
   "source": [
    "def smallest_number(n):    \n",
    "    lst = [i for i in range(1, n + 1)]\n",
    "    lst2, res = [], []\n",
    "    dictt = {}\n",
    "    t = 0\n",
    "    for i in lst:\n",
    "        j = 2\n",
    "        while i > 1:\n",
    "            if i % j == 0:\n",
    "                i = i // j\n",
    "                lst2.append(j)\n",
    "            else:\n",
    "                j += 1\n",
    "        \n",
    "        dictt[lst[t]] = lst2\n",
    "        lst2 = []\n",
    "        t += 1\n",
    "\n",
    "    for k,v in dictt.items():\n",
    "        for i in v:\n",
    "            a = v.count(i)\n",
    "            while res.count(i) < a:\n",
    "                res.append(i)\n",
    "\n",
    "#     print(dictt)\n",
    "#     print(res) \n",
    "    count = 1\n",
    "    for i in res:\n",
    "        count *= i\n",
    "    return count\n",
    "\n",
    "smallest_number(20)"
   ]
  },
  {
   "cell_type": "code",
   "execution_count": null,
   "metadata": {},
   "outputs": [],
   "source": []
  }
 ],
 "metadata": {
  "kernelspec": {
   "display_name": "Python 3 (ipykernel)",
   "language": "python",
   "name": "python3"
  },
  "language_info": {
   "codemirror_mode": {
    "name": "ipython",
    "version": 3
   },
   "file_extension": ".py",
   "mimetype": "text/x-python",
   "name": "python",
   "nbconvert_exporter": "python",
   "pygments_lexer": "ipython3",
   "version": "3.8.5"
  }
 },
 "nbformat": 4,
 "nbformat_minor": 4
}
