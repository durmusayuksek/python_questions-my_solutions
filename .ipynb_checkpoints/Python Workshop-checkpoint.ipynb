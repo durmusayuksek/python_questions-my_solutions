{
 "cells": [
  {
   "cell_type": "markdown",
   "metadata": {},
   "source": [
    "<h1><center>Python Workshop - 30.11.2021</center></h1>"
   ]
  },
  {
   "cell_type": "markdown",
   "metadata": {},
   "source": [
    "### Question 1\n",
    "```\n",
    "Write a function that returns True if every consecutive sequence of ones is followed by a consecutive sequence of zeroes of the same length.\n",
    "\n",
    "same_length(\"110011100010\") ➞ True\n",
    "\n",
    "same_length(\"101010110\") ➞ False\n",
    "\n",
    "same_length(\"111100001100\") ➞ True\n",
    "\n",
    "same_length(\"111\") ➞ False\n",
    "```"
   ]
  },
  {
   "cell_type": "code",
   "execution_count": null,
   "metadata": {},
   "outputs": [],
   "source": [
    "text = \"110011100010\"\n",
    "while '10' in text or '01' in text:\n",
    "    text = text.replace('10', '').replace('01', '')\n",
    "if text == '':\n",
    "    print('True')\n",
    "else:\n",
    "    print('False')"
   ]
  },
  {
   "cell_type": "markdown",
   "metadata": {},
   "source": [
    "### Question 2\n",
    "```\n",
    "Write a function that groups a string into parentheses cluster. Each cluster should be balanced.\n",
    "split(\"()()()\") ➞ [\"()\", \"()\", \"()\"]\n",
    "\n",
    "split(\"((()))\") ➞ [\"((()))\"]\n",
    "\n",
    "split(\"((()))(())()()(()())\") ➞ [\"((()))\", \"(())\", \"()\", \"()\", \"(()())\"]\n",
    "\n",
    "split(\"((())())(()(()()))\") ➞ [\"((())())\", \"(()(()()))\"]\n",
    "```"
   ]
  },
  {
   "cell_type": "code",
   "execution_count": null,
   "metadata": {},
   "outputs": [],
   "source": [
    "text = \"((()))(())()()(()())\"\n",
    "sol, sag = 0, 0\n",
    "asama = ''\n",
    "sonuc = []\n",
    "for i in text:\n",
    "    if i == '(':\n",
    "        sol += 1\n",
    "        asama += i\n",
    "    elif i == ')':\n",
    "        sag += 1\n",
    "        asama += i\n",
    "    if sol == sag:\n",
    "        sonuc.append(asama)\n",
    "        asama = ''\n",
    "print(sonuc)"
   ]
  },
  {
   "cell_type": "markdown",
   "metadata": {},
   "source": [
    "### Question 3\n",
    "```\n",
    "Create a function that returns a list containing the prime factors of whatever integer is passed to it.\n",
    "\n",
    "prime_factors(20) ➞ [2, 2, 5]\n",
    "\n",
    "prime_factors(100) ➞ [2, 2, 5, 5]\n",
    "\n",
    "prime_factors(8912234) ➞ [2, 47, 94811]\n",
    "```"
   ]
  },
  {
   "cell_type": "code",
   "execution_count": null,
   "metadata": {},
   "outputs": [],
   "source": [
    "num = int(input('Enter an integer > '))\n",
    "count = 2\n",
    "liste = []\n",
    "while True:\n",
    "    while num % count == 0:\n",
    "        num = num // count\n",
    "        liste.append(count)\n",
    "    count += 1\n",
    "    if num == 1:\n",
    "        break\n",
    "print(liste)"
   ]
  },
  {
   "cell_type": "markdown",
   "metadata": {},
   "source": [
    "### Question 4\n",
    "```\n",
    "Create a function that takes a number num and returns each place value in the number.\n",
    "\n",
    "num_split(39) ➞ [30, 9]\n",
    "\n",
    "num_split(-434) ➞ [-400, -30, -4]\n",
    "\n",
    "num_split(100) ➞ [100, 0, 0]\n",
    "```"
   ]
  },
  {
   "cell_type": "code",
   "execution_count": null,
   "metadata": {},
   "outputs": [],
   "source": [
    "num = input('Enter an integer > ')\n",
    "negative = False\n",
    "new_list = []\n",
    "if num.startswith('-'):\n",
    "    num = num.lstrip('-')\n",
    "    negative = True\n",
    "leng = len(num)\n",
    "for i in num:\n",
    "    sayi = i + (leng - 1) * '0'\n",
    "    if negative:\n",
    "        new_list.append(-int(sayi))\n",
    "    else:\n",
    "        new_list.append(int(sayi))\n",
    "    leng -= 1\n",
    "print(new_list)"
   ]
  },
  {
   "cell_type": "markdown",
   "metadata": {},
   "source": [
    "### Question 5\n",
    "```\n",
    "Create a function that takes an integer n and returns the factorial of factorials. \n",
    "\n",
    "See below examples for a better understanding:\n",
    "\n",
    "fact_of_fact(4) ➞ 288\n",
    "#4! * 3! * 2! * 1! = 288\n",
    "\n",
    "fact_of_fact(5) ➞ 34560\n",
    "\n",
    "fact_of_fact(6) ➞ 24883200\n",
    "```"
   ]
  },
  {
   "cell_type": "code",
   "execution_count": null,
   "metadata": {},
   "outputs": [],
   "source": [
    "num = int(input('Enter an integer here > '))\n",
    "sonuc = 1\n",
    "for i in range(2, num + 1):\n",
    "    fact = 1\n",
    "    for j in range(1, i + 1):\n",
    "        fact *= j\n",
    "    sonuc *= fact\n",
    "print(sonuc)"
   ]
  },
  {
   "cell_type": "markdown",
   "metadata": {},
   "source": [
    "### Question 6\n",
    "```\n",
    "You are given a list which may contain sublists. Your task is to find the depth of the deepest sublist.\n",
    "\n",
    "[a] = 1 depth\n",
    "[[a]] = 2 depth\n",
    "[[[a]]] = 3 depth, etc\n",
    "Examples\n",
    "deepest([1, [2, 3], 4, [5, 6]]) ➞ 2\n",
    "\n",
    "deepest([[[[[[[[[[1]]]]]]]]]]) ➞ 10\n",
    "\n",
    "deepest([1, 4, [1, 4, [1, 4, [1, 4, [5]]]]]) ➞ 5\n",
    "```"
   ]
  },
  {
   "cell_type": "code",
   "execution_count": null,
   "metadata": {},
   "outputs": [],
   "source": [
    "liste = [[],[[[[[5]]]]],[[[[[[[6]]]]]]],[[[[[[[[[[[[7]]]]]]]]]]]]]\n",
    "liste = str(liste)\n",
    "count = 0\n",
    "yeni = []\n",
    "for i in liste:\n",
    "    if i == '[':\n",
    "        count += 1\n",
    "    elif i == ']':\n",
    "        count -= 1\n",
    "    yeni.append(count)\n",
    "print(yeni)\n",
    "print(max(yeni))"
   ]
  },
  {
   "cell_type": "markdown",
   "metadata": {},
   "source": [
    "### Question 7\n",
    "```\n",
    "\"Loves me, loves me not\" is a traditional game in which a person plucks off all the petals of a flower one by one, saying the phrase \"Loves me\" and \"Loves me not\" when determining whether the one that they love, loves them back.\n",
    "\n",
    "Given a number of petals, return a string which repeats the phrases \"Loves me\" and \"Loves me not\" for every alternating petal, and return the last phrase in all caps. Remember to put a comma and space between phrases.\n",
    "\n",
    "Loves me, Loves me not, Loves me, Loves me not, LOVES ME\n",
    "```"
   ]
  },
  {
   "cell_type": "code",
   "execution_count": null,
   "metadata": {},
   "outputs": [],
   "source": [
    "num = int(input('Enter a number here > '))\n",
    "result = ''\n",
    "text = 'Loves me'\n",
    "for i in range(1, num + 1):\n",
    "    if i % 2 == 0:\n",
    "        res = text + ' not'\n",
    "    else:\n",
    "        res = text\n",
    "    if i == num:\n",
    "        res = res.upper()\n",
    "    result += res + ', '\n",
    "result = result.rstrip(', ')\n",
    "print(result)"
   ]
  },
  {
   "cell_type": "markdown",
   "metadata": {},
   "source": [
    "### Question 8\n",
    "```\n",
    "Given a string of size n, write functions to perform following operations on string.\n",
    "Left (Or anticlockwise) rotate the given string by d elements (where d <= n).\n",
    "Right (Or clockwise) rotate the given string by d elements (where d <= n). For example given word: \"Hippopotamus\"  result =\n",
    "Left Rotation :  opotamusHipp\n",
    "Right Rotation :  amusHippopot\n",
    "```"
   ]
  },
  {
   "cell_type": "code",
   "execution_count": null,
   "metadata": {},
   "outputs": [],
   "source": [
    "def wise(text, n):\n",
    "    c = 0\n",
    "    res_1, res_2 = '', ''\n",
    "    while c <= n - 1:\n",
    "        res_1 += text[c]\n",
    "        res_2 += text[::-1][c]\n",
    "        c += 1\n",
    "    left = text[n:] + res_1\n",
    "    right = res_2[::-1] + text[:-n]\n",
    "    return f'Left Rotation : {left}; Right Rotation : {right}'\n",
    "\n",
    "wise('Hippopotamus', 5)"
   ]
  },
  {
   "cell_type": "markdown",
   "metadata": {},
   "source": [
    "### Question 9\n",
    "```\n",
    "Given two strings s and t, create a function to determine if they are isomorphic. Two strings are isomorphic if the characters in s can be replaced to get t. All occurrences of a character must be replaced with another character while preserving the order of characters. No two characters may map to the same character but a character may map to itself.\n",
    "\n",
    "Examples\n",
    "is_isomorphic(\"egg\", \"add\") ➞ True\n",
    "\n",
    "is_isomorphic(\"aba\", \"baa\") ➞ False\n",
    "\n",
    "is_isomorphic(\"paper\", \"title\") ➞ True\n",
    "```"
   ]
  },
  {
   "cell_type": "code",
   "execution_count": null,
   "metadata": {},
   "outputs": [],
   "source": [
    "def isomorphic_strings(text_1, text_2):\n",
    "    dictt = {}\n",
    "    count = 0\n",
    "    result = True\n",
    "    if len(text_1) == len(text_2):\n",
    "        for i in text_1:\n",
    "            if i not in dictt.keys():\n",
    "                dictt[i] = text_2[count]\n",
    "                count += 1\n",
    "            else:\n",
    "                if dictt[i] == text_2[count]:\n",
    "                    count += 1\n",
    "                    continue\n",
    "                else:\n",
    "                    result = False\n",
    "                    break\n",
    "    else:\n",
    "        result = False\n",
    "    return result\n",
    "\n",
    "isomorphic_strings(\"paper\", \"title\")"
   ]
  },
  {
   "cell_type": "markdown",
   "metadata": {},
   "source": [
    "### Question 10\n",
    "```\n",
    "Imagine you took all the numbers between 0 and n and concatenated them together into a long string. How many digits are there between 0 and n? Write a function that can calculate this.\n",
    "There are 0 digits between 0 and 1, there are 9 digits between 0 and 10 and there are 189 digits between 0 and 100.\n",
    "Examples digits(1) ➞ 0\n",
    "digits(10) ➞ 9\n",
    "digits(100) ➞ 189\n",
    "digits(2020) ➞ 6969\n",
    "Notes The numbers are going to be rather big so creating that string won't be practical.\n",
    "```"
   ]
  },
  {
   "cell_type": "code",
   "execution_count": null,
   "metadata": {},
   "outputs": [],
   "source": [
    "def length_string(number):\n",
    "    result = 0\n",
    "    if number == 0 or number == 1:\n",
    "        return 0\n",
    "    else:\n",
    "        for i in range(1, number):\n",
    "            index = len(str(i))\n",
    "            result += index\n",
    "        return result\n",
    "\n",
    "length_string(2020)"
   ]
  },
  {
   "cell_type": "code",
   "execution_count": null,
   "metadata": {},
   "outputs": [],
   "source": [
    "def length(number):\n",
    "    result = 0\n",
    "    if number == 0 or number == 1:\n",
    "        result = 0\n",
    "    else:\n",
    "        for i in range(1, number):\n",
    "            index = 1\n",
    "            while i >= 10:\n",
    "                i = i // 10\n",
    "                index += 1\n",
    "            result += index\n",
    "    return result\n",
    "\n",
    "print(length(2020))"
   ]
  },
  {
   "cell_type": "markdown",
   "metadata": {},
   "source": [
    "### Question 11\n",
    "```\n",
    "Print square pattern with alphabet symbols: \n",
    "\n",
    "input: pattern('A', 7)\n",
    "\n",
    "output :\n",
    "A A A A A A A \n",
    "B B B B B B B \n",
    "C C C C C C C \n",
    "D D D D D D D \n",
    "E E E E E E E \n",
    "F F F F F F F \n",
    "G G G G G G G \n",
    "```"
   ]
  },
  {
   "cell_type": "code",
   "execution_count": null,
   "metadata": {},
   "outputs": [],
   "source": [
    "harfler = 'ABCDEFGHIJKLMNOPQRSTUVWXYZ'\n",
    "def harf(baslangic, sayi):\n",
    "    a = harfler.find(baslangic) - 0\n",
    "    for i in range(harfler.find(baslangic), sayi + a):\n",
    "        if i > 25:\n",
    "            i = (i - 25) - 1\n",
    "        print ((harfler[i] + ' ') * sayi)\n",
    "\n",
    "harf('X', 9)"
   ]
  },
  {
   "cell_type": "markdown",
   "metadata": {},
   "source": [
    "### Question 12\n",
    "```\n",
    "Given a 3x3 matrix of a completed tic-tac-toe game, create a function that returns whether the game is a win for \"X\", \"O\", or a \"Draw\", where \"X\" and \"O\" represent themselves on the matrix, and \"E\" represents an empty spot.\n",
    "\n",
    "Examples\n",
    "tic_tac_toe([\n",
    "  [\"X\", \"O\", \"X\"],\n",
    "  [\"O\", \"X\",  \"O\"],\n",
    "  [\"O\", \"X\",  \"X\"]\n",
    "]) ➞ \"X\"\n",
    "\n",
    "tic_tac_toe([\n",
    "  [\"O\", \"O\", \"O\"],\n",
    "  [\"O\", \"X\", \"X\"],\n",
    "  [\"E\", \"X\", \"X\"]\n",
    "]) ➞ \"O\"\n",
    "\n",
    "tic_tac_toe([\n",
    "  [\"X\", \"X\", \"O\"],\n",
    "  [\"O\", \"O\", \"X\"],\n",
    "  [\"X\", \"X\", \"O\"]\n",
    "]) ➞ \"Draw\"\n",
    "```"
   ]
  },
  {
   "cell_type": "code",
   "execution_count": null,
   "metadata": {},
   "outputs": [],
   "source": [
    "liste = [\n",
    "  [\"O\", \"E\", \"O\"],\n",
    "  [\"O\", \"X\", \"X\"],\n",
    "  [\"O\", \"X\", \"X\"]\n",
    "]\n",
    "\n",
    "result = 'Draw'\n",
    "for i in liste:\n",
    "    if len(set(i)) == 1 and i[0] != 'E':\n",
    "        result = i[0]\n",
    "        break\n",
    "        \n",
    "if result == 'Draw':\n",
    "    liste_2 = list(map(lambda x, y, z : x + y + z, *liste))\n",
    "    for i in liste_2:\n",
    "        if len(set(i)) == 1 and i[0] != 'E':\n",
    "            result = i[0]\n",
    "            break\n",
    "            \n",
    "if result == 'Draw':\n",
    "    if liste[0][0] == liste[1][1] == liste[2][2]:\n",
    "        result = liste[0][0]\n",
    "    elif liste[0][2] == liste[1][1] == liste[2][0]:\n",
    "        result = liste[0][2]\n",
    "print(result)"
   ]
  },
  {
   "cell_type": "markdown",
   "metadata": {},
   "source": [
    "### Question 13\n",
    "```\n",
    "This problem was asked by Google.\n",
    "The power set of a set is the set of all its subsets. Write a function\n",
    "that, given a set, generates its power set.\n",
    "For example, given the set {1, 2, 3}, it should return {{}, {1}, {2}, {3},\n",
    "{1, 2}, {1, 3}, {2, 3}, {1, 2, 3}}.\n",
    "You may also use a list or array to represent a set.\n",
    "```"
   ]
  },
  {
   "cell_type": "code",
   "execution_count": null,
   "metadata": {},
   "outputs": [],
   "source": [
    "def power_set(a):   \n",
    "    b = [[]]\n",
    "    for i in a:\n",
    "        for j in b:\n",
    "            b = b + [j + [i]]\n",
    "    return b\n",
    "\n",
    "print(power_set({1,2,3,4}))"
   ]
  },
  {
   "cell_type": "markdown",
   "metadata": {},
   "source": [
    "### Question 14\n",
    "```\n",
    "This problem was asked by Microsoft.\n",
    "A number is considered perfect if its digits sum up to exactly 10. Given a positive integer n, return the n-th perfect number.\n",
    "For example, given 1, you should return 19. Given 2, you should return 28.\n",
    "```"
   ]
  },
  {
   "cell_type": "code",
   "execution_count": null,
   "metadata": {},
   "outputs": [],
   "source": [
    "def perfect_number(n):\n",
    "    m = 10\n",
    "    result = []\n",
    "    while True:\n",
    "        summ = sum([int(i) for i in str(m)])\n",
    "        if summ == 10:\n",
    "            result.append(m)\n",
    "            if len(result) == n:\n",
    "                break\n",
    "            else:\n",
    "                m += 1\n",
    "        else:\n",
    "            m += 1\n",
    "    return result[-1]\n",
    "\n",
    "perfect_number(2)"
   ]
  },
  {
   "cell_type": "markdown",
   "metadata": {},
   "source": [
    "### Question 15\n",
    "```\n",
    "An identity matrix is defined as a square matrix with 1s running from the top left of the square to the bottom right. The rest are 0s. The identity matrix has applications ranging from machine learning to the general theory of relativity.\n",
    "\n",
    "Create a function that takes an integer n and returns the identity matrix of n x n dimensions. For this challenge, if the integer is negative, return the mirror image of the identity matrix of n x n dimensions.. It does not matter if the mirror image is left-right or top-bottom.\n",
    "\n",
    "Incompatible types passed as n should return the string \"Error\".\n",
    "```"
   ]
  },
  {
   "cell_type": "code",
   "execution_count": null,
   "metadata": {},
   "outputs": [],
   "source": [
    "num = input('Enter an integer > ')\n",
    "liste = []\n",
    "liste_2 = []\n",
    "nums = num.lstrip('-')\n",
    "if not nums.isdigit():\n",
    "    print('Error')\n",
    "else:\n",
    "    if int(nums) == 0:\n",
    "        print(liste)\n",
    "    else:\n",
    "        for i in range(int(nums)):\n",
    "            liste = []\n",
    "            for j in range(int(nums)):\n",
    "                if i == j:\n",
    "                    liste.append(1)\n",
    "                else:\n",
    "                    liste.append(0)\n",
    "            liste_2.append(liste)\n",
    "        if not num.startswith('-'):\n",
    "            for i in liste_2:\n",
    "                print(i)\n",
    "        else:\n",
    "            for i in liste_2:\n",
    "                print(i[::-1])"
   ]
  },
  {
   "cell_type": "markdown",
   "metadata": {},
   "source": [
    "### Question 16\n",
    "```\n",
    "This problem was asked by Yelp.\n",
    "Given a mapping of digits to letters (as in a phone number), and a digit string,return all possible letters the number could represent. You can assume each valid number in the mapping is a single digit.\n",
    "For example if {“2”: [“a”, “b”, “c”], 3: [“d”, “e”, “f”], …} then “23” should return [“ad”, “ae”, “af”, “bd”, “be”, “bf”, “cd”, “ce”, “cf\"].\n",
    "```"
   ]
  },
  {
   "cell_type": "code",
   "execution_count": null,
   "metadata": {},
   "outputs": [],
   "source": [
    "def phone_letter(number):\n",
    "    dictt = {2: 'abc', 3: 'def', 4: 'ghi', 5: 'jkl', 6: 'mno', 7: 'pqrs', 8: 'tuv', 9: 'wxyz'}\n",
    "\n",
    "    str_num = str(number)\n",
    "    a = 0\n",
    "    b = 1\n",
    "    first = dictt[int(str_num[a])]\n",
    "    second = dictt[int(str_num[b])]\n",
    "\n",
    "    while True:\n",
    "        res = []\n",
    "        for i in first:\n",
    "            for j in second:\n",
    "                res.append(i+j)\n",
    "        if b == len(str_num) - 1:\n",
    "            break\n",
    "        else:\n",
    "            b += 1\n",
    "            first = res\n",
    "            second = dictt[int(str_num[b])]\n",
    "    return res\n",
    "\n",
    "phone_letter(642)"
   ]
  }
 ],
 "metadata": {
  "kernelspec": {
   "display_name": "Python 3 (ipykernel)",
   "language": "python",
   "name": "python3"
  },
  "language_info": {
   "codemirror_mode": {
    "name": "ipython",
    "version": 3
   },
   "file_extension": ".py",
   "mimetype": "text/x-python",
   "name": "python",
   "nbconvert_exporter": "python",
   "pygments_lexer": "ipython3",
   "version": "3.8.5"
  }
 },
 "nbformat": 4,
 "nbformat_minor": 4
}
