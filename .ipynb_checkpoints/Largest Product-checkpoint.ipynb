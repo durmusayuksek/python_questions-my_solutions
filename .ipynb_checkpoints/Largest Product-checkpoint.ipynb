{
 "cells": [
  {
   "cell_type": "markdown",
   "metadata": {},
   "source": [
    "```\n",
    "This problem was asked by Facebook.\n",
    "Given a list of integers, return the largest product that can be made by multiplying any three integers.\n",
    "For example, if the list is [-10, -10, 5, 2], we should return 500, since that's  -10 * -10 * 5.\n",
    "You can assume the list has at least three integers.\n",
    "```"
   ]
  },
  {
   "cell_type": "code",
   "execution_count": 20,
   "metadata": {},
   "outputs": [
    {
     "data": {
      "text/plain": [
       "500"
      ]
     },
     "execution_count": 20,
     "metadata": {},
     "output_type": "execute_result"
    }
   ],
   "source": [
    "def largest_product(array):    \n",
    "    res = [[]]\n",
    "    result = []\n",
    "    for i in array:\n",
    "        for j in res:\n",
    "            res = res + [j + [i]]\n",
    "    for i in res:\n",
    "        if len(i) == 3:\n",
    "            carpim = 1\n",
    "            for j in i:\n",
    "                carpim *= j\n",
    "            result.append(carpim)\n",
    "    return max(result)\n",
    "\n",
    "largest_product([-10, -10, 5, 2])"
   ]
  },
  {
   "cell_type": "code",
   "execution_count": null,
   "metadata": {},
   "outputs": [],
   "source": []
  }
 ],
 "metadata": {
  "kernelspec": {
   "display_name": "Python 3 (ipykernel)",
   "language": "python",
   "name": "python3"
  },
  "language_info": {
   "codemirror_mode": {
    "name": "ipython",
    "version": 3
   },
   "file_extension": ".py",
   "mimetype": "text/x-python",
   "name": "python",
   "nbconvert_exporter": "python",
   "pygments_lexer": "ipython3",
   "version": "3.8.5"
  }
 },
 "nbformat": 4,
 "nbformat_minor": 4
}
