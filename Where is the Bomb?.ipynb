{
 "cells": [
  {
   "cell_type": "markdown",
   "metadata": {},
   "source": [
    "```\n",
    "A large flat field measures 50x50 kilometers. At a time t = 0, a bomb explodes somewhere on the field. There are 3 scattered sensors with synchronized clocks that record the exact time (in seconds) that the sound of the exploding bomb reaches them.\n",
    "\n",
    "Given the x, y coordinates of each of the 3 sensors and the recorded time of each, find the location of the bomb:\n",
    "\n",
    "bomb([[x1, y1, t1], [x2, y2, t2], [x3, y3, t3]]) ➞ (xb, yb)\n",
    "# Bomb location\n",
    "Examples\n",
    "bomb([[0, 0, 72.886], [0, 50, 72.886], [25, 25, 72.886]]) ➞ (0, 25)\n",
    "\n",
    "bomb([[0, 50, 145.773], [50, 50, 206.154], [50, 0, 145.773]]) ➞ (0, 0)\n",
    "\n",
    "bomb([[5, 8, 48.872], [12, 21, 35.107], [24, 20, 22.203]]) ➞ (21, 13)\n",
    "\n",
    "bomb([[18, 42, 35.558], [39, 16, 106.004], [7, 24, 32.202]]) ➞ (8, 35)\n",
    "Notes\n",
    "The origin is at one corner of the square field so all the coordinates are positive integers in km units.\n",
    "The bomb's coordinates are integers.\n",
    "The speed of sound in air is 0.343 km/sec.\n",
    "```"
   ]
  },
  {
   "cell_type": "code",
   "execution_count": 43,
   "metadata": {},
   "outputs": [
    {
     "data": {
      "text/plain": [
       "(8, 35)"
      ]
     },
     "execution_count": 43,
     "metadata": {},
     "output_type": "execute_result"
    }
   ],
   "source": [
    "def bomb(liste):\n",
    "    a = 0\n",
    "    kir = False\n",
    "    for x in range(50):\n",
    "        if not kir:\n",
    "            for y in range(50):\n",
    "                for z in range(3):\n",
    "                    if round(liste[z][2] * 0.343, 1) == round(((x - liste[z][0]) ** 2 + (y - liste[z][1]) ** 2) ** 0.5, 1) :\n",
    "                        a += 1\n",
    "                    else:\n",
    "                        a = 0\n",
    "                        break\n",
    "                if a == 3:\n",
    "                    kir = True\n",
    "                    break\n",
    "        else:\n",
    "            break\n",
    "    return (x - 1, y)\n",
    "        \n",
    "bomb([[18, 42, 35.558], [39, 16, 106.004], [7, 24, 32.202]])"
   ]
  },
  {
   "cell_type": "code",
   "execution_count": null,
   "metadata": {},
   "outputs": [],
   "source": []
  }
 ],
 "metadata": {
  "kernelspec": {
   "display_name": "Python 3 (ipykernel)",
   "language": "python",
   "name": "python3"
  },
  "language_info": {
   "codemirror_mode": {
    "name": "ipython",
    "version": 3
   },
   "file_extension": ".py",
   "mimetype": "text/x-python",
   "name": "python",
   "nbconvert_exporter": "python",
   "pygments_lexer": "ipython3",
   "version": "3.8.5"
  }
 },
 "nbformat": 4,
 "nbformat_minor": 4
}
