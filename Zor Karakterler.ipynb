{
 "cells": [
  {
   "cell_type": "markdown",
   "metadata": {},
   "source": [
    "```\n",
    "Given a string containing just the characters '(', ')', '{', '}', '[' and ']',\n",
    "determine if the input string is valid.\n",
    "An input string is valid if:\n",
    "Open brackets must be closed by the same type of brackets.\n",
    "Open brackets must be closed in the correct order.\n",
    "Note that an empty string is also considered valid.\n",
    "Example 1:\n",
    "Input: \"()\"\n",
    "Output: True\n",
    "Example 2:\n",
    "Input: \"()[]{}\"\n",
    "Output: True\n",
    "Example 3:\n",
    "Input: \"(]\"\n",
    "Output: False\n",
    "Example 4:\n",
    "Input: \"([)]\"\n",
    "Output: False\n",
    "Example 5:\n",
    "Input: \"{[]}\"\n",
    "Output: True (edited) \n",
    "```"
   ]
  },
  {
   "cell_type": "code",
   "execution_count": 3,
   "metadata": {},
   "outputs": [
    {
     "name": "stdout",
     "output_type": "stream",
     "text": [
      "['(']\n",
      "['[']\n",
      "['{']\n",
      "['[']\n",
      "['[', '(']\n",
      "['[', '{']\n",
      "True\n"
     ]
    }
   ],
   "source": [
    "def valid(a):\n",
    "        liste = []\n",
    "        sözlük = {\"]\":\"[\", \"}\":\"{\", \")\":\"(\"}\n",
    "        for i in a:\n",
    "            if i in sözlük.values():\n",
    "                liste.append(i)\n",
    "                print(liste)\n",
    "            elif i in sözlük.keys():\n",
    "                if liste == [] or sözlük[i] != liste.pop():\n",
    "                    print(liste)\n",
    "                    return False\n",
    "            else:\n",
    "                return False\n",
    "        return liste == []\n",
    "print(valid('()[]{}[(){}]'))"
   ]
  },
  {
   "cell_type": "code",
   "execution_count": 5,
   "metadata": {},
   "outputs": [
    {
     "name": "stdout",
     "output_type": "stream",
     "text": [
      "Enter a text > (()[]{}[(){}]\n",
      "False\n"
     ]
    }
   ],
   "source": [
    "text = input('Enter a text > ')\n",
    "liste_1 = ['(', '{', '[']\n",
    "liste_2 = [')', '}', ']']\n",
    "dictt = {'(':')', '{':'}', '[':']', ')':'(', '}':'{', ']':'['}\n",
    "new_list = []\n",
    "result = True\n",
    "for i in text:\n",
    "    if i in liste_1:\n",
    "        new_list.append(i)\n",
    "    elif i in liste_2:\n",
    "        if dictt[i] in new_list:\n",
    "            if new_list[-1] == dictt[i]:\n",
    "                new_list.remove(dictt[i])\n",
    "            else:\n",
    "                result = False\n",
    "                break\n",
    "        else:\n",
    "            result = False\n",
    "            break\n",
    "for i in new_list:\n",
    "    if dictt[i] not in new_list:\n",
    "        result = False\n",
    "        break\n",
    "print(result)    "
   ]
  },
  {
   "cell_type": "code",
   "execution_count": 10,
   "metadata": {},
   "outputs": [
    {
     "data": {
      "text/plain": [
       "True"
      ]
     },
     "execution_count": 10,
     "metadata": {},
     "output_type": "execute_result"
    }
   ],
   "source": [
    "def isValid(s):\n",
    "    while '()' in s or '{}' in s or '[]' in s:\n",
    "        s = s.replace('()', '').replace('{}', '').replace('[]', '')\n",
    "    return s == ''\n",
    "\n",
    "isValid('()[]{}[(){}]')"
   ]
  },
  {
   "cell_type": "code",
   "execution_count": null,
   "metadata": {},
   "outputs": [],
   "source": []
  }
 ],
 "metadata": {
  "kernelspec": {
   "display_name": "Python 3 (ipykernel)",
   "language": "python",
   "name": "python3"
  },
  "language_info": {
   "codemirror_mode": {
    "name": "ipython",
    "version": 3
   },
   "file_extension": ".py",
   "mimetype": "text/x-python",
   "name": "python",
   "nbconvert_exporter": "python",
   "pygments_lexer": "ipython3",
   "version": "3.8.5"
  }
 },
 "nbformat": 4,
 "nbformat_minor": 4
}
