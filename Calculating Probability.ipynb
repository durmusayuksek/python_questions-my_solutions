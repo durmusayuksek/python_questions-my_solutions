{
 "cells": [
  {
   "cell_type": "markdown",
   "metadata": {},
   "source": [
    "```\n",
    "Create a function that takes the number of people u in a room and calculates the probability that any two people in the room share the same birthday. Round the result to two decimal places.\n",
    "\n",
    "Examples:\n",
    "probability(7) ➞ 0.06\n",
    "\n",
    "probability(15) ➞ 0.25\n",
    "\n",
    "probability(12) ➞ 0.17\n",
    "\n",
    "Notes:\n",
    "u < 40\n",
    "1 year = 365 days not 366\n",
    "```"
   ]
  },
  {
   "cell_type": "code",
   "execution_count": 50,
   "metadata": {},
   "outputs": [
    {
     "data": {
      "text/plain": [
       "0.17"
      ]
     },
     "execution_count": 50,
     "metadata": {},
     "output_type": "execute_result"
    }
   ],
   "source": [
    "import random\n",
    "\n",
    "def probability(n):\n",
    "    days = [i for i in range(1, 366)]\n",
    "    count = 0\n",
    "\n",
    "    for k in range(10000):\n",
    "        dictt = {}\n",
    "        for i in range(n):\n",
    "            day = random.choice(days)\n",
    "            dictt[i] = day\n",
    "        for j in dictt.values():\n",
    "            if list(dictt.values()).count(j) > 1:\n",
    "                count += 1\n",
    "                break\n",
    "    return round(count/10000, 2)\n",
    "\n",
    "probability(12)"
   ]
  },
  {
   "cell_type": "code",
   "execution_count": null,
   "metadata": {},
   "outputs": [],
   "source": []
  }
 ],
 "metadata": {
  "kernelspec": {
   "display_name": "Python 3 (ipykernel)",
   "language": "python",
   "name": "python3"
  },
  "language_info": {
   "codemirror_mode": {
    "name": "ipython",
    "version": 3
   },
   "file_extension": ".py",
   "mimetype": "text/x-python",
   "name": "python",
   "nbconvert_exporter": "python",
   "pygments_lexer": "ipython3",
   "version": "3.8.5"
  }
 },
 "nbformat": 4,
 "nbformat_minor": 4
}
