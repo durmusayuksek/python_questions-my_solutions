{
 "cells": [
  {
   "cell_type": "markdown",
   "metadata": {},
   "source": [
    "Create a function that takes a string containing integers as well as other characters and return the sum of the negative integers only.\n"
   ]
  },
  {
   "cell_type": "code",
   "execution_count": 1,
   "metadata": {},
   "outputs": [
    {
     "name": "stdout",
     "output_type": "stream",
     "text": [
      "Enter a text here > ----2----3-----4----q\n",
      "['', '', '', '2', '', '', '', '3', '', '', '', '', '4', '', '', '', '']\n",
      "-9\n"
     ]
    }
   ],
   "source": [
    "text = input('Enter a text here > ')\n",
    "text += '!'\n",
    "liste = []\n",
    "result = 0\n",
    "negative = text.count('-')\n",
    "for i in range(negative):\n",
    "    index = text.find('-')\n",
    "    for i in text[index + 1:]:\n",
    "        if not i.isdigit():\n",
    "            index2 = text[index + 1:].find(i)\n",
    "            break\n",
    "    part = text[index : index + index2 + 1]\n",
    "    part2 = text[index + 1 : index + index2 + 1]\n",
    "    liste.append(part2)\n",
    "    text = text.replace(part, '', 1)\n",
    "for i in liste:\n",
    "    if i.isdigit():\n",
    "        if not i.startswith('0'):\n",
    "            i = int(i)\n",
    "            result += i\n",
    "result = result * -1\n",
    "print(liste)\n",
    "print(result)"
   ]
  },
  {
   "cell_type": "code",
   "execution_count": null,
   "metadata": {},
   "outputs": [],
   "source": []
  }
 ],
 "metadata": {
  "kernelspec": {
   "display_name": "Python 3 (ipykernel)",
   "language": "python",
   "name": "python3"
  },
  "language_info": {
   "codemirror_mode": {
    "name": "ipython",
    "version": 3
   },
   "file_extension": ".py",
   "mimetype": "text/x-python",
   "name": "python",
   "nbconvert_exporter": "python",
   "pygments_lexer": "ipython3",
   "version": "3.8.5"
  }
 },
 "nbformat": 4,
 "nbformat_minor": 4
}
