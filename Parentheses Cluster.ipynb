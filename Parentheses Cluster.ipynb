{
 "cells": [
  {
   "cell_type": "markdown",
   "metadata": {},
   "source": [
    "Write a function that groups a string into parentheses cluster. Each cluster should be balanced.\n",
    "All input strings will only contain parentheses.\n",
    "Balanced: Every opening parens ( must exist with its matching closing parens ) in the same cluster."
   ]
  },
  {
   "cell_type": "code",
   "execution_count": 2,
   "metadata": {},
   "outputs": [
    {
     "name": "stdout",
     "output_type": "stream",
     "text": [
      "Enter the parentheses cluster > ()(((())))()(())()()((()))(((((())))))()(())\n",
      "['()', '(((())))', '()', '(())', '()', '()', '((()))', '(((((())))))', '()', '(())']\n"
     ]
    }
   ],
   "source": [
    "cluster = input('Enter the parentheses cluster > ')\n",
    "sol, sag = 0, 0\n",
    "liste = []\n",
    "result = []\n",
    "for i in cluster:\n",
    "    if i == '(':\n",
    "        sol += 1\n",
    "        liste.append(i)\n",
    "    elif i == ')':\n",
    "        sag += 1\n",
    "        liste.append(i)\n",
    "    if sol == sag:\n",
    "        liste = ''.join(liste)\n",
    "        result.append(liste)\n",
    "        liste = []\n",
    "print(result)"
   ]
  },
  {
   "cell_type": "code",
   "execution_count": null,
   "metadata": {},
   "outputs": [],
   "source": []
  }
 ],
 "metadata": {
  "kernelspec": {
   "display_name": "Python 3 (ipykernel)",
   "language": "python",
   "name": "python3"
  },
  "language_info": {
   "codemirror_mode": {
    "name": "ipython",
    "version": 3
   },
   "file_extension": ".py",
   "mimetype": "text/x-python",
   "name": "python",
   "nbconvert_exporter": "python",
   "pygments_lexer": "ipython3",
   "version": "3.8.5"
  }
 },
 "nbformat": 4,
 "nbformat_minor": 4
}
