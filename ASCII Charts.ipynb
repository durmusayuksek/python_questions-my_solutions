{
 "cells": [
  {
   "cell_type": "markdown",
   "metadata": {},
   "source": [
    "```\n",
    "Given a dictionary containing quarterly sales values for a year, return a string representing a bar chart of the sales by quarter.\n",
    "\n",
    "Quarter names (Q1, Q2, Q3, Q4) should appear on the left.\n",
    "Quarters should be sorted in descending order by value.\n",
    "Quarters with the same value should be shown in their yearly order (Q1 -> Q4).\n",
    "Bars should begin with a \"|\".\n",
    "Repeat the character \"#\" to fill the bar, with each character having a value of 50.\n",
    "A single space comes after the bar, then the sales for that quarter.\n",
    "If the value is 0, there should be no space after \"|\".\n",
    "Use the newline character (\"\\n\") to separate each bar in the chart.\n",
    "Example #1\n",
    "bar_chart({\"Q4\": 250, \"Q1\": 300, \"Q2\": 150, \"Q3\": 0})\n",
    "➞ \"Q1|###### 300\\nQ4|##### 250\\nQ2|### 150\\nQ3|0\"\n",
    "When printed:\n",
    "\n",
    "Q1|###### 300\n",
    "Q4|##### 250\n",
    "Q2|### 150\n",
    "Q3|0\n",
    "Example #2\n",
    "bar_chart({\"Q4\": 500, \"Q3\": 100, \"Q2\": 100, \"Q1\": 150})\n",
    "➞ \"Q4|########## 500\\nQ1|### 150\\nQ2|## 100\\nQ3|## 100\"\n",
    "When printed:\n",
    "\n",
    "Q4|########## 500\n",
    "Q1|### 150\n",
    "Q2|## 100\n",
    "Q3|## 100\n",
    "Notes\n",
    "There should be no additional whitespace after each value.\n",
    "```"
   ]
  },
  {
   "cell_type": "code",
   "execution_count": 64,
   "metadata": {},
   "outputs": [
    {
     "name": "stdout",
     "output_type": "stream",
     "text": [
      "Q4|########## 500\n",
      "Q1|### 150\n",
      "Q3|## 100\n",
      "Q2|## 100\n"
     ]
    }
   ],
   "source": [
    "dictt = {\"Q4\": 500, \"Q3\": 100, \"Q2\": 100, \"Q1\": 150}\n",
    "liste = sorted(dictt.items(), key = lambda x : x[1], reverse = True)\n",
    "result = ''\n",
    "for i in liste:\n",
    "    if i[1] == 0:\n",
    "        b = ''\n",
    "    else:\n",
    "        b = ' '\n",
    "    a = (i[1] // 50) * '#' \n",
    "    result += str(i[0]) + '|' + a + b + str(i[1]) + '\\n'\n",
    "result = result.rstrip('\\n')\n",
    "print(result)"
   ]
  },
  {
   "cell_type": "code",
   "execution_count": null,
   "metadata": {},
   "outputs": [],
   "source": []
  }
 ],
 "metadata": {
  "kernelspec": {
   "display_name": "Python 3 (ipykernel)",
   "language": "python",
   "name": "python3"
  },
  "language_info": {
   "codemirror_mode": {
    "name": "ipython",
    "version": 3
   },
   "file_extension": ".py",
   "mimetype": "text/x-python",
   "name": "python",
   "nbconvert_exporter": "python",
   "pygments_lexer": "ipython3",
   "version": "3.8.5"
  }
 },
 "nbformat": 4,
 "nbformat_minor": 4
}
