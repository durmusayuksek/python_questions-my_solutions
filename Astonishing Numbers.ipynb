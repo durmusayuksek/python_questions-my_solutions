{
 "cells": [
  {
   "cell_type": "markdown",
   "metadata": {},
   "source": [
    "```\n",
    "In this challenge, you have to establish if a given integer is an Astonishing number. An Astonishing number is an integer that, when partitioned into two parts a (left) and b (right), is equal to the sum of the consecutive numbers from a up to b (if a is lower than b), or from b up to a (if a is greater than b).\n",
    "\n",
    "Given a positive integer num, implement a function that returns:\n",
    "\n",
    "The string \"AB-Astonishing\" if num is an Astonishing number and the partition a is lower than b.\n",
    "The string \"BA-Astonishing\" if num is an Astonishing number and the partition a is greater than b.\n",
    "False if num is not an Astonishing number.\n",
    "Examples\n",
    "is_astonishing(15) ➞ \"AB-Astonishing\"\n",
    "# There is only one possible partition: a = 1 and b = 5\n",
    "# Sum from a up to b: 1 + 2 + 3 + 4 + 5 = 15\n",
    "# It's Astonishing and partition a is lower than partition b\n",
    "\n",
    "is_astonishing(4020) ➞ False\n",
    "# There are three possible partitions\n",
    "# Partition 1: a = 4 and b = 020 = 20 (leading zeros are not considered)\n",
    "# Sum from a up to b: 4 + 5 + 6 + ... + 20 = 204\n",
    "# Partition 2: a = 40 and b = 20\n",
    "# Sum from b up to a: 20 + 21 + 22 + ... + 40 = 630\n",
    "#Partition 3: a = 402 and b = 0\n",
    "# Sum from b to a: 0 + 1 + 2 + ... + 402 = 81003\n",
    "# It's not Astonishing\n",
    "\n",
    "is_astonishing(2002077) ➞ \"BA-Astonishing\"\n",
    "# There are six possible partitions\n",
    "# Partition 1: a = 2 and b = 002077 = 2077 (leading zeros are not considered)\n",
    "# Sum from a up to b: 2 + 3 + 4 + ... + 2077 = 2158002\n",
    "# Partition 2: a = 20 and b = 02077 = 2077\n",
    "# Sum from a up to b: 20 + 21 + 22 + ... + 2077 = 2157813\n",
    "# Partition 3: a = 200 and b = 2077\n",
    "# Sum from a up to b: 200 + 201 + 202 + ... + 2077 = 2138103\n",
    "# Partition 4: a = 2002 and b = 077 = 77\n",
    "# Sum from b up to a: 77 + 78 + 79 + ... + 2002 = 2002077\n",
    "# It's Astonishing and partition a is greater than partition b\n",
    "```"
   ]
  },
  {
   "cell_type": "code",
   "execution_count": 12,
   "metadata": {},
   "outputs": [
    {
     "name": "stdout",
     "output_type": "stream",
     "text": [
      "BA-Astonishing\n",
      "B: 77 ----> A: 2002\n"
     ]
    }
   ],
   "source": [
    "def astonishing(num):\n",
    "    leng = len(str(num))\n",
    "    count = 0\n",
    "    summ = 0\n",
    "    for i in range(leng - 1):\n",
    "        ilk = int(str(num)[:count + 1])\n",
    "        son = int(str(num)[count + 1:])\n",
    "        if set(str(son)) == {'0'}:\n",
    "            son = int(str(num)[count + 1:])\n",
    "        else:\n",
    "            son = int(str(num)[count + 1:].lstrip('0'))\n",
    "        if ilk < son:\n",
    "            for i in range(ilk, son + 1):\n",
    "                summ += i\n",
    "            if summ == num:\n",
    "                result = 'AB-Astonishing'\n",
    "                result_a = ilk\n",
    "                result_b = son\n",
    "            else:\n",
    "                summ = 0\n",
    "                count += 1\n",
    "        else:\n",
    "            for i in range(son, ilk + 1):\n",
    "                summ += i\n",
    "            if summ == num:\n",
    "                result = 'BA-Astonishing'\n",
    "                result_b = son\n",
    "                result_a = ilk\n",
    "            else:\n",
    "                summ = 0\n",
    "                count += 1\n",
    "        if count == leng - 1:\n",
    "            result = \"It's not astonishing.\"\n",
    "    print(result)\n",
    "    if result != \"It's not astonishing.\":\n",
    "        if result_a < result_b:\n",
    "            print('A:', result_a, '---->', 'B:', result_b)\n",
    "        else:\n",
    "            print('B:', result_b, '---->', 'A:', result_a)\n",
    "    \n",
    "astonishing(2002077)"
   ]
  },
  {
   "cell_type": "code",
   "execution_count": null,
   "metadata": {},
   "outputs": [],
   "source": []
  }
 ],
 "metadata": {
  "kernelspec": {
   "display_name": "Python 3 (ipykernel)",
   "language": "python",
   "name": "python3"
  },
  "language_info": {
   "codemirror_mode": {
    "name": "ipython",
    "version": 3
   },
   "file_extension": ".py",
   "mimetype": "text/x-python",
   "name": "python",
   "nbconvert_exporter": "python",
   "pygments_lexer": "ipython3",
   "version": "3.8.5"
  }
 },
 "nbformat": 4,
 "nbformat_minor": 4
}
