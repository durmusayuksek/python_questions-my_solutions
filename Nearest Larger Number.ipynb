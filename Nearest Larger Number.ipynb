{
 "cells": [
  {
   "cell_type": "markdown",
   "metadata": {},
   "source": [
    "```\n",
    "This problem was asked by Google.\n",
    "Given an array of numbers and an index i, return the index of the nearest larger number of the number at index i, where distance is measured in array indices.\n",
    "For example, given [4, 1, 3, 5, 6] and index 0, you should return 3.\n",
    "If two distances to larger numbers are the equal, then return any one of them.\n",
    "If the array at i doesn't have a nearest larger integer, then return null.\n",
    "```"
   ]
  },
  {
   "cell_type": "code",
   "execution_count": 76,
   "metadata": {},
   "outputs": [
    {
     "data": {
      "text/plain": [
       "2"
      ]
     },
     "execution_count": 76,
     "metadata": {},
     "output_type": "execute_result"
    }
   ],
   "source": [
    "def nearest_larger_number(lst, i):\n",
    "\n",
    "    res = []\n",
    "    for k,v in enumerate(lst):\n",
    "        if v > lst[i]:\n",
    "            res.append([k,v])\n",
    "    resa = [[(j[0]-i),j[1]] for j in res]\n",
    "    if resa != []:\n",
    "        return sorted(resa, key=lambda x: (x[1], abs(x[0])))[0][0] + i\n",
    "    else:\n",
    "        return 'Null'\n",
    "    \n",
    "nearest_larger_number([8, 3, 6, 4, 1, 2, 3, 4], 7)   "
   ]
  },
  {
   "cell_type": "code",
   "execution_count": null,
   "metadata": {},
   "outputs": [],
   "source": []
  }
 ],
 "metadata": {
  "kernelspec": {
   "display_name": "Python 3 (ipykernel)",
   "language": "python",
   "name": "python3"
  },
  "language_info": {
   "codemirror_mode": {
    "name": "ipython",
    "version": 3
   },
   "file_extension": ".py",
   "mimetype": "text/x-python",
   "name": "python",
   "nbconvert_exporter": "python",
   "pygments_lexer": "ipython3",
   "version": "3.8.5"
  }
 },
 "nbformat": 4,
 "nbformat_minor": 4
}
