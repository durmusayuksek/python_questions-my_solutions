{
 "cells": [
  {
   "cell_type": "markdown",
   "metadata": {},
   "source": [
    "Given an array of non-negative integers representing an elevation map as shown below where the width of each bar is 1, compute how much water will be trapped on terrain after raining. To clarify further, the black boxes represents terrain and its height, and the blue boxes represents the water that could be trapped on the terrain."
   ]
  },
  {
   "cell_type": "code",
   "execution_count": 1,
   "metadata": {},
   "outputs": [
    {
     "name": "stdout",
     "output_type": "stream",
     "text": [
      "Please enter an non-negative integer or press 'q' to stop adding into the list > 0\n",
      "Please enter an non-negative integer or press 'q' to stop adding into the list > 1\n",
      "Please enter an non-negative integer or press 'q' to stop adding into the list > 0\n",
      "Please enter an non-negative integer or press 'q' to stop adding into the list > 2\n",
      "Please enter an non-negative integer or press 'q' to stop adding into the list > 1\n",
      "Please enter an non-negative integer or press 'q' to stop adding into the list > 0\n",
      "Please enter an non-negative integer or press 'q' to stop adding into the list > 1\n",
      "Please enter an non-negative integer or press 'q' to stop adding into the list > 3\n",
      "Please enter an non-negative integer or press 'q' to stop adding into the list > 2\n",
      "Please enter an non-negative integer or press 'q' to stop adding into the list > 1\n",
      "Please enter an non-negative integer or press 'q' to stop adding into the list > 2\n",
      "Please enter an non-negative integer or press 'q' to stop adding into the list > 1\n",
      "Please enter an non-negative integer or press 'q' to stop adding into the list > q\n",
      "6 bars of water will be trapped on terrain after raining.\n"
     ]
    }
   ],
   "source": [
    "listt = []\n",
    "total = 0\n",
    "while True:\n",
    "    answer = input(\"Please enter an non-negative integer or press 'q' to stop adding into the list > \")\n",
    "    if answer.lower() == 'q':\n",
    "        break\n",
    "    else:\n",
    "        listt.append(int(answer))\n",
    "\n",
    "for x in range(max(listt)):\n",
    "    listt2 = []\n",
    "    for i in listt:\n",
    "        if i != 0:\n",
    "            a = listt.index(i)\n",
    "            break\n",
    "    for k in listt[::-1]:\n",
    "        if k != 0:\n",
    "            b = listt[::-1].index(k)\n",
    "            b = len(listt) - (b + 1)\n",
    "            break\n",
    "    \n",
    "    if a == b:\n",
    "        break\n",
    "    \n",
    "    sayac = 0\n",
    "    for v in listt[a:b]:\n",
    "        if v == 0:\n",
    "            sayac += 1\n",
    "    total += sayac\n",
    "    \n",
    "    for p in listt:\n",
    "        if p == 0:\n",
    "            listt2.append(p)\n",
    "        else:\n",
    "            p = p - 1\n",
    "            listt2.append(p)\n",
    "    listt = listt2\n",
    "print('{} bars of water will be trapped on terrain after raining.'.format(total))"
   ]
  },
  {
   "cell_type": "code",
   "execution_count": 1,
   "metadata": {},
   "outputs": [
    {
     "name": "stdout",
     "output_type": "stream",
     "text": [
      "Type 'ok' when you are done: 1\n",
      "Type 'ok' when you are done: 0\n",
      "Type 'ok' when you are done: 1\n",
      "Type 'ok' when you are done: ok\n",
      "\n",
      "Rain-trapped area :  1\n"
     ]
    }
   ],
   "source": [
    "height = []\n",
    "while True:\n",
    "    num = input(\"Type 'ok' when you are done: \")\n",
    "    if num != \"ok\":\n",
    "        height.append(int(num))\n",
    "    else:\n",
    "        break\n",
    "areas = 0\n",
    "max_l = max_r = 0\n",
    "l = 0\n",
    "r = len(height)-1\n",
    "while l < r:\n",
    "    if height[l] < height[r]:\n",
    "        if height[l] > max_l:\n",
    "            max_l = height[l]\n",
    "        else:\n",
    "            areas += max_l - height[l]\n",
    "        l += 1\n",
    "    else:\n",
    "        if height[r] > max_r:\n",
    "            max_r = height[r]\n",
    "        else:\n",
    "            areas += max_r - height[r]\n",
    "        r -= 1\n",
    "print(\"\\nRain-trapped area : \", areas)"
   ]
  },
  {
   "cell_type": "code",
   "execution_count": null,
   "metadata": {},
   "outputs": [],
   "source": []
  }
 ],
 "metadata": {
  "kernelspec": {
   "display_name": "Python 3 (ipykernel)",
   "language": "python",
   "name": "python3"
  },
  "language_info": {
   "codemirror_mode": {
    "name": "ipython",
    "version": 3
   },
   "file_extension": ".py",
   "mimetype": "text/x-python",
   "name": "python",
   "nbconvert_exporter": "python",
   "pygments_lexer": "ipython3",
   "version": "3.8.5"
  }
 },
 "nbformat": 4,
 "nbformat_minor": 4
}
