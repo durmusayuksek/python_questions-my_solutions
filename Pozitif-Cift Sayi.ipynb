{
 "cells": [
  {
   "cell_type": "markdown",
   "metadata": {},
   "source": [
    "Kullanıcıdan integer bir değer alan ve sayının pozitif-çift sayı olup olmadığını kontrol eden program yazınız. Girilen sayıların muhtemel farklı durumlarını göz önünde bulundurunuz."
   ]
  },
  {
   "cell_type": "code",
   "execution_count": 34,
   "metadata": {},
   "outputs": [
    {
     "name": "stdout",
     "output_type": "stream",
     "text": [
      "Enter a number > -12345\n",
      "-12345 is not a positive even integer.\n"
     ]
    }
   ],
   "source": [
    "number = input('Enter a number > ')\n",
    "try:\n",
    "    int(number)\n",
    "    isdig = True\n",
    "except ValueError:\n",
    "    print('Invalid Syntax')\n",
    "    isdig = False\n",
    "if isdig:    \n",
    "    if int(number) % 2 == 0 and int(number) > 0:\n",
    "        print(f'{number} is a positive even integer.')\n",
    "    else:\n",
    "        print(f'{number} is not a positive even integer.')"
   ]
  }
 ],
 "metadata": {
  "kernelspec": {
   "display_name": "Python 3",
   "language": "python",
   "name": "python3"
  },
  "language_info": {
   "codemirror_mode": {
    "name": "ipython",
    "version": 3
   },
   "file_extension": ".py",
   "mimetype": "text/x-python",
   "name": "python",
   "nbconvert_exporter": "python",
   "pygments_lexer": "ipython3",
   "version": "3.8.5"
  }
 },
 "nbformat": 4,
 "nbformat_minor": 4
}
