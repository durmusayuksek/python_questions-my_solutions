{
 "cells": [
  {
   "cell_type": "markdown",
   "metadata": {},
   "source": [
    "```\n",
    "The Farey sequence of order n is the set of all fractions with a denominator between 1 and n, reduced and returned in ascending order. Given n, return the Farey sequence as a list, with each fraction being represented by a string in the form \"numerator/denominator\".\n",
    "\n",
    "Examples\n",
    "farey(1) ➞ [\"0/1\", \"1/1\"]\n",
    "\n",
    "farey(4) ➞ [\"0/1\", \"1/4\", \"1/3\", \"1/2\", \"2/3\", \"3/4\", \"1/1\"]\n",
    "\n",
    "farey(5) ➞ [\"0/1\", \"1/5\", \"1/4\", \"1/3\", \"2/5\", \"1/2\", \"3/5\", \"2/3\", \"3/4\", \"4/5\", \"1/1\"]\n",
    "Notes\n",
    "The Farey sequence will always begin with \"0/1\" and end with \"1/1\".\n",
    "```"
   ]
  },
  {
   "cell_type": "code",
   "execution_count": 21,
   "metadata": {},
   "outputs": [
    {
     "data": {
      "text/plain": [
       "['0/1', '1/5', '1/4', '1/3', '2/5', '1/2', '3/5', '2/3', '3/4', '4/5', '1/1']"
      ]
     },
     "execution_count": 21,
     "metadata": {},
     "output_type": "execute_result"
    }
   ],
   "source": [
    "def ortak(n, m):\n",
    "    buyuk = max(n, m)\n",
    "    ortak = [i for i in range(1, buyuk + 1) if n % i == 0 and m % i == 0]\n",
    "    if ortak == [1]:return True\n",
    "    else: return False\n",
    "            \n",
    "def simplified(n):\n",
    "    sayilar = list(range(1, n + 1))\n",
    "    sayilar_temel = list(range(0, n + 1))\n",
    "    a, res = 0, []\n",
    "    while True:\n",
    "        for i in sayilar:\n",
    "            if ortak(sayilar_temel[a], i) and (sayilar_temel[a] / i) <= 1:\n",
    "                if sayilar_temel[a] / i not in res:\n",
    "                    res.append([sayilar_temel[a], i])\n",
    "        a += 1\n",
    "        sayilar = list(range(1, n + 1))\n",
    "        if a == len(sayilar_temel):break\n",
    "    res = sorted([(i[0] / i[1], str(i[0]) + '/' + str(i[1])) for i in res])\n",
    "    res = [i[1] for i in res]\n",
    "    return res\n",
    "    \n",
    "simplified(5) "
   ]
  },
  {
   "cell_type": "code",
   "execution_count": null,
   "metadata": {},
   "outputs": [],
   "source": []
  }
 ],
 "metadata": {
  "kernelspec": {
   "display_name": "Python 3 (ipykernel)",
   "language": "python",
   "name": "python3"
  },
  "language_info": {
   "codemirror_mode": {
    "name": "ipython",
    "version": 3
   },
   "file_extension": ".py",
   "mimetype": "text/x-python",
   "name": "python",
   "nbconvert_exporter": "python",
   "pygments_lexer": "ipython3",
   "version": "3.8.5"
  }
 },
 "nbformat": 4,
 "nbformat_minor": 4
}
