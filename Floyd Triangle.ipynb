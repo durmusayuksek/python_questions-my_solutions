{
 "cells": [
  {
   "cell_type": "code",
   "execution_count": 50,
   "metadata": {},
   "outputs": [
    {
     "name": "stdout",
     "output_type": "stream",
     "text": [
      "Enter a number > 200\n",
      "    1\n",
      "    2    3\n",
      "    4    5    6\n",
      "    7    8    9   10\n",
      "   11   12   13   14   15\n",
      "   16   17   18   19   20   21\n",
      "   22   23   24   25   26   27   28\n",
      "   29   30   31   32   33   34   35   36\n",
      "   37   38   39   40   41   42   43   44   45\n",
      "   46   47   48   49   50   51   52   53   54   55\n",
      "   56   57   58   59   60   61   62   63   64   65   66\n",
      "   67   68   69   70   71   72   73   74   75   76   77   78\n",
      "   79   80   81   82   83   84   85   86   87   88   89   90   91\n",
      "   92   93   94   95   96   97   98   99  100  101  102  103  104  105\n",
      "  106  107  108  109  110  111  112  113  114  115  116  117  118  119  120\n",
      "  121  122  123  124  125  126  127  128  129  130  131  132  133  134  135  136\n",
      "  137  138  139  140  141  142  143  144  145  146  147  148  149  150  151  152  153\n",
      "  154  155  156  157  158  159  160  161  162  163  164  165  166  167  168  169  170  171\n",
      "  172  173  174  175  176  177  178  179  180  181  182  183  184  185  186  187  188  189  190\n",
      "  191  192  193  194  195  196  197  198  199  200  201  202  203  204  205  206  207  208  209  210\n"
     ]
    }
   ],
   "source": [
    "number = int(input('Enter a number > '))  # continues to create triangles until it reaches to the number determined here.\n",
    "num = 1\n",
    "satir = 1\n",
    "while num < number + 1:\n",
    "    for i in range(num, satir + num):\n",
    "        print(f\"{i:>5}\", end = '')\n",
    "    print()\n",
    "    num += satir\n",
    "    satir += 1"
   ]
  },
  {
   "cell_type": "code",
   "execution_count": 6,
   "metadata": {},
   "outputs": [
    {
     "name": "stdout",
     "output_type": "stream",
     "text": [
      "Enter a number > 15\n",
      "    1\n",
      "    2    3\n",
      "    4    5    6\n",
      "    7    8    9   10\n",
      "   11   12   13   14   15\n",
      "   16   17   18   19   20   21\n",
      "   22   23   24   25   26   27   28\n",
      "   29   30   31   32   33   34   35   36\n",
      "   37   38   39   40   41   42   43   44   45\n",
      "   46   47   48   49   50   51   52   53   54   55\n",
      "   56   57   58   59   60   61   62   63   64   65   66\n",
      "   67   68   69   70   71   72   73   74   75   76   77   78\n",
      "   79   80   81   82   83   84   85   86   87   88   89   90   91\n",
      "   92   93   94   95   96   97   98   99  100  101  102  103  104  105\n",
      "  106  107  108  109  110  111  112  113  114  115  116  117  118  119  120\n"
     ]
    }
   ],
   "source": [
    "number = int(input('Enter a number > '))  # continues to create triangles until the row reaches to the number determined here.\n",
    "num = 1\n",
    "satir = 1\n",
    "while satir < number + 1:\n",
    "    for i in range(num, satir + num):\n",
    "        print(f\"{i:>5}\", end = '')\n",
    "    print()\n",
    "    num += satir\n",
    "    satir += 1"
   ]
  },
  {
   "cell_type": "code",
   "execution_count": null,
   "metadata": {},
   "outputs": [],
   "source": []
  }
 ],
 "metadata": {
  "kernelspec": {
   "display_name": "Python 3 (ipykernel)",
   "language": "python",
   "name": "python3"
  },
  "language_info": {
   "codemirror_mode": {
    "name": "ipython",
    "version": 3
   },
   "file_extension": ".py",
   "mimetype": "text/x-python",
   "name": "python",
   "nbconvert_exporter": "python",
   "pygments_lexer": "ipython3",
   "version": "3.8.5"
  }
 },
 "nbformat": 4,
 "nbformat_minor": 4
}
