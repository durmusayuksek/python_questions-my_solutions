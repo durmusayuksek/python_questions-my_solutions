{
 "cells": [
  {
   "cell_type": "markdown",
   "metadata": {},
   "source": [
    "```\n",
    "Aluminum foil has a thickness of 0.025mm. A roll is formed by tightly winding it around a tube with an outside diameter of 4cm. Given the length of the foil in cm, write a function that returns the diameter of the roll in cm measured at its thickest point. Round the result to four places.\n",
    "\n",
    "Examples\n",
    "foil(0) ➞ 4.0\n",
    "\n",
    "foil(50) ➞ 4.02\n",
    "\n",
    "foil(4321) ➞ 5.4575\n",
    "\n",
    "foil(10000) ➞ 6.9175\n",
    "```"
   ]
  },
  {
   "cell_type": "code",
   "execution_count": 52,
   "metadata": {},
   "outputs": [
    {
     "data": {
      "text/plain": [
       "'Cap: 6.9175 cm || Tur: 583 || Artik Uzunluk: 8.9028 cm'"
      ]
     },
     "execution_count": 52,
     "metadata": {},
     "output_type": "execute_result"
    }
   ],
   "source": [
    "from math import pi\n",
    "def foil(uzunluk):\n",
    "    p = pi\n",
    "    r, n, toplam, liste = 2, 0, 0, []\n",
    "    if uzunluk < 2 * p * r:\n",
    "        if uzunluk < (2 * p * r) / 2:\n",
    "            if uzunluk != 0:\n",
    "                cap = 4.0025\n",
    "            else: cap = 4\n",
    "        else: cap = 4.005\n",
    "    else:\n",
    "        while toplam <= uzunluk:\n",
    "            toplam += 2 * p * (r + 0.0025 * n)\n",
    "            liste.append(toplam)\n",
    "            n += 1\n",
    "        if uzunluk - liste[-2] < (2 * p * (r + 0.050 * n)) / 2:\n",
    "            cap = 4 + ((n * 2) - 1) * 0.0025\n",
    "        else: cap = 4 + (n * 2) * 0.0025\n",
    "    if n > 0:\n",
    "        return f'Cap: {round(cap, 4)} cm || Tur: {n-1} || Artik Uzunluk: {round(uzunluk - liste[-2], 4)} cm'\n",
    "    else: return f'Cap: {cap} cm'\n",
    "    \n",
    "foil(10000)   "
   ]
  },
  {
   "cell_type": "code",
   "execution_count": null,
   "metadata": {},
   "outputs": [],
   "source": []
  }
 ],
 "metadata": {
  "kernelspec": {
   "display_name": "Python 3 (ipykernel)",
   "language": "python",
   "name": "python3"
  },
  "language_info": {
   "codemirror_mode": {
    "name": "ipython",
    "version": 3
   },
   "file_extension": ".py",
   "mimetype": "text/x-python",
   "name": "python",
   "nbconvert_exporter": "python",
   "pygments_lexer": "ipython3",
   "version": "3.8.5"
  }
 },
 "nbformat": 4,
 "nbformat_minor": 4
}
