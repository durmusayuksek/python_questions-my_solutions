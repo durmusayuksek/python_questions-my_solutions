{
 "cells": [
  {
   "cell_type": "markdown",
   "metadata": {},
   "source": [
    "The Atbash cipher is an encryption method in which each letter of a word is replaced with its \"mirror\" letter in the alphabet: A <=> Z; B <=> Y; C <=> X; etc.\n",
    "\n",
    "Create a function that takes a string and applies the Atbash cipher to it."
   ]
  },
  {
   "cell_type": "code",
   "execution_count": 1,
   "metadata": {},
   "outputs": [
    {
     "data": {
      "text/plain": [
       "'zkkov!'"
      ]
     },
     "execution_count": 1,
     "metadata": {},
     "output_type": "execute_result"
    }
   ],
   "source": [
    "def atbash_cipher(text):\n",
    "    new_text = ''\n",
    "    for i in text:\n",
    "        if (ord(i) <=122 and ord(i) >= 97) or (ord(i) <= 90 and ord(i) >=65):\n",
    "            if ord(i) >= 97 and ord(i) <= 122:\n",
    "                i = ord(i)\n",
    "                x = 219 - i\n",
    "                y = chr(x)\n",
    "                new_text += y\n",
    "            else:\n",
    "                i = ord(i)\n",
    "                x = 155 - i\n",
    "                y = chr(x)\n",
    "                new_text += y\n",
    "        else:\n",
    "            y = i\n",
    "            new_text += y\n",
    "    return new_text\n",
    "\n",
    "atbash_cipher(\"apple!\")"
   ]
  },
  {
   "cell_type": "code",
   "execution_count": null,
   "metadata": {},
   "outputs": [],
   "source": []
  }
 ],
 "metadata": {
  "kernelspec": {
   "display_name": "Python 3 (ipykernel)",
   "language": "python",
   "name": "python3"
  },
  "language_info": {
   "codemirror_mode": {
    "name": "ipython",
    "version": 3
   },
   "file_extension": ".py",
   "mimetype": "text/x-python",
   "name": "python",
   "nbconvert_exporter": "python",
   "pygments_lexer": "ipython3",
   "version": "3.8.5"
  }
 },
 "nbformat": 4,
 "nbformat_minor": 4
}
