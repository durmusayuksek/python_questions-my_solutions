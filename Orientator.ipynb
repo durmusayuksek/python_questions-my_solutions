{
 "cells": [
  {
   "cell_type": "code",
   "execution_count": 32,
   "metadata": {},
   "outputs": [
    {
     "data": {
      "text/plain": [
       "['SOUTH', 'EAST', 'SOUTH']"
      ]
     },
     "execution_count": 32,
     "metadata": {},
     "output_type": "execute_result"
    }
   ],
   "source": [
    "def nereye(liste):\n",
    "    s = ''\n",
    "    n = 0\n",
    "    p = []\n",
    "    leng = len(liste)\n",
    "    for i in liste:\n",
    "        s += ''.join(str(i).upper())\n",
    "    while n < leng:\n",
    "        if 'NORTHSOUTH' in s or 'SOUTHNORTH' in s or 'WESTEAST' in s or 'EASTWEST':\n",
    "            s = s.replace('NORTHSOUTH', '').replace('SOUTHNORTH', '').replace('WESTEAST', '').replace('EASTWEST', '')\n",
    "        n += 1\n",
    "    while True:\n",
    "        for i in [\"NORTH\", \"WEST\", \"SOUTH\", \"EAST\"]:\n",
    "            if i in s:\n",
    "                p.append(i)\n",
    "                s = s.replace(i, '', 1)\n",
    "        if s == '':\n",
    "            break\n",
    "    return p\n",
    "        \n",
    "        \n",
    "nereye([\"NORTH\", \"SOUTH\", \"SOUTH\", \"EAST\", \"NORTH\", \"WEST\", \"EAST\", \"SOUTH\", \"SOUTH\"])"
   ]
  },
  {
   "cell_type": "code",
   "execution_count": null,
   "metadata": {},
   "outputs": [],
   "source": []
  }
 ],
 "metadata": {
  "kernelspec": {
   "display_name": "Python 3 (ipykernel)",
   "language": "python",
   "name": "python3"
  },
  "language_info": {
   "codemirror_mode": {
    "name": "ipython",
    "version": 3
   },
   "file_extension": ".py",
   "mimetype": "text/x-python",
   "name": "python",
   "nbconvert_exporter": "python",
   "pygments_lexer": "ipython3",
   "version": "3.8.5"
  }
 },
 "nbformat": 4,
 "nbformat_minor": 4
}
