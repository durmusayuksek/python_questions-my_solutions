{
 "cells": [
  {
   "cell_type": "markdown",
   "metadata": {},
   "source": [
    "```\n",
    "Write a function that returns the next number that can be created from the same digits as the input.\n",
    "\n",
    "Examples\n",
    "\n",
    "next_number(19) ➞ 91\n",
    "\n",
    "next_number(3542) ➞ 4235\n",
    "\n",
    "next_number(5432) ➞ 5432\n",
    "\n",
    "next_number(58943) ➞ 59348\n",
    "\n",
    "Notes\n",
    "\n",
    "If no larger number can be formed, return the number itself.\n",
    "\n",
    "Bonus: See if you can do this without generating all digit permutations.\n",
    "```"
   ]
  },
  {
   "cell_type": "code",
   "execution_count": 71,
   "metadata": {},
   "outputs": [
    {
     "data": {
      "text/plain": [
       "59348"
      ]
     },
     "execution_count": 71,
     "metadata": {},
     "output_type": "execute_result"
    }
   ],
   "source": [
    "import itertools\n",
    "\n",
    "def next_largest_number(x):\n",
    "    end = False\n",
    "    b = str(x)\n",
    "    c = len(str(x)) - 2\n",
    "\n",
    "    while c >= 0:\n",
    "        num = b[c:]\n",
    "        res = list(itertools.permutations(num))\n",
    "        resa = [int(''.join(i)) for i in res]\n",
    "        resa = sorted(resa)\n",
    "        for i in resa:\n",
    "            if int(b[:c] + str(i)) > x:\n",
    "                result = int(b[:c] + str(i))\n",
    "                end = True\n",
    "                break\n",
    "        if end:\n",
    "            break\n",
    "        else:\n",
    "            c -= 1\n",
    "    if not end:\n",
    "        result = x\n",
    "    return result\n",
    "\n",
    "next_largest_number(58943)"
   ]
  },
  {
   "cell_type": "code",
   "execution_count": null,
   "metadata": {},
   "outputs": [],
   "source": []
  }
 ],
 "metadata": {
  "kernelspec": {
   "display_name": "Python 3 (ipykernel)",
   "language": "python",
   "name": "python3"
  },
  "language_info": {
   "codemirror_mode": {
    "name": "ipython",
    "version": 3
   },
   "file_extension": ".py",
   "mimetype": "text/x-python",
   "name": "python",
   "nbconvert_exporter": "python",
   "pygments_lexer": "ipython3",
   "version": "3.8.5"
  }
 },
 "nbformat": 4,
 "nbformat_minor": 4
}
