{
 "cells": [
  {
   "cell_type": "markdown",
   "metadata": {},
   "source": [
    "A palindrome is a number that is the same when reversed, 2770772 for example. A palindrome can often be formed by adding a number to it's reverse: 641 + 146 = 787 (a palindrome). Using 78 as the seed, it takes 4 steps to produce a palindrome:\n",
    "78 + 87 = 165\n",
    "165 + 561 = 726\n",
    "726 + 627 = 1353\n",
    "1353 + 3531 = 4884 (a palindrome)\n",
    "About 97% of integers less than 10,000 produce palindromes in less than 25 steps. A few, like 196 and 879, may never form palindromes.\n",
    "Make a function that takes a palindrome as it's an argument and returns the smallest seed integer that will produce that palindrome, along with the number of steps required:\n",
    "pal_seq(palindrome) = (seed, steps)\n",
    "pal_seq(4884) ➞ (69, 4)\n",
    "pal_seq(1) ➞ (1, 0)\n",
    "pal_seq(11) ➞ (10, 1) --> 10 + 01 = 11\n",
    "pal_seq(3113) ➞ (199, 3)\n",
    "pal_seq(8836886388) ➞ (177, 15)\n",
    "Notes\n",
    "The sequence always terminates when the first palindrome is produced. If the seed is a palindrome, the sequence has 0 steps."
   ]
  },
  {
   "cell_type": "code",
   "execution_count": 13,
   "metadata": {},
   "outputs": [
    {
     "name": "stdout",
     "output_type": "stream",
     "text": [
      "Enter a number > 8836886388\n",
      "[177, 15]\n",
      "[948, 1797, 9768, 18447, 92928, 175857, 934428, 1758867, 9447438, 17794887, 96644658, 182289327, 906271608, 1712444217, 8836886388]\n"
     ]
    }
   ],
   "source": [
    "number = int(input('Enter a number > '))\n",
    "def to_infinity():\n",
    "    index = 10\n",
    "    while True:\n",
    "        yield index\n",
    "        index += 1\n",
    "\n",
    "if number <= 10:\n",
    "    if number < 10:\n",
    "        sayac = 0\n",
    "        sonuc = number\n",
    "        print([number, sayac])\n",
    "    else:\n",
    "        print('Palindrome bulunamadi.')\n",
    "else:\n",
    "    for i in to_infinity():\n",
    "        sayac = 0\n",
    "        liste = []\n",
    "        ara = []\n",
    "        sonuc = i\n",
    "        if sonuc > number:\n",
    "            liste = 'Palindrome bulunamadi.'\n",
    "            break\n",
    "        else:\n",
    "            while sonuc <= number:\n",
    "                sonuc = sonuc + int(str(sonuc)[::-1])\n",
    "                ara.append(sonuc)\n",
    "                sayac += 1\n",
    "                if sonuc == int(str(sonuc)[::-1]):\n",
    "                    if sonuc != number:\n",
    "                        sonuc = number + 1\n",
    "                    else:\n",
    "                        liste.append(i)\n",
    "                        liste.append(sayac)\n",
    "                        break\n",
    "            else:\n",
    "                continue\n",
    "            break\n",
    "    print(liste)\n",
    "    print(ara)"
   ]
  },
  {
   "cell_type": "code",
   "execution_count": null,
   "metadata": {},
   "outputs": [],
   "source": []
  }
 ],
 "metadata": {
  "kernelspec": {
   "display_name": "Python 3 (ipykernel)",
   "language": "python",
   "name": "python3"
  },
  "language_info": {
   "codemirror_mode": {
    "name": "ipython",
    "version": 3
   },
   "file_extension": ".py",
   "mimetype": "text/x-python",
   "name": "python",
   "nbconvert_exporter": "python",
   "pygments_lexer": "ipython3",
   "version": "3.8.5"
  }
 },
 "nbformat": 4,
 "nbformat_minor": 4
}
