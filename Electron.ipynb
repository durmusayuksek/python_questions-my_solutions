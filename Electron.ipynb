{
 "cells": [
  {
   "cell_type": "markdown",
   "metadata": {},
   "source": [
    "```\n",
    "You are a khmmadkhm scientist and you decided to play with electron distribution among atom's shells. You know that basic idea of electron distribution is that electrons should fill a shell untill it's holding the maximum number of electrons.\n",
    "Rules:\n",
    "Maximum number of electrons in a shell is distributed with a rule of 2n^2 (n being position of a shell).\n",
    "For example, maximum number of electrons in 3rd shield is 2*3^2 = 18.\n",
    "Electrons should fill the lowest level shell first.\n",
    "If the electrons have completely filled the lowest level shell, the other unoccupied electrons will fill the higher level shell and so on.\n",
    "Ex.:    atomicNumber(1); should return [1]\n",
    "        atomicNumber(10); should return [2, 8]\n",
    "        atomicNumber(11); should return [2, 8, 1]\n",
    "        atomicNumber(47); should return [2, 8, 18, 19]\n",
    "```"
   ]
  },
  {
   "cell_type": "code",
   "execution_count": 7,
   "metadata": {},
   "outputs": [
    {
     "data": {
      "text/plain": [
       "[2, 8, 18, 19]"
      ]
     },
     "execution_count": 7,
     "metadata": {},
     "output_type": "execute_result"
    }
   ],
   "source": [
    "def electron(n):\n",
    "    \n",
    "    count, res = 1, []\n",
    "\n",
    "    while n > 0:\n",
    "        num = 2 * count ** 2\n",
    "        if n < num:\n",
    "            res.append(n)\n",
    "        else:\n",
    "            res.append(num)\n",
    "\n",
    "        n -= num\n",
    "        count += 1\n",
    "\n",
    "    return res\n",
    "\n",
    "electron(47)"
   ]
  },
  {
   "cell_type": "code",
   "execution_count": null,
   "metadata": {},
   "outputs": [],
   "source": []
  }
 ],
 "metadata": {
  "kernelspec": {
   "display_name": "Python 3 (ipykernel)",
   "language": "python",
   "name": "python3"
  },
  "language_info": {
   "codemirror_mode": {
    "name": "ipython",
    "version": 3
   },
   "file_extension": ".py",
   "mimetype": "text/x-python",
   "name": "python",
   "nbconvert_exporter": "python",
   "pygments_lexer": "ipython3",
   "version": "3.8.5"
  }
 },
 "nbformat": 4,
 "nbformat_minor": 4
}
