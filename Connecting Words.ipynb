{
 "cells": [
  {
   "cell_type": "markdown",
   "metadata": {},
   "source": [
    "```\n",
    "Write a function that connects each previous word to the next word by the shared letters. Return the resulting string (removing duplicate characters in the overlap) and the minimum number of shared letters across all pairs of strings.\n",
    "\n",
    "Examples\n",
    "join([\"oven\", \"envier\", \"erase\", \"serious\"]) ➞ [\"ovenvieraserious\", 2]\n",
    "\n",
    "join([\"move\", \"over\", \"very\"]) ➞ [\"movery\", 3]\n",
    "\n",
    "join([\"to\", \"ops\", \"psy\", \"syllable\"]) ➞ [\"topsyllable\", 1]\n",
    "\n",
    "# \"to\" and \"ops\" share \"o\" (1)\n",
    "# \"ops\" and \"psy\" share \"ps\" (2)\n",
    "# \"psy\" and \"syllable\" share \"sy\" (2)\n",
    "# the minimum overlap is 1\n",
    "\n",
    "join([\"aaa\", \"bbb\", \"ccc\", \"ddd\"]) ➞ [\"aaabbbcccddd\", 0]\n",
    "```"
   ]
  },
  {
   "cell_type": "code",
   "execution_count": 16,
   "metadata": {},
   "outputs": [
    {
     "name": "stdout",
     "output_type": "stream",
     "text": [
      "['topsyllable', 1]\n"
     ]
    }
   ],
   "source": [
    "def join(ind1, ind2):\n",
    "    gir = True\n",
    "    a = 0\n",
    "    while a < len(ind2) - 1:\n",
    "        text = ind2[:a + 1]\n",
    "        if ind1.endswith(text):\n",
    "            res = text\n",
    "            b = len(res)\n",
    "            a += 1\n",
    "            gir = False\n",
    "        else:\n",
    "            if gir:\n",
    "                res = ind1 + ind2\n",
    "                b = 0\n",
    "            a += 1\n",
    "    result = ind1 + ind2.replace(res, '')\n",
    "    return result, b\n",
    "\n",
    "def connecting_words(liste): \n",
    "    liste_num = []\n",
    "    while len(liste) > 1:\n",
    "        result, num = join(liste[0], liste[1])\n",
    "        liste.pop(0)\n",
    "        liste.pop(0)\n",
    "        liste.insert(0, result)\n",
    "        liste_num.append(num)\n",
    "    return [result, min(liste_num)]\n",
    "                \n",
    "print(connecting_words([\"to\", \"ops\", \"psy\", \"syllable\"]))"
   ]
  },
  {
   "cell_type": "code",
   "execution_count": null,
   "metadata": {},
   "outputs": [],
   "source": []
  }
 ],
 "metadata": {
  "kernelspec": {
   "display_name": "Python 3 (ipykernel)",
   "language": "python",
   "name": "python3"
  },
  "language_info": {
   "codemirror_mode": {
    "name": "ipython",
    "version": 3
   },
   "file_extension": ".py",
   "mimetype": "text/x-python",
   "name": "python",
   "nbconvert_exporter": "python",
   "pygments_lexer": "ipython3",
   "version": "3.8.5"
  }
 },
 "nbformat": 4,
 "nbformat_minor": 4
}
