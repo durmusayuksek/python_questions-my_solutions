{
 "cells": [
  {
   "cell_type": "markdown",
   "metadata": {},
   "source": [
    "```\n",
    "My friend John and I are members of the \"Fat to Fit Club (FFC)\". John is worried because each month a list with the weights of members is published and each month he is the last on the list which means he is the heaviest.\n",
    "\n",
    "I am the one who establishes the list so I told him: \"Don't worry any more, I will modify the order of the list\". It was decided to attribute a \"weight\" to numbers. The weight of a number will be from now on the sum of its digits.\n",
    "\n",
    "For example 99 will have \"weight\" 18, 100 will have \"weight\" 1 so in the list 100 will come before 99.\n",
    "\n",
    "Given a string with the weights of FFC members in normal order can you give this string ordered by \"weights\" of these numbers?\n",
    "\n",
    "Example:\n",
    "\"56 65 74 100 99 68 86 180 90\" ordered by numbers weights becomes: \n",
    "\n",
    "\"100 180 90 56 65 74 68 86 99\"\n",
    "When two numbers have the same \"weight\", let us class them as if they were strings (alphabetical ordering) and not numbers:\n",
    "\n",
    "180 is before 90 since, having the same \"weight\" (9), it comes before as a string.\n",
    "\n",
    "All numbers in the list are positive numbers and the list can be empty.\n",
    "```"
   ]
  },
  {
   "cell_type": "code",
   "execution_count": 53,
   "metadata": {},
   "outputs": [
    {
     "data": {
      "text/plain": [
       "'100 101 180 45 90 29 38 56 65 74 59 68 86'"
      ]
     },
     "execution_count": 53,
     "metadata": {},
     "output_type": "execute_result"
    }
   ],
   "source": [
    "def weight_list(lst):\n",
    "\n",
    "    lst = lst.split()\n",
    "    dictt = {}\n",
    "\n",
    "    for i in lst:\n",
    "        count = 0\n",
    "        for j in i:\n",
    "            count += int(j)\n",
    "        dictt[i] = count\n",
    "\n",
    "    s = sorted(dictt.items(), key=lambda x: x[1])\n",
    "\n",
    "    res, resa, resas = [], [], []\n",
    "    for i in s:\n",
    "        if i[1] not in res:\n",
    "            if res == []:\n",
    "                res.append(i[1])\n",
    "                resa.append(i)\n",
    "            else:\n",
    "                resa.sort()\n",
    "                resas.extend(resa)\n",
    "                res = []\n",
    "                resa = []\n",
    "                res.append(i[1])\n",
    "                resa.append(i)\n",
    "        else:\n",
    "            resa.append(i)\n",
    "    result = ' '.join([k for k,v in resas])\n",
    "    return result\n",
    "\n",
    "weight_list(\"56 65 74 29 100 99 68 86 38 180 101 90 59 45\")"
   ]
  },
  {
   "cell_type": "code",
   "execution_count": null,
   "metadata": {},
   "outputs": [],
   "source": []
  }
 ],
 "metadata": {
  "kernelspec": {
   "display_name": "Python 3 (ipykernel)",
   "language": "python",
   "name": "python3"
  },
  "language_info": {
   "codemirror_mode": {
    "name": "ipython",
    "version": 3
   },
   "file_extension": ".py",
   "mimetype": "text/x-python",
   "name": "python",
   "nbconvert_exporter": "python",
   "pygments_lexer": "ipython3",
   "version": "3.8.5"
  }
 },
 "nbformat": 4,
 "nbformat_minor": 4
}
