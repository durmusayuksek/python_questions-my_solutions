{
 "cells": [
  {
   "cell_type": "markdown",
   "metadata": {},
   "source": [
    "```\n",
    "Write a function that, given the start and end values, returns an array containing all the numbers inclusive to that range. See examples below.\n",
    "\n",
    "Examples\n",
    "reversible_inclusive_list(1, 5) ➞ [1, 2, 3, 4, 5]\n",
    "\n",
    "reversible_inclusive_list(2, 8) ➞ [2, 3, 4, 5, 6, 7, 8]\n",
    "\n",
    "reversible_inclusive_list(10, 20) ➞ [10, 11, 12, 13, 14, 15, 16, 17, 18, 19, 20]\n",
    "\n",
    "reversible_inclusive_list(24, 17) ➞ [24, 23, 22, 21, 20, 19, 18, 17]\n",
    "Notes\n",
    "The sort order of the resulting array is dependent of the input values.\n",
    "All inputs provided in the test scenarios are valid.\n",
    "If start is greater than end, return a descendingly sorted array, otherwise, ascendingly sorted.\n",
    "```"
   ]
  },
  {
   "cell_type": "code",
   "execution_count": 27,
   "metadata": {},
   "outputs": [
    {
     "data": {
      "text/plain": [
       "[24, 23, 22, 21, 20, 19, 18, 17, 16, 15, 14, 13, 12]"
      ]
     },
     "execution_count": 27,
     "metadata": {},
     "output_type": "execute_result"
    }
   ],
   "source": [
    "def reversible(a, b, liste = []):\n",
    "    esit, sol, sag = False, False, False\n",
    "    if a == b:\n",
    "        esit = True\n",
    "    if a > b:\n",
    "        sol = True\n",
    "    if b > a:\n",
    "        sag = True\n",
    "    if esit:\n",
    "        return liste\n",
    "    elif sol:\n",
    "        if liste == []:\n",
    "            liste += [a]\n",
    "        if a != b:\n",
    "            liste.append(a - 1)\n",
    "        else:\n",
    "            return liste\n",
    "        return reversible(a - 1, b, liste)\n",
    "    elif sag:\n",
    "        if liste == []:\n",
    "            liste += [a]\n",
    "        if a != b:\n",
    "            liste.append(a + 1)\n",
    "        else:\n",
    "            return liste\n",
    "        return reversible(a + 1, b, liste)\n",
    "\n",
    "reversible(24, 12)"
   ]
  },
  {
   "cell_type": "code",
   "execution_count": null,
   "metadata": {},
   "outputs": [],
   "source": []
  }
 ],
 "metadata": {
  "kernelspec": {
   "display_name": "Python 3 (ipykernel)",
   "language": "python",
   "name": "python3"
  },
  "language_info": {
   "codemirror_mode": {
    "name": "ipython",
    "version": 3
   },
   "file_extension": ".py",
   "mimetype": "text/x-python",
   "name": "python",
   "nbconvert_exporter": "python",
   "pygments_lexer": "ipython3",
   "version": "3.8.5"
  }
 },
 "nbformat": 4,
 "nbformat_minor": 4
}
