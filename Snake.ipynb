{
 "cells": [
  {
   "cell_type": "code",
   "execution_count": 11,
   "metadata": {},
   "outputs": [
    {
     "name": "stdout",
     "output_type": "stream",
     "text": [
      "Enter a number for the game screen > 24\n",
      "The screen runs out of space after the snake eats 9 number of times.\n"
     ]
    }
   ],
   "source": [
    "num = int(input('Enter a number for the game screen > '))\n",
    "sayac = 0\n",
    "while num ** 2 > 2 ** (sayac + 1):\n",
    "    sayac += 1\n",
    "print('The screen runs out of space after the snake eats {} number of times.'.format(sayac))"
   ]
  },
  {
   "cell_type": "code",
   "execution_count": null,
   "metadata": {},
   "outputs": [],
   "source": []
  }
 ],
 "metadata": {
  "kernelspec": {
   "display_name": "Python 3",
   "language": "python",
   "name": "python3"
  },
  "language_info": {
   "codemirror_mode": {
    "name": "ipython",
    "version": 3
   },
   "file_extension": ".py",
   "mimetype": "text/x-python",
   "name": "python",
   "nbconvert_exporter": "python",
   "pygments_lexer": "ipython3",
   "version": "3.8.5"
  }
 },
 "nbformat": 4,
 "nbformat_minor": 4
}
