{
 "cells": [
  {
   "cell_type": "markdown",
   "metadata": {},
   "source": [
    "```\n",
    "This problem takes its name by arguably the most important event in the life of the ancient historian Josephus: according to his tale, he and his 40 soldiers were trapped in a cave by the Romans during a siege.\n",
    "Refusing to surrender to the enemy, they instead opted for mass suicide, with a twist: they formed a circle and proceeded to kill one man every three, until one last man was left (and that it was supposed to kill himself to end the act).\n",
    "\n",
    "Well, Josephus and another man were the last two and, as we now know every detail of the story, you may have correctly guessed that they didn't exactly follow through the original idea.\n",
    "You are now to create a function that returns a Josephus permutation, taking as parameters the initial array/list of items to be permuted as if they were in a circle and counted out every k places until none remained.\n",
    "Tips and notes: it helps to start counting from 1 up to n, instead of the usual range 0..n-1; k will always be >=1.\n",
    "\n",
    "For example, with n=7 and k=3 josephus(7,3) should act this way.\n",
    "[1,2,3,4,5,6,7] - initial sequence\n",
    "[1,2,4,5,6,7] => 3 is counted out and goes into the result [3]\n",
    "[1,2,4,5,7] => 6 is counted out and goes into the result [3,6]\n",
    "[1,4,5,7] => 2 is counted out and goes into the result [3,6,2]\n",
    "[1,4,5] => 7 is counted out and goes into the result [3,6,2,7]\n",
    "[1,4] => 5 is counted out and goes into the result [3,6,2,7,5]\n",
    "[4] => 1 is counted out and goes into the result [3,6,2,7,5,1]\n",
    "[] => 4 is counted out and goes into the result [3,6,2,7,5,1,4]\n",
    "\n",
    "So our final result is:\n",
    "josephus([1,2,3,4,5,6,7],3)==[3,6,2,7,5,1,4]\n",
    "```"
   ]
  },
  {
   "cell_type": "code",
   "execution_count": 1,
   "metadata": {},
   "outputs": [
    {
     "data": {
      "text/plain": [
       "[3, 6, 2, 7, 5, 1, 4]"
      ]
     },
     "execution_count": 1,
     "metadata": {},
     "output_type": "execute_result"
    }
   ],
   "source": [
    "def josephus(n, k):\n",
    "\n",
    "    lst = [i for i in range(1, n+1)]\n",
    "    res = []\n",
    "    count = 1\n",
    "\n",
    "    while lst != []:\n",
    "        if count == k:\n",
    "            res.append(lst.pop(0))\n",
    "            count = 1\n",
    "        else:\n",
    "            lst.append(lst[0])\n",
    "            lst.pop(0)\n",
    "            count += 1\n",
    "\n",
    "    return res\n",
    "\n",
    "josephus(7,3)"
   ]
  },
  {
   "cell_type": "code",
   "execution_count": null,
   "metadata": {},
   "outputs": [],
   "source": []
  }
 ],
 "metadata": {
  "kernelspec": {
   "display_name": "Python 3 (ipykernel)",
   "language": "python",
   "name": "python3"
  },
  "language_info": {
   "codemirror_mode": {
    "name": "ipython",
    "version": 3
   },
   "file_extension": ".py",
   "mimetype": "text/x-python",
   "name": "python",
   "nbconvert_exporter": "python",
   "pygments_lexer": "ipython3",
   "version": "3.8.5"
  }
 },
 "nbformat": 4,
 "nbformat_minor": 4
}
