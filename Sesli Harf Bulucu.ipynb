{
 "cells": [
  {
   "cell_type": "markdown",
   "metadata": {},
   "source": [
    "Kullanıcıdan bir cümle alan ve cümle içerisinde geçen sesli harflerin her birinden kaçar tane olduğunu çıktı veren bir program yazınız.\n",
    "Girilen harflerin küçük/büyük olabileceği ihtimalini göz önünde bulundurunuz."
   ]
  },
  {
   "cell_type": "code",
   "execution_count": 20,
   "metadata": {},
   "outputs": [
    {
     "name": "stdout",
     "output_type": "stream",
     "text": [
      "Enter your text here > nerelerdesin yahu\n",
      "e: 4\n",
      "i: 1\n",
      "a: 1\n",
      "u: 1\n"
     ]
    }
   ],
   "source": [
    "text = input('Enter your text here > ')\n",
    "vowels = ['a', 'e', 'u', 'i', 'o']  # for only English characters\n",
    "dictt = {}\n",
    "for i in text.lower():\n",
    "    if i in vowels:\n",
    "        if i not in dictt:\n",
    "            dictt[i] = 1\n",
    "        else:\n",
    "            dictt[i] += 1\n",
    "print('\\n'.join(\"{}: {}\".format(k, v) for k, v in dictt.items()))"
   ]
  },
  {
   "cell_type": "code",
   "execution_count": 3,
   "metadata": {},
   "outputs": [
    {
     "name": "stdout",
     "output_type": "stream",
     "text": [
      "Enter your text here > NERELERdesin yahu\n",
      "e: 4\n",
      "i: 1\n",
      "a: 1\n",
      "u: 1\n"
     ]
    }
   ],
   "source": [
    "# A different solution\n",
    "\n",
    "text = input('Enter your text here > ')\n",
    "vowels = ['a', 'e', 'u', 'i', 'o']  # for only English characters\n",
    "dictt = {}\n",
    "for i in text.lower():\n",
    "    if i in vowels:\n",
    "        dictt[i] = dictt.get(i, 0) + 1\n",
    "print('\\n'.join(\"{}: {}\".format(k, v) for k, v in dictt.items()))"
   ]
  },
  {
   "cell_type": "code",
   "execution_count": null,
   "metadata": {},
   "outputs": [],
   "source": []
  }
 ],
 "metadata": {
  "kernelspec": {
   "display_name": "Python 3",
   "language": "python",
   "name": "python3"
  },
  "language_info": {
   "codemirror_mode": {
    "name": "ipython",
    "version": 3
   },
   "file_extension": ".py",
   "mimetype": "text/x-python",
   "name": "python",
   "nbconvert_exporter": "python",
   "pygments_lexer": "ipython3",
   "version": "3.8.5"
  }
 },
 "nbformat": 4,
 "nbformat_minor": 4
}
