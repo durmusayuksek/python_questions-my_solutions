{
 "cells": [
  {
   "cell_type": "markdown",
   "metadata": {},
   "source": [
    "Task : Estimating the risk of death from coronavirus. Write a program that;\n",
    "\n",
    "Takes \"Yes\" or \"No\" from the user as an answer to the following questions :\n",
    "\n",
    "Are you a cigarette addict older than 75 years old? Variable → age\n",
    "\n",
    "Do you have a severe chronic disease? Variable → chronic\n",
    "\n",
    "Is your immune system too weak? Variable → immune\n",
    "\n",
    "Set a logical algorithm using boolean logic operators (and/or) \n",
    "and use if-statements with the given variables in order to print out us a message : \n",
    "    \"You are in risky group\"(if True ) or \"You are not in risky group\" (if False)."
   ]
  },
  {
   "cell_type": "code",
   "execution_count": 12,
   "metadata": {},
   "outputs": [
    {
     "name": "stdout",
     "output_type": "stream",
     "text": [
      "Are you a cigarette addict older than 75 years old? > no\n",
      "Do you have a severe chronic disease? > no\n",
      "Is your immune system too weak? no\n",
      "You are not in risky group.\n"
     ]
    }
   ],
   "source": [
    "age = input('Are you a cigarette addict older than 75 years old? > ').strip().upper()\n",
    "if age =='YES':\n",
    "    age = True\n",
    "chronic = input('Do you have a severe chronic disease? > ').strip().upper()\n",
    "if chronic == 'YES':\n",
    "    chronic = True\n",
    "immune = input('Is your immune system too weak? ').strip().upper()\n",
    "if immune == 'YES':\n",
    "    immune = True\n",
    "if age == True or chronic == True or immune == True:\n",
    "    print('You are in risky group.')\n",
    "else:\n",
    "    print('You are not in risky group.')"
   ]
  },
  {
   "cell_type": "code",
   "execution_count": null,
   "metadata": {},
   "outputs": [],
   "source": []
  }
 ],
 "metadata": {
  "kernelspec": {
   "display_name": "Python 3",
   "language": "python",
   "name": "python3"
  },
  "language_info": {
   "codemirror_mode": {
    "name": "ipython",
    "version": 3
   },
   "file_extension": ".py",
   "mimetype": "text/x-python",
   "name": "python",
   "nbconvert_exporter": "python",
   "pygments_lexer": "ipython3",
   "version": "3.8.5"
  }
 },
 "nbformat": 4,
 "nbformat_minor": 4
}
